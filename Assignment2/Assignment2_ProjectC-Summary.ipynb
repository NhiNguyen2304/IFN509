{
 "cells": [
  {
   "cell_type": "code",
   "execution_count": 1,
   "metadata": {},
   "outputs": [],
   "source": [
    "import pandas as pd\n",
    "import numpy as np\n",
    "import matplotlib.pyplot as plt\n",
    "import seaborn as sns"
   ]
  },
  {
   "cell_type": "code",
   "execution_count": 2,
   "metadata": {},
   "outputs": [],
   "source": [
    "# CSV dataset file name\n",
    "file_name = 'D2.csv'"
   ]
  },
  {
   "cell_type": "code",
   "execution_count": 3,
   "metadata": {},
   "outputs": [],
   "source": [
    "# Please put csv file in the same folder with this jupyter notebook\n",
    "df_prep = pd.read_csv(file_name)"
   ]
  },
  {
   "cell_type": "code",
   "execution_count": 4,
   "metadata": {},
   "outputs": [
    {
     "name": "stdout",
     "output_type": "stream",
     "text": [
      "<class 'pandas.core.frame.DataFrame'>\n",
      "RangeIndex: 20000 entries, 0 to 19999\n",
      "Data columns (total 30 columns):\n",
      " #   Column                    Non-Null Count  Dtype \n",
      "---  ------                    --------------  ----- \n",
      " 0   race                      20000 non-null  object\n",
      " 1   gender                    20000 non-null  object\n",
      " 2   age                       20000 non-null  object\n",
      " 3   admission_type_id         20000 non-null  int64 \n",
      " 4   discharge_disposition_id  20000 non-null  int64 \n",
      " 5   admission_source_id       20000 non-null  int64 \n",
      " 6   time_in_hospital          20000 non-null  int64 \n",
      " 7   medical_specialty         20000 non-null  object\n",
      " 8   num_lab_procedures        20000 non-null  int64 \n",
      " 9   num_procedures            20000 non-null  int64 \n",
      " 10  num_medications           20000 non-null  int64 \n",
      " 11  number_outpatient         20000 non-null  int64 \n",
      " 12  number_emergency          20000 non-null  int64 \n",
      " 13  number_inpatient          20000 non-null  int64 \n",
      " 14  number_diagnoses          20000 non-null  int64 \n",
      " 15  max_glu_serum             20000 non-null  object\n",
      " 16  A1Cresult                 20000 non-null  object\n",
      " 17  metformin                 20000 non-null  object\n",
      " 18  repaglinide               20000 non-null  object\n",
      " 19  nateglinide               20000 non-null  object\n",
      " 20  chlorpropamide            20000 non-null  object\n",
      " 21  glimepiride               20000 non-null  object\n",
      " 22  acetohexamide             20000 non-null  object\n",
      " 23  glipizide                 20000 non-null  object\n",
      " 24  glyburide                 20000 non-null  object\n",
      " 25  tolbutamide               20000 non-null  object\n",
      " 26  insulin                   20000 non-null  object\n",
      " 27  change                    20000 non-null  bool  \n",
      " 28  diabetesMed               20000 non-null  bool  \n",
      " 29  readmitted                20000 non-null  int64 \n",
      "dtypes: bool(2), int64(12), object(16)\n",
      "memory usage: 4.3+ MB\n",
      "None\n"
     ]
    }
   ],
   "source": [
    "print(df_prep.info())"
   ]
  },
  {
   "cell_type": "markdown",
   "metadata": {},
   "source": [
    "# Predictive modelling using Decision Tree"
   ]
  },
  {
   "cell_type": "markdown",
   "metadata": {},
   "source": [
    "# 1. Pre-processing"
   ]
  },
  {
   "cell_type": "markdown",
   "metadata": {},
   "source": [
    "### a. Check Invalid values"
   ]
  },
  {
   "cell_type": "code",
   "execution_count": 5,
   "metadata": {},
   "outputs": [],
   "source": [
    "#Checking for missing values in dataset\n",
    "#In the dataset missing values are represented as '?' sign\n",
    "def checkInvalidValue(value):\n",
    "    print('**********************************')\n",
    "    print(f'Checking for missing ' + value)\n",
    "    for col in df_prep.columns:\n",
    "        if df_prep[col].dtype == object:\n",
    "            print(col,df_prep[col][df_prep[col] == value].count())"
   ]
  },
  {
   "cell_type": "code",
   "execution_count": 6,
   "metadata": {},
   "outputs": [
    {
     "name": "stdout",
     "output_type": "stream",
     "text": [
      "**********************************\n",
      "Checking for missing ?\n",
      "race 0\n",
      "gender 0\n",
      "age 0\n",
      "medical_specialty 0\n",
      "max_glu_serum 0\n",
      "A1Cresult 0\n",
      "metformin 0\n",
      "repaglinide 0\n",
      "nateglinide 0\n",
      "chlorpropamide 0\n",
      "glimepiride 0\n",
      "acetohexamide 0\n",
      "glipizide 0\n",
      "glyburide 0\n",
      "tolbutamide 0\n",
      "insulin 0\n",
      "**********************************\n",
      "Checking for missing NaN\n",
      "race 0\n",
      "gender 0\n",
      "age 0\n",
      "medical_specialty 0\n",
      "max_glu_serum 0\n",
      "A1Cresult 0\n",
      "metformin 0\n",
      "repaglinide 0\n",
      "nateglinide 0\n",
      "chlorpropamide 0\n",
      "glimepiride 0\n",
      "acetohexamide 0\n",
      "glipizide 0\n",
      "glyburide 0\n",
      "tolbutamide 0\n",
      "insulin 0\n",
      "**********************************\n",
      "Checking for missing Unknown/Invalid\n",
      "race 0\n",
      "gender 0\n",
      "age 0\n",
      "medical_specialty 0\n",
      "max_glu_serum 0\n",
      "A1Cresult 0\n",
      "metformin 0\n",
      "repaglinide 0\n",
      "nateglinide 0\n",
      "chlorpropamide 0\n",
      "glimepiride 0\n",
      "acetohexamide 0\n",
      "glipizide 0\n",
      "glyburide 0\n",
      "tolbutamide 0\n",
      "insulin 0\n"
     ]
    }
   ],
   "source": [
    "checkInvalidValue('?')\n",
    "checkInvalidValue('NaN')\n",
    "checkInvalidValue('Unknown/Invalid')\n"
   ]
  },
  {
   "cell_type": "markdown",
   "metadata": {},
   "source": [
    "### b. Variables"
   ]
  },
  {
   "cell_type": "markdown",
   "metadata": {},
   "source": [
    "###### Create a new collumn name medchange to record the changing in 10 drugs that have correlation to diabetes patient readmission\n",
    "###### No, Steady: 0\n",
    "###### Yes: 1"
   ]
  },
  {
   "cell_type": "code",
   "execution_count": 7,
   "metadata": {},
   "outputs": [
    {
     "data": {
      "text/plain": [
       "0    13610\n",
       "1     6085\n",
       "2      279\n",
       "3       26\n",
       "Name: medchange, dtype: int64"
      ]
     },
     "execution_count": 7,
     "metadata": {},
     "output_type": "execute_result"
    }
   ],
   "source": [
    "variables = ['metformin', 'repaglinide', 'nateglinide', 'chlorpropamide', 'glimepiride', \n",
    "'acetohexamide', 'glipizide', 'glyburide', 'tolbutamide', 'insulin']\n",
    "for col in variables:\n",
    "    colname = str(col) + 'temp'\n",
    "    df_prep[colname] = df_prep[col].apply(lambda x: 0 if (x == 'No' or x == 'Steady') else 1)\n",
    "df_prep['medchange'] = 0\n",
    "for col in variables:\n",
    "    colname = str(col) + 'temp'\n",
    "    df_prep['medchange'] = df_prep['medchange'] + df_prep[colname]\n",
    "    del df_prep[colname]\n",
    "    \n",
    "df_prep['medchange'].value_counts()  "
   ]
  },
  {
   "cell_type": "markdown",
   "metadata": {},
   "source": [
    "Encoding some category variables to numeric values"
   ]
  },
  {
   "cell_type": "code",
   "execution_count": 8,
   "metadata": {},
   "outputs": [],
   "source": [
    "df_prep['change'] = df_prep['change'].replace(True, 1)\n",
    "df_prep['change'] = df_prep['change'].replace(False, 0)\n",
    "df_prep['gender'] = df_prep['gender'].replace('Male', 1)\n",
    "df_prep['gender'] = df_prep['gender'].replace('Female', 0)\n",
    "df_prep['diabetesMed'] = df_prep['diabetesMed'].replace(True, 1)\n",
    "df_prep['diabetesMed'] = df_prep['diabetesMed'].replace(False, 0)\n",
    "\n",
    "# Medicine change\n",
    "for col in variables:\n",
    "    df_prep[col] = df_prep[col].replace('No', 0)\n",
    "    df_prep[col] = df_prep[col].replace('Steady', 1)\n",
    "    df_prep[col] = df_prep[col].replace('Up', 1)\n",
    "    df_prep[col] = df_prep[col].replace('Down', 1)"
   ]
  },
  {
   "cell_type": "markdown",
   "metadata": {},
   "source": [
    "Mapping values for A1Cresult, max_glu_serum to numeric values"
   ]
  },
  {
   "cell_type": "code",
   "execution_count": 9,
   "metadata": {},
   "outputs": [],
   "source": [
    "df_prep['A1Cresult'] = df_prep['A1Cresult'].replace('>7', 1)\n",
    "df_prep['A1Cresult'] = df_prep['A1Cresult'].replace('>8', 1)\n",
    "df_prep['A1Cresult'] = df_prep['A1Cresult'].replace('Norm', 0)\n",
    "df_prep['A1Cresult'] = df_prep['A1Cresult'].replace('None', -99)\n",
    "df_prep['max_glu_serum'] = df_prep['max_glu_serum'].replace('>200', 1)\n",
    "df_prep['max_glu_serum'] = df_prep['max_glu_serum'].replace('>300', 1)\n",
    "df_prep['max_glu_serum'] = df_prep['max_glu_serum'].replace('Norm', 0)\n",
    "df_prep['max_glu_serum'] = df_prep['max_glu_serum'].replace('None', -99)"
   ]
  },
  {
   "cell_type": "markdown",
   "metadata": {},
   "source": [
    "Age mapping"
   ]
  },
  {
   "cell_type": "code",
   "execution_count": 10,
   "metadata": {},
   "outputs": [
    {
     "name": "stdout",
     "output_type": "stream",
     "text": [
      "[ 9  8  6  5  7 10  4  2  3  1]\n"
     ]
    }
   ],
   "source": [
    "# mapping\n",
    "age_map = {'[0-10)':1, '[10-20)':2, '[20-30)':3, '[30-40)':4, '[40-50)':5, '[50-60)':6, '[60-70)':7, '[70-80)':8, '[80-90)':9, '[90-100)':10}\n",
    "#print(age_map)\n",
    "df_prep['age'] = df_prep['age'].map(age_map)\n",
    "print(df_prep['age'].unique())"
   ]
  },
  {
   "cell_type": "code",
   "execution_count": 11,
   "metadata": {},
   "outputs": [
    {
     "name": "stdout",
     "output_type": "stream",
     "text": [
      "[1 3 5 2 4]\n"
     ]
    }
   ],
   "source": [
    "# mapping\n",
    "race_map = {'AfricanAmerican':1, 'Asian':2, 'Caucasian':3, 'Hispanic':4, 'Other':5}\n",
    "#print(age_map)\n",
    "df_prep['race'] = df_prep['race'].map(race_map)\n",
    "print(df_prep['race'].unique())"
   ]
  },
  {
   "cell_type": "markdown",
   "metadata": {},
   "source": [
    "Consider dropping for medical_specialty for missing a lot of information, and it may not affect to our predictive model. \n",
    "Dropping race because it doesn't help in predictive model"
   ]
  },
  {
   "cell_type": "code",
   "execution_count": 12,
   "metadata": {},
   "outputs": [],
   "source": [
    "df_prep = df_prep.drop(['medical_specialty'], axis = 1)"
   ]
  },
  {
   "cell_type": "code",
   "execution_count": 13,
   "metadata": {},
   "outputs": [
    {
     "data": {
      "text/html": [
       "<div>\n",
       "<style scoped>\n",
       "    .dataframe tbody tr th:only-of-type {\n",
       "        vertical-align: middle;\n",
       "    }\n",
       "\n",
       "    .dataframe tbody tr th {\n",
       "        vertical-align: top;\n",
       "    }\n",
       "\n",
       "    .dataframe thead th {\n",
       "        text-align: right;\n",
       "    }\n",
       "</style>\n",
       "<table border=\"1\" class=\"dataframe\">\n",
       "  <thead>\n",
       "    <tr style=\"text-align: right;\">\n",
       "      <th></th>\n",
       "      <th>0</th>\n",
       "      <th>1</th>\n",
       "      <th>2</th>\n",
       "      <th>3</th>\n",
       "      <th>4</th>\n",
       "    </tr>\n",
       "  </thead>\n",
       "  <tbody>\n",
       "    <tr>\n",
       "      <th>race</th>\n",
       "      <td>1</td>\n",
       "      <td>3</td>\n",
       "      <td>3</td>\n",
       "      <td>1</td>\n",
       "      <td>1</td>\n",
       "    </tr>\n",
       "    <tr>\n",
       "      <th>gender</th>\n",
       "      <td>0</td>\n",
       "      <td>0</td>\n",
       "      <td>0</td>\n",
       "      <td>0</td>\n",
       "      <td>1</td>\n",
       "    </tr>\n",
       "    <tr>\n",
       "      <th>age</th>\n",
       "      <td>9</td>\n",
       "      <td>8</td>\n",
       "      <td>6</td>\n",
       "      <td>6</td>\n",
       "      <td>9</td>\n",
       "    </tr>\n",
       "    <tr>\n",
       "      <th>admission_type_id</th>\n",
       "      <td>1</td>\n",
       "      <td>1</td>\n",
       "      <td>3</td>\n",
       "      <td>1</td>\n",
       "      <td>1</td>\n",
       "    </tr>\n",
       "    <tr>\n",
       "      <th>discharge_disposition_id</th>\n",
       "      <td>3</td>\n",
       "      <td>3</td>\n",
       "      <td>1</td>\n",
       "      <td>1</td>\n",
       "      <td>3</td>\n",
       "    </tr>\n",
       "    <tr>\n",
       "      <th>admission_source_id</th>\n",
       "      <td>7</td>\n",
       "      <td>5</td>\n",
       "      <td>1</td>\n",
       "      <td>7</td>\n",
       "      <td>7</td>\n",
       "    </tr>\n",
       "    <tr>\n",
       "      <th>time_in_hospital</th>\n",
       "      <td>1</td>\n",
       "      <td>3</td>\n",
       "      <td>3</td>\n",
       "      <td>6</td>\n",
       "      <td>4</td>\n",
       "    </tr>\n",
       "    <tr>\n",
       "      <th>num_lab_procedures</th>\n",
       "      <td>33</td>\n",
       "      <td>48</td>\n",
       "      <td>25</td>\n",
       "      <td>41</td>\n",
       "      <td>22</td>\n",
       "    </tr>\n",
       "    <tr>\n",
       "      <th>num_procedures</th>\n",
       "      <td>0</td>\n",
       "      <td>2</td>\n",
       "      <td>1</td>\n",
       "      <td>0</td>\n",
       "      <td>0</td>\n",
       "    </tr>\n",
       "    <tr>\n",
       "      <th>num_medications</th>\n",
       "      <td>14</td>\n",
       "      <td>7</td>\n",
       "      <td>15</td>\n",
       "      <td>19</td>\n",
       "      <td>12</td>\n",
       "    </tr>\n",
       "    <tr>\n",
       "      <th>number_outpatient</th>\n",
       "      <td>0</td>\n",
       "      <td>0</td>\n",
       "      <td>0</td>\n",
       "      <td>0</td>\n",
       "      <td>0</td>\n",
       "    </tr>\n",
       "    <tr>\n",
       "      <th>number_emergency</th>\n",
       "      <td>1</td>\n",
       "      <td>0</td>\n",
       "      <td>0</td>\n",
       "      <td>0</td>\n",
       "      <td>0</td>\n",
       "    </tr>\n",
       "    <tr>\n",
       "      <th>number_inpatient</th>\n",
       "      <td>1</td>\n",
       "      <td>2</td>\n",
       "      <td>0</td>\n",
       "      <td>0</td>\n",
       "      <td>1</td>\n",
       "    </tr>\n",
       "    <tr>\n",
       "      <th>number_diagnoses</th>\n",
       "      <td>9</td>\n",
       "      <td>9</td>\n",
       "      <td>8</td>\n",
       "      <td>9</td>\n",
       "      <td>8</td>\n",
       "    </tr>\n",
       "    <tr>\n",
       "      <th>max_glu_serum</th>\n",
       "      <td>-99</td>\n",
       "      <td>-99</td>\n",
       "      <td>-99</td>\n",
       "      <td>-99</td>\n",
       "      <td>-99</td>\n",
       "    </tr>\n",
       "    <tr>\n",
       "      <th>A1Cresult</th>\n",
       "      <td>-99</td>\n",
       "      <td>-99</td>\n",
       "      <td>-99</td>\n",
       "      <td>-99</td>\n",
       "      <td>-99</td>\n",
       "    </tr>\n",
       "    <tr>\n",
       "      <th>metformin</th>\n",
       "      <td>0</td>\n",
       "      <td>0</td>\n",
       "      <td>0</td>\n",
       "      <td>0</td>\n",
       "      <td>0</td>\n",
       "    </tr>\n",
       "    <tr>\n",
       "      <th>repaglinide</th>\n",
       "      <td>0</td>\n",
       "      <td>0</td>\n",
       "      <td>0</td>\n",
       "      <td>0</td>\n",
       "      <td>0</td>\n",
       "    </tr>\n",
       "    <tr>\n",
       "      <th>nateglinide</th>\n",
       "      <td>0</td>\n",
       "      <td>0</td>\n",
       "      <td>0</td>\n",
       "      <td>0</td>\n",
       "      <td>0</td>\n",
       "    </tr>\n",
       "    <tr>\n",
       "      <th>chlorpropamide</th>\n",
       "      <td>0</td>\n",
       "      <td>0</td>\n",
       "      <td>0</td>\n",
       "      <td>0</td>\n",
       "      <td>0</td>\n",
       "    </tr>\n",
       "    <tr>\n",
       "      <th>glimepiride</th>\n",
       "      <td>0</td>\n",
       "      <td>0</td>\n",
       "      <td>0</td>\n",
       "      <td>0</td>\n",
       "      <td>0</td>\n",
       "    </tr>\n",
       "    <tr>\n",
       "      <th>acetohexamide</th>\n",
       "      <td>0</td>\n",
       "      <td>0</td>\n",
       "      <td>0</td>\n",
       "      <td>0</td>\n",
       "      <td>0</td>\n",
       "    </tr>\n",
       "    <tr>\n",
       "      <th>glipizide</th>\n",
       "      <td>0</td>\n",
       "      <td>0</td>\n",
       "      <td>0</td>\n",
       "      <td>0</td>\n",
       "      <td>0</td>\n",
       "    </tr>\n",
       "    <tr>\n",
       "      <th>glyburide</th>\n",
       "      <td>0</td>\n",
       "      <td>0</td>\n",
       "      <td>0</td>\n",
       "      <td>0</td>\n",
       "      <td>0</td>\n",
       "    </tr>\n",
       "    <tr>\n",
       "      <th>tolbutamide</th>\n",
       "      <td>0</td>\n",
       "      <td>0</td>\n",
       "      <td>0</td>\n",
       "      <td>0</td>\n",
       "      <td>0</td>\n",
       "    </tr>\n",
       "    <tr>\n",
       "      <th>insulin</th>\n",
       "      <td>1</td>\n",
       "      <td>1</td>\n",
       "      <td>1</td>\n",
       "      <td>1</td>\n",
       "      <td>1</td>\n",
       "    </tr>\n",
       "    <tr>\n",
       "      <th>change</th>\n",
       "      <td>0</td>\n",
       "      <td>0</td>\n",
       "      <td>0</td>\n",
       "      <td>0</td>\n",
       "      <td>0</td>\n",
       "    </tr>\n",
       "    <tr>\n",
       "      <th>diabetesMed</th>\n",
       "      <td>1</td>\n",
       "      <td>1</td>\n",
       "      <td>1</td>\n",
       "      <td>1</td>\n",
       "      <td>1</td>\n",
       "    </tr>\n",
       "    <tr>\n",
       "      <th>readmitted</th>\n",
       "      <td>1</td>\n",
       "      <td>1</td>\n",
       "      <td>0</td>\n",
       "      <td>1</td>\n",
       "      <td>1</td>\n",
       "    </tr>\n",
       "    <tr>\n",
       "      <th>medchange</th>\n",
       "      <td>0</td>\n",
       "      <td>0</td>\n",
       "      <td>0</td>\n",
       "      <td>0</td>\n",
       "      <td>0</td>\n",
       "    </tr>\n",
       "  </tbody>\n",
       "</table>\n",
       "</div>"
      ],
      "text/plain": [
       "                           0   1   2   3   4\n",
       "race                       1   3   3   1   1\n",
       "gender                     0   0   0   0   1\n",
       "age                        9   8   6   6   9\n",
       "admission_type_id          1   1   3   1   1\n",
       "discharge_disposition_id   3   3   1   1   3\n",
       "admission_source_id        7   5   1   7   7\n",
       "time_in_hospital           1   3   3   6   4\n",
       "num_lab_procedures        33  48  25  41  22\n",
       "num_procedures             0   2   1   0   0\n",
       "num_medications           14   7  15  19  12\n",
       "number_outpatient          0   0   0   0   0\n",
       "number_emergency           1   0   0   0   0\n",
       "number_inpatient           1   2   0   0   1\n",
       "number_diagnoses           9   9   8   9   8\n",
       "max_glu_serum            -99 -99 -99 -99 -99\n",
       "A1Cresult                -99 -99 -99 -99 -99\n",
       "metformin                  0   0   0   0   0\n",
       "repaglinide                0   0   0   0   0\n",
       "nateglinide                0   0   0   0   0\n",
       "chlorpropamide             0   0   0   0   0\n",
       "glimepiride                0   0   0   0   0\n",
       "acetohexamide              0   0   0   0   0\n",
       "glipizide                  0   0   0   0   0\n",
       "glyburide                  0   0   0   0   0\n",
       "tolbutamide                0   0   0   0   0\n",
       "insulin                    1   1   1   1   1\n",
       "change                     0   0   0   0   0\n",
       "diabetesMed                1   1   1   1   1\n",
       "readmitted                 1   1   0   1   1\n",
       "medchange                  0   0   0   0   0"
      ]
     },
     "execution_count": 13,
     "metadata": {},
     "output_type": "execute_result"
    }
   ],
   "source": [
    "df_prep.head().T"
   ]
  },
  {
   "cell_type": "code",
   "execution_count": 14,
   "metadata": {},
   "outputs": [
    {
     "data": {
      "text/plain": [
       "race                        int64\n",
       "gender                      int64\n",
       "age                         int64\n",
       "admission_type_id           int64\n",
       "discharge_disposition_id    int64\n",
       "admission_source_id         int64\n",
       "time_in_hospital            int64\n",
       "num_lab_procedures          int64\n",
       "num_procedures              int64\n",
       "num_medications             int64\n",
       "number_outpatient           int64\n",
       "number_emergency            int64\n",
       "number_inpatient            int64\n",
       "number_diagnoses            int64\n",
       "max_glu_serum               int64\n",
       "A1Cresult                   int64\n",
       "metformin                   int64\n",
       "repaglinide                 int64\n",
       "nateglinide                 int64\n",
       "chlorpropamide              int64\n",
       "glimepiride                 int64\n",
       "acetohexamide               int64\n",
       "glipizide                   int64\n",
       "glyburide                   int64\n",
       "tolbutamide                 int64\n",
       "insulin                     int64\n",
       "change                      int64\n",
       "diabetesMed                 int64\n",
       "readmitted                  int64\n",
       "medchange                   int64\n",
       "dtype: object"
      ]
     },
     "execution_count": 14,
     "metadata": {},
     "output_type": "execute_result"
    }
   ],
   "source": [
    "df_prep.dtypes"
   ]
  },
  {
   "cell_type": "code",
   "execution_count": 15,
   "metadata": {},
   "outputs": [],
   "source": [
    "from sklearn.model_selection import train_test_split\n",
    "\n",
    "def data_prep(df_prep):\n",
    "    # one-hot encoding\n",
    "    df = pd.get_dummies(df_prep)\n",
    "    \n",
    "    # target/input split\n",
    "    y = df['readmitted']\n",
    "    X = df.drop(['readmitted'], axis=1)\n",
    "\n",
    "    # setting random state\n",
    "    rs = 10\n",
    "\n",
    "    X_mat = X.to_numpy()\n",
    "    X_train, X_test, y_train, y_test = train_test_split(X_mat, y, test_size=0.3, stratify=y, random_state=rs)\n",
    "    \n",
    "    return df,X,y,X_train, X_test, y_train, y_test"
   ]
  },
  {
   "cell_type": "code",
   "execution_count": 16,
   "metadata": {},
   "outputs": [
    {
     "name": "stdout",
     "output_type": "stream",
     "text": [
      "readmitted\n"
     ]
    }
   ],
   "source": [
    "df,X,y,X_train, X_test, y_train, y_test = data_prep(df_prep)\n",
    "print(df.columns[28])"
   ]
  },
  {
   "cell_type": "code",
   "execution_count": 17,
   "metadata": {},
   "outputs": [],
   "source": [
    "X_mat = X.to_numpy()"
   ]
  },
  {
   "cell_type": "markdown",
   "metadata": {},
   "source": [
    "# 2. Predictive model"
   ]
  },
  {
   "cell_type": "markdown",
   "metadata": {},
   "source": [
    "### a. Data partitioning"
   ]
  },
  {
   "cell_type": "code",
   "execution_count": 18,
   "metadata": {},
   "outputs": [],
   "source": [
    "# setting random state\n",
    "rs = 10\n",
    "\n",
    "X_train, X_test, y_train, y_test = train_test_split(X_mat, y, test_size=0.3, stratify=y, random_state=rs)"
   ]
  },
  {
   "cell_type": "code",
   "execution_count": 19,
   "metadata": {},
   "outputs": [],
   "source": [
    "from sklearn.tree import DecisionTreeClassifier\n",
    "from sklearn.metrics import classification_report, accuracy_score\n",
    "\n",
    "rs = 10\n",
    "# simple decision tree training\n",
    "# model = DecisionTreeClassifier(random_state=rs)\n",
    "# model.fit(X_train, y_train)"
   ]
  },
  {
   "cell_type": "code",
   "execution_count": 20,
   "metadata": {},
   "outputs": [],
   "source": [
    "# Based on version to see model description\n",
    "#model.get_params(deep=True)"
   ]
  },
  {
   "cell_type": "code",
   "execution_count": 21,
   "metadata": {},
   "outputs": [],
   "source": [
    "# Not good train accuracy, too perfect\n",
    "#print(\"Train accuracy:\", model.score(X_train, y_train))"
   ]
  },
  {
   "cell_type": "code",
   "execution_count": 22,
   "metadata": {},
   "outputs": [],
   "source": [
    "#print(\"Test accuracy:\", model.score(X_test, y_test))"
   ]
  },
  {
   "cell_type": "code",
   "execution_count": 23,
   "metadata": {},
   "outputs": [],
   "source": [
    "#y_pred = model.predict(X_test)\n",
    "#print(classification_report(y_test, y_pred))"
   ]
  },
  {
   "cell_type": "markdown",
   "metadata": {},
   "source": [
    "# b. Decision Tree"
   ]
  },
  {
   "cell_type": "markdown",
   "metadata": {},
   "source": [
    "#### Visualising decision tree structure"
   ]
  },
  {
   "cell_type": "markdown",
   "metadata": {},
   "source": [
    "### d. Fit decision tree with max depth 5 from GridSearchCV"
   ]
  },
  {
   "cell_type": "code",
   "execution_count": 24,
   "metadata": {},
   "outputs": [
    {
     "name": "stdout",
     "output_type": "stream",
     "text": [
      "Train accuracy: 0.6428571428571429\n",
      "Test accuracy: 0.6311666666666667\n",
      "              precision    recall  f1-score   support\n",
      "\n",
      "           0       0.64      0.71      0.67      3203\n",
      "           1       0.62      0.54      0.58      2797\n",
      "\n",
      "    accuracy                           0.63      6000\n",
      "   macro avg       0.63      0.63      0.62      6000\n",
      "weighted avg       0.63      0.63      0.63      6000\n",
      "\n"
     ]
    }
   ],
   "source": [
    "#retrain with a small max_depth limit\n",
    "model_2 = DecisionTreeClassifier(max_depth=5, random_state=rs)\n",
    "model_2.fit(X_train, y_train)\n",
    "print(\"Train accuracy:\", model_2.score(X_train, y_train))\n",
    "print(\"Test accuracy:\", model_2.score(X_test, y_test))\n",
    "y_pred = model_2.predict(X_test)\n",
    "print(classification_report(y_test, y_pred))"
   ]
  },
  {
   "cell_type": "code",
   "execution_count": 25,
   "metadata": {},
   "outputs": [
    {
     "name": "stdout",
     "output_type": "stream",
     "text": [
      "number_inpatient : 0.5621775744198829\n",
      "discharge_disposition_id : 0.1847840171335859\n",
      "number_outpatient : 0.05323493210796076\n",
      "age : 0.03807486568797821\n",
      "number_emergency : 0.034204900132138664\n",
      "diabetesMed : 0.03149679275305533\n",
      "num_lab_procedures : 0.025769755685942305\n",
      "num_medications : 0.019412748637202316\n",
      "admission_type_id : 0.018678246192019594\n",
      "number_diagnoses : 0.010485036369178758\n",
      "num_procedures : 0.009723597295882982\n",
      "admission_source_id : 0.009257337070946257\n",
      "insulin : 0.0027001965142258444\n",
      "medchange : 0.0\n",
      "gender : 0.0\n",
      "time_in_hospital : 0.0\n",
      "max_glu_serum : 0.0\n",
      "A1Cresult : 0.0\n",
      "metformin : 0.0\n",
      "repaglinide : 0.0\n"
     ]
    }
   ],
   "source": [
    "# grab feature importances from the model and feature name from the original X\n",
    "importances = model_2.feature_importances_\n",
    "feature_names = X.columns\n",
    "# sort them out in descending order\n",
    "indices = np.argsort(importances)\n",
    "indices = np.flip(indices, axis=0)\n",
    "# limit to 20 features, you can leave this out to print out everything\n",
    "indices = indices[:20]\n",
    "for i in indices:\n",
    " print(feature_names[i], ':', importances[i])\n",
    "\n",
    "# In desc order, top 5 important variables: num_lab_procedures, num_medications, time_in_hospital, discharge_disposition_id, age"
   ]
  },
  {
   "cell_type": "code",
   "execution_count": 26,
   "metadata": {},
   "outputs": [
    {
     "data": {
      "text/plain": [
       "{'ccp_alpha': 0.0,\n",
       " 'class_weight': None,\n",
       " 'criterion': 'entropy',\n",
       " 'max_depth': 5,\n",
       " 'max_features': None,\n",
       " 'max_leaf_nodes': None,\n",
       " 'min_impurity_decrease': 0.0,\n",
       " 'min_samples_leaf': 1,\n",
       " 'min_samples_split': 10,\n",
       " 'min_weight_fraction_leaf': 0.0,\n",
       " 'random_state': None,\n",
       " 'splitter': 'best'}"
      ]
     },
     "execution_count": 26,
     "metadata": {},
     "output_type": "execute_result"
    }
   ],
   "source": [
    "dtree_2 = DecisionTreeClassifier(max_depth=5, criterion = \"entropy\", min_samples_split=10)\n",
    "dtree_2.fit(X_train, y_train)\n",
    "dtree_2.get_params(deep=True)"
   ]
  },
  {
   "cell_type": "code",
   "execution_count": 27,
   "metadata": {},
   "outputs": [],
   "source": [
    "import pydot\n",
    "from io import StringIO\n",
    "from sklearn.tree import export_graphviz\n",
    "# visualize\n",
    "dotfile = StringIO()\n",
    "export_graphviz(dtree_2, out_file=dotfile, feature_names=X.columns, filled=True, class_names = ['0','1'])\n",
    "graph = pydot.graph_from_dot_data(dotfile.getvalue())"
   ]
  },
  {
   "cell_type": "code",
   "execution_count": 28,
   "metadata": {},
   "outputs": [],
   "source": [
    "graph[0].write_png('diabetes_viz_2.png') # saved in the following file - will return True if successful"
   ]
  },
  {
   "cell_type": "code",
   "execution_count": 29,
   "metadata": {},
   "outputs": [
    {
     "name": "stdout",
     "output_type": "stream",
     "text": [
      "63\n"
     ]
    }
   ],
   "source": [
    "print(dtree_2.tree_.node_count)"
   ]
  },
  {
   "cell_type": "markdown",
   "metadata": {},
   "source": [
    "# d. ROC"
   ]
  },
  {
   "cell_type": "code",
   "execution_count": 30,
   "metadata": {},
   "outputs": [
    {
     "name": "stdout",
     "output_type": "stream",
     "text": [
      "Probability produced by decision tree for each class vs actual prediction on TargetB (0 = non-donor, 1 = donor). You should be able to see the default threshold 0.55\n",
      "(Probs on zero)\t(probs on one)\t(prediction made)\n",
      "0.39751552795031053 \t 0.6024844720496895 \t 1\n",
      "0.6273525721455459 \t 0.3726474278544542 \t 0\n",
      "0.6676986584107327 \t 0.3323013415892673 \t 0\n",
      "0.75 \t 0.25 \t 0\n",
      "0.6676986584107327 \t 0.3323013415892673 \t 0\n",
      "0.39751552795031053 \t 0.6024844720496895 \t 1\n",
      "0.3163064833005894 \t 0.6836935166994106 \t 1\n",
      "0.8495575221238938 \t 0.1504424778761062 \t 0\n",
      "0.5454042081949059 \t 0.45459579180509413 \t 0\n",
      "0.6676986584107327 \t 0.3323013415892673 \t 0\n",
      "0.5454042081949059 \t 0.45459579180509413 \t 0\n",
      "0.709556057185854 \t 0.290443942814146 \t 0\n",
      "0.5454042081949059 \t 0.45459579180509413 \t 0\n",
      "0.709556057185854 \t 0.290443942814146 \t 0\n",
      "0.6273525721455459 \t 0.3726474278544542 \t 0\n",
      "0.6676986584107327 \t 0.3323013415892673 \t 0\n",
      "0.6273525721455459 \t 0.3726474278544542 \t 0\n",
      "0.5454042081949059 \t 0.45459579180509413 \t 0\n",
      "0.39751552795031053 \t 0.6024844720496895 \t 1\n",
      "0.6676986584107327 \t 0.3323013415892673 \t 0\n"
     ]
    }
   ],
   "source": [
    "# dt_cv_best = cv_1.best_estimator_\n",
    "# print(dt_cv_best)\n",
    "# probability prediction from decision tree\n",
    "y_pred_proba_dt = model_2.predict_proba(X_test)\n",
    "\n",
    "print(\"Probability produced by decision tree for each class vs actual prediction on TargetB (0 = non-donor, 1 = donor). You should be able to see the default threshold 0.55\")\n",
    "print(\"(Probs on zero)\\t(probs on one)\\t(prediction made)\")\n",
    "# print top 10\n",
    "for i in range(20):\n",
    "    print(y_pred_proba_dt[i][0], '\\t', y_pred_proba_dt[i][1], '\\t', y_pred[i])"
   ]
  },
  {
   "cell_type": "markdown",
   "metadata": {},
   "source": [
    "The ROC AUC score aims to find the best model under the varied threshold values. To compute the ROC AUC score, use the code below."
   ]
  },
  {
   "cell_type": "code",
   "execution_count": 31,
   "metadata": {},
   "outputs": [
    {
     "name": "stdout",
     "output_type": "stream",
     "text": [
      "ROC index on test for DT_optimal: 0.6676265246058314\n"
     ]
    }
   ],
   "source": [
    "from sklearn.metrics import roc_auc_score\n",
    "\n",
    "#y_pred_proba_dt = model_default.predict_proba(X_test)\n",
    "\n",
    "y_pred_proba_dt = model_2.predict_proba(X_test)\n",
    "\n",
    "#roc_index_dt = roc_auc_score(y_test, y_pred_proba_dt[:, 1])\n",
    "\n",
    "roc_index_dt = roc_auc_score(y_test, y_pred_proba_dt[:, 1])\n",
    "\n",
    "#print(\"ROC index on test for DT_default:\", roc_index_dt)\n",
    "\n",
    "print(\"ROC index on test for DT_optimal:\", roc_index_dt)"
   ]
  },
  {
   "cell_type": "code",
   "execution_count": 32,
   "metadata": {},
   "outputs": [],
   "source": [
    "from sklearn.metrics import roc_curve\n",
    "\n",
    "#fpr_dt, tpr_dt, thresholds_dt = roc_curve(y_test, y_pred_proba_dt[:,1])\n",
    "#fpr_dt_small, tpr_dt_small, thresholds_dt_small = roc_curve(y_test, y_pred_proba_dt_small[:,1])\n",
    "fpr_dt, tpr_dt, thresholds_dt = roc_curve(y_test, y_pred_proba_dt[:,1])"
   ]
  },
  {
   "cell_type": "code",
   "execution_count": 33,
   "metadata": {},
   "outputs": [],
   "source": [
    "# #plt.plot(fpr_dt, tpr_dt, label='ROC Curve for DT_default {:.3f}'.format(roc_index_dt), color='red', lw=0.5)\n",
    "# plt.plot(fpr_dt_cv, tpr_dt_cv, label='ROC Curve for DT_optimal {:.3f}'.format(roc_index_dt_cv), color='blue', lw=0.5)\n",
    "\n",
    "# # plt.plot(fpr[2], tpr[2], color='darkorange',\n",
    "# #          lw=lw, label='ROC curve (area = %0.2f)' % roc_auc[2])\n",
    "# plt.plot([0, 1], [0, 1], color='navy', lw=0.5, linestyle='--')\n",
    "# plt.xlim([0.0, 1.0])\n",
    "# plt.ylim([0.0, 1.0])\n",
    "# plt.xlabel('False Positive Rate')\n",
    "# plt.ylabel('True Positive Rate')\n",
    "# plt.title('Receiver operating characteristic example')\n",
    "# plt.legend(loc=\"lower right\")\n",
    "# plt.show()"
   ]
  },
  {
   "cell_type": "markdown",
   "metadata": {},
   "source": [
    "The DT with GridSearchCV (`DT_CV`) shows the largest curve area compared to the DT with default settings (`DT`). Thus `DT_CV` is the best performing model."
   ]
  },
  {
   "cell_type": "markdown",
   "metadata": {},
   "source": [
    "# Logistic Regression"
   ]
  },
  {
   "cell_type": "code",
   "execution_count": 34,
   "metadata": {},
   "outputs": [
    {
     "name": "stdout",
     "output_type": "stream",
     "text": [
      "Before scaling\n",
      "-------------\n",
      "Variable #0: min 1, max 5, mean 2.73 and std dev 0.81\n",
      "Variable #1: min 0, max 1, mean 0.46 and std dev 0.50\n",
      "Variable #2: min 1, max 10, mean 7.18 and std dev 1.57\n",
      "Variable #3: min 1, max 8, mean 1.81 and std dev 1.21\n",
      "Variable #4: min 1, max 28, mean 3.18 and std dev 4.35\n",
      "After scaling\n",
      "-------------\n",
      "Variable #0: min -2.131860544576406, max 2.7972967839239544, mean 0.00 and std dev 1.00\n",
      "Variable #1: min -0.92348913710008, max 1.0828497703178466, mean -0.00 and std dev 1.00\n",
      "Variable #2: min -3.939541810142892, max 1.7974560757140987, mean 0.00 and std dev 1.00\n",
      "Variable #3: min -0.6710221875474691, max 5.125890222506477, mean 0.00 and std dev 1.00\n",
      "Variable #4: min -0.5018574673834632, max 5.708314486358282, mean 0.00 and std dev 1.00\n"
     ]
    }
   ],
   "source": [
    "from sklearn.preprocessing import StandardScaler\n",
    "\n",
    "# initialise a standard scaler object\n",
    "scaler = StandardScaler()\n",
    "\n",
    "# visualise min, max, mean and standard dev of data before scaling\n",
    "print(\"Before scaling\\n-------------\")\n",
    "for i in range(5):\n",
    "    col = X_train[:,i]\n",
    "    print(\"Variable #{}: min {}, max {}, mean {:.2f} and std dev {:.2f}\".\n",
    "          format(i, min(col), max(col), np.mean(col), np.std(col)))\n",
    "\n",
    "# learn the mean and std.dev of variables from training data\n",
    "# then use the learned values to transform training data\n",
    "X_train = scaler.fit_transform(X_train, y_train)\n",
    "\n",
    "print(\"After scaling\\n-------------\")\n",
    "for i in range(5):\n",
    "    col = X_train[:,i]\n",
    "    print(\"Variable #{}: min {}, max {}, mean {:.2f} and std dev {:.2f}\".\n",
    "          format(i, min(col), max(col), np.mean(col), np.std(col)))\n",
    "\n",
    "# use the statistic that you learned from training to transform test data\n",
    "# NEVER learn from test data, this is supposed to be a set of dataset\n",
    "# that the model has never seen before\n",
    "X_test = scaler.transform(X_test)"
   ]
  },
  {
   "cell_type": "code",
   "execution_count": 35,
   "metadata": {},
   "outputs": [
    {
     "data": {
      "text/plain": [
       "GridSearchCV(cv=10, estimator=LogisticRegression(random_state=10), n_jobs=-1,\n",
       "             param_grid={'C': [1e-06, 1e-05, 0.0001, 0.001, 0.01, 0.1, 1, 10,\n",
       "                               100, 1000]},\n",
       "             return_train_score=True)"
      ]
     },
     "execution_count": 35,
     "metadata": {},
     "output_type": "execute_result"
    }
   ],
   "source": [
    "from sklearn.model_selection import GridSearchCV\n",
    "from sklearn.linear_model import LogisticRegression\n",
    "# grid search CV\n",
    "params = {'C': [pow(10, x) for x in range(-6, 4)]}\n",
    "\n",
    "# use all cores to tune logistic regression with C parameter\n",
    "model_cv = GridSearchCV(param_grid=params, estimator=LogisticRegression(random_state=rs),return_train_score=True, cv=10, n_jobs=-1)\n",
    "model_cv.fit(X_train, y_train)"
   ]
  },
  {
   "cell_type": "code",
   "execution_count": 36,
   "metadata": {},
   "outputs": [
    {
     "name": "stdout",
     "output_type": "stream",
     "text": [
      "Train accuracy: 0.6313571428571428\n",
      "Test accuracy: 0.6236666666666667\n"
     ]
    }
   ],
   "source": [
    "model_cv.fit(X_train, y_train)\n",
    "\n",
    "print(\"Train accuracy:\", model_cv.score(X_train, y_train))\n",
    "print(\"Test accuracy:\", model_cv.score(X_test, y_test))"
   ]
  },
  {
   "cell_type": "code",
   "execution_count": 37,
   "metadata": {},
   "outputs": [
    {
     "name": "stdout",
     "output_type": "stream",
     "text": [
      "ROC index on test for DT_cv: 0.6619040448649823\n"
     ]
    }
   ],
   "source": [
    "from sklearn.metrics import roc_auc_score\n",
    "y_pred_proba_dt_cv = model_cv.predict_proba(X_test)\n",
    "\n",
    "roc_index_dt_cv = roc_auc_score(y_test, y_pred_proba_dt_cv[:, 1])\n",
    "\n",
    "print(\"ROC index on test for DT_cv:\", roc_index_dt_cv)"
   ]
  },
  {
   "cell_type": "code",
   "execution_count": 38,
   "metadata": {},
   "outputs": [],
   "source": [
    "from sklearn.metrics import roc_curve\n",
    "\n",
    "fpr_dt_cv, tpr_dt_cv, thresholds_dt_cv = roc_curve(y_test, y_pred_proba_dt_cv[:,1])"
   ]
  },
  {
   "cell_type": "code",
   "execution_count": 39,
   "metadata": {},
   "outputs": [
    {
     "data": {
      "image/png": "[encoded data removed]",
      "text/plain": [
       "<Figure size 640x480 with 1 Axes>"
      ]
     },
     "metadata": {},
     "output_type": "display_data"
    }
   ],
   "source": [
    "plt.plot(fpr_dt_cv, tpr_dt_cv, label='ROC Curve for DT_cv {:.7f}'.format(roc_index_dt_cv), color='blue', lw=2)\n",
    "\n",
    "\n",
    "# plt.plot(fpr[2], tpr[2], color='darkorange',\n",
    "#          lw=lw, label='ROC curve (area = %0.2f)' % roc_auc[2])\n",
    "plt.plot([0, 1], [0, 1], color='navy', lw=2, linestyle='--')\n",
    "plt.xlim([0.0, 1.0])\n",
    "plt.ylim([0.0, 1.0])\n",
    "plt.xlabel('False Positive Rate')\n",
    "plt.ylabel('True Positive Rate')\n",
    "plt.title('Receiver operating characteristic example')\n",
    "plt.legend(loc=\"lower right\")\n",
    "plt.show()"
   ]
  },
  {
   "cell_type": "markdown",
   "metadata": {},
   "source": [
    "# Nerual Network"
   ]
  },
  {
   "cell_type": "code",
   "execution_count": 40,
   "metadata": {},
   "outputs": [
    {
     "name": "stdout",
     "output_type": "stream",
     "text": [
      "24\n"
     ]
    }
   ],
   "source": [
    "from sklearn.feature_selection import RFECV\n",
    "from sklearn.linear_model import LogisticRegression\n",
    "\n",
    "rfe = RFECV(estimator = LogisticRegression(random_state=rs), cv=10)\n",
    "rfe.fit(X_train, y_train)\n",
    "\n",
    "print(rfe.n_features_)"
   ]
  },
  {
   "cell_type": "code",
   "execution_count": 41,
   "metadata": {},
   "outputs": [
    {
     "name": "stdout",
     "output_type": "stream",
     "text": [
      "Train accuracy: 0.6439285714285714\n",
      "Test accuracy: 0.632\n",
      "              precision    recall  f1-score   support\n",
      "\n",
      "           0       0.63      0.74      0.68      3203\n",
      "           1       0.63      0.51      0.57      2797\n",
      "\n",
      "    accuracy                           0.63      6000\n",
      "   macro avg       0.63      0.62      0.62      6000\n",
      "weighted avg       0.63      0.63      0.63      6000\n",
      "\n",
      "{'alpha': 1e-05, 'hidden_layer_sizes': (7,)}\n"
     ]
    }
   ],
   "source": [
    "from sklearn.neural_network import MLPClassifier\n",
    "X_train_rfe = rfe.transform(X_train)\n",
    "X_test_rfe = rfe.transform(X_test)\n",
    "\n",
    "#step = int((X_train_rfe.shape[1] + 5)/5)\n",
    "#print(step)\n",
    "params = {'hidden_layer_sizes': [(3,), (5,), (7,), (9,)], 'alpha': [0.01,0.001, 0.0001, 0.00001]}\n",
    "\n",
    "rfe_cv = GridSearchCV(param_grid=params, estimator=MLPClassifier(random_state=rs), cv=10, n_jobs=-1)\n",
    "rfe_cv.fit(X_train_rfe, y_train)\n",
    "\n",
    "print(\"Train accuracy:\", rfe_cv.score(X_train_rfe, y_train))\n",
    "print(\"Test accuracy:\", rfe_cv.score(X_test_rfe, y_test))\n",
    "\n",
    "y_pred = rfe_cv.predict(X_test_rfe)\n",
    "print(classification_report(y_test, y_pred))\n",
    "\n",
    "print(rfe_cv.best_params_)"
   ]
  },
  {
   "cell_type": "markdown",
   "metadata": {},
   "source": [
    "# ROC for Decision Tree, Logistic Regression, Neural Network"
   ]
  },
  {
   "cell_type": "code",
   "execution_count": 42,
   "metadata": {},
   "outputs": [
    {
     "name": "stdout",
     "output_type": "stream",
     "text": [
      "Probability produced by decision tree for each class vs actual prediction on TargetB (0 = non-donor, 1 = donor). You should be able to see the default threshold 0.55\n",
      "(Probs on zero)\t(probs on one)\t(prediction made)\n",
      "0.5327510917030568 \t 0.4672489082969432 \t 1\n",
      "0.6676986584107327 \t 0.3323013415892673 \t 0\n",
      "0.6676986584107327 \t 0.3323013415892673 \t 0\n",
      "0.6676986584107327 \t 0.3323013415892673 \t 0\n",
      "0.6676986584107327 \t 0.3323013415892673 \t 0\n",
      "0.8495575221238938 \t 0.1504424778761062 \t 0\n",
      "0.49793388429752067 \t 0.5020661157024794 \t 1\n",
      "0.8495575221238938 \t 0.1504424778761062 \t 0\n",
      "0.6676986584107327 \t 0.3323013415892673 \t 0\n",
      "0.6676986584107327 \t 0.3323013415892673 \t 0\n",
      "0.6676986584107327 \t 0.3323013415892673 \t 0\n",
      "0.8495575221238938 \t 0.1504424778761062 \t 0\n",
      "0.6676986584107327 \t 0.3323013415892673 \t 0\n",
      "0.8495575221238938 \t 0.1504424778761062 \t 0\n",
      "0.6676986584107327 \t 0.3323013415892673 \t 0\n",
      "0.6676986584107327 \t 0.3323013415892673 \t 0\n",
      "0.6676986584107327 \t 0.3323013415892673 \t 0\n",
      "0.6676986584107327 \t 0.3323013415892673 \t 0\n",
      "0.8495575221238938 \t 0.1504424778761062 \t 1\n",
      "0.6676986584107327 \t 0.3323013415892673 \t 0\n"
     ]
    }
   ],
   "source": [
    "y_pred_proba_dt = model_2.predict_proba(X_test)\n",
    "\n",
    "print(\"Probability produced by decision tree for each class vs actual prediction on TargetB (0 = non-donor, 1 = donor). You should be able to see the default threshold 0.55\")\n",
    "print(\"(Probs on zero)\\t(probs on one)\\t(prediction made)\")\n",
    "# print top 10\n",
    "for i in range(20):\n",
    "    print(y_pred_proba_dt[i][0], '\\t', y_pred_proba_dt[i][1], '\\t', y_pred[i])"
   ]
  },
  {
   "cell_type": "code",
   "execution_count": 43,
   "metadata": {},
   "outputs": [
    {
     "name": "stdout",
     "output_type": "stream",
     "text": [
      "ROC index on test for Decision Tree: 0.6676265246058314\n",
      "ROC index on test for Logistic Regression: 0.6619040448649823\n",
      "ROC index on test for Neural Network: 0.6686336359448501\n"
     ]
    }
   ],
   "source": [
    "from sklearn.metrics import roc_auc_score\n",
    "\n",
    "#y_pred_proba_dt = model_2.predict_proba(X_test)\n",
    "y_pred_proba_lr = model_cv.predict_proba(X_test)\n",
    "y_pred_proba_nn = rfe_cv.predict_proba(X_test_rfe)\n",
    "\n",
    "#roc_index_dt = roc_auc_score(y_test, y_pred_proba_dt[:, 1])\n",
    "roc_index_lr = roc_auc_score(y_test, y_pred_proba_lr[:, 1])\n",
    "roc_index_nn = roc_auc_score(y_test, y_pred_proba_nn[:, 1])\n",
    "\n",
    "\n",
    "\n",
    "\n",
    "print(\"ROC index on test for Decision Tree:\", roc_index_dt)\n",
    "print(\"ROC index on test for Logistic Regression:\", roc_index_lr)\n",
    "print(\"ROC index on test for Neural Network:\", roc_index_nn)\n",
    "\n",
    "\n",
    "\n",
    "from sklearn.metrics import roc_curve\n",
    "\n",
    "#fpr_dt, tpr_dt, thresholds_dt = roc_curve(y_test, y_pred_proba_dt[:,1])\n",
    "fpr_lr, tpr_lr, thresholds_lr = roc_curve(y_test, y_pred_proba_lr[:,1])\n",
    "fpr_nn, tpr_nn, thresholds_nn = roc_curve(y_test, y_pred_proba_nn[:,1])"
   ]
  },
  {
   "cell_type": "code",
   "execution_count": 45,
   "metadata": {},
   "outputs": [
    {
     "data": {
      "image/png": "[encoded data removed]",
      "text/plain": [
       "<Figure size 640x480 with 1 Axes>"
      ]
     },
     "metadata": {},
     "output_type": "display_data"
    }
   ],
   "source": [
    "import matplotlib.pyplot as plt\n",
    "\n",
    "plt.plot(fpr_dt, tpr_dt, label='ROC for Decision Tree {:.3f}'.format(roc_index_dt_cv), color='green', lw=1.5)\n",
    "plt.plot(fpr_lr, tpr_lr, label='ROC for Logistic Regression {:.3f}'.format(roc_index_dt_cv), color='yellow', lw=1.5)\n",
    "plt.plot(fpr_nn, tpr_nn, label='ROC for Neural Network {:.3f}'.format(roc_index_nn), color='red', lw=1.5)\n",
    "\n",
    "plt.plot([0, 1], [0, 1], color='navy', lw=1.0, linestyle='--')\n",
    "plt.xlim([0.0, 1.0])\n",
    "plt.ylim([0.0, 1.0])\n",
    "plt.xlabel('False Positive Rate')\n",
    "plt.ylabel('True Positive Rate')\n",
    "plt.title('Receiver operating characteristic of DT, LR, NN')\n",
    "plt.legend(loc=\"lower right\")\n",
    "plt.show()"
   ]
  },
  {
   "cell_type": "code",
   "execution_count": null,
   "metadata": {},
   "outputs": [],
   "source": []
  }
 ],
 "metadata": {
  "kernelspec": {
   "display_name": "Python 3 (ipykernel)",
   "language": "python",
   "name": "python3"
  },
  "language_info": {
   "codemirror_mode": {
    "name": "ipython",
    "version": 3
   },
   "file_extension": ".py",
   "mimetype": "text/x-python",
   "name": "python",
   "nbconvert_exporter": "python",
   "pygments_lexer": "ipython3",
   "version": "3.7.3"
  },
  "vscode": {
   "interpreter": {
    "hash": "3bc1a11519d29b3ed6f08646f3ece60640217e649724c6bcfd38e1173c1a1bce"
   }
  }
 },
 "nbformat": 4,
 "nbformat_minor": 2
}
