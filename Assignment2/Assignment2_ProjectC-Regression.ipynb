{
 "cells": [
  {
   "cell_type": "code",
   "execution_count": 1,
   "metadata": {},
   "outputs": [],
   "source": [
    "import pandas as pd\n",
    "import numpy as np\n",
    "import matplotlib.pyplot as plt\n",
    "import seaborn as sns\n",
    "from sklearn.model_selection import train_test_split\n",
    "from sklearn.metrics import classification_report, accuracy_score\n",
    "from sklearn.model_selection import GridSearchCV"
   ]
  },
  {
   "cell_type": "code",
   "execution_count": 2,
   "metadata": {},
   "outputs": [],
   "source": [
    "# CSV dataset file name\n",
    "file_name = 'D2.csv'"
   ]
  },
  {
   "cell_type": "code",
   "execution_count": 3,
   "metadata": {},
   "outputs": [],
   "source": [
    "# Please put csv file in the same folder with this jupyter notebook\n",
    "df_prep = pd.read_csv(file_name)"
   ]
  },
  {
   "cell_type": "code",
   "execution_count": 4,
   "metadata": {},
   "outputs": [
    {
     "name": "stdout",
     "output_type": "stream",
     "text": [
      "<class 'pandas.core.frame.DataFrame'>\n",
      "RangeIndex: 20000 entries, 0 to 19999\n",
      "Data columns (total 30 columns):\n",
      " #   Column                    Non-Null Count  Dtype \n",
      "---  ------                    --------------  ----- \n",
      " 0   race                      20000 non-null  object\n",
      " 1   gender                    20000 non-null  object\n",
      " 2   age                       20000 non-null  object\n",
      " 3   admission_type_id         20000 non-null  int64 \n",
      " 4   discharge_disposition_id  20000 non-null  int64 \n",
      " 5   admission_source_id       20000 non-null  int64 \n",
      " 6   time_in_hospital          20000 non-null  int64 \n",
      " 7   medical_specialty         20000 non-null  object\n",
      " 8   num_lab_procedures        20000 non-null  int64 \n",
      " 9   num_procedures            20000 non-null  int64 \n",
      " 10  num_medications           20000 non-null  int64 \n",
      " 11  number_outpatient         20000 non-null  int64 \n",
      " 12  number_emergency          20000 non-null  int64 \n",
      " 13  number_inpatient          20000 non-null  int64 \n",
      " 14  number_diagnoses          20000 non-null  int64 \n",
      " 15  max_glu_serum             20000 non-null  object\n",
      " 16  A1Cresult                 20000 non-null  object\n",
      " 17  metformin                 20000 non-null  object\n",
      " 18  repaglinide               20000 non-null  object\n",
      " 19  nateglinide               20000 non-null  object\n",
      " 20  chlorpropamide            20000 non-null  object\n",
      " 21  glimepiride               20000 non-null  object\n",
      " 22  acetohexamide             20000 non-null  object\n",
      " 23  glipizide                 20000 non-null  object\n",
      " 24  glyburide                 20000 non-null  object\n",
      " 25  tolbutamide               20000 non-null  object\n",
      " 26  insulin                   20000 non-null  object\n",
      " 27  change                    20000 non-null  bool  \n",
      " 28  diabetesMed               20000 non-null  bool  \n",
      " 29  readmitted                20000 non-null  int64 \n",
      "dtypes: bool(2), int64(12), object(16)\n",
      "memory usage: 4.3+ MB\n",
      "None\n"
     ]
    }
   ],
   "source": [
    "print(df_prep.info())"
   ]
  },
  {
   "cell_type": "markdown",
   "metadata": {},
   "source": [
    "# Predictive modelling using Regression"
   ]
  },
  {
   "cell_type": "markdown",
   "metadata": {},
   "source": [
    "# 1. Pre-processing"
   ]
  },
  {
   "cell_type": "markdown",
   "metadata": {},
   "source": [
    "### a. Check Invalid values"
   ]
  },
  {
   "cell_type": "code",
   "execution_count": 5,
   "metadata": {},
   "outputs": [],
   "source": [
    "#Checking for missing values in dataset\n",
    "#In the dataset missing values are represented as '?' sign\n",
    "def checkInvalidValue(value):\n",
    "    print('**********************************')\n",
    "    print(f'Checking for missing ' + value)\n",
    "    for col in df_prep.columns:\n",
    "        if df_prep[col].dtype == object:\n",
    "            print(col,df_prep[col][df_prep[col] == value].count())"
   ]
  },
  {
   "cell_type": "code",
   "execution_count": 6,
   "metadata": {},
   "outputs": [
    {
     "name": "stdout",
     "output_type": "stream",
     "text": [
      "**********************************\n",
      "Checking for missing ?\n",
      "race 0\n",
      "gender 0\n",
      "age 0\n",
      "medical_specialty 0\n",
      "max_glu_serum 0\n",
      "A1Cresult 0\n",
      "metformin 0\n",
      "repaglinide 0\n",
      "nateglinide 0\n",
      "chlorpropamide 0\n",
      "glimepiride 0\n",
      "acetohexamide 0\n",
      "glipizide 0\n",
      "glyburide 0\n",
      "tolbutamide 0\n",
      "insulin 0\n",
      "**********************************\n",
      "Checking for missing NaN\n",
      "race 0\n",
      "gender 0\n",
      "age 0\n",
      "medical_specialty 0\n",
      "max_glu_serum 0\n",
      "A1Cresult 0\n",
      "metformin 0\n",
      "repaglinide 0\n",
      "nateglinide 0\n",
      "chlorpropamide 0\n",
      "glimepiride 0\n",
      "acetohexamide 0\n",
      "glipizide 0\n",
      "glyburide 0\n",
      "tolbutamide 0\n",
      "insulin 0\n",
      "**********************************\n",
      "Checking for missing Unknown/Invalid\n",
      "race 0\n",
      "gender 0\n",
      "age 0\n",
      "medical_specialty 0\n",
      "max_glu_serum 0\n",
      "A1Cresult 0\n",
      "metformin 0\n",
      "repaglinide 0\n",
      "nateglinide 0\n",
      "chlorpropamide 0\n",
      "glimepiride 0\n",
      "acetohexamide 0\n",
      "glipizide 0\n",
      "glyburide 0\n",
      "tolbutamide 0\n",
      "insulin 0\n"
     ]
    }
   ],
   "source": [
    "checkInvalidValue('?')\n",
    "checkInvalidValue('NaN')\n",
    "checkInvalidValue('Unknown/Invalid')\n"
   ]
  },
  {
   "cell_type": "markdown",
   "metadata": {},
   "source": [
    "### b. Variables"
   ]
  },
  {
   "cell_type": "markdown",
   "metadata": {},
   "source": [
    "###### Create a new collumn name medchange to record the changing in 10 drugs that have correlation to diabetes patient readmission\n",
    "###### No, Steady: 0\n",
    "###### Yes: 1"
   ]
  },
  {
   "cell_type": "code",
   "execution_count": 7,
   "metadata": {},
   "outputs": [
    {
     "data": {
      "text/plain": [
       "0    13610\n",
       "1     6085\n",
       "2      279\n",
       "3       26\n",
       "Name: medchange, dtype: int64"
      ]
     },
     "execution_count": 7,
     "metadata": {},
     "output_type": "execute_result"
    }
   ],
   "source": [
    "variables = ['metformin', 'repaglinide', 'nateglinide', 'chlorpropamide', 'glimepiride', \n",
    "'acetohexamide', 'glipizide', 'glyburide', 'tolbutamide', 'insulin']\n",
    "for col in variables:\n",
    "    colname = str(col) + 'temp'\n",
    "    df_prep[colname] = df_prep[col].apply(lambda x: 0 if (x == 'No' or x == 'Steady') else 1)\n",
    "df_prep['medchange'] = 0\n",
    "for col in variables:\n",
    "    colname = str(col) + 'temp'\n",
    "    df_prep['medchange'] = df_prep['medchange'] + df_prep[colname]\n",
    "    del df_prep[colname]\n",
    "    \n",
    "df_prep['medchange'].value_counts()  "
   ]
  },
  {
   "cell_type": "markdown",
   "metadata": {},
   "source": [
    "Encoding some category variables to numeric values"
   ]
  },
  {
   "cell_type": "code",
   "execution_count": 8,
   "metadata": {},
   "outputs": [],
   "source": [
    "df_prep['change'] = df_prep['change'].replace(True, 1)\n",
    "df_prep['change'] = df_prep['change'].replace(False, 0)\n",
    "df_prep['gender'] = df_prep['gender'].replace('Male', 1)\n",
    "df_prep['gender'] = df_prep['gender'].replace('Female', 0)\n",
    "df_prep['diabetesMed'] = df_prep['diabetesMed'].replace(True, 1)\n",
    "df_prep['diabetesMed'] = df_prep['diabetesMed'].replace(False, 0)\n",
    "\n",
    "# Medicine change\n",
    "for col in variables:\n",
    "    df_prep[col] = df_prep[col].replace('No', 0)\n",
    "    df_prep[col] = df_prep[col].replace('Steady', 1)\n",
    "    df_prep[col] = df_prep[col].replace('Up', 1)\n",
    "    df_prep[col] = df_prep[col].replace('Down', 1)"
   ]
  },
  {
   "cell_type": "markdown",
   "metadata": {},
   "source": [
    "Mapping values for A1Cresult, max_glu_serum to numeric values"
   ]
  },
  {
   "cell_type": "code",
   "execution_count": 9,
   "metadata": {},
   "outputs": [],
   "source": [
    "df_prep['A1Cresult'] = df_prep['A1Cresult'].replace('>7', 1)\n",
    "df_prep['A1Cresult'] = df_prep['A1Cresult'].replace('>8', 1)\n",
    "df_prep['A1Cresult'] = df_prep['A1Cresult'].replace('Norm', 0)\n",
    "df_prep['A1Cresult'] = df_prep['A1Cresult'].replace('None', -99)\n",
    "df_prep['max_glu_serum'] = df_prep['max_glu_serum'].replace('>200', 1)\n",
    "df_prep['max_glu_serum'] = df_prep['max_glu_serum'].replace('>300', 1)\n",
    "df_prep['max_glu_serum'] = df_prep['max_glu_serum'].replace('Norm', 0)\n",
    "df_prep['max_glu_serum'] = df_prep['max_glu_serum'].replace('None', -99)"
   ]
  },
  {
   "cell_type": "markdown",
   "metadata": {},
   "source": [
    "Age mapping"
   ]
  },
  {
   "cell_type": "code",
   "execution_count": 10,
   "metadata": {},
   "outputs": [
    {
     "name": "stdout",
     "output_type": "stream",
     "text": [
      "[ 9  8  6  5  7 10  4  2  3  1]\n"
     ]
    }
   ],
   "source": [
    "# mapping\n",
    "age_map = {'[0-10)':1, '[10-20)':2, '[20-30)':3, '[30-40)':4, '[40-50)':5, '[50-60)':6, '[60-70)':7, '[70-80)':8, '[80-90)':9, '[90-100)':10}\n",
    "#print(age_map)\n",
    "df_prep['age'] = df_prep['age'].map(age_map)\n",
    "print(df_prep['age'].unique())"
   ]
  },
  {
   "cell_type": "code",
   "execution_count": 11,
   "metadata": {},
   "outputs": [
    {
     "name": "stdout",
     "output_type": "stream",
     "text": [
      "[1 3 5 2 4]\n"
     ]
    }
   ],
   "source": [
    "# mapping\n",
    "race_map = {'AfricanAmerican':1, 'Asian':2, 'Caucasian':3, 'Hispanic':4, 'Other':5}\n",
    "#print(age_map)\n",
    "df_prep['race'] = df_prep['race'].map(race_map)\n",
    "print(df_prep['race'].unique())"
   ]
  },
  {
   "cell_type": "markdown",
   "metadata": {},
   "source": [
    "Consider dropping for medical_specialty for missing a lot of information, and it may not affect to our predictive model. \n",
    "Dropping race because it doesn't help in predictive model"
   ]
  },
  {
   "cell_type": "code",
   "execution_count": 12,
   "metadata": {},
   "outputs": [],
   "source": [
    "df_prep = df_prep.drop(['medical_specialty'], axis = 1)"
   ]
  },
  {
   "cell_type": "code",
   "execution_count": 13,
   "metadata": {},
   "outputs": [
    {
     "data": {
      "text/html": [
       "<div>\n",
       "<style scoped>\n",
       "    .dataframe tbody tr th:only-of-type {\n",
       "        vertical-align: middle;\n",
       "    }\n",
       "\n",
       "    .dataframe tbody tr th {\n",
       "        vertical-align: top;\n",
       "    }\n",
       "\n",
       "    .dataframe thead th {\n",
       "        text-align: right;\n",
       "    }\n",
       "</style>\n",
       "<table border=\"1\" class=\"dataframe\">\n",
       "  <thead>\n",
       "    <tr style=\"text-align: right;\">\n",
       "      <th></th>\n",
       "      <th>0</th>\n",
       "      <th>1</th>\n",
       "      <th>2</th>\n",
       "      <th>3</th>\n",
       "      <th>4</th>\n",
       "    </tr>\n",
       "  </thead>\n",
       "  <tbody>\n",
       "    <tr>\n",
       "      <th>race</th>\n",
       "      <td>1</td>\n",
       "      <td>3</td>\n",
       "      <td>3</td>\n",
       "      <td>1</td>\n",
       "      <td>1</td>\n",
       "    </tr>\n",
       "    <tr>\n",
       "      <th>gender</th>\n",
       "      <td>0</td>\n",
       "      <td>0</td>\n",
       "      <td>0</td>\n",
       "      <td>0</td>\n",
       "      <td>1</td>\n",
       "    </tr>\n",
       "    <tr>\n",
       "      <th>age</th>\n",
       "      <td>9</td>\n",
       "      <td>8</td>\n",
       "      <td>6</td>\n",
       "      <td>6</td>\n",
       "      <td>9</td>\n",
       "    </tr>\n",
       "    <tr>\n",
       "      <th>admission_type_id</th>\n",
       "      <td>1</td>\n",
       "      <td>1</td>\n",
       "      <td>3</td>\n",
       "      <td>1</td>\n",
       "      <td>1</td>\n",
       "    </tr>\n",
       "    <tr>\n",
       "      <th>discharge_disposition_id</th>\n",
       "      <td>3</td>\n",
       "      <td>3</td>\n",
       "      <td>1</td>\n",
       "      <td>1</td>\n",
       "      <td>3</td>\n",
       "    </tr>\n",
       "    <tr>\n",
       "      <th>admission_source_id</th>\n",
       "      <td>7</td>\n",
       "      <td>5</td>\n",
       "      <td>1</td>\n",
       "      <td>7</td>\n",
       "      <td>7</td>\n",
       "    </tr>\n",
       "    <tr>\n",
       "      <th>time_in_hospital</th>\n",
       "      <td>1</td>\n",
       "      <td>3</td>\n",
       "      <td>3</td>\n",
       "      <td>6</td>\n",
       "      <td>4</td>\n",
       "    </tr>\n",
       "    <tr>\n",
       "      <th>num_lab_procedures</th>\n",
       "      <td>33</td>\n",
       "      <td>48</td>\n",
       "      <td>25</td>\n",
       "      <td>41</td>\n",
       "      <td>22</td>\n",
       "    </tr>\n",
       "    <tr>\n",
       "      <th>num_procedures</th>\n",
       "      <td>0</td>\n",
       "      <td>2</td>\n",
       "      <td>1</td>\n",
       "      <td>0</td>\n",
       "      <td>0</td>\n",
       "    </tr>\n",
       "    <tr>\n",
       "      <th>num_medications</th>\n",
       "      <td>14</td>\n",
       "      <td>7</td>\n",
       "      <td>15</td>\n",
       "      <td>19</td>\n",
       "      <td>12</td>\n",
       "    </tr>\n",
       "    <tr>\n",
       "      <th>number_outpatient</th>\n",
       "      <td>0</td>\n",
       "      <td>0</td>\n",
       "      <td>0</td>\n",
       "      <td>0</td>\n",
       "      <td>0</td>\n",
       "    </tr>\n",
       "    <tr>\n",
       "      <th>number_emergency</th>\n",
       "      <td>1</td>\n",
       "      <td>0</td>\n",
       "      <td>0</td>\n",
       "      <td>0</td>\n",
       "      <td>0</td>\n",
       "    </tr>\n",
       "    <tr>\n",
       "      <th>number_inpatient</th>\n",
       "      <td>1</td>\n",
       "      <td>2</td>\n",
       "      <td>0</td>\n",
       "      <td>0</td>\n",
       "      <td>1</td>\n",
       "    </tr>\n",
       "    <tr>\n",
       "      <th>number_diagnoses</th>\n",
       "      <td>9</td>\n",
       "      <td>9</td>\n",
       "      <td>8</td>\n",
       "      <td>9</td>\n",
       "      <td>8</td>\n",
       "    </tr>\n",
       "    <tr>\n",
       "      <th>max_glu_serum</th>\n",
       "      <td>-99</td>\n",
       "      <td>-99</td>\n",
       "      <td>-99</td>\n",
       "      <td>-99</td>\n",
       "      <td>-99</td>\n",
       "    </tr>\n",
       "    <tr>\n",
       "      <th>A1Cresult</th>\n",
       "      <td>-99</td>\n",
       "      <td>-99</td>\n",
       "      <td>-99</td>\n",
       "      <td>-99</td>\n",
       "      <td>-99</td>\n",
       "    </tr>\n",
       "    <tr>\n",
       "      <th>metformin</th>\n",
       "      <td>0</td>\n",
       "      <td>0</td>\n",
       "      <td>0</td>\n",
       "      <td>0</td>\n",
       "      <td>0</td>\n",
       "    </tr>\n",
       "    <tr>\n",
       "      <th>repaglinide</th>\n",
       "      <td>0</td>\n",
       "      <td>0</td>\n",
       "      <td>0</td>\n",
       "      <td>0</td>\n",
       "      <td>0</td>\n",
       "    </tr>\n",
       "    <tr>\n",
       "      <th>nateglinide</th>\n",
       "      <td>0</td>\n",
       "      <td>0</td>\n",
       "      <td>0</td>\n",
       "      <td>0</td>\n",
       "      <td>0</td>\n",
       "    </tr>\n",
       "    <tr>\n",
       "      <th>chlorpropamide</th>\n",
       "      <td>0</td>\n",
       "      <td>0</td>\n",
       "      <td>0</td>\n",
       "      <td>0</td>\n",
       "      <td>0</td>\n",
       "    </tr>\n",
       "    <tr>\n",
       "      <th>glimepiride</th>\n",
       "      <td>0</td>\n",
       "      <td>0</td>\n",
       "      <td>0</td>\n",
       "      <td>0</td>\n",
       "      <td>0</td>\n",
       "    </tr>\n",
       "    <tr>\n",
       "      <th>acetohexamide</th>\n",
       "      <td>0</td>\n",
       "      <td>0</td>\n",
       "      <td>0</td>\n",
       "      <td>0</td>\n",
       "      <td>0</td>\n",
       "    </tr>\n",
       "    <tr>\n",
       "      <th>glipizide</th>\n",
       "      <td>0</td>\n",
       "      <td>0</td>\n",
       "      <td>0</td>\n",
       "      <td>0</td>\n",
       "      <td>0</td>\n",
       "    </tr>\n",
       "    <tr>\n",
       "      <th>glyburide</th>\n",
       "      <td>0</td>\n",
       "      <td>0</td>\n",
       "      <td>0</td>\n",
       "      <td>0</td>\n",
       "      <td>0</td>\n",
       "    </tr>\n",
       "    <tr>\n",
       "      <th>tolbutamide</th>\n",
       "      <td>0</td>\n",
       "      <td>0</td>\n",
       "      <td>0</td>\n",
       "      <td>0</td>\n",
       "      <td>0</td>\n",
       "    </tr>\n",
       "    <tr>\n",
       "      <th>insulin</th>\n",
       "      <td>1</td>\n",
       "      <td>1</td>\n",
       "      <td>1</td>\n",
       "      <td>1</td>\n",
       "      <td>1</td>\n",
       "    </tr>\n",
       "    <tr>\n",
       "      <th>change</th>\n",
       "      <td>0</td>\n",
       "      <td>0</td>\n",
       "      <td>0</td>\n",
       "      <td>0</td>\n",
       "      <td>0</td>\n",
       "    </tr>\n",
       "    <tr>\n",
       "      <th>diabetesMed</th>\n",
       "      <td>1</td>\n",
       "      <td>1</td>\n",
       "      <td>1</td>\n",
       "      <td>1</td>\n",
       "      <td>1</td>\n",
       "    </tr>\n",
       "    <tr>\n",
       "      <th>readmitted</th>\n",
       "      <td>1</td>\n",
       "      <td>1</td>\n",
       "      <td>0</td>\n",
       "      <td>1</td>\n",
       "      <td>1</td>\n",
       "    </tr>\n",
       "    <tr>\n",
       "      <th>medchange</th>\n",
       "      <td>0</td>\n",
       "      <td>0</td>\n",
       "      <td>0</td>\n",
       "      <td>0</td>\n",
       "      <td>0</td>\n",
       "    </tr>\n",
       "  </tbody>\n",
       "</table>\n",
       "</div>"
      ],
      "text/plain": [
       "                           0   1   2   3   4\n",
       "race                       1   3   3   1   1\n",
       "gender                     0   0   0   0   1\n",
       "age                        9   8   6   6   9\n",
       "admission_type_id          1   1   3   1   1\n",
       "discharge_disposition_id   3   3   1   1   3\n",
       "admission_source_id        7   5   1   7   7\n",
       "time_in_hospital           1   3   3   6   4\n",
       "num_lab_procedures        33  48  25  41  22\n",
       "num_procedures             0   2   1   0   0\n",
       "num_medications           14   7  15  19  12\n",
       "number_outpatient          0   0   0   0   0\n",
       "number_emergency           1   0   0   0   0\n",
       "number_inpatient           1   2   0   0   1\n",
       "number_diagnoses           9   9   8   9   8\n",
       "max_glu_serum            -99 -99 -99 -99 -99\n",
       "A1Cresult                -99 -99 -99 -99 -99\n",
       "metformin                  0   0   0   0   0\n",
       "repaglinide                0   0   0   0   0\n",
       "nateglinide                0   0   0   0   0\n",
       "chlorpropamide             0   0   0   0   0\n",
       "glimepiride                0   0   0   0   0\n",
       "acetohexamide              0   0   0   0   0\n",
       "glipizide                  0   0   0   0   0\n",
       "glyburide                  0   0   0   0   0\n",
       "tolbutamide                0   0   0   0   0\n",
       "insulin                    1   1   1   1   1\n",
       "change                     0   0   0   0   0\n",
       "diabetesMed                1   1   1   1   1\n",
       "readmitted                 1   1   0   1   1\n",
       "medchange                  0   0   0   0   0"
      ]
     },
     "execution_count": 13,
     "metadata": {},
     "output_type": "execute_result"
    }
   ],
   "source": [
    "df_prep.head().T"
   ]
  },
  {
   "cell_type": "code",
   "execution_count": 14,
   "metadata": {},
   "outputs": [
    {
     "data": {
      "text/plain": [
       "race                        int64\n",
       "gender                      int64\n",
       "age                         int64\n",
       "admission_type_id           int64\n",
       "discharge_disposition_id    int64\n",
       "admission_source_id         int64\n",
       "time_in_hospital            int64\n",
       "num_lab_procedures          int64\n",
       "num_procedures              int64\n",
       "num_medications             int64\n",
       "number_outpatient           int64\n",
       "number_emergency            int64\n",
       "number_inpatient            int64\n",
       "number_diagnoses            int64\n",
       "max_glu_serum               int64\n",
       "A1Cresult                   int64\n",
       "metformin                   int64\n",
       "repaglinide                 int64\n",
       "nateglinide                 int64\n",
       "chlorpropamide              int64\n",
       "glimepiride                 int64\n",
       "acetohexamide               int64\n",
       "glipizide                   int64\n",
       "glyburide                   int64\n",
       "tolbutamide                 int64\n",
       "insulin                     int64\n",
       "change                      int64\n",
       "diabetesMed                 int64\n",
       "readmitted                  int64\n",
       "medchange                   int64\n",
       "dtype: object"
      ]
     },
     "execution_count": 14,
     "metadata": {},
     "output_type": "execute_result"
    }
   ],
   "source": [
    "df_prep.dtypes"
   ]
  },
  {
   "cell_type": "code",
   "execution_count": 15,
   "metadata": {},
   "outputs": [],
   "source": [
    "from sklearn.model_selection import train_test_split\n",
    "\n",
    "def data_prep(df_prep):\n",
    "    # one-hot encoding\n",
    "    df = pd.get_dummies(df_prep)\n",
    "    \n",
    "    # target/input split\n",
    "    y = df['readmitted']\n",
    "    X = df.drop(['readmitted'], axis=1)\n",
    "\n",
    "    # setting random state\n",
    "    rs = 10\n",
    "\n",
    "    X_mat = X.to_numpy()\n",
    "    X_train, X_test, y_train, y_test = train_test_split(X_mat, y, test_size=0.3, stratify=y, random_state=rs)\n",
    "    \n",
    "    return df,X,y,X_train, X_test, y_train, y_test"
   ]
  },
  {
   "cell_type": "code",
   "execution_count": 16,
   "metadata": {},
   "outputs": [
    {
     "name": "stdout",
     "output_type": "stream",
     "text": [
      "readmitted\n"
     ]
    }
   ],
   "source": [
    "df,X,y,X_train, X_test, y_train, y_test = data_prep(df_prep)\n",
    "print(df.columns[28])"
   ]
  },
  {
   "cell_type": "code",
   "execution_count": 17,
   "metadata": {},
   "outputs": [],
   "source": [
    "#X_mat = X.to_numpy()"
   ]
  },
  {
   "cell_type": "markdown",
   "metadata": {},
   "source": [
    "## 2. Building the first logistic regression model <a name=\"build\"></a>\n",
    "\n",
    "### 2.1. Standardisation"
   ]
  },
  {
   "cell_type": "code",
   "execution_count": 18,
   "metadata": {},
   "outputs": [
    {
     "name": "stdout",
     "output_type": "stream",
     "text": [
      "Before scaling\n",
      "-------------\n",
      "Variable #0: min 1, max 5, mean 2.73 and std dev 0.81\n",
      "Variable #1: min 0, max 1, mean 0.46 and std dev 0.50\n",
      "Variable #2: min 1, max 10, mean 7.18 and std dev 1.57\n",
      "Variable #3: min 1, max 8, mean 1.81 and std dev 1.21\n",
      "Variable #4: min 1, max 28, mean 3.18 and std dev 4.35\n",
      "After scaling\n",
      "-------------\n",
      "Variable #0: min -2.131860544576406, max 2.7972967839239544, mean 0.00 and std dev 1.00\n",
      "Variable #1: min -0.92348913710008, max 1.0828497703178466, mean -0.00 and std dev 1.00\n",
      "Variable #2: min -3.939541810142892, max 1.7974560757140987, mean 0.00 and std dev 1.00\n",
      "Variable #3: min -0.6710221875474691, max 5.125890222506477, mean 0.00 and std dev 1.00\n",
      "Variable #4: min -0.5018574673834632, max 5.708314486358282, mean 0.00 and std dev 1.00\n"
     ]
    }
   ],
   "source": [
    "from sklearn.preprocessing import StandardScaler\n",
    "\n",
    "# initialise a standard scaler object\n",
    "scaler = StandardScaler()\n",
    "\n",
    "# visualise min, max, mean and standard dev of data before scaling\n",
    "print(\"Before scaling\\n-------------\")\n",
    "for i in range(5):\n",
    "    col = X_train[:,i]\n",
    "    print(\"Variable #{}: min {}, max {}, mean {:.2f} and std dev {:.2f}\".\n",
    "          format(i, min(col), max(col), np.mean(col), np.std(col)))\n",
    "\n",
    "# learn the mean and std.dev of variables from training data\n",
    "# then use the learned values to transform training data\n",
    "X_train = scaler.fit_transform(X_train, y_train)\n",
    "\n",
    "print(\"After scaling\\n-------------\")\n",
    "for i in range(5):\n",
    "    col = X_train[:,i]\n",
    "    print(\"Variable #{}: min {}, max {}, mean {:.2f} and std dev {:.2f}\".\n",
    "          format(i, min(col), max(col), np.mean(col), np.std(col)))\n",
    "\n",
    "# use the statistic that you learned from training to transform test data\n",
    "# NEVER learn from test data, this is supposed to be a set of dataset\n",
    "# that the model has never seen before\n",
    "X_test = scaler.transform(X_test)"
   ]
  },
  {
   "cell_type": "markdown",
   "metadata": {},
   "source": [
    "### 2.2. Training logistic regression"
   ]
  },
  {
   "cell_type": "code",
   "execution_count": 19,
   "metadata": {},
   "outputs": [],
   "source": [
    "from sklearn.linear_model import LogisticRegression"
   ]
  },
  {
   "cell_type": "code",
   "execution_count": 20,
   "metadata": {},
   "outputs": [
    {
     "data": {
      "text/plain": [
       "LogisticRegression(random_state=10)"
      ]
     },
     "execution_count": 20,
     "metadata": {},
     "output_type": "execute_result"
    }
   ],
   "source": [
    "rs = 10\n",
    "model_default = LogisticRegression(random_state=rs)\n",
    "\n",
    "# fit it to training data\n",
    "model_default.fit(X_train, y_train)"
   ]
  },
  {
   "cell_type": "code",
   "execution_count": 21,
   "metadata": {},
   "outputs": [
    {
     "name": "stdout",
     "output_type": "stream",
     "text": [
      "Train accuracy: 0.6315\n",
      "Test accuracy: 0.6238333333333334\n",
      "              precision    recall  f1-score   support\n",
      "\n",
      "           0       0.62      0.78      0.69      3203\n",
      "           1       0.64      0.44      0.52      2797\n",
      "\n",
      "    accuracy                           0.62      6000\n",
      "   macro avg       0.63      0.61      0.61      6000\n",
      "weighted avg       0.63      0.62      0.61      6000\n",
      "\n"
     ]
    }
   ],
   "source": [
    "# training and test accuracy\n",
    "print(\"Train accuracy:\", model_default.score(X_train, y_train))\n",
    "print(\"Test accuracy:\", model_default.score(X_test, y_test))\n",
    "\n",
    "# classification report on test data\n",
    "y_pred = model_default.predict(X_test)\n",
    "print(classification_report(y_test, y_pred))"
   ]
  },
  {
   "cell_type": "markdown",
   "metadata": {},
   "source": [
    "## 3. Understanding the logistic regression model"
   ]
  },
  {
   "cell_type": "code",
   "execution_count": 22,
   "metadata": {},
   "outputs": [
    {
     "name": "stdout",
     "output_type": "stream",
     "text": [
      "[[ 0.02808085 -0.00367593  0.07022501 -0.06366601 -0.0739621   0.01823718\n",
      "  -0.01358197  0.01155575 -0.07904625  0.10904082  0.16287406  0.22202603\n",
      "   0.52983428  0.082577    0.07570475 -0.00274079 -0.1061166   0.0105743\n",
      "  -0.02144048  0.02102291 -0.02700549  0.         -0.01834765  0.00199773\n",
      "   0.         -0.14301422  0.05868946  0.20848896  0.06592545]]\n"
     ]
    }
   ],
   "source": [
    "print(model_default.coef_)"
   ]
  },
  {
   "cell_type": "code",
   "execution_count": 23,
   "metadata": {},
   "outputs": [
    {
     "name": "stdout",
     "output_type": "stream",
     "text": [
      "race : 0.028080846984020802\n",
      "gender : -0.0036759270189715343\n",
      "age : 0.0702250099575811\n",
      "admission_type_id : -0.06366601074207315\n",
      "discharge_disposition_id : -0.07396209662804319\n",
      "admission_source_id : 0.01823718317267331\n",
      "time_in_hospital : -0.01358196691844002\n",
      "num_lab_procedures : 0.01155574552641522\n",
      "num_procedures : -0.07904624856031559\n",
      "num_medications : 0.109040816742026\n",
      "number_outpatient : 0.16287406444903305\n",
      "number_emergency : 0.2220260280466283\n",
      "number_inpatient : 0.5298342843881187\n",
      "number_diagnoses : 0.08257699862863763\n",
      "max_glu_serum : 0.07570474686389353\n",
      "A1Cresult : -0.0027407855219878483\n",
      "metformin : -0.1061166014090236\n",
      "repaglinide : 0.01057429950803438\n",
      "nateglinide : -0.021440476544603692\n",
      "chlorpropamide : 0.02102290777085563\n",
      "glimepiride : -0.027005486191670935\n",
      "acetohexamide : 0.0\n",
      "glipizide : -0.018347650108941314\n",
      "glyburide : 0.001997726291615074\n",
      "tolbutamide : 0.0\n",
      "insulin : -0.14301422059560662\n",
      "change : 0.05868945983423367\n",
      "diabetesMed : 0.20848896140684986\n",
      "medchange : 0.06592544661390609\n"
     ]
    }
   ],
   "source": [
    "feature_names = X.columns\n",
    "coef = model_default.coef_[0]\n",
    "\n",
    "# limit to 30 features, you can comment the following line to print out everything\n",
    "coef = coef[:30]\n",
    "\n",
    "for i in range(len(coef)):\n",
    "    print(feature_names[i], ':', coef[i])"
   ]
  },
  {
   "cell_type": "code",
   "execution_count": 24,
   "metadata": {},
   "outputs": [
    {
     "name": "stdout",
     "output_type": "stream",
     "text": [
      "number_inpatient : 0.5298342843881187\n",
      "number_emergency : 0.2220260280466283\n",
      "diabetesMed : 0.20848896140684986\n",
      "number_outpatient : 0.16287406444903305\n",
      "insulin : -0.14301422059560662\n",
      "num_medications : 0.109040816742026\n",
      "metformin : -0.1061166014090236\n",
      "number_diagnoses : 0.08257699862863763\n",
      "num_procedures : -0.07904624856031559\n",
      "max_glu_serum : 0.07570474686389353\n",
      "discharge_disposition_id : -0.07396209662804319\n",
      "age : 0.0702250099575811\n",
      "medchange : 0.06592544661390609\n",
      "admission_type_id : -0.06366601074207315\n",
      "change : 0.05868945983423367\n",
      "race : 0.028080846984020802\n",
      "glimepiride : -0.027005486191670935\n",
      "nateglinide : -0.021440476544603692\n",
      "chlorpropamide : 0.02102290777085563\n",
      "glipizide : -0.018347650108941314\n",
      "admission_source_id : 0.01823718317267331\n",
      "time_in_hospital : -0.01358196691844002\n",
      "num_lab_procedures : 0.01155574552641522\n",
      "repaglinide : 0.01057429950803438\n",
      "gender : -0.0036759270189715343\n",
      "A1Cresult : -0.0027407855219878483\n",
      "glyburide : 0.001997726291615074\n",
      "acetohexamide : 0.0\n",
      "tolbutamide : 0.0\n"
     ]
    }
   ],
   "source": [
    "# grab feature importances from the model and feature name from the original X\n",
    "coef = model_default.coef_[0]\n",
    "feature_names = X.columns\n",
    "\n",
    "# sort them out in descending order\n",
    "indices = np.argsort(np.absolute(coef))\n",
    "indices = np.flip(indices, axis=0)\n",
    "\n",
    "# limit to 30 features, you can leave this out to print out everything\n",
    "indices = indices[:30]\n",
    "\n",
    "for i in indices:\n",
    "    print(feature_names[i], ':', coef[i])"
   ]
  },
  {
   "cell_type": "markdown",
   "metadata": {},
   "source": [
    "Based on this output, the top-3 important variables in this model are number_inpatient, number_emergency, and diabetesMed. The ordering of important variables may differ different between models."
   ]
  },
  {
   "cell_type": "markdown",
   "metadata": {},
   "source": [
    "## 4. Finding optimal hyperparameters with GridSearchCV "
   ]
  },
  {
   "cell_type": "code",
   "execution_count": 25,
   "metadata": {},
   "outputs": [
    {
     "data": {
      "text/plain": [
       "GridSearchCV(cv=10, estimator=LogisticRegression(random_state=10), n_jobs=-1,\n",
       "             param_grid={'C': [1e-06, 1e-05, 0.0001, 0.001, 0.01, 0.1, 1, 10,\n",
       "                               100, 1000]},\n",
       "             return_train_score=True)"
      ]
     },
     "execution_count": 25,
     "metadata": {},
     "output_type": "execute_result"
    }
   ],
   "source": [
    "# grid search CV\n",
    "params = {'C': [pow(10, x) for x in range(-6, 4)]}\n",
    "\n",
    "# use all cores to tune logistic regression with C parameter\n",
    "model_cv = GridSearchCV(param_grid=params, estimator=LogisticRegression(random_state=rs),return_train_score=True, cv=10, n_jobs=-1)\n",
    "model_cv.fit(X_train, y_train)"
   ]
  },
  {
   "cell_type": "code",
   "execution_count": 26,
   "metadata": {},
   "outputs": [
    {
     "name": "stdout",
     "output_type": "stream",
     "text": [
      "{'mean_fit_time': array([0.05108204, 0.03891439, 0.04843879, 0.05654182, 0.07467725,\n",
      "       0.08448873, 0.07434649, 0.08626373, 0.06541176, 0.05998232]), 'std_fit_time': array([0.01892846, 0.00409795, 0.00590354, 0.01124806, 0.02527135,\n",
      "       0.03021179, 0.02709992, 0.02550352, 0.01845483, 0.0132306 ]), 'mean_score_time': array([0.00130107, 0.00139842, 0.00166669, 0.00144022, 0.00501318,\n",
      "       0.00112832, 0.00158873, 0.00148544, 0.00207038, 0.00100186]), 'std_score_time': array([0.00063137, 0.00061298, 0.00169577, 0.00091942, 0.01016268,\n",
      "       0.00037416, 0.00059383, 0.00065241, 0.00255888, 0.0006323 ]), 'param_C': masked_array(data=[1e-06, 1e-05, 0.0001, 0.001, 0.01, 0.1, 1, 10, 100,\n",
      "                   1000],\n",
      "             mask=[False, False, False, False, False, False, False, False,\n",
      "                   False, False],\n",
      "       fill_value='?',\n",
      "            dtype=object), 'params': [{'C': 1e-06}, {'C': 1e-05}, {'C': 0.0001}, {'C': 0.001}, {'C': 0.01}, {'C': 0.1}, {'C': 1}, {'C': 10}, {'C': 100}, {'C': 1000}], 'split0_test_score': array([0.53428571, 0.53642857, 0.59928571, 0.63357143, 0.63142857,\n",
      "       0.63142857, 0.63071429, 0.63071429, 0.63071429, 0.63071429]), 'split1_test_score': array([0.53428571, 0.53785714, 0.61214286, 0.62428571, 0.62785714,\n",
      "       0.62785714, 0.62714286, 0.62714286, 0.62714286, 0.62714286]), 'split2_test_score': array([0.53428571, 0.535     , 0.60285714, 0.61857143, 0.62285714,\n",
      "       0.62357143, 0.625     , 0.625     , 0.625     , 0.625     ]), 'split3_test_score': array([0.53428571, 0.53642857, 0.60142857, 0.63428571, 0.64357143,\n",
      "       0.64214286, 0.64214286, 0.64214286, 0.64214286, 0.64214286]), 'split4_test_score': array([0.53357143, 0.53642857, 0.60357143, 0.62571429, 0.63      ,\n",
      "       0.63071429, 0.63071429, 0.63071429, 0.63071429, 0.63071429]), 'split5_test_score': array([0.53357143, 0.53428571, 0.58857143, 0.59857143, 0.60571429,\n",
      "       0.60714286, 0.60642857, 0.60642857, 0.60642857, 0.60642857]), 'split6_test_score': array([0.53357143, 0.535     , 0.59      , 0.60428571, 0.61785714,\n",
      "       0.61785714, 0.61857143, 0.61857143, 0.61857143, 0.61857143]), 'split7_test_score': array([0.53357143, 0.53642857, 0.61357143, 0.63928571, 0.64142857,\n",
      "       0.64285714, 0.64214286, 0.64214286, 0.64214286, 0.64214286]), 'split8_test_score': array([0.53357143, 0.53642857, 0.61357143, 0.64428571, 0.64928571,\n",
      "       0.65142857, 0.65142857, 0.65142857, 0.65142857, 0.65142857]), 'split9_test_score': array([0.53357143, 0.535     , 0.61428571, 0.62857143, 0.62642857,\n",
      "       0.62642857, 0.62571429, 0.62571429, 0.62571429, 0.62571429]), 'mean_test_score': array([0.53385714, 0.53592857, 0.60392857, 0.62514286, 0.62964286,\n",
      "       0.63014286, 0.63      , 0.63      , 0.63      , 0.63      ]), 'std_test_score': array([0.00034993, 0.00101267, 0.00905341, 0.01384978, 0.0122193 ,\n",
      "       0.01225911, 0.01221825, 0.01221825, 0.01221825, 0.01221825]), 'rank_test_score': array([10,  9,  8,  7,  6,  1,  2,  2,  2,  2]), 'split0_train_score': array([0.53380952, 0.53626984, 0.60603175, 0.62642857, 0.62984127,\n",
      "       0.63079365, 0.63071429, 0.63063492, 0.63063492, 0.63063492]), 'split1_train_score': array([0.53380952, 0.53571429, 0.60444444, 0.62746032, 0.63198413,\n",
      "       0.63166667, 0.63166667, 0.63174603, 0.63174603, 0.63174603]), 'split2_train_score': array([0.53380952, 0.53650794, 0.60595238, 0.62547619, 0.63055556,\n",
      "       0.63126984, 0.63119048, 0.63111111, 0.63111111, 0.63111111]), 'split3_train_score': array([0.53380952, 0.53626984, 0.60563492, 0.62809524, 0.63126984,\n",
      "       0.63214286, 0.63190476, 0.6318254 , 0.6318254 , 0.6318254 ]), 'split4_train_score': array([0.53388889, 0.53611111, 0.60595238, 0.62833333, 0.63095238,\n",
      "       0.63071429, 0.63087302, 0.63071429, 0.63071429, 0.63071429]), 'split5_train_score': array([0.53388889, 0.5365873 , 0.60714286, 0.63031746, 0.63365079,\n",
      "       0.63388889, 0.63404762, 0.63404762, 0.63404762, 0.63404762]), 'split6_train_score': array([0.53388889, 0.53634921, 0.6068254 , 0.62920635, 0.63301587,\n",
      "       0.63357143, 0.63349206, 0.63333333, 0.63333333, 0.63333333]), 'split7_train_score': array([0.53388889, 0.53619048, 0.60452381, 0.62634921, 0.63039683,\n",
      "       0.63039683, 0.63031746, 0.63031746, 0.63031746, 0.63031746]), 'split8_train_score': array([0.53388889, 0.53587302, 0.60309524, 0.62571429, 0.62825397,\n",
      "       0.62928571, 0.62904762, 0.62904762, 0.62904762, 0.62904762]), 'split9_train_score': array([0.53388889, 0.53619048, 0.60373016, 0.62674603, 0.63111111,\n",
      "       0.63119048, 0.63142857, 0.63134921, 0.63134921, 0.63134921]), 'mean_train_score': array([0.53385714, 0.53620635, 0.60533333, 0.6274127 , 0.63110317,\n",
      "       0.63149206, 0.63146825, 0.6314127 , 0.6314127 , 0.6314127 ]), 'std_train_score': array([3.88807896e-05, 2.50471966e-04, 1.25978158e-03, 1.48825925e-03,\n",
      "       1.46576365e-03, 1.33503293e-03, 1.38434631e-03, 1.37455185e-03,\n",
      "       1.37455185e-03, 1.37455185e-03])}\n"
     ]
    }
   ],
   "source": [
    "result_set = model_cv.cv_results_\n",
    "print(result_set)"
   ]
  },
  {
   "cell_type": "code",
   "execution_count": 27,
   "metadata": {},
   "outputs": [
    {
     "name": "stdout",
     "output_type": "stream",
     "text": [
      "Total number of models:  10\n"
     ]
    },
    {
     "data": {
      "image/png": "[encoded data removed]",
      "text/plain": [
       "<Figure size 640x480 with 1 Axes>"
      ]
     },
     "metadata": {},
     "output_type": "display_data"
    }
   ],
   "source": [
    "import matplotlib.pyplot as plt\n",
    "\n",
    "train_result = result_set['mean_train_score']\n",
    "test_result = result_set['mean_test_score']\n",
    "print(\"Total number of models: \", len(test_result))\n",
    "# plot Hyperparameter C values vs training and test accuracy score\n",
    "plt.plot(range(0, len(train_result)), train_result, 'b', range(0,len(test_result)), test_result, 'r')\n",
    "plt.xlabel('Hyperparameter C\\nBlue = training acc. Red = test acc.')\n",
    "plt.xticks(range(0, len(train_result)),[pow(10, x) for x in range(-6, 4)])\n",
    "plt.ylabel('score')\n",
    "plt.show()"
   ]
  },
  {
   "cell_type": "markdown",
   "metadata": {},
   "source": [
    "Overfitting????? Overfitting refers to a model that models the training data too well."
   ]
  },
  {
   "cell_type": "code",
   "execution_count": 28,
   "metadata": {},
   "outputs": [
    {
     "name": "stdout",
     "output_type": "stream",
     "text": [
      "{'C': 0.1}\n"
     ]
    }
   ],
   "source": [
    "print(model_cv.best_params_)"
   ]
  },
  {
   "cell_type": "code",
   "execution_count": 29,
   "metadata": {},
   "outputs": [
    {
     "name": "stdout",
     "output_type": "stream",
     "text": [
      "Train accuracy: 0.6313571428571428\n",
      "Test accuracy: 0.6236666666666667\n"
     ]
    }
   ],
   "source": [
    "model_cv.fit(X_train, y_train)\n",
    "\n",
    "print(\"Train accuracy:\", model_cv.score(X_train, y_train))\n",
    "print(\"Test accuracy:\", model_cv.score(X_test, y_test))"
   ]
  },
  {
   "cell_type": "markdown",
   "metadata": {},
   "source": [
    "Default:\n",
    "Train accuracy: 0.6315\n",
    "Test accuracy: 0.6238333333333334"
   ]
  },
  {
   "cell_type": "markdown",
   "metadata": {},
   "source": [
    "## 5. Feature selection. Reduce variables set"
   ]
  },
  {
   "cell_type": "code",
   "execution_count": 30,
   "metadata": {},
   "outputs": [
    {
     "name": "stdout",
     "output_type": "stream",
     "text": [
      "Original feature set 29\n",
      "Number of features after elimination 24\n"
     ]
    }
   ],
   "source": [
    "from sklearn.feature_selection import RFECV\n",
    "\n",
    "rfe = RFECV(estimator = LogisticRegression(random_state=rs), cv=10)\n",
    "rfe.fit(X_train, y_train) # run the RFECV\n",
    "\n",
    "# comparing how many variables before and after\n",
    "print(\"Original feature set\", X_train.shape[1])\n",
    "print(\"Number of features after elimination\", rfe.n_features_)"
   ]
  },
  {
   "cell_type": "code",
   "execution_count": 31,
   "metadata": {},
   "outputs": [],
   "source": [
    "X_train_sel = rfe.transform(X_train)\n",
    "X_test_sel = rfe.transform(X_test)"
   ]
  },
  {
   "cell_type": "code",
   "execution_count": 32,
   "metadata": {},
   "outputs": [
    {
     "name": "stdout",
     "output_type": "stream",
     "text": [
      "Train accuracy: 0.6310714285714286\n",
      "Test accuracy: 0.6243333333333333\n",
      "              precision    recall  f1-score   support\n",
      "\n",
      "           0       0.62      0.78      0.69      3203\n",
      "           1       0.64      0.44      0.52      2797\n",
      "\n",
      "    accuracy                           0.62      6000\n",
      "   macro avg       0.63      0.61      0.61      6000\n",
      "weighted avg       0.63      0.62      0.61      6000\n",
      "\n",
      "{'C': 1}\n"
     ]
    }
   ],
   "source": [
    "# grid search CV\n",
    "params = {'C': [pow(10, x) for x in range(-6, 4)]}\n",
    "\n",
    "rfe_cv = GridSearchCV(param_grid=params, estimator=LogisticRegression(random_state=rs), cv=10, n_jobs=-1, return_train_score=True)\n",
    "rfe_cv.fit(X_train_sel, y_train)\n",
    "\n",
    "# test the best model\n",
    "print(\"Train accuracy:\", rfe_cv.score(X_train_sel, y_train))\n",
    "print(\"Test accuracy:\", rfe_cv.score(X_test_sel, y_test))\n",
    "\n",
    "y_pred = rfe_cv.predict(X_test_sel)\n",
    "print(classification_report(y_test, y_pred))\n",
    "\n",
    "# print parameters of the best model\n",
    "print(rfe_cv.best_params_)"
   ]
  },
  {
   "cell_type": "markdown",
   "metadata": {},
   "source": [
    "Better Test Accuracy"
   ]
  },
  {
   "cell_type": "code",
   "execution_count": 33,
   "metadata": {},
   "outputs": [
    {
     "name": "stdout",
     "output_type": "stream",
     "text": [
      "{'mean_fit_time': array([0.02780006, 0.02671685, 0.03807914, 0.04222343, 0.05057929,\n",
      "       0.05734136, 0.05304844, 0.0581573 , 0.06035678, 0.05734355]), 'std_fit_time': array([0.00442744, 0.00619947, 0.00609302, 0.00727886, 0.00975527,\n",
      "       0.01256378, 0.01072765, 0.0109714 , 0.01184073, 0.01654115]), 'mean_score_time': array([4.00710106e-04, 9.98497009e-05, 1.81195736e-03, 9.01293755e-04,\n",
      "       1.16381645e-03, 1.19957924e-03, 1.52544975e-03, 8.71443748e-04,\n",
      "       1.22125149e-03, 9.58204269e-04]), 'std_score_time': array([0.00120213, 0.00029955, 0.00232143, 0.00151754, 0.0013002 ,\n",
      "       0.0010488 , 0.00149434, 0.00053974, 0.00057057, 0.00046955]), 'param_C': masked_array(data=[1e-06, 1e-05, 0.0001, 0.001, 0.01, 0.1, 1, 10, 100,\n",
      "                   1000],\n",
      "             mask=[False, False, False, False, False, False, False, False,\n",
      "                   False, False],\n",
      "       fill_value='?',\n",
      "            dtype=object), 'params': [{'C': 1e-06}, {'C': 1e-05}, {'C': 0.0001}, {'C': 0.001}, {'C': 0.01}, {'C': 0.1}, {'C': 1}, {'C': 10}, {'C': 100}, {'C': 1000}], 'split0_test_score': array([0.53428571, 0.53642857, 0.6       , 0.62857143, 0.63428571,\n",
      "       0.63214286, 0.63285714, 0.63285714, 0.63285714, 0.63285714]), 'split1_test_score': array([0.53428571, 0.53714286, 0.61285714, 0.62428571, 0.63142857,\n",
      "       0.63071429, 0.63071429, 0.63071429, 0.63071429, 0.63071429]), 'split2_test_score': array([0.53428571, 0.535     , 0.59642857, 0.61857143, 0.62214286,\n",
      "       0.62428571, 0.62428571, 0.62428571, 0.62428571, 0.62428571]), 'split3_test_score': array([0.53428571, 0.53642857, 0.605     , 0.63428571, 0.64142857,\n",
      "       0.64357143, 0.645     , 0.645     , 0.645     , 0.645     ]), 'split4_test_score': array([0.53357143, 0.53642857, 0.60214286, 0.62857143, 0.63      ,\n",
      "       0.62928571, 0.63071429, 0.63071429, 0.63071429, 0.63071429]), 'split5_test_score': array([0.53357143, 0.53428571, 0.59285714, 0.60214286, 0.60571429,\n",
      "       0.60571429, 0.60571429, 0.60571429, 0.60571429, 0.60571429]), 'split6_test_score': array([0.53357143, 0.535     , 0.59      , 0.60071429, 0.61928571,\n",
      "       0.61928571, 0.61928571, 0.61928571, 0.61928571, 0.61928571]), 'split7_test_score': array([0.53357143, 0.53642857, 0.61214286, 0.63571429, 0.64214286,\n",
      "       0.64142857, 0.64142857, 0.64142857, 0.64142857, 0.64142857]), 'split8_test_score': array([0.53357143, 0.53642857, 0.61714286, 0.645     , 0.64857143,\n",
      "       0.65      , 0.65      , 0.65      , 0.65      , 0.65      ]), 'split9_test_score': array([0.53357143, 0.535     , 0.62071429, 0.62857143, 0.62642857,\n",
      "       0.62428571, 0.62357143, 0.62357143, 0.62357143, 0.62357143]), 'mean_test_score': array([0.53385714, 0.53585714, 0.60492857, 0.62464286, 0.63014286,\n",
      "       0.63007143, 0.63035714, 0.63035714, 0.63035714, 0.63035714]), 'std_test_score': array([0.00034993, 0.00089214, 0.00993063, 0.0133869 , 0.01192579,\n",
      "       0.0122076 , 0.0124181 , 0.0124181 , 0.0124181 , 0.0124181 ]), 'rank_test_score': array([10,  9,  8,  7,  5,  6,  1,  1,  1,  1]), 'split0_train_score': array([0.53380952, 0.53626984, 0.6065873 , 0.62492063, 0.6302381 ,\n",
      "       0.63087302, 0.63087302, 0.63087302, 0.63087302, 0.63087302]), 'split1_train_score': array([0.53380952, 0.53563492, 0.60492063, 0.62706349, 0.63261905,\n",
      "       0.63126984, 0.63126984, 0.63134921, 0.63134921, 0.63134921]), 'split2_train_score': array([0.53380952, 0.53650794, 0.60674603, 0.62420635, 0.63103175,\n",
      "       0.63119048, 0.63134921, 0.63134921, 0.63134921, 0.63134921]), 'split3_train_score': array([0.53380952, 0.53626984, 0.60611111, 0.62507937, 0.63095238,\n",
      "       0.63142857, 0.63134921, 0.63126984, 0.63126984, 0.63126984]), 'split4_train_score': array([0.53388889, 0.53611111, 0.60603175, 0.62738095, 0.63166667,\n",
      "       0.6315873 , 0.63134921, 0.63126984, 0.63126984, 0.63126984]), 'split5_train_score': array([0.53388889, 0.5365873 , 0.60785714, 0.62960317, 0.63373016,\n",
      "       0.63333333, 0.63380952, 0.63380952, 0.63380952, 0.63380952]), 'split6_train_score': array([0.53388889, 0.53634921, 0.60698413, 0.62888889, 0.63269841,\n",
      "       0.63253968, 0.63301587, 0.63301587, 0.63301587, 0.63301587]), 'split7_train_score': array([0.53388889, 0.53619048, 0.60555556, 0.6247619 , 0.63079365,\n",
      "       0.63071429, 0.63071429, 0.63087302, 0.63087302, 0.63087302]), 'split8_train_score': array([0.53388889, 0.53571429, 0.60357143, 0.62420635, 0.62928571,\n",
      "       0.62920635, 0.62936508, 0.62944444, 0.62944444, 0.62944444]), 'split9_train_score': array([0.53388889, 0.53634921, 0.6031746 , 0.625     , 0.63063492,\n",
      "       0.63      , 0.63      , 0.63      , 0.63      , 0.63      ]), 'mean_train_score': array([0.53385714, 0.53619841, 0.60575397, 0.62611111, 0.63136508,\n",
      "       0.63121429, 0.63130952, 0.6313254 , 0.6313254 , 0.6313254 ]), 'std_train_score': array([3.88807896e-05, 2.93650794e-04, 1.41316650e-03, 1.87677857e-03,\n",
      "       1.25577527e-03, 1.10943752e-03, 1.23322710e-03, 1.21407821e-03,\n",
      "       1.21407821e-03, 1.21407821e-03])}\n"
     ]
    }
   ],
   "source": [
    "result_set = rfe_cv.cv_results_\n",
    "print(result_set)"
   ]
  },
  {
   "cell_type": "code",
   "execution_count": 34,
   "metadata": {},
   "outputs": [
    {
     "name": "stdout",
     "output_type": "stream",
     "text": [
      "Total number of models:  10\n"
     ]
    },
    {
     "data": {
      "image/png": "[encoded data removed]",
      "text/plain": [
       "<Figure size 640x480 with 1 Axes>"
      ]
     },
     "metadata": {},
     "output_type": "display_data"
    }
   ],
   "source": [
    "train_result = result_set['mean_train_score']\n",
    "test_result = result_set['mean_test_score']\n",
    "print(\"Total number of models: \", len(test_result))\n",
    "# plot Hyperparameter C values vs training and test accuracy score\n",
    "plt.plot(range(0, len(train_result)), train_result, 'b', range(0,len(test_result)), test_result, 'r')\n",
    "plt.xlabel('Hyperparameter C\\nBlue = training acc. Red = test acc.')\n",
    "plt.xticks(range(0, len(train_result)),[pow(10, x) for x in range(-6, 4)])\n",
    "plt.ylabel('score')\n",
    "plt.show()"
   ]
  },
  {
   "cell_type": "code",
   "execution_count": 35,
   "metadata": {},
   "outputs": [
    {
     "name": "stdout",
     "output_type": "stream",
     "text": [
      "number_emergency : 0.5300679328142393\n",
      "number_outpatient : 0.22230728787833173\n",
      "glipizide : 0.20908796396925863\n",
      "num_medications : 0.16304166512766732\n",
      "glimepiride : -0.14379687083223014\n",
      "num_procedures : 0.10950030452257008\n",
      "max_glu_serum : -0.1063146083024962\n",
      "number_inpatient : 0.08239230358455565\n",
      "num_lab_procedures : -0.07917530062138523\n",
      "number_diagnoses : 0.07574001593897037\n",
      "admission_type_id : -0.07383932839823253\n",
      "gender : 0.07099889524928077\n",
      "glyburide : 0.06538666099287718\n",
      "age : -0.06379182668022498\n",
      "acetohexamide : 0.05939703550766962\n",
      "race : 0.02787605686957478\n",
      "nateglinide : -0.027441161699198656\n",
      "metformin : -0.021639524287039205\n",
      "repaglinide : 0.020915565571804122\n",
      "chlorpropamide : -0.01903638641368969\n",
      "discharge_disposition_id : 0.018121975171796277\n",
      "admission_source_id : -0.013477680269238278\n",
      "time_in_hospital : 0.010813608216432303\n",
      "A1Cresult : 0.01033194103663439\n"
     ]
    }
   ],
   "source": [
    "# grab feature importances from the model and feature name from the original X\n",
    "coef = rfe_cv.best_estimator_.coef_[0]\n",
    "feature_names = X.columns\n",
    "\n",
    "# sort them out in descending order\n",
    "indices = np.argsort(np.absolute(coef))\n",
    "indices = np.flip(indices, axis=0)\n",
    "\n",
    "# limit to 30 features, you can leave this out to print out everything\n",
    "indices = indices[:30]\n",
    "\n",
    "for i in indices:\n",
    "    print(feature_names[i], ':', coef[i])"
   ]
  },
  {
   "cell_type": "markdown",
   "metadata": {},
   "source": [
    "## 6. ROC"
   ]
  },
  {
   "cell_type": "code",
   "execution_count": 36,
   "metadata": {},
   "outputs": [
    {
     "name": "stdout",
     "output_type": "stream",
     "text": [
      "ROC index on test for DT_default: 0.6618884177563692\n",
      "ROC index on test for DT_cv: 0.6619040448649823\n",
      "ROC index on test for DT_rfe: 0.6618979056437414\n"
     ]
    }
   ],
   "source": [
    "from sklearn.metrics import roc_auc_score\n",
    "\n",
    "y_pred_proba_dt = model_default.predict_proba(X_test)\n",
    "y_pred_proba_dt_cv = model_cv.predict_proba(X_test)\n",
    "y_pred_proba_rfe = rfe_cv.predict_proba(X_test_sel)\n",
    "\n",
    "roc_index_dt = roc_auc_score(y_test, y_pred_proba_dt[:, 1])\n",
    "roc_index_dt_cv = roc_auc_score(y_test, y_pred_proba_dt_cv[:, 1])\n",
    "roc_index_dt_rfe = roc_auc_score(y_test, y_pred_proba_rfe[:, 1])\n",
    "\n",
    "print(\"ROC index on test for DT_default:\", roc_index_dt)\n",
    "print(\"ROC index on test for DT_cv:\", roc_index_dt_cv)\n",
    "print(\"ROC index on test for DT_rfe:\", roc_index_dt_rfe)"
   ]
  },
  {
   "cell_type": "code",
   "execution_count": 37,
   "metadata": {},
   "outputs": [],
   "source": [
    "from sklearn.metrics import roc_curve\n",
    "\n",
    "fpr_dt, tpr_dt, thresholds_dt = roc_curve(y_test, y_pred_proba_dt[:,1])\n",
    "fpr_dt_cv, tpr_dt_cv, thresholds_dt_cv = roc_curve(y_test, y_pred_proba_dt_cv[:,1])\n",
    "fpr_dt_rfe, tpr_dt_rfe, thresholds_dt_rfe = roc_curve(y_test, y_pred_proba_rfe[:,1])"
   ]
  },
  {
   "cell_type": "code",
   "execution_count": 38,
   "metadata": {},
   "outputs": [
    {
     "data": {
      "image/png": "[encoded data removed]",
      "text/plain": [
       "<Figure size 640x480 with 1 Axes>"
      ]
     },
     "metadata": {},
     "output_type": "display_data"
    }
   ],
   "source": [
    "plt.plot(fpr_dt, tpr_dt, label='ROC Curve for DT_default {:.7f}'.format(roc_index_dt), color='red', lw=2)\n",
    "plt.plot(fpr_dt_cv, tpr_dt_cv, label='ROC Curve for DT_cv {:.7f}'.format(roc_index_dt_cv), color='blue', lw=2)\n",
    "plt.plot(fpr_dt_rfe, tpr_dt_rfe, label='ROC Curve for DT_rfe {:.7f}'.format(roc_index_dt_rfe), color='pink', lw=2)\n",
    "\n",
    "# plt.plot(fpr[2], tpr[2], color='darkorange',\n",
    "#          lw=lw, label='ROC curve (area = %0.2f)' % roc_auc[2])\n",
    "plt.plot([0, 1], [0, 1], color='navy', lw=2, linestyle='--')\n",
    "plt.xlim([0.0, 1.0])\n",
    "plt.ylim([0.0, 1.0])\n",
    "plt.xlabel('False Positive Rate')\n",
    "plt.ylabel('True Positive Rate')\n",
    "plt.title('Receiver operating characteristic example')\n",
    "plt.legend(loc=\"lower right\")\n",
    "plt.show()"
   ]
  },
  {
   "cell_type": "code",
   "execution_count": 39,
   "metadata": {},
   "outputs": [],
   "source": [
    "import pickle\n",
    "lr_best = model_cv\n",
    "roc_index_lr_best = roc_index_dt_cv\n",
    "tpr_lr_best = tpr_dt_cv\n",
    "fpr_lr_best = fpr_dt_cv\n",
    "with open('LR.pickle', 'wb') as f:\n",
    "    pickle.dump([lr_best,roc_index_lr_best, fpr_lr_best, tpr_lr_best], f)"
   ]
  }
 ],
 "metadata": {
  "kernelspec": {
   "display_name": "Python 3 (ipykernel)",
   "language": "python",
   "name": "python3"
  },
  "language_info": {
   "codemirror_mode": {
    "name": "ipython",
    "version": 3
   },
   "file_extension": ".py",
   "mimetype": "text/x-python",
   "name": "python",
   "nbconvert_exporter": "python",
   "pygments_lexer": "ipython3",
   "version": "3.7.3"
  },
  "vscode": {
   "interpreter": {
    "hash": "3bc1a11519d29b3ed6f08646f3ece60640217e649724c6bcfd38e1173c1a1bce"
   }
  }
 },
 "nbformat": 4,
 "nbformat_minor": 2
}
