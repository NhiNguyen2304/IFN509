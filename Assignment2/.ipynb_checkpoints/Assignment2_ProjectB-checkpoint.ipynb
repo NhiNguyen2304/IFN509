{
 "cells": [
  {
   "cell_type": "code",
   "execution_count": 1,
   "metadata": {},
   "outputs": [],
   "source": [
    "import pandas as pd\n",
    "import numpy as np\n",
    "import matplotlib.pyplot as plt\n",
    "import seaborn as sns"
   ]
  },
  {
   "cell_type": "code",
   "execution_count": 2,
   "metadata": {},
   "outputs": [],
   "source": [
    "# CSV dataset file name\n",
    "file_name = 'D2.csv'"
   ]
  },
  {
   "cell_type": "code",
   "execution_count": 3,
   "metadata": {},
   "outputs": [],
   "source": [
    "# Please put csv file in the same folder with this jupyter notebook\n",
    "df = pd.read_csv(file_name)"
   ]
  },
  {
   "cell_type": "code",
   "execution_count": 4,
   "metadata": {},
   "outputs": [
    {
     "name": "stdout",
     "output_type": "stream",
     "text": [
      "<class 'pandas.core.frame.DataFrame'>\n",
      "RangeIndex: 20000 entries, 0 to 19999\n",
      "Data columns (total 30 columns):\n",
      "race                        20000 non-null object\n",
      "gender                      20000 non-null object\n",
      "age                         20000 non-null object\n",
      "admission_type_id           20000 non-null int64\n",
      "discharge_disposition_id    20000 non-null int64\n",
      "admission_source_id         20000 non-null int64\n",
      "time_in_hospital            20000 non-null int64\n",
      "medical_specialty           20000 non-null object\n",
      "num_lab_procedures          20000 non-null int64\n",
      "num_procedures              20000 non-null int64\n",
      "num_medications             20000 non-null int64\n",
      "number_outpatient           20000 non-null int64\n",
      "number_emergency            20000 non-null int64\n",
      "number_inpatient            20000 non-null int64\n",
      "number_diagnoses            20000 non-null int64\n",
      "max_glu_serum               20000 non-null object\n",
      "A1Cresult                   20000 non-null object\n",
      "metformin                   20000 non-null object\n",
      "repaglinide                 20000 non-null object\n",
      "nateglinide                 20000 non-null object\n",
      "chlorpropamide              20000 non-null object\n",
      "glimepiride                 20000 non-null object\n",
      "acetohexamide               20000 non-null object\n",
      "glipizide                   20000 non-null object\n",
      "glyburide                   20000 non-null object\n",
      "tolbutamide                 20000 non-null object\n",
      "insulin                     20000 non-null object\n",
      "change                      20000 non-null bool\n",
      "diabetesMed                 20000 non-null bool\n",
      "readmitted                  20000 non-null int64\n",
      "dtypes: bool(2), int64(12), object(16)\n",
      "memory usage: 4.3+ MB\n",
      "None\n"
     ]
    }
   ],
   "source": [
    "print(df.info())"
   ]
  }
 ],
 "metadata": {
  "kernelspec": {
   "display_name": "Python 3",
   "language": "python",
   "name": "python3"
  },
  "language_info": {
   "codemirror_mode": {
    "name": "ipython",
    "version": 3
   },
   "file_extension": ".py",
   "mimetype": "text/x-python",
   "name": "python",
   "nbconvert_exporter": "python",
   "pygments_lexer": "ipython3",
   "version": "3.7.3"
  }
 },
 "nbformat": 4,
 "nbformat_minor": 2
}
