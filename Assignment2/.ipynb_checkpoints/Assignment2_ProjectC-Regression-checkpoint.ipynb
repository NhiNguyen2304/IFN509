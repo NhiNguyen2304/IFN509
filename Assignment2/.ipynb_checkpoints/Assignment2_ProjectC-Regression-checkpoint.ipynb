{
 "cells": [
  {
   "cell_type": "code",
   "execution_count": 1,
   "metadata": {},
   "outputs": [],
   "source": [
    "import pandas as pd\n",
    "import numpy as np\n",
    "import matplotlib.pyplot as plt\n",
    "import seaborn as sns\n",
    "from sklearn.model_selection import train_test_split\n",
    "from sklearn.metrics import classification_report, accuracy_score\n",
    "from sklearn.model_selection import GridSearchCV"
   ]
  },
  {
   "cell_type": "code",
   "execution_count": 2,
   "metadata": {},
   "outputs": [],
   "source": [
    "# CSV dataset file name\n",
    "file_name = 'D2.csv'"
   ]
  },
  {
   "cell_type": "code",
   "execution_count": 3,
   "metadata": {},
   "outputs": [],
   "source": [
    "# Please put csv file in the same folder with this jupyter notebook\n",
    "df_prep = pd.read_csv(file_name)"
   ]
  },
  {
   "cell_type": "code",
   "execution_count": 4,
   "metadata": {},
   "outputs": [
    {
     "name": "stdout",
     "output_type": "stream",
     "text": [
      "<class 'pandas.core.frame.DataFrame'>\n",
      "RangeIndex: 20000 entries, 0 to 19999\n",
      "Data columns (total 30 columns):\n",
      "race                        20000 non-null object\n",
      "gender                      20000 non-null object\n",
      "age                         20000 non-null object\n",
      "admission_type_id           20000 non-null int64\n",
      "discharge_disposition_id    20000 non-null int64\n",
      "admission_source_id         20000 non-null int64\n",
      "time_in_hospital            20000 non-null int64\n",
      "medical_specialty           20000 non-null object\n",
      "num_lab_procedures          20000 non-null int64\n",
      "num_procedures              20000 non-null int64\n",
      "num_medications             20000 non-null int64\n",
      "number_outpatient           20000 non-null int64\n",
      "number_emergency            20000 non-null int64\n",
      "number_inpatient            20000 non-null int64\n",
      "number_diagnoses            20000 non-null int64\n",
      "max_glu_serum               20000 non-null object\n",
      "A1Cresult                   20000 non-null object\n",
      "metformin                   20000 non-null object\n",
      "repaglinide                 20000 non-null object\n",
      "nateglinide                 20000 non-null object\n",
      "chlorpropamide              20000 non-null object\n",
      "glimepiride                 20000 non-null object\n",
      "acetohexamide               20000 non-null object\n",
      "glipizide                   20000 non-null object\n",
      "glyburide                   20000 non-null object\n",
      "tolbutamide                 20000 non-null object\n",
      "insulin                     20000 non-null object\n",
      "change                      20000 non-null bool\n",
      "diabetesMed                 20000 non-null bool\n",
      "readmitted                  20000 non-null int64\n",
      "dtypes: bool(2), int64(12), object(16)\n",
      "memory usage: 4.3+ MB\n",
      "None\n"
     ]
    }
   ],
   "source": [
    "print(df_prep.info())"
   ]
  },
  {
   "cell_type": "markdown",
   "metadata": {},
   "source": [
    "# Predictive modelling using Regression"
   ]
  },
  {
   "cell_type": "markdown",
   "metadata": {},
   "source": [
    "# 1. Pre-processing"
   ]
  },
  {
   "cell_type": "markdown",
   "metadata": {},
   "source": [
    "### a. Check Invalid values"
   ]
  },
  {
   "cell_type": "code",
   "execution_count": 5,
   "metadata": {},
   "outputs": [],
   "source": [
    "#Checking for missing values in dataset\n",
    "#In the dataset missing values are represented as '?' sign\n",
    "def checkInvalidValue(value):\n",
    "    print('**********************************')\n",
    "    print(f'Checking for missing ' + value)\n",
    "    for col in df_prep.columns:\n",
    "        if df_prep[col].dtype == object:\n",
    "            print(col,df_prep[col][df_prep[col] == value].count())"
   ]
  },
  {
   "cell_type": "code",
   "execution_count": 6,
   "metadata": {},
   "outputs": [
    {
     "name": "stdout",
     "output_type": "stream",
     "text": [
      "**********************************\n",
      "Checking for missing ?\n",
      "race 0\n",
      "gender 0\n",
      "age 0\n",
      "medical_specialty 0\n",
      "max_glu_serum 0\n",
      "A1Cresult 0\n",
      "metformin 0\n",
      "repaglinide 0\n",
      "nateglinide 0\n",
      "chlorpropamide 0\n",
      "glimepiride 0\n",
      "acetohexamide 0\n",
      "glipizide 0\n",
      "glyburide 0\n",
      "tolbutamide 0\n",
      "insulin 0\n",
      "**********************************\n",
      "Checking for missing NaN\n",
      "race 0\n",
      "gender 0\n",
      "age 0\n",
      "medical_specialty 0\n",
      "max_glu_serum 0\n",
      "A1Cresult 0\n",
      "metformin 0\n",
      "repaglinide 0\n",
      "nateglinide 0\n",
      "chlorpropamide 0\n",
      "glimepiride 0\n",
      "acetohexamide 0\n",
      "glipizide 0\n",
      "glyburide 0\n",
      "tolbutamide 0\n",
      "insulin 0\n",
      "**********************************\n",
      "Checking for missing Unknown/Invalid\n",
      "race 0\n",
      "gender 0\n",
      "age 0\n",
      "medical_specialty 0\n",
      "max_glu_serum 0\n",
      "A1Cresult 0\n",
      "metformin 0\n",
      "repaglinide 0\n",
      "nateglinide 0\n",
      "chlorpropamide 0\n",
      "glimepiride 0\n",
      "acetohexamide 0\n",
      "glipizide 0\n",
      "glyburide 0\n",
      "tolbutamide 0\n",
      "insulin 0\n"
     ]
    }
   ],
   "source": [
    "checkInvalidValue('?')\n",
    "checkInvalidValue('NaN')\n",
    "checkInvalidValue('Unknown/Invalid')\n"
   ]
  },
  {
   "cell_type": "markdown",
   "metadata": {},
   "source": [
    "### b. Variables"
   ]
  },
  {
   "cell_type": "markdown",
   "metadata": {},
   "source": [
    "###### Create a new collumn name medchange to record the changing in 10 drugs that have correlation to diabetes patient readmission\n",
    "###### No, Steady: 0\n",
    "###### Yes: 1"
   ]
  },
  {
   "cell_type": "code",
   "execution_count": 7,
   "metadata": {},
   "outputs": [
    {
     "data": {
      "text/plain": [
       "0    13610\n",
       "1     6085\n",
       "2      279\n",
       "3       26\n",
       "Name: medchange, dtype: int64"
      ]
     },
     "execution_count": 7,
     "metadata": {},
     "output_type": "execute_result"
    }
   ],
   "source": [
    "variables = ['metformin', 'repaglinide', 'nateglinide', 'chlorpropamide', 'glimepiride', \n",
    "'acetohexamide', 'glipizide', 'glyburide', 'tolbutamide', 'insulin']\n",
    "for col in variables:\n",
    "    colname = str(col) + 'temp'\n",
    "    df_prep[colname] = df_prep[col].apply(lambda x: 0 if (x == 'No' or x == 'Steady') else 1)\n",
    "df_prep['medchange'] = 0\n",
    "for col in variables:\n",
    "    colname = str(col) + 'temp'\n",
    "    df_prep['medchange'] = df_prep['medchange'] + df_prep[colname]\n",
    "    del df_prep[colname]\n",
    "    \n",
    "df_prep['medchange'].value_counts()  "
   ]
  },
  {
   "cell_type": "markdown",
   "metadata": {},
   "source": [
    "Encoding some category variables to numeric values"
   ]
  },
  {
   "cell_type": "code",
   "execution_count": 8,
   "metadata": {},
   "outputs": [],
   "source": [
    "df_prep['change'] = df_prep['change'].replace(True, 1)\n",
    "df_prep['change'] = df_prep['change'].replace(False, 0)\n",
    "df_prep['gender'] = df_prep['gender'].replace('Male', 1)\n",
    "df_prep['gender'] = df_prep['gender'].replace('Female', 0)\n",
    "df_prep['diabetesMed'] = df_prep['diabetesMed'].replace(True, 1)\n",
    "df_prep['diabetesMed'] = df_prep['diabetesMed'].replace(False, 0)\n",
    "\n",
    "# Medicine change\n",
    "for col in variables:\n",
    "    df_prep[col] = df_prep[col].replace('No', 0)\n",
    "    df_prep[col] = df_prep[col].replace('Steady', 1)\n",
    "    df_prep[col] = df_prep[col].replace('Up', 1)\n",
    "    df_prep[col] = df_prep[col].replace('Down', 1)"
   ]
  },
  {
   "cell_type": "markdown",
   "metadata": {},
   "source": [
    "Mapping values for A1Cresult, max_glu_serum to numeric values"
   ]
  },
  {
   "cell_type": "code",
   "execution_count": 9,
   "metadata": {},
   "outputs": [],
   "source": [
    "df_prep['A1Cresult'] = df_prep['A1Cresult'].replace('>7', 1)\n",
    "df_prep['A1Cresult'] = df_prep['A1Cresult'].replace('>8', 1)\n",
    "df_prep['A1Cresult'] = df_prep['A1Cresult'].replace('Norm', 0)\n",
    "df_prep['A1Cresult'] = df_prep['A1Cresult'].replace('None', -99)\n",
    "df_prep['max_glu_serum'] = df_prep['max_glu_serum'].replace('>200', 1)\n",
    "df_prep['max_glu_serum'] = df_prep['max_glu_serum'].replace('>300', 1)\n",
    "df_prep['max_glu_serum'] = df_prep['max_glu_serum'].replace('Norm', 0)\n",
    "df_prep['max_glu_serum'] = df_prep['max_glu_serum'].replace('None', -99)"
   ]
  },
  {
   "cell_type": "markdown",
   "metadata": {},
   "source": [
    "Age mapping"
   ]
  },
  {
   "cell_type": "code",
   "execution_count": 10,
   "metadata": {},
   "outputs": [
    {
     "name": "stdout",
     "output_type": "stream",
     "text": [
      "[ 9  8  6  5  7 10  4  2  3  1]\n"
     ]
    }
   ],
   "source": [
    "# mapping\n",
    "age_map = {'[0-10)':1, '[10-20)':2, '[20-30)':3, '[30-40)':4, '[40-50)':5, '[50-60)':6, '[60-70)':7, '[70-80)':8, '[80-90)':9, '[90-100)':10}\n",
    "#print(age_map)\n",
    "df_prep['age'] = df_prep['age'].map(age_map)\n",
    "print(df_prep['age'].unique())"
   ]
  },
  {
   "cell_type": "code",
   "execution_count": 11,
   "metadata": {},
   "outputs": [
    {
     "name": "stdout",
     "output_type": "stream",
     "text": [
      "[1 3 5 2 4]\n"
     ]
    }
   ],
   "source": [
    "# mapping\n",
    "race_map = {'AfricanAmerican':1, 'Asian':2, 'Caucasian':3, 'Hispanic':4, 'Other':5}\n",
    "#print(age_map)\n",
    "df_prep['race'] = df_prep['race'].map(race_map)\n",
    "print(df_prep['race'].unique())"
   ]
  },
  {
   "cell_type": "markdown",
   "metadata": {},
   "source": [
    "Consider dropping for medical_specialty for missing a lot of information, and it may not affect to our predictive model. \n",
    "Dropping race because it doesn't help in predictive model"
   ]
  },
  {
   "cell_type": "code",
   "execution_count": 12,
   "metadata": {},
   "outputs": [],
   "source": [
    "df_prep = df_prep.drop(['medical_specialty'], axis = 1)"
   ]
  },
  {
   "cell_type": "code",
   "execution_count": 13,
   "metadata": {},
   "outputs": [
    {
     "data": {
      "text/html": [
       "<div>\n",
       "<style scoped>\n",
       "    .dataframe tbody tr th:only-of-type {\n",
       "        vertical-align: middle;\n",
       "    }\n",
       "\n",
       "    .dataframe tbody tr th {\n",
       "        vertical-align: top;\n",
       "    }\n",
       "\n",
       "    .dataframe thead th {\n",
       "        text-align: right;\n",
       "    }\n",
       "</style>\n",
       "<table border=\"1\" class=\"dataframe\">\n",
       "  <thead>\n",
       "    <tr style=\"text-align: right;\">\n",
       "      <th></th>\n",
       "      <th>0</th>\n",
       "      <th>1</th>\n",
       "      <th>2</th>\n",
       "      <th>3</th>\n",
       "      <th>4</th>\n",
       "    </tr>\n",
       "  </thead>\n",
       "  <tbody>\n",
       "    <tr>\n",
       "      <th>race</th>\n",
       "      <td>1.0</td>\n",
       "      <td>3.0</td>\n",
       "      <td>3.0</td>\n",
       "      <td>1.0</td>\n",
       "      <td>1.0</td>\n",
       "    </tr>\n",
       "    <tr>\n",
       "      <th>gender</th>\n",
       "      <td>0.0</td>\n",
       "      <td>0.0</td>\n",
       "      <td>0.0</td>\n",
       "      <td>0.0</td>\n",
       "      <td>1.0</td>\n",
       "    </tr>\n",
       "    <tr>\n",
       "      <th>age</th>\n",
       "      <td>9.0</td>\n",
       "      <td>8.0</td>\n",
       "      <td>6.0</td>\n",
       "      <td>6.0</td>\n",
       "      <td>9.0</td>\n",
       "    </tr>\n",
       "    <tr>\n",
       "      <th>admission_type_id</th>\n",
       "      <td>1.0</td>\n",
       "      <td>1.0</td>\n",
       "      <td>3.0</td>\n",
       "      <td>1.0</td>\n",
       "      <td>1.0</td>\n",
       "    </tr>\n",
       "    <tr>\n",
       "      <th>discharge_disposition_id</th>\n",
       "      <td>3.0</td>\n",
       "      <td>3.0</td>\n",
       "      <td>1.0</td>\n",
       "      <td>1.0</td>\n",
       "      <td>3.0</td>\n",
       "    </tr>\n",
       "    <tr>\n",
       "      <th>admission_source_id</th>\n",
       "      <td>7.0</td>\n",
       "      <td>5.0</td>\n",
       "      <td>1.0</td>\n",
       "      <td>7.0</td>\n",
       "      <td>7.0</td>\n",
       "    </tr>\n",
       "    <tr>\n",
       "      <th>time_in_hospital</th>\n",
       "      <td>1.0</td>\n",
       "      <td>3.0</td>\n",
       "      <td>3.0</td>\n",
       "      <td>6.0</td>\n",
       "      <td>4.0</td>\n",
       "    </tr>\n",
       "    <tr>\n",
       "      <th>num_lab_procedures</th>\n",
       "      <td>33.0</td>\n",
       "      <td>48.0</td>\n",
       "      <td>25.0</td>\n",
       "      <td>41.0</td>\n",
       "      <td>22.0</td>\n",
       "    </tr>\n",
       "    <tr>\n",
       "      <th>num_procedures</th>\n",
       "      <td>0.0</td>\n",
       "      <td>2.0</td>\n",
       "      <td>1.0</td>\n",
       "      <td>0.0</td>\n",
       "      <td>0.0</td>\n",
       "    </tr>\n",
       "    <tr>\n",
       "      <th>num_medications</th>\n",
       "      <td>14.0</td>\n",
       "      <td>7.0</td>\n",
       "      <td>15.0</td>\n",
       "      <td>19.0</td>\n",
       "      <td>12.0</td>\n",
       "    </tr>\n",
       "    <tr>\n",
       "      <th>number_outpatient</th>\n",
       "      <td>0.0</td>\n",
       "      <td>0.0</td>\n",
       "      <td>0.0</td>\n",
       "      <td>0.0</td>\n",
       "      <td>0.0</td>\n",
       "    </tr>\n",
       "    <tr>\n",
       "      <th>number_emergency</th>\n",
       "      <td>1.0</td>\n",
       "      <td>0.0</td>\n",
       "      <td>0.0</td>\n",
       "      <td>0.0</td>\n",
       "      <td>0.0</td>\n",
       "    </tr>\n",
       "    <tr>\n",
       "      <th>number_inpatient</th>\n",
       "      <td>1.0</td>\n",
       "      <td>2.0</td>\n",
       "      <td>0.0</td>\n",
       "      <td>0.0</td>\n",
       "      <td>1.0</td>\n",
       "    </tr>\n",
       "    <tr>\n",
       "      <th>number_diagnoses</th>\n",
       "      <td>9.0</td>\n",
       "      <td>9.0</td>\n",
       "      <td>8.0</td>\n",
       "      <td>9.0</td>\n",
       "      <td>8.0</td>\n",
       "    </tr>\n",
       "    <tr>\n",
       "      <th>max_glu_serum</th>\n",
       "      <td>-99.0</td>\n",
       "      <td>-99.0</td>\n",
       "      <td>-99.0</td>\n",
       "      <td>-99.0</td>\n",
       "      <td>-99.0</td>\n",
       "    </tr>\n",
       "    <tr>\n",
       "      <th>A1Cresult</th>\n",
       "      <td>-99.0</td>\n",
       "      <td>-99.0</td>\n",
       "      <td>-99.0</td>\n",
       "      <td>-99.0</td>\n",
       "      <td>-99.0</td>\n",
       "    </tr>\n",
       "    <tr>\n",
       "      <th>metformin</th>\n",
       "      <td>0.0</td>\n",
       "      <td>0.0</td>\n",
       "      <td>0.0</td>\n",
       "      <td>0.0</td>\n",
       "      <td>0.0</td>\n",
       "    </tr>\n",
       "    <tr>\n",
       "      <th>repaglinide</th>\n",
       "      <td>0.0</td>\n",
       "      <td>0.0</td>\n",
       "      <td>0.0</td>\n",
       "      <td>0.0</td>\n",
       "      <td>0.0</td>\n",
       "    </tr>\n",
       "    <tr>\n",
       "      <th>nateglinide</th>\n",
       "      <td>0.0</td>\n",
       "      <td>0.0</td>\n",
       "      <td>0.0</td>\n",
       "      <td>0.0</td>\n",
       "      <td>0.0</td>\n",
       "    </tr>\n",
       "    <tr>\n",
       "      <th>chlorpropamide</th>\n",
       "      <td>0.0</td>\n",
       "      <td>0.0</td>\n",
       "      <td>0.0</td>\n",
       "      <td>0.0</td>\n",
       "      <td>0.0</td>\n",
       "    </tr>\n",
       "    <tr>\n",
       "      <th>glimepiride</th>\n",
       "      <td>0.0</td>\n",
       "      <td>0.0</td>\n",
       "      <td>0.0</td>\n",
       "      <td>0.0</td>\n",
       "      <td>0.0</td>\n",
       "    </tr>\n",
       "    <tr>\n",
       "      <th>acetohexamide</th>\n",
       "      <td>0.0</td>\n",
       "      <td>0.0</td>\n",
       "      <td>0.0</td>\n",
       "      <td>0.0</td>\n",
       "      <td>0.0</td>\n",
       "    </tr>\n",
       "    <tr>\n",
       "      <th>glipizide</th>\n",
       "      <td>0.0</td>\n",
       "      <td>0.0</td>\n",
       "      <td>0.0</td>\n",
       "      <td>0.0</td>\n",
       "      <td>0.0</td>\n",
       "    </tr>\n",
       "    <tr>\n",
       "      <th>glyburide</th>\n",
       "      <td>0.0</td>\n",
       "      <td>0.0</td>\n",
       "      <td>0.0</td>\n",
       "      <td>0.0</td>\n",
       "      <td>0.0</td>\n",
       "    </tr>\n",
       "    <tr>\n",
       "      <th>tolbutamide</th>\n",
       "      <td>0.0</td>\n",
       "      <td>0.0</td>\n",
       "      <td>0.0</td>\n",
       "      <td>0.0</td>\n",
       "      <td>0.0</td>\n",
       "    </tr>\n",
       "    <tr>\n",
       "      <th>insulin</th>\n",
       "      <td>1.0</td>\n",
       "      <td>1.0</td>\n",
       "      <td>1.0</td>\n",
       "      <td>1.0</td>\n",
       "      <td>1.0</td>\n",
       "    </tr>\n",
       "    <tr>\n",
       "      <th>change</th>\n",
       "      <td>0.0</td>\n",
       "      <td>0.0</td>\n",
       "      <td>0.0</td>\n",
       "      <td>0.0</td>\n",
       "      <td>0.0</td>\n",
       "    </tr>\n",
       "    <tr>\n",
       "      <th>diabetesMed</th>\n",
       "      <td>1.0</td>\n",
       "      <td>1.0</td>\n",
       "      <td>1.0</td>\n",
       "      <td>1.0</td>\n",
       "      <td>1.0</td>\n",
       "    </tr>\n",
       "    <tr>\n",
       "      <th>readmitted</th>\n",
       "      <td>1.0</td>\n",
       "      <td>1.0</td>\n",
       "      <td>0.0</td>\n",
       "      <td>1.0</td>\n",
       "      <td>1.0</td>\n",
       "    </tr>\n",
       "    <tr>\n",
       "      <th>medchange</th>\n",
       "      <td>0.0</td>\n",
       "      <td>0.0</td>\n",
       "      <td>0.0</td>\n",
       "      <td>0.0</td>\n",
       "      <td>0.0</td>\n",
       "    </tr>\n",
       "  </tbody>\n",
       "</table>\n",
       "</div>"
      ],
      "text/plain": [
       "                             0     1     2     3     4\n",
       "race                       1.0   3.0   3.0   1.0   1.0\n",
       "gender                     0.0   0.0   0.0   0.0   1.0\n",
       "age                        9.0   8.0   6.0   6.0   9.0\n",
       "admission_type_id          1.0   1.0   3.0   1.0   1.0\n",
       "discharge_disposition_id   3.0   3.0   1.0   1.0   3.0\n",
       "admission_source_id        7.0   5.0   1.0   7.0   7.0\n",
       "time_in_hospital           1.0   3.0   3.0   6.0   4.0\n",
       "num_lab_procedures        33.0  48.0  25.0  41.0  22.0\n",
       "num_procedures             0.0   2.0   1.0   0.0   0.0\n",
       "num_medications           14.0   7.0  15.0  19.0  12.0\n",
       "number_outpatient          0.0   0.0   0.0   0.0   0.0\n",
       "number_emergency           1.0   0.0   0.0   0.0   0.0\n",
       "number_inpatient           1.0   2.0   0.0   0.0   1.0\n",
       "number_diagnoses           9.0   9.0   8.0   9.0   8.0\n",
       "max_glu_serum            -99.0 -99.0 -99.0 -99.0 -99.0\n",
       "A1Cresult                -99.0 -99.0 -99.0 -99.0 -99.0\n",
       "metformin                  0.0   0.0   0.0   0.0   0.0\n",
       "repaglinide                0.0   0.0   0.0   0.0   0.0\n",
       "nateglinide                0.0   0.0   0.0   0.0   0.0\n",
       "chlorpropamide             0.0   0.0   0.0   0.0   0.0\n",
       "glimepiride                0.0   0.0   0.0   0.0   0.0\n",
       "acetohexamide              0.0   0.0   0.0   0.0   0.0\n",
       "glipizide                  0.0   0.0   0.0   0.0   0.0\n",
       "glyburide                  0.0   0.0   0.0   0.0   0.0\n",
       "tolbutamide                0.0   0.0   0.0   0.0   0.0\n",
       "insulin                    1.0   1.0   1.0   1.0   1.0\n",
       "change                     0.0   0.0   0.0   0.0   0.0\n",
       "diabetesMed                1.0   1.0   1.0   1.0   1.0\n",
       "readmitted                 1.0   1.0   0.0   1.0   1.0\n",
       "medchange                  0.0   0.0   0.0   0.0   0.0"
      ]
     },
     "execution_count": 13,
     "metadata": {},
     "output_type": "execute_result"
    }
   ],
   "source": [
    "df_prep.head().T"
   ]
  },
  {
   "cell_type": "code",
   "execution_count": 14,
   "metadata": {},
   "outputs": [
    {
     "data": {
      "text/plain": [
       "race                          int64\n",
       "gender                        int64\n",
       "age                           int64\n",
       "admission_type_id             int64\n",
       "discharge_disposition_id      int64\n",
       "admission_source_id           int64\n",
       "time_in_hospital              int64\n",
       "num_lab_procedures            int64\n",
       "num_procedures                int64\n",
       "num_medications               int64\n",
       "number_outpatient             int64\n",
       "number_emergency              int64\n",
       "number_inpatient              int64\n",
       "number_diagnoses              int64\n",
       "max_glu_serum                 int64\n",
       "A1Cresult                     int64\n",
       "metformin                     int64\n",
       "repaglinide                   int64\n",
       "nateglinide                   int64\n",
       "chlorpropamide                int64\n",
       "glimepiride                   int64\n",
       "acetohexamide                 int64\n",
       "glipizide                     int64\n",
       "glyburide                     int64\n",
       "tolbutamide                   int64\n",
       "insulin                       int64\n",
       "change                      float64\n",
       "diabetesMed                 float64\n",
       "readmitted                    int64\n",
       "medchange                     int64\n",
       "dtype: object"
      ]
     },
     "execution_count": 14,
     "metadata": {},
     "output_type": "execute_result"
    }
   ],
   "source": [
    "df_prep.dtypes"
   ]
  },
  {
   "cell_type": "code",
   "execution_count": 15,
   "metadata": {},
   "outputs": [],
   "source": [
    "from sklearn.model_selection import train_test_split\n",
    "\n",
    "def data_prep(df_prep):\n",
    "    # one-hot encoding\n",
    "    df = pd.get_dummies(df_prep)\n",
    "    \n",
    "    # target/input split\n",
    "    y = df['readmitted']\n",
    "    X = df.drop(['readmitted'], axis=1)\n",
    "\n",
    "    # setting random state\n",
    "    rs = 10\n",
    "\n",
    "    X_mat = X.to_numpy()\n",
    "    X_train, X_test, y_train, y_test = train_test_split(X_mat, y, test_size=0.3, stratify=y, random_state=rs)\n",
    "    \n",
    "    return df,X,y,X_train, X_test, y_train, y_test"
   ]
  },
  {
   "cell_type": "code",
   "execution_count": 16,
   "metadata": {},
   "outputs": [
    {
     "name": "stdout",
     "output_type": "stream",
     "text": [
      "readmitted\n"
     ]
    }
   ],
   "source": [
    "df,X,y,X_train, X_test, y_train, y_test = data_prep(df_prep)\n",
    "print(df.columns[28])"
   ]
  },
  {
   "cell_type": "code",
   "execution_count": 17,
   "metadata": {},
   "outputs": [],
   "source": [
    "#X_mat = X.to_numpy()"
   ]
  },
  {
   "cell_type": "markdown",
   "metadata": {},
   "source": [
    "## 2. Building the first logistic regression model <a name=\"build\"></a>\n",
    "\n",
    "### 2.1. Standardisation"
   ]
  },
  {
   "cell_type": "code",
   "execution_count": 18,
   "metadata": {},
   "outputs": [
    {
     "name": "stdout",
     "output_type": "stream",
     "text": [
      "Before scaling\n",
      "-------------\n",
      "Variable #0: min 1.0, max 5.0, mean 2.73 and std dev 0.81\n",
      "Variable #1: min 0.0, max 1.0, mean 0.46 and std dev 0.50\n",
      "Variable #2: min 1.0, max 10.0, mean 7.18 and std dev 1.57\n",
      "Variable #3: min 1.0, max 8.0, mean 1.81 and std dev 1.21\n",
      "Variable #4: min 1.0, max 28.0, mean 3.18 and std dev 4.35\n",
      "After scaling\n",
      "-------------\n",
      "Variable #0: min -2.131860544576406, max 2.7972967839239544, mean 0.00 and std dev 1.00\n",
      "Variable #1: min -0.92348913710008, max 1.0828497703178466, mean -0.00 and std dev 1.00\n",
      "Variable #2: min -3.939541810142892, max 1.7974560757140987, mean 0.00 and std dev 1.00\n",
      "Variable #3: min -0.6710221875474691, max 5.125890222506477, mean 0.00 and std dev 1.00\n",
      "Variable #4: min -0.5018574673834632, max 5.708314486358282, mean 0.00 and std dev 1.00\n"
     ]
    }
   ],
   "source": [
    "from sklearn.preprocessing import StandardScaler\n",
    "\n",
    "# initialise a standard scaler object\n",
    "scaler = StandardScaler()\n",
    "\n",
    "# visualise min, max, mean and standard dev of data before scaling\n",
    "print(\"Before scaling\\n-------------\")\n",
    "for i in range(5):\n",
    "    col = X_train[:,i]\n",
    "    print(\"Variable #{}: min {}, max {}, mean {:.2f} and std dev {:.2f}\".\n",
    "          format(i, min(col), max(col), np.mean(col), np.std(col)))\n",
    "\n",
    "# learn the mean and std.dev of variables from training data\n",
    "# then use the learned values to transform training data\n",
    "X_train = scaler.fit_transform(X_train, y_train)\n",
    "\n",
    "print(\"After scaling\\n-------------\")\n",
    "for i in range(5):\n",
    "    col = X_train[:,i]\n",
    "    print(\"Variable #{}: min {}, max {}, mean {:.2f} and std dev {:.2f}\".\n",
    "          format(i, min(col), max(col), np.mean(col), np.std(col)))\n",
    "\n",
    "# use the statistic that you learned from training to transform test data\n",
    "# NEVER learn from test data, this is supposed to be a set of dataset\n",
    "# that the model has never seen before\n",
    "X_test = scaler.transform(X_test)"
   ]
  },
  {
   "cell_type": "markdown",
   "metadata": {},
   "source": [
    "### 2.2. Training logistic regression"
   ]
  },
  {
   "cell_type": "code",
   "execution_count": 19,
   "metadata": {},
   "outputs": [],
   "source": [
    "from sklearn.linear_model import LogisticRegression"
   ]
  },
  {
   "cell_type": "code",
   "execution_count": 20,
   "metadata": {},
   "outputs": [
    {
     "data": {
      "text/plain": [
       "LogisticRegression(C=1.0, class_weight=None, dual=False, fit_intercept=True,\n",
       "                   intercept_scaling=1, l1_ratio=None, max_iter=100,\n",
       "                   multi_class='auto', n_jobs=None, penalty='l2',\n",
       "                   random_state=10, solver='lbfgs', tol=0.0001, verbose=0,\n",
       "                   warm_start=False)"
      ]
     },
     "execution_count": 20,
     "metadata": {},
     "output_type": "execute_result"
    }
   ],
   "source": [
    "rs = 10\n",
    "model_default = LogisticRegression(random_state=rs)\n",
    "\n",
    "# fit it to training data\n",
    "model_default.fit(X_train, y_train)"
   ]
  },
  {
   "cell_type": "code",
   "execution_count": 21,
   "metadata": {},
   "outputs": [
    {
     "name": "stdout",
     "output_type": "stream",
     "text": [
      "Train accuracy: 0.6315\n",
      "Test accuracy: 0.6238333333333334\n",
      "              precision    recall  f1-score   support\n",
      "\n",
      "           0       0.62      0.78      0.69      3203\n",
      "           1       0.64      0.44      0.52      2797\n",
      "\n",
      "    accuracy                           0.62      6000\n",
      "   macro avg       0.63      0.61      0.61      6000\n",
      "weighted avg       0.63      0.62      0.61      6000\n",
      "\n"
     ]
    }
   ],
   "source": [
    "# training and test accuracy\n",
    "print(\"Train accuracy:\", model_default.score(X_train, y_train))\n",
    "print(\"Test accuracy:\", model_default.score(X_test, y_test))\n",
    "\n",
    "# classification report on test data\n",
    "y_pred = model_default.predict(X_test)\n",
    "print(classification_report(y_test, y_pred))"
   ]
  },
  {
   "cell_type": "markdown",
   "metadata": {},
   "source": [
    "## 3. Understanding the logistic regression model"
   ]
  },
  {
   "cell_type": "code",
   "execution_count": 22,
   "metadata": {},
   "outputs": [
    {
     "name": "stdout",
     "output_type": "stream",
     "text": [
      "[[ 0.02808085 -0.00367593  0.07022501 -0.06366601 -0.0739621   0.01823718\n",
      "  -0.01358197  0.01155575 -0.07904625  0.10904082  0.16287406  0.22202603\n",
      "   0.52983428  0.082577    0.07570475 -0.00274079 -0.1061166   0.0105743\n",
      "  -0.02144048  0.02102291 -0.02700549  0.         -0.01834765  0.00199773\n",
      "   0.         -0.14301422  0.05868946  0.20848896  0.06592545]]\n"
     ]
    }
   ],
   "source": [
    "print(model_default.coef_)"
   ]
  },
  {
   "cell_type": "code",
   "execution_count": 45,
   "metadata": {},
   "outputs": [
    {
     "name": "stdout",
     "output_type": "stream",
     "text": [
      "race : 0.02808084698402081\n",
      "gender : -0.003675927018971539\n",
      "age : 0.0702250099575811\n",
      "admission_type_id : -0.06366601074207313\n",
      "discharge_disposition_id : -0.07396209662804318\n",
      "admission_source_id : 0.018237183172673317\n",
      "time_in_hospital : -0.013581966918439986\n",
      "num_lab_procedures : 0.011555745526415234\n",
      "num_procedures : -0.0790462485603156\n",
      "num_medications : 0.10904081674202597\n",
      "number_outpatient : 0.16287406444903302\n",
      "number_emergency : 0.2220260280466283\n",
      "number_inpatient : 0.5298342843881186\n",
      "number_diagnoses : 0.08257699862863763\n",
      "max_glu_serum : 0.0757047468638935\n",
      "A1Cresult : -0.0027407855219878452\n",
      "metformin : -0.10611660140902358\n",
      "repaglinide : 0.01057429950803439\n",
      "nateglinide : -0.021440476544603692\n",
      "chlorpropamide : 0.021022907770855633\n",
      "glimepiride : -0.027005486191670935\n",
      "acetohexamide : 0.0\n",
      "glipizide : -0.018347650108941297\n",
      "glyburide : 0.0019977262916150815\n",
      "tolbutamide : 0.0\n",
      "insulin : -0.1430142205956066\n",
      "change : 0.05868945983423365\n",
      "diabetesMed : 0.20848896140684986\n",
      "medchange : 0.06592544661390612\n"
     ]
    }
   ],
   "source": [
    "feature_names = X.columns\n",
    "coef = model_default.coef_[0]\n",
    "\n",
    "# limit to 30 features, you can comment the following line to print out everything\n",
    "coef = coef[:30]\n",
    "\n",
    "for i in range(len(coef)):\n",
    "    print(feature_names[i], ':', coef[i])"
   ]
  },
  {
   "cell_type": "code",
   "execution_count": 47,
   "metadata": {},
   "outputs": [
    {
     "name": "stdout",
     "output_type": "stream",
     "text": [
      "number_inpatient : 0.5298342843881186\n",
      "number_emergency : 0.2220260280466283\n",
      "diabetesMed : 0.20848896140684986\n",
      "number_outpatient : 0.16287406444903302\n",
      "insulin : -0.1430142205956066\n",
      "num_medications : 0.10904081674202597\n",
      "metformin : -0.10611660140902358\n",
      "number_diagnoses : 0.08257699862863763\n",
      "num_procedures : -0.0790462485603156\n",
      "max_glu_serum : 0.0757047468638935\n",
      "discharge_disposition_id : -0.07396209662804318\n",
      "age : 0.0702250099575811\n",
      "medchange : 0.06592544661390612\n",
      "admission_type_id : -0.06366601074207313\n",
      "change : 0.05868945983423365\n",
      "race : 0.02808084698402081\n",
      "glimepiride : -0.027005486191670935\n",
      "nateglinide : -0.021440476544603692\n",
      "chlorpropamide : 0.021022907770855633\n",
      "glipizide : -0.018347650108941297\n",
      "admission_source_id : 0.018237183172673317\n",
      "time_in_hospital : -0.013581966918439986\n",
      "num_lab_procedures : 0.011555745526415234\n",
      "repaglinide : 0.01057429950803439\n",
      "gender : -0.003675927018971539\n",
      "A1Cresult : -0.0027407855219878452\n",
      "glyburide : 0.0019977262916150815\n",
      "acetohexamide : 0.0\n",
      "tolbutamide : 0.0\n"
     ]
    }
   ],
   "source": [
    "# grab feature importances from the model and feature name from the original X\n",
    "coef = model_default.coef_[0]\n",
    "feature_names = X.columns\n",
    "\n",
    "# sort them out in descending order\n",
    "indices = np.argsort(np.absolute(coef))\n",
    "indices = np.flip(indices, axis=0)\n",
    "\n",
    "# limit to 30 features, you can leave this out to print out everything\n",
    "indices = indices[:30]\n",
    "\n",
    "for i in indices:\n",
    "    print(feature_names[i], ':', coef[i])"
   ]
  },
  {
   "cell_type": "markdown",
   "metadata": {},
   "source": [
    "Based on this output, the top-3 important variables in this model are number_inpatient, number_emergency, and diabetesMed. The ordering of important variables may differ different between models."
   ]
  },
  {
   "cell_type": "markdown",
   "metadata": {},
   "source": [
    "## 4. Finding optimal hyperparameters with GridSearchCV "
   ]
  },
  {
   "cell_type": "code",
   "execution_count": 25,
   "metadata": {},
   "outputs": [
    {
     "data": {
      "text/plain": [
       "GridSearchCV(cv=10, error_score=nan,\n",
       "             estimator=LogisticRegression(C=1.0, class_weight=None, dual=False,\n",
       "                                          fit_intercept=True,\n",
       "                                          intercept_scaling=1, l1_ratio=None,\n",
       "                                          max_iter=100, multi_class='auto',\n",
       "                                          n_jobs=None, penalty='l2',\n",
       "                                          random_state=10, solver='lbfgs',\n",
       "                                          tol=0.0001, verbose=0,\n",
       "                                          warm_start=False),\n",
       "             iid='deprecated', n_jobs=-1,\n",
       "             param_grid={'C': [1e-06, 1e-05, 0.0001, 0.001, 0.01, 0.1, 1, 10,\n",
       "                               100, 1000]},\n",
       "             pre_dispatch='2*n_jobs', refit=True, return_train_score=True,\n",
       "             scoring=None, verbose=0)"
      ]
     },
     "execution_count": 25,
     "metadata": {},
     "output_type": "execute_result"
    }
   ],
   "source": [
    "# grid search CV\n",
    "params = {'C': [pow(10, x) for x in range(-6, 4)]}\n",
    "\n",
    "# use all cores to tune logistic regression with C parameter\n",
    "model_cv = GridSearchCV(param_grid=params, estimator=LogisticRegression(random_state=rs),return_train_score=True, cv=10, n_jobs=-1)\n",
    "model_cv.fit(X_train, y_train)"
   ]
  },
  {
   "cell_type": "code",
   "execution_count": 26,
   "metadata": {},
   "outputs": [
    {
     "name": "stdout",
     "output_type": "stream",
     "text": [
      "{'mean_fit_time': array([0.02256947, 0.01783247, 0.02285666, 0.02430975, 0.02727585,\n",
      "       0.0282465 , 0.03324835, 0.03193669, 0.03495421, 0.02925446]), 'std_fit_time': array([0.00764174, 0.00207733, 0.0090119 , 0.00764868, 0.00526779,\n",
      "       0.0046773 , 0.01004775, 0.00544678, 0.01402888, 0.00751479]), 'mean_score_time': array([0.00093138, 0.00070043, 0.00083365, 0.00092626, 0.00059986,\n",
      "       0.00069542, 0.00075204, 0.00070128, 0.00080035, 0.0009136 ]), 'std_score_time': array([0.00049114, 0.00045854, 0.00042861, 0.00031883, 0.00048979,\n",
      "       0.00063827, 0.00040345, 0.00064087, 0.00040018, 0.00054256]), 'param_C': masked_array(data=[1e-06, 1e-05, 0.0001, 0.001, 0.01, 0.1, 1, 10, 100,\n",
      "                   1000],\n",
      "             mask=[False, False, False, False, False, False, False, False,\n",
      "                   False, False],\n",
      "       fill_value='?',\n",
      "            dtype=object), 'params': [{'C': 1e-06}, {'C': 1e-05}, {'C': 0.0001}, {'C': 0.001}, {'C': 0.01}, {'C': 0.1}, {'C': 1}, {'C': 10}, {'C': 100}, {'C': 1000}], 'split0_test_score': array([0.53428571, 0.53642857, 0.59928571, 0.63357143, 0.63142857,\n",
      "       0.63142857, 0.63071429, 0.63071429, 0.63071429, 0.63071429]), 'split1_test_score': array([0.53428571, 0.53785714, 0.61214286, 0.62428571, 0.62785714,\n",
      "       0.62785714, 0.62714286, 0.62714286, 0.62714286, 0.62714286]), 'split2_test_score': array([0.53428571, 0.535     , 0.60285714, 0.61857143, 0.62285714,\n",
      "       0.62357143, 0.625     , 0.625     , 0.625     , 0.625     ]), 'split3_test_score': array([0.53428571, 0.53642857, 0.60142857, 0.63428571, 0.64357143,\n",
      "       0.64214286, 0.64214286, 0.64214286, 0.64214286, 0.64214286]), 'split4_test_score': array([0.53357143, 0.53642857, 0.60357143, 0.62571429, 0.63      ,\n",
      "       0.63071429, 0.63071429, 0.63071429, 0.63071429, 0.63071429]), 'split5_test_score': array([0.53357143, 0.53428571, 0.58857143, 0.59857143, 0.60571429,\n",
      "       0.60714286, 0.60642857, 0.60642857, 0.60642857, 0.60642857]), 'split6_test_score': array([0.53357143, 0.535     , 0.59      , 0.60428571, 0.61785714,\n",
      "       0.61785714, 0.61857143, 0.61857143, 0.61857143, 0.61857143]), 'split7_test_score': array([0.53357143, 0.53642857, 0.61357143, 0.63928571, 0.64142857,\n",
      "       0.64285714, 0.64214286, 0.64214286, 0.64214286, 0.64214286]), 'split8_test_score': array([0.53357143, 0.53642857, 0.61357143, 0.64428571, 0.64928571,\n",
      "       0.65142857, 0.65142857, 0.65142857, 0.65142857, 0.65142857]), 'split9_test_score': array([0.53357143, 0.535     , 0.61428571, 0.62857143, 0.62642857,\n",
      "       0.62642857, 0.62571429, 0.62571429, 0.62571429, 0.62571429]), 'mean_test_score': array([0.53385714, 0.53592857, 0.60392857, 0.62514286, 0.62964286,\n",
      "       0.63014286, 0.63      , 0.63      , 0.63      , 0.63      ]), 'std_test_score': array([0.00034993, 0.00101267, 0.00905341, 0.01384978, 0.0122193 ,\n",
      "       0.01225911, 0.01221825, 0.01221825, 0.01221825, 0.01221825]), 'rank_test_score': array([10,  9,  8,  7,  6,  1,  2,  2,  2,  2]), 'split0_train_score': array([0.53380952, 0.53626984, 0.60603175, 0.62642857, 0.62984127,\n",
      "       0.63079365, 0.63071429, 0.63063492, 0.63063492, 0.63063492]), 'split1_train_score': array([0.53380952, 0.53571429, 0.60444444, 0.62746032, 0.63198413,\n",
      "       0.63166667, 0.63166667, 0.63174603, 0.63174603, 0.63174603]), 'split2_train_score': array([0.53380952, 0.53650794, 0.60595238, 0.62547619, 0.63055556,\n",
      "       0.63126984, 0.63119048, 0.63111111, 0.63111111, 0.63111111]), 'split3_train_score': array([0.53380952, 0.53626984, 0.60563492, 0.62809524, 0.63126984,\n",
      "       0.63214286, 0.63190476, 0.6318254 , 0.6318254 , 0.6318254 ]), 'split4_train_score': array([0.53388889, 0.53611111, 0.60595238, 0.62833333, 0.63095238,\n",
      "       0.63071429, 0.63087302, 0.63071429, 0.63071429, 0.63071429]), 'split5_train_score': array([0.53388889, 0.5365873 , 0.60714286, 0.63031746, 0.63365079,\n",
      "       0.63388889, 0.63404762, 0.63404762, 0.63404762, 0.63404762]), 'split6_train_score': array([0.53388889, 0.53634921, 0.6068254 , 0.62920635, 0.63301587,\n",
      "       0.63357143, 0.63349206, 0.63333333, 0.63333333, 0.63333333]), 'split7_train_score': array([0.53388889, 0.53619048, 0.60452381, 0.62634921, 0.63039683,\n",
      "       0.63039683, 0.63031746, 0.63031746, 0.63031746, 0.63031746]), 'split8_train_score': array([0.53388889, 0.53587302, 0.60309524, 0.62571429, 0.62825397,\n",
      "       0.62928571, 0.62904762, 0.62904762, 0.62904762, 0.62904762]), 'split9_train_score': array([0.53388889, 0.53619048, 0.60373016, 0.62674603, 0.63111111,\n",
      "       0.63119048, 0.63142857, 0.63134921, 0.63134921, 0.63134921]), 'mean_train_score': array([0.53385714, 0.53620635, 0.60533333, 0.6274127 , 0.63110317,\n",
      "       0.63149206, 0.63146825, 0.6314127 , 0.6314127 , 0.6314127 ]), 'std_train_score': array([3.88807896e-05, 2.50471966e-04, 1.25978158e-03, 1.48825925e-03,\n",
      "       1.46576365e-03, 1.33503293e-03, 1.38434631e-03, 1.37455185e-03,\n",
      "       1.37455185e-03, 1.37455185e-03])}\n"
     ]
    }
   ],
   "source": [
    "result_set = model_cv.cv_results_\n",
    "print(result_set)"
   ]
  },
  {
   "cell_type": "code",
   "execution_count": 27,
   "metadata": {},
   "outputs": [
    {
     "name": "stdout",
     "output_type": "stream",
     "text": [
      "Total number of models:  10\n"
     ]
    },
    {
     "data": {
      "image/png": "[encoded data removed]",
      "text/plain": [
       "<Figure size 432x288 with 1 Axes>"
      ]
     },
     "metadata": {
      "needs_background": "light"
     },
     "output_type": "display_data"
    }
   ],
   "source": [
    "import matplotlib.pyplot as plt\n",
    "\n",
    "train_result = result_set['mean_train_score']\n",
    "test_result = result_set['mean_test_score']\n",
    "print(\"Total number of models: \", len(test_result))\n",
    "# plot Hyperparameter C values vs training and test accuracy score\n",
    "plt.plot(range(0, len(train_result)), train_result, 'b', range(0,len(test_result)), test_result, 'r')\n",
    "plt.xlabel('Hyperparameter C\\nBlue = training acc. Red = test acc.')\n",
    "plt.xticks(range(0, len(train_result)),[pow(10, x) for x in range(-6, 4)])\n",
    "plt.ylabel('score')\n",
    "plt.show()"
   ]
  },
  {
   "cell_type": "markdown",
   "metadata": {},
   "source": [
    "Overfitting????? Overfitting refers to a model that models the training data too well."
   ]
  },
  {
   "cell_type": "code",
   "execution_count": 28,
   "metadata": {},
   "outputs": [
    {
     "name": "stdout",
     "output_type": "stream",
     "text": [
      "{'C': 0.1}\n"
     ]
    }
   ],
   "source": [
    "print(model_cv.best_params_)"
   ]
  },
  {
   "cell_type": "code",
   "execution_count": 51,
   "metadata": {},
   "outputs": [
    {
     "name": "stdout",
     "output_type": "stream",
     "text": [
      "Train accuracy: 0.6313571428571428\n",
      "Test accuracy: 0.6236666666666667\n",
      "              precision    recall  f1-score   support\n",
      "\n",
      "           0       0.62      0.78      0.69      3203\n",
      "           1       0.64      0.44      0.52      2797\n",
      "\n",
      "    accuracy                           0.62      6000\n",
      "   macro avg       0.63      0.61      0.61      6000\n",
      "weighted avg       0.63      0.62      0.61      6000\n",
      "\n"
     ]
    }
   ],
   "source": [
    "model_cv.fit(X_train, y_train)\n",
    "\n",
    "print(\"Train accuracy:\", model_cv.score(X_train, y_train))\n",
    "print(\"Test accuracy:\", model_cv.score(X_test, y_test))\n",
    "\n",
    "# classification report on test data\n",
    "y_pred = model_cv.predict(X_test)\n",
    "print(classification_report(y_test, y_pred))"
   ]
  },
  {
   "cell_type": "markdown",
   "metadata": {},
   "source": [
    "Default:\n",
    "Train accuracy: 0.6315\n",
    "Test accuracy: 0.6238333333333334"
   ]
  },
  {
   "cell_type": "markdown",
   "metadata": {},
   "source": [
    "## 5. Feature selection. Reduce variables set"
   ]
  },
  {
   "cell_type": "code",
   "execution_count": 30,
   "metadata": {},
   "outputs": [
    {
     "name": "stdout",
     "output_type": "stream",
     "text": [
      "Original feature set 29\n",
      "Number of features after elimination 24\n"
     ]
    }
   ],
   "source": [
    "from sklearn.feature_selection import RFECV\n",
    "\n",
    "rfe = RFECV(estimator = LogisticRegression(random_state=rs), cv=10)\n",
    "rfe.fit(X_train, y_train) # run the RFECV\n",
    "\n",
    "# comparing how many variables before and after\n",
    "print(\"Original feature set\", X_train.shape[1])\n",
    "print(\"Number of features after elimination\", rfe.n_features_)"
   ]
  },
  {
   "cell_type": "code",
   "execution_count": 31,
   "metadata": {},
   "outputs": [],
   "source": [
    "X_train_sel = rfe.transform(X_train)\n",
    "X_test_sel = rfe.transform(X_test)"
   ]
  },
  {
   "cell_type": "code",
   "execution_count": 32,
   "metadata": {},
   "outputs": [
    {
     "name": "stdout",
     "output_type": "stream",
     "text": [
      "Train accuracy: 0.6310714285714286\n",
      "Test accuracy: 0.6243333333333333\n",
      "              precision    recall  f1-score   support\n",
      "\n",
      "           0       0.62      0.78      0.69      3203\n",
      "           1       0.64      0.44      0.52      2797\n",
      "\n",
      "    accuracy                           0.62      6000\n",
      "   macro avg       0.63      0.61      0.61      6000\n",
      "weighted avg       0.63      0.62      0.61      6000\n",
      "\n",
      "{'C': 1}\n"
     ]
    }
   ],
   "source": [
    "# grid search CV\n",
    "params = {'C': [pow(10, x) for x in range(-6, 4)]}\n",
    "\n",
    "rfe_cv = GridSearchCV(param_grid=params, estimator=LogisticRegression(random_state=rs), cv=10, n_jobs=-1)\n",
    "rfe_cv.fit(X_train_sel, y_train)\n",
    "\n",
    "# test the best model\n",
    "print(\"Train accuracy:\", rfe_cv.score(X_train_sel, y_train))\n",
    "print(\"Test accuracy:\", rfe_cv.score(X_test_sel, y_test))\n",
    "\n",
    "y_pred = rfe_cv.predict(X_test_sel)\n",
    "print(classification_report(y_test, y_pred))\n",
    "\n",
    "# print parameters of the best model\n",
    "print(rfe_cv.best_params_)"
   ]
  },
  {
   "cell_type": "markdown",
   "metadata": {},
   "source": [
    "Better Test Accuracy"
   ]
  },
  {
   "cell_type": "markdown",
   "metadata": {},
   "source": [
    "### 5.2. Feature selection using another model"
   ]
  },
  {
   "cell_type": "code",
   "execution_count": 37,
   "metadata": {},
   "outputs": [
    {
     "name": "stdout",
     "output_type": "stream",
     "text": [
      "{'criterion': 'entropy', 'max_depth': 7, 'min_samples_leaf': 5}\n"
     ]
    },
    {
     "name": "stderr",
     "output_type": "stream",
     "text": [
      "C:\\Users\\melan\\Anaconda3\\lib\\site-packages\\sklearn\\base.py:318: UserWarning: Trying to unpickle estimator DecisionTreeClassifier from version 1.0.2 when using version 0.22.1. This might lead to breaking code or invalid results. Use at your own risk.\n",
      "  UserWarning)\n",
      "C:\\Users\\melan\\Anaconda3\\lib\\site-packages\\sklearn\\base.py:318: UserWarning: Trying to unpickle estimator DecisionTreeClassifier from version 1.0.2 when using version 0.22.1. This might lead to breaking code or invalid results. Use at your own risk.\n",
      "  UserWarning)\n",
      "C:\\Users\\melan\\Anaconda3\\lib\\site-packages\\sklearn\\base.py:318: UserWarning: Trying to unpickle estimator GridSearchCV from version 1.0.2 when using version 0.22.1. This might lead to breaking code or invalid results. Use at your own risk.\n",
      "  UserWarning)\n"
     ]
    }
   ],
   "source": [
    "import pickle\n",
    "with open('DT.pickle', 'rb') as f:\n",
    "    dt_best,roc_index_dt_cv, fpr_dt_cv, tpr_dt_cv = pickle.load(f)\n",
    "#dt_best.fit(X_train, y_train)\n",
    "\n",
    "print(dt_best.best_params_)"
   ]
  },
  {
   "cell_type": "code",
   "execution_count": 38,
   "metadata": {},
   "outputs": [],
   "source": [
    "def analyse_feature_importance(dm_model, feature_names, n_to_display=20):\n",
    "    # grab feature importances from the model\n",
    "    importances = dm_model.feature_importances_\n",
    "    \n",
    "    # sort them out in descending order\n",
    "    indices = np.argsort(importances)\n",
    "    indices = np.flip(indices, axis=0)\n",
    "\n",
    "    # limit to 20 features, you can leave this out to print out everything\n",
    "    indices = indices[:n_to_display]\n",
    "\n",
    "    for i in indices:\n",
    "        print(feature_names[i], ':', importances[i])"
   ]
  },
  {
   "cell_type": "code",
   "execution_count": 39,
   "metadata": {},
   "outputs": [
    {
     "name": "stdout",
     "output_type": "stream",
     "text": [
      "number_inpatient : 0.4005671947482662\n",
      "discharge_disposition_id : 0.2121816212342166\n",
      "num_medications : 0.059717659342336867\n",
      "number_outpatient : 0.05271418368754671\n",
      "num_lab_procedures : 0.04889494148667172\n",
      "number_emergency : 0.04497064071219221\n",
      "age : 0.04153949690273319\n",
      "number_diagnoses : 0.03706415777910682\n",
      "num_procedures : 0.025511521183604283\n",
      "diabetesMed : 0.024034800772124873\n",
      "admission_type_id : 0.016034646171776697\n",
      "admission_source_id : 0.008797298358104312\n",
      "max_glu_serum : 0.007545570819704168\n",
      "time_in_hospital : 0.007110015085540592\n",
      "insulin : 0.005885247227054916\n",
      "glimepiride : 0.0029750370656327625\n",
      "race : 0.0024699323531357275\n",
      "change : 0.001235889553918729\n",
      "medchange : 0.0007501455163325166\n",
      "A1Cresult : 0.0\n"
     ]
    }
   ],
   "source": [
    "# analyse feature importance from the tuned decision tree\n",
    "analyse_feature_importance(dt_best.best_estimator_, X.columns)"
   ]
  },
  {
   "cell_type": "markdown",
   "metadata": {},
   "source": [
    "The output shows there are only 19 features with importance value more than 0. According to the tuned decision tree, there are only 19 important features in this dataset for prediction. This decision tree can be used to perform feature selection."
   ]
  },
  {
   "cell_type": "markdown",
   "metadata": {},
   "source": [
    "Based on this output, the top-3 important variables in this model are number_inpatient, discharge_disposition_id, and num_medications. The ordering of important variables may differ different between models."
   ]
  },
  {
   "cell_type": "code",
   "execution_count": 40,
   "metadata": {},
   "outputs": [
    {
     "name": "stdout",
     "output_type": "stream",
     "text": [
      "(14000, 8)\n"
     ]
    }
   ],
   "source": [
    "from sklearn.feature_selection import SelectFromModel\n",
    "\n",
    "# use the trained best decision tree from GridSearchCV to select features\n",
    "# supply the prefit=True parameter to stop SelectFromModel to re-train the model\n",
    "selectmodel = SelectFromModel(dt_best.best_estimator_, prefit=True)\n",
    "X_train_sel_model = selectmodel.transform(X_train)\n",
    "X_test_sel_model = selectmodel.transform(X_test)\n",
    "\n",
    "print(X_train_sel_model.shape)"
   ]
  },
  {
   "cell_type": "markdown",
   "metadata": {},
   "source": [
    "The shape of X_train shows that only 8 feature left what the decision tree suggests. Next, train and tune another logistic regression model from this new data set and see if it improves the performance."
   ]
  },
  {
   "cell_type": "code",
   "execution_count": 41,
   "metadata": {},
   "outputs": [
    {
     "name": "stdout",
     "output_type": "stream",
     "text": [
      "Train accuracy: 0.6242857142857143\n",
      "Test accuracy: 0.6211666666666666\n",
      "              precision    recall  f1-score   support\n",
      "\n",
      "           0       0.61      0.80      0.69      3203\n",
      "           1       0.65      0.41      0.50      2797\n",
      "\n",
      "    accuracy                           0.62      6000\n",
      "   macro avg       0.63      0.61      0.60      6000\n",
      "weighted avg       0.63      0.62      0.60      6000\n",
      "\n",
      "{'C': 10}\n"
     ]
    }
   ],
   "source": [
    "params = {'C': [pow(10, x) for x in range(-6, 4)]}\n",
    "\n",
    "### For the params given, build a logistic regression model with GridSearch.\n",
    "\n",
    "cv_sel_model = GridSearchCV(param_grid=params, estimator=LogisticRegression(random_state=rs), cv=10, n_jobs=-1)\n",
    "cv_sel_model.fit(X_train_sel_model, y_train)\n",
    "\n",
    "print(\"Train accuracy:\", cv_sel_model.score(X_train_sel_model, y_train))\n",
    "print(\"Test accuracy:\", cv_sel_model.score(X_test_sel_model, y_test))\n",
    "\n",
    "# test the best model\n",
    "y_pred = cv_sel_model.predict(X_test_sel_model)\n",
    "print(classification_report(y_test, y_pred))\n",
    "\n",
    "# print parameters of the best model\n",
    "print(cv_sel_model.best_params_)"
   ]
  },
  {
   "cell_type": "markdown",
   "metadata": {},
   "source": [
    "## 6. ROC"
   ]
  },
  {
   "cell_type": "code",
   "execution_count": 42,
   "metadata": {},
   "outputs": [
    {
     "name": "stdout",
     "output_type": "stream",
     "text": [
      "ROC index on test for DT_default: 0.6618884177563692\n",
      "ROC index on test for DT_cv: 0.6619040448649823\n",
      "ROC index on test for DT_rfe: 0.6618979056437414\n"
     ]
    }
   ],
   "source": [
    "from sklearn.metrics import roc_auc_score\n",
    "\n",
    "y_pred_proba_dt = model_default.predict_proba(X_test)\n",
    "y_pred_proba_dt_cv = model_cv.predict_proba(X_test)\n",
    "y_pred_proba_rfe = rfe.predict_proba(X_test)\n",
    "\n",
    "roc_index_dt = roc_auc_score(y_test, y_pred_proba_dt[:, 1])\n",
    "roc_index_dt_cv = roc_auc_score(y_test, y_pred_proba_dt_cv[:, 1])\n",
    "roc_index_dt_rfe = roc_auc_score(y_test, y_pred_proba_rfe[:, 1])\n",
    "\n",
    "print(\"ROC index on test for DT_default:\", roc_index_dt)\n",
    "print(\"ROC index on test for DT_cv:\", roc_index_dt_cv)\n",
    "print(\"ROC index on test for DT_rfe:\", roc_index_dt_rfe)"
   ]
  },
  {
   "cell_type": "code",
   "execution_count": 43,
   "metadata": {},
   "outputs": [],
   "source": [
    "from sklearn.metrics import roc_curve\n",
    "\n",
    "fpr_dt, tpr_dt, thresholds_dt = roc_curve(y_test, y_pred_proba_dt[:,1])\n",
    "fpr_dt_cv, tpr_dt_cv, thresholds_dt_cv = roc_curve(y_test, y_pred_proba_dt_cv[:,1])\n",
    "fpr_dt_rfe, tpr_dt_rfe, thresholds_dt_rfe = roc_curve(y_test, y_pred_proba_rfe[:,1])"
   ]
  },
  {
   "cell_type": "code",
   "execution_count": 44,
   "metadata": {},
   "outputs": [
    {
     "data": {
      "image/png": "[encoded data removed]",
      "text/plain": [
       "<Figure size 432x288 with 1 Axes>"
      ]
     },
     "metadata": {
      "needs_background": "light"
     },
     "output_type": "display_data"
    }
   ],
   "source": [
    "plt.plot(fpr_dt, tpr_dt, label='ROC Curve for DT_default {:.7f}'.format(roc_index_dt), color='red', lw=0.5)\n",
    "plt.plot(fpr_dt_cv, tpr_dt_cv, label='ROC Curve for DT_cv {:.7f}'.format(roc_index_dt_cv), color='blue', lw=0.5)\n",
    "plt.plot(fpr_dt_rfe, tpr_dt_rfe, label='ROC Curve for DT_rfe {:.7f}'.format(roc_index_dt_rfe), color='pink', lw=0.5)\n",
    "\n",
    "# plt.plot(fpr[2], tpr[2], color='darkorange',\n",
    "#          lw=lw, label='ROC curve (area = %0.2f)' % roc_auc[2])\n",
    "plt.plot([0, 1], [0, 1], color='navy', lw=0.5, linestyle='--')\n",
    "plt.xlim([0.0, 1.0])\n",
    "plt.ylim([0.0, 1.0])\n",
    "plt.xlabel('False Positive Rate')\n",
    "plt.ylabel('True Positive Rate')\n",
    "plt.title('Receiver operating characteristic example')\n",
    "plt.legend(loc=\"lower right\")\n",
    "plt.show()"
   ]
  },
  {
   "cell_type": "code",
   "execution_count": null,
   "metadata": {},
   "outputs": [],
   "source": []
  },
  {
   "cell_type": "code",
   "execution_count": null,
   "metadata": {},
   "outputs": [],
   "source": []
  }
 ],
 "metadata": {
  "kernelspec": {
   "display_name": "Python 3",
   "language": "python",
   "name": "python3"
  },
  "language_info": {
   "codemirror_mode": {
    "name": "ipython",
    "version": 3
   },
   "file_extension": ".py",
   "mimetype": "text/x-python",
   "name": "python",
   "nbconvert_exporter": "python",
   "pygments_lexer": "ipython3",
   "version": "3.7.3"
  },
  "vscode": {
   "interpreter": {
    "hash": "3bc1a11519d29b3ed6f08646f3ece60640217e649724c6bcfd38e1173c1a1bce"
   }
  }
 },
 "nbformat": 4,
 "nbformat_minor": 2
}
