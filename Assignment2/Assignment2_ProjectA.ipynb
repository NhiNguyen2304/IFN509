{
 "cells": [
  {
   "cell_type": "markdown",
   "metadata": {},
   "source": [
    "# Input Data"
   ]
  },
  {
   "cell_type": "code",
   "execution_count": 1,
   "metadata": {},
   "outputs": [],
   "source": [
    "import pandas as pd\n",
    "import numpy as np"
   ]
  },
  {
   "cell_type": "code",
   "execution_count": 2,
   "metadata": {},
   "outputs": [],
   "source": [
    "# CSV dataset file name\n",
    "file_name = 'D1.csv'"
   ]
  },
  {
   "cell_type": "code",
   "execution_count": 3,
   "metadata": {},
   "outputs": [],
   "source": [
    "# Please put csv file in the same folder with this jupyter notebook\n",
    "df = pd.read_csv(file_name)"
   ]
  },
  {
   "cell_type": "code",
   "execution_count": 4,
   "metadata": {},
   "outputs": [
    {
     "name": "stdout",
     "output_type": "stream",
     "text": [
      "<class 'pandas.core.frame.DataFrame'>\n",
      "RangeIndex: 131706 entries, 0 to 131705\n",
      "Data columns (total 7 columns):\n",
      "Date            131706 non-null object\n",
      "Customer_ID     131706 non-null int64\n",
      "Sales_ID        131706 non-null int64\n",
      "SKU_Category    131706 non-null object\n",
      "SKU             131706 non-null object\n",
      "Quantity        131706 non-null float64\n",
      "Sales_Amount    131706 non-null float64\n",
      "dtypes: float64(2), int64(2), object(3)\n",
      "memory usage: 7.0+ MB\n",
      "None\n"
     ]
    }
   ],
   "source": [
    "print(df.info())"
   ]
  },
  {
   "cell_type": "markdown",
   "metadata": {},
   "source": [
    "### Need to add first:\n",
    "-measures of relationships between variables to identify interestingness of relationship. This will allow us to provide more info on what to do in terms of association mining. \n",
    "-data appears clean on first glance. \n",
    "-data types appear appropriate on first glance\n",
    "-is there interestingness in the correlations in specific values?"
   ]
  },
  {
   "cell_type": "code",
   "execution_count": null,
   "metadata": {},
   "outputs": [],
   "source": []
  },
  {
   "cell_type": "code",
   "execution_count": 5,
   "metadata": {},
   "outputs": [
    {
     "name": "stdout",
     "output_type": "stream",
     "text": [
      "Customer_ID\n",
      "1                   [0H2, N8U]\n",
      "2                   [TVL, F9B]\n",
      "3              [LPF, TW8, TW8]\n",
      "4    [69B, YMJ, 29A, N8U, JR5]\n",
      "5    [P42, P42, P42, P42, LGI]\n",
      "Name: SKU_Category, dtype: object\n"
     ]
    }
   ],
   "source": [
    "#Remaining cells are Mel's version of using the tutorial 8 code with the assignment data. 13/9/22\n",
    "#group by account, then list all services\n",
    "transactions = df.groupby(['Customer_ID'])['SKU_Category'].apply(list)\n",
    "\n",
    "print(transactions.head(5))"
   ]
  },
  {
   "cell_type": "code",
   "execution_count": 6,
   "metadata": {},
   "outputs": [
    {
     "name": "stdout",
     "output_type": "stream",
     "text": [
      "[RelationRecord(items=frozenset({'0H2'}), support=0.1403756906077348, ordered_statistics=[OrderedStatistic(items_base=frozenset(), items_add=frozenset({'0H2'}), confidence=0.1403756906077348, lift=1.0)]), RelationRecord(items=frozenset({'1VL'}), support=0.06227624309392265, ordered_statistics=[OrderedStatistic(items_base=frozenset(), items_add=frozenset({'1VL'}), confidence=0.06227624309392265, lift=1.0)]), RelationRecord(items=frozenset({'29A'}), support=0.0976353591160221, ordered_statistics=[OrderedStatistic(items_base=frozenset(), items_add=frozenset({'29A'}), confidence=0.0976353591160221, lift=1.0)]), RelationRecord(items=frozenset({'2ML'}), support=0.0576353591160221, ordered_statistics=[OrderedStatistic(items_base=frozenset(), items_add=frozenset({'2ML'}), confidence=0.0576353591160221, lift=1.0)]), RelationRecord(items=frozenset({'8HU'}), support=0.058740331491712705, ordered_statistics=[OrderedStatistic(items_base=frozenset(), items_add=frozenset({'8HU'}), confidence=0.058740331491712705, lift=1.0)]), RelationRecord(items=frozenset({'FEW'}), support=0.09533701657458564, ordered_statistics=[OrderedStatistic(items_base=frozenset(), items_add=frozenset({'FEW'}), confidence=0.09533701657458564, lift=1.0)]), RelationRecord(items=frozenset({'FU5'}), support=0.0692596685082873, ordered_statistics=[OrderedStatistic(items_base=frozenset(), items_add=frozenset({'FU5'}), confidence=0.0692596685082873, lift=1.0)]), RelationRecord(items=frozenset({'H15'}), support=0.10161325966850829, ordered_statistics=[OrderedStatistic(items_base=frozenset(), items_add=frozenset({'H15'}), confidence=0.10161325966850829, lift=1.0)]), RelationRecord(items=frozenset({'IEV'}), support=0.10678453038674034, ordered_statistics=[OrderedStatistic(items_base=frozenset(), items_add=frozenset({'IEV'}), confidence=0.10678453038674034, lift=1.0)]), RelationRecord(items=frozenset({'J4R'}), support=0.06952486187845304, ordered_statistics=[OrderedStatistic(items_base=frozenset(), items_add=frozenset({'J4R'}), confidence=0.06952486187845304, lift=1.0)]), RelationRecord(items=frozenset({'JPI'}), support=0.059005524861878454, ordered_statistics=[OrderedStatistic(items_base=frozenset(), items_add=frozenset({'JPI'}), confidence=0.059005524861878454, lift=1.0)]), RelationRecord(items=frozenset({'LPF'}), support=0.12083977900552487, ordered_statistics=[OrderedStatistic(items_base=frozenset(), items_add=frozenset({'LPF'}), confidence=0.12083977900552487, lift=1.0)]), RelationRecord(items=frozenset({'LSD'}), support=0.06152486187845304, ordered_statistics=[OrderedStatistic(items_base=frozenset(), items_add=frozenset({'LSD'}), confidence=0.06152486187845304, lift=1.0)]), RelationRecord(items=frozenset({'N8U'}), support=0.27407734806629835, ordered_statistics=[OrderedStatistic(items_base=frozenset(), items_add=frozenset({'N8U'}), confidence=0.27407734806629835, lift=1.0)]), RelationRecord(items=frozenset({'OXH'}), support=0.07549171270718232, ordered_statistics=[OrderedStatistic(items_base=frozenset(), items_add=frozenset({'OXH'}), confidence=0.07549171270718232, lift=1.0)]), RelationRecord(items=frozenset({'P42'}), support=0.14355801104972377, ordered_statistics=[OrderedStatistic(items_base=frozenset(), items_add=frozenset({'P42'}), confidence=0.14355801104972377, lift=1.0)]), RelationRecord(items=frozenset({'Q4N'}), support=0.0863646408839779, ordered_statistics=[OrderedStatistic(items_base=frozenset(), items_add=frozenset({'Q4N'}), confidence=0.0863646408839779, lift=1.0)]), RelationRecord(items=frozenset({'QCG'}), support=0.05790055248618785, ordered_statistics=[OrderedStatistic(items_base=frozenset(), items_add=frozenset({'QCG'}), confidence=0.05790055248618785, lift=1.0)]), RelationRecord(items=frozenset({'R6E'}), support=0.15027624309392265, ordered_statistics=[OrderedStatistic(items_base=frozenset(), items_add=frozenset({'R6E'}), confidence=0.15027624309392265, lift=1.0)]), RelationRecord(items=frozenset({'TW8'}), support=0.05723756906077348, ordered_statistics=[OrderedStatistic(items_base=frozenset(), items_add=frozenset({'TW8'}), confidence=0.05723756906077348, lift=1.0)]), RelationRecord(items=frozenset({'U5F'}), support=0.08901657458563536, ordered_statistics=[OrderedStatistic(items_base=frozenset(), items_add=frozenset({'U5F'}), confidence=0.08901657458563536, lift=1.0)]), RelationRecord(items=frozenset({'X52'}), support=0.06152486187845304, ordered_statistics=[OrderedStatistic(items_base=frozenset(), items_add=frozenset({'X52'}), confidence=0.06152486187845304, lift=1.0)]), RelationRecord(items=frozenset({'XG4'}), support=0.06422099447513813, ordered_statistics=[OrderedStatistic(items_base=frozenset(), items_add=frozenset({'XG4'}), confidence=0.06422099447513813, lift=1.0)]), RelationRecord(items=frozenset({'0H2', 'N8U'}), support=0.05675138121546961, ordered_statistics=[OrderedStatistic(items_base=frozenset(), items_add=frozenset({'0H2', 'N8U'}), confidence=0.05675138121546961, lift=1.0), OrderedStatistic(items_base=frozenset({'0H2'}), items_add=frozenset({'N8U'}), confidence=0.40428211586901763, lift=1.4750657751228067), OrderedStatistic(items_base=frozenset({'N8U'}), items_add=frozenset({'0H2'}), confidence=0.2070633768746976, lift=1.4750657751228065)]), RelationRecord(items=frozenset({'IEV', 'LPF'}), support=0.06607734806629834, ordered_statistics=[OrderedStatistic(items_base=frozenset(), items_add=frozenset({'IEV', 'LPF'}), confidence=0.06607734806629834, lift=1.0), OrderedStatistic(items_base=frozenset({'IEV'}), items_add=frozenset({'LPF'}), confidence=0.6187913907284768, lift=5.120759039953104), OrderedStatistic(items_base=frozenset({'LPF'}), items_add=frozenset({'IEV'}), confidence=0.5468178493050475, lift=5.120759039953104)]), RelationRecord(items=frozenset({'N8U', 'LPF'}), support=0.056795580110497235, ordered_statistics=[OrderedStatistic(items_base=frozenset(), items_add=frozenset({'N8U', 'LPF'}), confidence=0.056795580110497235, lift=1.0), OrderedStatistic(items_base=frozenset({'LPF'}), items_add=frozenset({'N8U'}), confidence=0.4700073152889539, lift=1.714871070539039), OrderedStatistic(items_base=frozenset({'N8U'}), items_add=frozenset({'LPF'}), confidence=0.2072246411869053, lift=1.7148710705390389)]), RelationRecord(items=frozenset({'P42', 'N8U'}), support=0.05661878453038674, ordered_statistics=[OrderedStatistic(items_base=frozenset(), items_add=frozenset({'P42', 'N8U'}), confidence=0.05661878453038674, lift=1.0), OrderedStatistic(items_base=frozenset({'N8U'}), items_add=frozenset({'P42'}), confidence=0.2065795839380745, lift=1.4389972557262731), OrderedStatistic(items_base=frozenset({'P42'}), items_add=frozenset({'N8U'}), confidence=0.3943965517241379, lift=1.4389972557262731)]), RelationRecord(items=frozenset({'R6E', 'N8U'}), support=0.055248618784530384, ordered_statistics=[OrderedStatistic(items_base=frozenset(), items_add=frozenset({'R6E', 'N8U'}), confidence=0.055248618784530384, lift=1.0), OrderedStatistic(items_base=frozenset({'N8U'}), items_add=frozenset({'R6E'}), confidence=0.20158039025963553, lift=1.3413989204777217), OrderedStatistic(items_base=frozenset({'R6E'}), items_add=frozenset({'N8U'}), confidence=0.3676470588235294, lift=1.3413989204777217)])]\n"
     ]
    }
   ],
   "source": [
    "#need to install apyori at home using terminal command pip install apyori\n",
    "from apyori import apriori\n",
    "\n",
    "#type cast the transactions from panadas into normal list format and \n",
    "#run apriori\n",
    "transaction_list = list(transactions)\n",
    "results = list(apriori(transaction_list, min_support = 0.055, min_confidence = 0.055))\n",
    "\n",
    "#print first 5 rules\n",
    "print(results)"
   ]
  },
  {
   "cell_type": "code",
   "execution_count": 7,
   "metadata": {},
   "outputs": [
    {
     "name": "stdout",
     "output_type": "stream",
     "text": [
      "   Left_side Right_side   Support  Confidence      Lift\n",
      "0                   0H2  0.140376    0.140376  1.000000\n",
      "1                   1VL  0.062276    0.062276  1.000000\n",
      "2                   29A  0.097635    0.097635  1.000000\n",
      "3                   2ML  0.057635    0.057635  1.000000\n",
      "4                   8HU  0.058740    0.058740  1.000000\n",
      "5                   FEW  0.095337    0.095337  1.000000\n",
      "6                   FU5  0.069260    0.069260  1.000000\n",
      "7                   H15  0.101613    0.101613  1.000000\n",
      "8                   IEV  0.106785    0.106785  1.000000\n",
      "9                   J4R  0.069525    0.069525  1.000000\n",
      "10                  JPI  0.059006    0.059006  1.000000\n",
      "11                  LPF  0.120840    0.120840  1.000000\n",
      "12                  LSD  0.061525    0.061525  1.000000\n",
      "13                  N8U  0.274077    0.274077  1.000000\n",
      "14                  OXH  0.075492    0.075492  1.000000\n",
      "15                  P42  0.143558    0.143558  1.000000\n",
      "16                  Q4N  0.086365    0.086365  1.000000\n",
      "17                  QCG  0.057901    0.057901  1.000000\n",
      "18                  R6E  0.150276    0.150276  1.000000\n",
      "19                  TW8  0.057238    0.057238  1.000000\n",
      "20                  U5F  0.089017    0.089017  1.000000\n",
      "21                  X52  0.061525    0.061525  1.000000\n",
      "22                  XG4  0.064221    0.064221  1.000000\n",
      "23              0H2,N8U  0.056751    0.056751  1.000000\n",
      "24       0H2        N8U  0.056751    0.404282  1.475066\n",
      "25       N8U        0H2  0.056751    0.207063  1.475066\n",
      "26              IEV,LPF  0.066077    0.066077  1.000000\n",
      "27       IEV        LPF  0.066077    0.618791  5.120759\n",
      "28       LPF        IEV  0.066077    0.546818  5.120759\n",
      "29              N8U,LPF  0.056796    0.056796  1.000000\n",
      "30       LPF        N8U  0.056796    0.470007  1.714871\n",
      "31       N8U        LPF  0.056796    0.207225  1.714871\n",
      "32              P42,N8U  0.056619    0.056619  1.000000\n",
      "33       N8U        P42  0.056619    0.206580  1.438997\n",
      "34       P42        N8U  0.056619    0.394397  1.438997\n",
      "35              R6E,N8U  0.055249    0.055249  1.000000\n",
      "36       N8U        R6E  0.055249    0.201580  1.341399\n",
      "37       R6E        N8U  0.055249    0.367647  1.341399\n"
     ]
    }
   ],
   "source": [
    "def convert_apriori_results_to_pandas_df(results):\n",
    "    rules = []\n",
    "    \n",
    "    for rule_set in results:\n",
    "        for rule in rule_set.ordered_statistics:\n",
    "            #items_base = left side of rules, items_add = right side\n",
    "            #support, confidence, lift for respective rules\n",
    "            rules.append([','.join(rule.items_base), ','.join(rule.items_add), rule_set.support, \n",
    "                          rule.confidence, rule.lift])\n",
    "        \n",
    "    #typecaset to pandas df\n",
    "    return pd.DataFrame(rules, columns = ['Left_side', 'Right_side', 'Support', 'Confidence', 'Lift'])\n",
    "\n",
    "result_df = convert_apriori_results_to_pandas_df(results)\n",
    "\n",
    "print(result_df)"
   ]
  },
  {
   "cell_type": "code",
   "execution_count": 8,
   "metadata": {},
   "outputs": [
    {
     "name": "stdout",
     "output_type": "stream",
     "text": [
      "   Left_side Right_side   Support  Confidence      Lift\n",
      "28       LPF        IEV  0.066077    0.546818  5.120759\n",
      "27       IEV        LPF  0.066077    0.618791  5.120759\n",
      "30       LPF        N8U  0.056796    0.470007  1.714871\n",
      "31       N8U        LPF  0.056796    0.207225  1.714871\n",
      "24       0H2        N8U  0.056751    0.404282  1.475066\n",
      "25       N8U        0H2  0.056751    0.207063  1.475066\n",
      "34       P42        N8U  0.056619    0.394397  1.438997\n",
      "33       N8U        P42  0.056619    0.206580  1.438997\n",
      "37       R6E        N8U  0.055249    0.367647  1.341399\n",
      "36       N8U        R6E  0.055249    0.201580  1.341399\n"
     ]
    }
   ],
   "source": [
    "result_df = result_df.sort_values(by='Lift', ascending = False)\n",
    "print(result_df.head(10))"
   ]
  },
  {
   "cell_type": "code",
   "execution_count": 9,
   "metadata": {},
   "outputs": [
    {
     "name": "stdout",
     "output_type": "stream",
     "text": [
      "[RelationRecord(items=frozenset({'01F'}), support=0.0416353591160221, ordered_statistics=[OrderedStatistic(items_base=frozenset(), items_add=frozenset({'01F'}), confidence=0.0416353591160221, lift=1.0)]), RelationRecord(items=frozenset({'0H2'}), support=0.1403756906077348, ordered_statistics=[OrderedStatistic(items_base=frozenset(), items_add=frozenset({'0H2'}), confidence=0.1403756906077348, lift=1.0)]), RelationRecord(items=frozenset({'0WT'}), support=0.025502762430939227, ordered_statistics=[OrderedStatistic(items_base=frozenset(), items_add=frozenset({'0WT'}), confidence=0.025502762430939227, lift=1.0)]), RelationRecord(items=frozenset({'1EO'}), support=0.025767955801104973, ordered_statistics=[OrderedStatistic(items_base=frozenset(), items_add=frozenset({'1EO'}), confidence=0.025767955801104973, lift=1.0)]), RelationRecord(items=frozenset({'1L6'}), support=0.023646408839779004, ordered_statistics=[OrderedStatistic(items_base=frozenset(), items_add=frozenset({'1L6'}), confidence=0.023646408839779004, lift=1.0)]), RelationRecord(items=frozenset({'1TS'}), support=0.026519337016574586, ordered_statistics=[OrderedStatistic(items_base=frozenset(), items_add=frozenset({'1TS'}), confidence=0.026519337016574586, lift=1.0)]), RelationRecord(items=frozenset({'1VL'}), support=0.06227624309392265, ordered_statistics=[OrderedStatistic(items_base=frozenset(), items_add=frozenset({'1VL'}), confidence=0.06227624309392265, lift=1.0)]), RelationRecord(items=frozenset({'29A'}), support=0.0976353591160221, ordered_statistics=[OrderedStatistic(items_base=frozenset(), items_add=frozenset({'29A'}), confidence=0.0976353591160221, lift=1.0)]), RelationRecord(items=frozenset({'2ML'}), support=0.0576353591160221, ordered_statistics=[OrderedStatistic(items_base=frozenset(), items_add=frozenset({'2ML'}), confidence=0.0576353591160221, lift=1.0)]), RelationRecord(items=frozenset({'69K'}), support=0.025679558011049725, ordered_statistics=[OrderedStatistic(items_base=frozenset(), items_add=frozenset({'69K'}), confidence=0.025679558011049725, lift=1.0)]), RelationRecord(items=frozenset({'6BZ'}), support=0.05180110497237569, ordered_statistics=[OrderedStatistic(items_base=frozenset(), items_add=frozenset({'6BZ'}), confidence=0.05180110497237569, lift=1.0)]), RelationRecord(items=frozenset({'8HU'}), support=0.058740331491712705, ordered_statistics=[OrderedStatistic(items_base=frozenset(), items_add=frozenset({'8HU'}), confidence=0.058740331491712705, lift=1.0)]), RelationRecord(items=frozenset({'9ZX'}), support=0.03239779005524862, ordered_statistics=[OrderedStatistic(items_base=frozenset(), items_add=frozenset({'9ZX'}), confidence=0.03239779005524862, lift=1.0)]), RelationRecord(items=frozenset({'A38'}), support=0.04207734806629834, ordered_statistics=[OrderedStatistic(items_base=frozenset(), items_add=frozenset({'A38'}), confidence=0.04207734806629834, lift=1.0)]), RelationRecord(items=frozenset({'BZU'}), support=0.022629834254143645, ordered_statistics=[OrderedStatistic(items_base=frozenset(), items_add=frozenset({'BZU'}), confidence=0.022629834254143645, lift=1.0)]), RelationRecord(items=frozenset({'C8Z'}), support=0.05396685082872928, ordered_statistics=[OrderedStatistic(items_base=frozenset(), items_add=frozenset({'C8Z'}), confidence=0.05396685082872928, lift=1.0)]), RelationRecord(items=frozenset({'EKM'}), support=0.02921546961325967, ordered_statistics=[OrderedStatistic(items_base=frozenset(), items_add=frozenset({'EKM'}), confidence=0.02921546961325967, lift=1.0)]), RelationRecord(items=frozenset({'FEW'}), support=0.09533701657458564, ordered_statistics=[OrderedStatistic(items_base=frozenset(), items_add=frozenset({'FEW'}), confidence=0.09533701657458564, lift=1.0)]), RelationRecord(items=frozenset({'FU5'}), support=0.0692596685082873, ordered_statistics=[OrderedStatistic(items_base=frozenset(), items_add=frozenset({'FU5'}), confidence=0.0692596685082873, lift=1.0)]), RelationRecord(items=frozenset({'FZT'}), support=0.027138121546961325, ordered_statistics=[OrderedStatistic(items_base=frozenset(), items_add=frozenset({'FZT'}), confidence=0.027138121546961325, lift=1.0)]), RelationRecord(items=frozenset({'H15'}), support=0.10161325966850829, ordered_statistics=[OrderedStatistic(items_base=frozenset(), items_add=frozenset({'H15'}), confidence=0.10161325966850829, lift=1.0)]), RelationRecord(items=frozenset({'H8O'}), support=0.028950276243093924, ordered_statistics=[OrderedStatistic(items_base=frozenset(), items_add=frozenset({'H8O'}), confidence=0.028950276243093924, lift=1.0)]), RelationRecord(items=frozenset({'IEV'}), support=0.10678453038674034, ordered_statistics=[OrderedStatistic(items_base=frozenset(), items_add=frozenset({'IEV'}), confidence=0.10678453038674034, lift=1.0)]), RelationRecord(items=frozenset({'ILF'}), support=0.027712707182320443, ordered_statistics=[OrderedStatistic(items_base=frozenset(), items_add=frozenset({'ILF'}), confidence=0.027712707182320443, lift=1.0)]), RelationRecord(items=frozenset({'J4R'}), support=0.06952486187845304, ordered_statistics=[OrderedStatistic(items_base=frozenset(), items_add=frozenset({'J4R'}), confidence=0.06952486187845304, lift=1.0)]), RelationRecord(items=frozenset({'JKC'}), support=0.023337016574585635, ordered_statistics=[OrderedStatistic(items_base=frozenset(), items_add=frozenset({'JKC'}), confidence=0.023337016574585635, lift=1.0)]), RelationRecord(items=frozenset({'JPI'}), support=0.059005524861878454, ordered_statistics=[OrderedStatistic(items_base=frozenset(), items_add=frozenset({'JPI'}), confidence=0.059005524861878454, lift=1.0)]), RelationRecord(items=frozenset({'LDZ'}), support=0.02346961325966851, ordered_statistics=[OrderedStatistic(items_base=frozenset(), items_add=frozenset({'LDZ'}), confidence=0.02346961325966851, lift=1.0)]), RelationRecord(items=frozenset({'LGI'}), support=0.021171270718232046, ordered_statistics=[OrderedStatistic(items_base=frozenset(), items_add=frozenset({'LGI'}), confidence=0.021171270718232046, lift=1.0)]), RelationRecord(items=frozenset({'LPF'}), support=0.12083977900552487, ordered_statistics=[OrderedStatistic(items_base=frozenset(), items_add=frozenset({'LPF'}), confidence=0.12083977900552487, lift=1.0)]), RelationRecord(items=frozenset({'LSD'}), support=0.06152486187845304, ordered_statistics=[OrderedStatistic(items_base=frozenset(), items_add=frozenset({'LSD'}), confidence=0.06152486187845304, lift=1.0)]), RelationRecord(items=frozenset({'MOE'}), support=0.03208839779005525, ordered_statistics=[OrderedStatistic(items_base=frozenset(), items_add=frozenset({'MOE'}), confidence=0.03208839779005525, lift=1.0)]), RelationRecord(items=frozenset({'N5F'}), support=0.03496132596685083, ordered_statistics=[OrderedStatistic(items_base=frozenset(), items_add=frozenset({'N5F'}), confidence=0.03496132596685083, lift=1.0)]), RelationRecord(items=frozenset({'N8U'}), support=0.27407734806629835, ordered_statistics=[OrderedStatistic(items_base=frozenset(), items_add=frozenset({'N8U'}), confidence=0.27407734806629835, lift=1.0)]), RelationRecord(items=frozenset({'NTA'}), support=0.023558011049723757, ordered_statistics=[OrderedStatistic(items_base=frozenset(), items_add=frozenset({'NTA'}), confidence=0.023558011049723757, lift=1.0)]), RelationRecord(items=frozenset({'OBD'}), support=0.037878453038674036, ordered_statistics=[OrderedStatistic(items_base=frozenset(), items_add=frozenset({'OBD'}), confidence=0.037878453038674036, lift=1.0)]), RelationRecord(items=frozenset({'OXH'}), support=0.07549171270718232, ordered_statistics=[OrderedStatistic(items_base=frozenset(), items_add=frozenset({'OXH'}), confidence=0.07549171270718232, lift=1.0)]), RelationRecord(items=frozenset({'P42'}), support=0.14355801104972377, ordered_statistics=[OrderedStatistic(items_base=frozenset(), items_add=frozenset({'P42'}), confidence=0.14355801104972377, lift=1.0)]), RelationRecord(items=frozenset({'PA3'}), support=0.02121546961325967, ordered_statistics=[OrderedStatistic(items_base=frozenset(), items_add=frozenset({'PA3'}), confidence=0.02121546961325967, lift=1.0)]), RelationRecord(items=frozenset({'PZW'}), support=0.026121546961325966, ordered_statistics=[OrderedStatistic(items_base=frozenset(), items_add=frozenset({'PZW'}), confidence=0.026121546961325966, lift=1.0)]), RelationRecord(items=frozenset({'Q4N'}), support=0.0863646408839779, ordered_statistics=[OrderedStatistic(items_base=frozenset(), items_add=frozenset({'Q4N'}), confidence=0.0863646408839779, lift=1.0)]), RelationRecord(items=frozenset({'QCG'}), support=0.05790055248618785, ordered_statistics=[OrderedStatistic(items_base=frozenset(), items_add=frozenset({'QCG'}), confidence=0.05790055248618785, lift=1.0)]), RelationRecord(items=frozenset({'R6E'}), support=0.15027624309392265, ordered_statistics=[OrderedStatistic(items_base=frozenset(), items_add=frozenset({'R6E'}), confidence=0.15027624309392265, lift=1.0)]), RelationRecord(items=frozenset({'SFC'}), support=0.044287292817679555, ordered_statistics=[OrderedStatistic(items_base=frozenset(), items_add=frozenset({'SFC'}), confidence=0.044287292817679555, lift=1.0)]), RelationRecord(items=frozenset({'SJS'}), support=0.0369060773480663, ordered_statistics=[OrderedStatistic(items_base=frozenset(), items_add=frozenset({'SJS'}), confidence=0.0369060773480663, lift=1.0)]), RelationRecord(items=frozenset({'TW8'}), support=0.05723756906077348, ordered_statistics=[OrderedStatistic(items_base=frozenset(), items_add=frozenset({'TW8'}), confidence=0.05723756906077348, lift=1.0)]), RelationRecord(items=frozenset({'TZB'}), support=0.038629834254143645, ordered_statistics=[OrderedStatistic(items_base=frozenset(), items_add=frozenset({'TZB'}), confidence=0.038629834254143645, lift=1.0)]), RelationRecord(items=frozenset({'U5F'}), support=0.08901657458563536, ordered_statistics=[OrderedStatistic(items_base=frozenset(), items_add=frozenset({'U5F'}), confidence=0.08901657458563536, lift=1.0)]), RelationRecord(items=frozenset({'X52'}), support=0.06152486187845304, ordered_statistics=[OrderedStatistic(items_base=frozenset(), items_add=frozenset({'X52'}), confidence=0.06152486187845304, lift=1.0)]), RelationRecord(items=frozenset({'XG4'}), support=0.06422099447513813, ordered_statistics=[OrderedStatistic(items_base=frozenset(), items_add=frozenset({'XG4'}), confidence=0.06422099447513813, lift=1.0)]), RelationRecord(items=frozenset({'YMJ'}), support=0.05392265193370166, ordered_statistics=[OrderedStatistic(items_base=frozenset(), items_add=frozenset({'YMJ'}), confidence=0.05392265193370166, lift=1.0)]), RelationRecord(items=frozenset({'Z23'}), support=0.020022099447513812, ordered_statistics=[OrderedStatistic(items_base=frozenset(), items_add=frozenset({'Z23'}), confidence=0.020022099447513812, lift=1.0)]), RelationRecord(items=frozenset({'Z4O'}), support=0.021480662983425415, ordered_statistics=[OrderedStatistic(items_base=frozenset(), items_add=frozenset({'Z4O'}), confidence=0.021480662983425415, lift=1.0)]), RelationRecord(items=frozenset({'IEV', '01F'}), support=0.02532596685082873, ordered_statistics=[OrderedStatistic(items_base=frozenset(), items_add=frozenset({'IEV', '01F'}), confidence=0.02532596685082873, lift=1.0), OrderedStatistic(items_base=frozenset({'01F'}), items_add=frozenset({'IEV'}), confidence=0.60828025477707, lift=5.696333097819209), OrderedStatistic(items_base=frozenset({'IEV'}), items_add=frozenset({'01F'}), confidence=0.2371688741721854, lift=5.696333097819209)]), RelationRecord(items=frozenset({'LPF', '01F'}), support=0.02541436464088398, ordered_statistics=[OrderedStatistic(items_base=frozenset(), items_add=frozenset({'01F', 'LPF'}), confidence=0.02541436464088398, lift=1.0), OrderedStatistic(items_base=frozenset({'01F'}), items_add=frozenset({'LPF'}), confidence=0.6104033970276009, lift=5.05134486384399), OrderedStatistic(items_base=frozenset({'LPF'}), items_add=frozenset({'01F'}), confidence=0.21031455742501828, lift=5.05134486384399)]), RelationRecord(items=frozenset({'N8U', '01F'}), support=0.022629834254143645, ordered_statistics=[OrderedStatistic(items_base=frozenset(), items_add=frozenset({'N8U', '01F'}), confidence=0.022629834254143645, lift=1.0), OrderedStatistic(items_base=frozenset({'01F'}), items_add=frozenset({'N8U'}), confidence=0.5435244161358811, lift=1.9831059369576374), OrderedStatistic(items_base=frozenset({'N8U'}), items_add=frozenset({'01F'}), confidence=0.0825673278503467, lift=1.9831059369576371)]), RelationRecord(items=frozenset({'H15', '0H2'}), support=0.03390055248618785, ordered_statistics=[OrderedStatistic(items_base=frozenset(), items_add=frozenset({'H15', '0H2'}), confidence=0.03390055248618785, lift=1.0), OrderedStatistic(items_base=frozenset({'0H2'}), items_add=frozenset({'H15'}), confidence=0.24149874055415618, lift=2.3766459352056475), OrderedStatistic(items_base=frozenset({'H15'}), items_add=frozenset({'0H2'}), confidence=0.3336233144845585, lift=2.3766459352056475)]), RelationRecord(items=frozenset({'0H2', 'N8U'}), support=0.05675138121546961, ordered_statistics=[OrderedStatistic(items_base=frozenset(), items_add=frozenset({'0H2', 'N8U'}), confidence=0.05675138121546961, lift=1.0), OrderedStatistic(items_base=frozenset({'0H2'}), items_add=frozenset({'N8U'}), confidence=0.40428211586901763, lift=1.4750657751228067), OrderedStatistic(items_base=frozenset({'N8U'}), items_add=frozenset({'0H2'}), confidence=0.2070633768746976, lift=1.4750657751228065)]), RelationRecord(items=frozenset({'P42', '0H2'}), support=0.0416353591160221, ordered_statistics=[OrderedStatistic(items_base=frozenset(), items_add=frozenset({'P42', '0H2'}), confidence=0.0416353591160221, lift=1.0), OrderedStatistic(items_base=frozenset({'0H2'}), items_add=frozenset({'P42'}), confidence=0.2965994962216625, lift=2.0660602222952935), OrderedStatistic(items_base=frozenset({'P42'}), items_add=frozenset({'0H2'}), confidence=0.2900246305418719, lift=2.0660602222952935)]), RelationRecord(items=frozenset({'R6E', '0H2'}), support=0.03138121546961326, ordered_statistics=[OrderedStatistic(items_base=frozenset(), items_add=frozenset({'0H2', 'R6E'}), confidence=0.03138121546961326, lift=1.0), OrderedStatistic(items_base=frozenset({'0H2'}), items_add=frozenset({'R6E'}), confidence=0.223551637279597, lift=1.4876046451326124), OrderedStatistic(items_base=frozenset({'R6E'}), items_add=frozenset({'0H2'}), confidence=0.2088235294117647, lift=1.4876046451326124)]), RelationRecord(items=frozenset({'1VL', 'N8U'}), support=0.024441988950276244, ordered_statistics=[OrderedStatistic(items_base=frozenset(), items_add=frozenset({'1VL', 'N8U'}), confidence=0.024441988950276244, lift=1.0), OrderedStatistic(items_base=frozenset({'1VL'}), items_add=frozenset({'N8U'}), confidence=0.3924769339957417, lift=1.4319933287620796), OrderedStatistic(items_base=frozenset({'N8U'}), items_add=frozenset({'1VL'}), confidence=0.08917916465086277, lift=1.4319933287620796)]), RelationRecord(items=frozenset({'29A', 'N8U'}), support=0.03951381215469613, ordered_statistics=[OrderedStatistic(items_base=frozenset(), items_add=frozenset({'29A', 'N8U'}), confidence=0.03951381215469613, lift=1.0), OrderedStatistic(items_base=frozenset({'29A'}), items_add=frozenset({'N8U'}), confidence=0.4047080126754187, lift=1.476619704367255), OrderedStatistic(items_base=frozenset({'N8U'}), items_add=frozenset({'29A'}), confidence=0.14417029511369134, lift=1.476619704367255)]), RelationRecord(items=frozenset({'R6E', '29A'}), support=0.032176795580110495, ordered_statistics=[OrderedStatistic(items_base=frozenset(), items_add=frozenset({'R6E', '29A'}), confidence=0.032176795580110495, lift=1.0), OrderedStatistic(items_base=frozenset({'29A'}), items_add=frozenset({'R6E'}), confidence=0.3295608872793119, lift=2.1930338454983622), OrderedStatistic(items_base=frozenset({'R6E'}), items_add=frozenset({'29A'}), confidence=0.21411764705882352, lift=2.1930338454983622)]), RelationRecord(items=frozenset({'N8U', '2ML'}), support=0.02758011049723757, ordered_statistics=[OrderedStatistic(items_base=frozenset(), items_add=frozenset({'2ML', 'N8U'}), confidence=0.02758011049723757, lift=1.0), OrderedStatistic(items_base=frozenset({'2ML'}), items_add=frozenset({'N8U'}), confidence=0.4785276073619632, lift=1.7459582513408187), OrderedStatistic(items_base=frozenset({'N8U'}), items_add=frozenset({'2ML'}), confidence=0.10062893081761005, lift=1.7459582513408187)]), RelationRecord(items=frozenset({'IEV', '6BZ'}), support=0.02430939226519337, ordered_statistics=[OrderedStatistic(items_base=frozenset(), items_add=frozenset({'IEV', '6BZ'}), confidence=0.02430939226519337, lift=1.0), OrderedStatistic(items_base=frozenset({'6BZ'}), items_add=frozenset({'IEV'}), confidence=0.469283276450512, lift=4.3946747225549805), OrderedStatistic(items_base=frozenset({'IEV'}), items_add=frozenset({'6BZ'}), confidence=0.22764900662251655, lift=4.3946747225549805)]), RelationRecord(items=frozenset({'6BZ', 'LPF'}), support=0.02638674033149171, ordered_statistics=[OrderedStatistic(items_base=frozenset(), items_add=frozenset({'6BZ', 'LPF'}), confidence=0.02638674033149171, lift=1.0), OrderedStatistic(items_base=frozenset({'6BZ'}), items_add=frozenset({'LPF'}), confidence=0.5093856655290102, lift=4.215380644694168), OrderedStatistic(items_base=frozenset({'LPF'}), items_add=frozenset({'6BZ'}), confidence=0.2183613752743233, lift=4.215380644694168)]), RelationRecord(items=frozenset({'8HU', 'LPF'}), support=0.020154696132596683, ordered_statistics=[OrderedStatistic(items_base=frozenset(), items_add=frozenset({'8HU', 'LPF'}), confidence=0.020154696132596683, lift=1.0), OrderedStatistic(items_base=frozenset({'8HU'}), items_add=frozenset({'LPF'}), confidence=0.3431151241534989, lift=2.8394219765811672), OrderedStatistic(items_base=frozenset({'LPF'}), items_add=frozenset({'8HU'}), confidence=0.16678858814923186, lift=2.8394219765811672)]), RelationRecord(items=frozenset({'8HU', 'N8U'}), support=0.023425414364640886, ordered_statistics=[OrderedStatistic(items_base=frozenset(), items_add=frozenset({'8HU', 'N8U'}), confidence=0.023425414364640886, lift=1.0), OrderedStatistic(items_base=frozenset({'8HU'}), items_add=frozenset({'N8U'}), confidence=0.398796087283672, lift=1.4550494234467148), OrderedStatistic(items_base=frozenset({'N8U'}), items_add=frozenset({'8HU'}), confidence=0.08547008547008547, lift=1.4550494234467146)]), RelationRecord(items=frozenset({'8HU', 'U5F'}), support=0.030497237569060774, ordered_statistics=[OrderedStatistic(items_base=frozenset(), items_add=frozenset({'8HU', 'U5F'}), confidence=0.030497237569060774, lift=1.0), OrderedStatistic(items_base=frozenset({'8HU'}), items_add=frozenset({'U5F'}), confidence=0.5191873589164786, lift=5.832479640260838), OrderedStatistic(items_base=frozenset({'U5F'}), items_add=frozenset({'8HU'}), confidence=0.3426017874875869, lift=5.832479640260838)]), RelationRecord(items=frozenset({'9ZX', 'LPF'}), support=0.021171270718232046, ordered_statistics=[OrderedStatistic(items_base=frozenset(), items_add=frozenset({'9ZX', 'LPF'}), confidence=0.021171270718232046, lift=1.0), OrderedStatistic(items_base=frozenset({'9ZX'}), items_add=frozenset({'LPF'}), confidence=0.6534788540245566, lift=5.407812389285147), OrderedStatistic(items_base=frozenset({'LPF'}), items_add=frozenset({'9ZX'}), confidence=0.17520117044623262, lift=5.407812389285147)]), RelationRecord(items=frozenset({'FEW', 'N8U'}), support=0.04318232044198895, ordered_statistics=[OrderedStatistic(items_base=frozenset(), items_add=frozenset({'FEW', 'N8U'}), confidence=0.04318232044198895, lift=1.0), OrderedStatistic(items_base=frozenset({'FEW'}), items_add=frozenset({'N8U'}), confidence=0.4529439035697728, lift=1.6526134201364473), OrderedStatistic(items_base=frozenset({'N8U'}), items_add=frozenset({'FEW'}), confidence=0.15755523302693114, lift=1.6526134201364473)]), RelationRecord(items=frozenset({'FEW', 'R6E'}), support=0.022497237569060774, ordered_statistics=[OrderedStatistic(items_base=frozenset(), items_add=frozenset({'FEW', 'R6E'}), confidence=0.022497237569060774, lift=1.0), OrderedStatistic(items_base=frozenset({'FEW'}), items_add=frozenset({'R6E'}), confidence=0.23597589244320816, lift=1.5702807548610542), OrderedStatistic(items_base=frozenset({'R6E'}), items_add=frozenset({'FEW'}), confidence=0.1497058823529412, lift=1.5702807548610545)]), RelationRecord(items=frozenset({'IEV', 'FU5'}), support=0.035314917127071827, ordered_statistics=[OrderedStatistic(items_base=frozenset(), items_add=frozenset({'IEV', 'FU5'}), confidence=0.035314917127071827, lift=1.0), OrderedStatistic(items_base=frozenset({'FU5'}), items_add=frozenset({'IEV'}), confidence=0.5098915124441609, lift=4.774956733877955), OrderedStatistic(items_base=frozenset({'IEV'}), items_add=frozenset({'FU5'}), confidence=0.33071192052980136, lift=4.774956733877955)]), RelationRecord(items=frozenset({'FU5', 'LPF'}), support=0.04322651933701657, ordered_statistics=[OrderedStatistic(items_base=frozenset(), items_add=frozenset({'FU5', 'LPF'}), confidence=0.04322651933701657, lift=1.0), OrderedStatistic(items_base=frozenset({'FU5'}), items_add=frozenset({'LPF'}), confidence=0.6241225271218889, lift=5.164876436039772), OrderedStatistic(items_base=frozenset({'LPF'}), items_add=frozenset({'FU5'}), confidence=0.3577176298463789, lift=5.164876436039772)]), RelationRecord(items=frozenset({'FU5', 'N8U'}), support=0.034121546961325966, ordered_statistics=[OrderedStatistic(items_base=frozenset(), items_add=frozenset({'FU5', 'N8U'}), confidence=0.034121546961325966, lift=1.0), OrderedStatistic(items_base=frozenset({'FU5'}), items_add=frozenset({'N8U'}), confidence=0.4926611359285258, lift=1.7975259152367191), OrderedStatistic(items_base=frozenset({'N8U'}), items_add=frozenset({'FU5'}), confidence=0.12449604902435091, lift=1.7975259152367193)]), RelationRecord(items=frozenset({'OXH', 'FU5'}), support=0.028773480662983426, ordered_statistics=[OrderedStatistic(items_base=frozenset(), items_add=frozenset({'OXH', 'FU5'}), confidence=0.028773480662983426, lift=1.0), OrderedStatistic(items_base=frozenset({'FU5'}), items_add=frozenset({'OXH'}), confidence=0.41544352265475426, lift=5.503167271700127), OrderedStatistic(items_base=frozenset({'OXH'}), items_add=frozenset({'FU5'}), confidence=0.3811475409836066, lift=5.503167271700127)]), RelationRecord(items=frozenset({'FU5', 'U5F'}), support=0.022541436464088398, ordered_statistics=[OrderedStatistic(items_base=frozenset(), items_add=frozenset({'FU5', 'U5F'}), confidence=0.022541436464088398, lift=1.0), OrderedStatistic(items_base=frozenset({'FU5'}), items_add=frozenset({'U5F'}), confidence=0.32546266751754943, lift=3.6562030052554895), OrderedStatistic(items_base=frozenset({'U5F'}), items_add=frozenset({'FU5'}), confidence=0.253227408142999, lift=3.6562030052554895)]), RelationRecord(items=frozenset({'H15', 'N8U'}), support=0.04066298342541436, ordered_statistics=[OrderedStatistic(items_base=frozenset(), items_add=frozenset({'H15', 'N8U'}), confidence=0.04066298342541436, lift=1.0), OrderedStatistic(items_base=frozenset({'H15'}), items_add=frozenset({'N8U'}), confidence=0.40017398869073506, lift=1.4600768414978036), OrderedStatistic(items_base=frozenset({'N8U'}), items_add=frozenset({'H15'}), confidence=0.14836316723109175, lift=1.4600768414978038)]), RelationRecord(items=frozenset({'P42', 'H15'}), support=0.031425414364640886, ordered_statistics=[OrderedStatistic(items_base=frozenset(), items_add=frozenset({'P42', 'H15'}), confidence=0.031425414364640886, lift=1.0), OrderedStatistic(items_base=frozenset({'H15'}), items_add=frozenset({'P42'}), confidence=0.30926489778164423, lift=2.154285194676632), OrderedStatistic(items_base=frozenset({'P42'}), items_add=frozenset({'H15'}), confidence=0.2189039408866995, lift=2.154285194676632)]), RelationRecord(items=frozenset({'H15', 'R6E'}), support=0.02572375690607735, ordered_statistics=[OrderedStatistic(items_base=frozenset(), items_add=frozenset({'H15', 'R6E'}), confidence=0.02572375690607735, lift=1.0), OrderedStatistic(items_base=frozenset({'H15'}), items_add=frozenset({'R6E'}), confidence=0.2531535450195737, lift=1.6845879282552516), OrderedStatistic(items_base=frozenset({'R6E'}), items_add=frozenset({'H15'}), confidence=0.1711764705882353, lift=1.6845879282552516)]), RelationRecord(items=frozenset({'IEV', 'J4R'}), support=0.020287292817679558, ordered_statistics=[OrderedStatistic(items_base=frozenset(), items_add=frozenset({'IEV', 'J4R'}), confidence=0.020287292817679558, lift=1.0), OrderedStatistic(items_base=frozenset({'IEV'}), items_add=frozenset({'J4R'}), confidence=0.18998344370860926, lift=2.7325972116384514), OrderedStatistic(items_base=frozenset({'J4R'}), items_add=frozenset({'IEV'}), confidence=0.2917991099809282, lift=2.732597211638452)]), RelationRecord(items=frozenset({'IEV', 'LPF'}), support=0.06607734806629834, ordered_statistics=[OrderedStatistic(items_base=frozenset(), items_add=frozenset({'IEV', 'LPF'}), confidence=0.06607734806629834, lift=1.0), OrderedStatistic(items_base=frozenset({'IEV'}), items_add=frozenset({'LPF'}), confidence=0.6187913907284768, lift=5.120759039953104), OrderedStatistic(items_base=frozenset({'LPF'}), items_add=frozenset({'IEV'}), confidence=0.5468178493050475, lift=5.120759039953104)]), RelationRecord(items=frozenset({'IEV', 'N8U'}), support=0.051933701657458566, ordered_statistics=[OrderedStatistic(items_base=frozenset(), items_add=frozenset({'IEV', 'N8U'}), confidence=0.051933701657458566, lift=1.0), OrderedStatistic(items_base=frozenset({'IEV'}), items_add=frozenset({'N8U'}), confidence=0.486341059602649, lift=1.7744664527511584), OrderedStatistic(items_base=frozenset({'N8U'}), items_add=frozenset({'IEV'}), confidence=0.1894855668440574, lift=1.7744664527511582)]), RelationRecord(items=frozenset({'OXH', 'IEV'}), support=0.04247513812154696, ordered_statistics=[OrderedStatistic(items_base=frozenset(), items_add=frozenset({'OXH', 'IEV'}), confidence=0.04247513812154696, lift=1.0), OrderedStatistic(items_base=frozenset({'IEV'}), items_add=frozenset({'OXH'}), confidence=0.3977649006622517, lift=5.268987633187028), OrderedStatistic(items_base=frozenset({'OXH'}), items_add=frozenset({'IEV'}), confidence=0.5626463700234192, lift=5.268987633187028)]), RelationRecord(items=frozenset({'IEV', 'U5F'}), support=0.031248618784530387, ordered_statistics=[OrderedStatistic(items_base=frozenset(), items_add=frozenset({'IEV', 'U5F'}), confidence=0.031248618784530387, lift=1.0), OrderedStatistic(items_base=frozenset({'IEV'}), items_add=frozenset({'U5F'}), confidence=0.29263245033112584, lift=3.2873928444596436), OrderedStatistic(items_base=frozenset({'U5F'}), items_add=frozenset({'IEV'}), confidence=0.3510427010923535, lift=3.287392844459643)]), RelationRecord(items=frozenset({'J4R', 'LPF'}), support=0.022674033149171272, ordered_statistics=[OrderedStatistic(items_base=frozenset(), items_add=frozenset({'J4R', 'LPF'}), confidence=0.022674033149171272, lift=1.0), OrderedStatistic(items_base=frozenset({'J4R'}), items_add=frozenset({'LPF'}), confidence=0.32612841703750794, lift=2.698849830092764), OrderedStatistic(items_base=frozenset({'LPF'}), items_add=frozenset({'J4R'}), confidence=0.18763716166788588, lift=2.6988498300927644)]), RelationRecord(items=frozenset({'J4R', 'N8U'}), support=0.028994475138121548, ordered_statistics=[OrderedStatistic(items_base=frozenset(), items_add=frozenset({'J4R', 'N8U'}), confidence=0.028994475138121548, lift=1.0), OrderedStatistic(items_base=frozenset({'J4R'}), items_add=frozenset({'N8U'}), confidence=0.4170375079465989, lift=1.5216051632465408), OrderedStatistic(items_base=frozenset({'N8U'}), items_add=frozenset({'J4R'}), confidence=0.10578938880825674, lift=1.5216051632465408)]), RelationRecord(items=frozenset({'J4R', 'U5F'}), support=0.02307182320441989, ordered_statistics=[OrderedStatistic(items_base=frozenset(), items_add=frozenset({'J4R', 'U5F'}), confidence=0.02307182320441989, lift=1.0), OrderedStatistic(items_base=frozenset({'J4R'}), items_add=frozenset({'U5F'}), confidence=0.3318499682136046, lift=3.7279570659547185), OrderedStatistic(items_base=frozenset({'U5F'}), items_add=frozenset({'J4R'}), confidence=0.25918570009930486, lift=3.7279570659547185)]), RelationRecord(items=frozenset({'JPI', 'N8U'}), support=0.024928176795580112, ordered_statistics=[OrderedStatistic(items_base=frozenset(), items_add=frozenset({'JPI', 'N8U'}), confidence=0.024928176795580112, lift=1.0), OrderedStatistic(items_base=frozenset({'JPI'}), items_add=frozenset({'N8U'}), confidence=0.42247191011235957, lift=1.5414331505067143), OrderedStatistic(items_base=frozenset({'N8U'}), items_add=frozenset({'JPI'}), confidence=0.09095307208514757, lift=1.5414331505067143)]), RelationRecord(items=frozenset({'N8U', 'LPF'}), support=0.056795580110497235, ordered_statistics=[OrderedStatistic(items_base=frozenset(), items_add=frozenset({'N8U', 'LPF'}), confidence=0.056795580110497235, lift=1.0), OrderedStatistic(items_base=frozenset({'LPF'}), items_add=frozenset({'N8U'}), confidence=0.4700073152889539, lift=1.714871070539039), OrderedStatistic(items_base=frozenset({'N8U'}), items_add=frozenset({'LPF'}), confidence=0.2072246411869053, lift=1.7148710705390389)]), RelationRecord(items=frozenset({'OXH', 'LPF'}), support=0.048, ordered_statistics=[OrderedStatistic(items_base=frozenset(), items_add=frozenset({'OXH', 'LPF'}), confidence=0.048, lift=1.0), OrderedStatistic(items_base=frozenset({'LPF'}), items_add=frozenset({'OXH'}), confidence=0.3972201901975128, lift=5.261772133032042), OrderedStatistic(items_base=frozenset({'OXH'}), items_add=frozenset({'LPF'}), confidence=0.6358313817330211, lift=5.261772133032042)]), RelationRecord(items=frozenset({'U5F', 'LPF'}), support=0.03213259668508287, ordered_statistics=[OrderedStatistic(items_base=frozenset(), items_add=frozenset({'LPF', 'U5F'}), confidence=0.03213259668508287, lift=1.0), OrderedStatistic(items_base=frozenset({'LPF'}), items_add=frozenset({'U5F'}), confidence=0.26591075347476223, lift=2.9872049639356977), OrderedStatistic(items_base=frozenset({'U5F'}), items_add=frozenset({'LPF'}), confidence=0.36097318768619663, lift=2.987204963935698)]), RelationRecord(items=frozenset({'LSD', 'N8U'}), support=0.02603314917127072, ordered_statistics=[OrderedStatistic(items_base=frozenset(), items_add=frozenset({'LSD', 'N8U'}), confidence=0.02603314917127072, lift=1.0), OrderedStatistic(items_base=frozenset({'LSD'}), items_add=frozenset({'N8U'}), confidence=0.42313218390804597, lift=1.5438422288210836), OrderedStatistic(items_base=frozenset({'N8U'}), items_add=frozenset({'LSD'}), confidence=0.09498467989034026, lift=1.5438422288210836)]), RelationRecord(items=frozenset({'OXH', 'N8U'}), support=0.040176795580110496, ordered_statistics=[OrderedStatistic(items_base=frozenset(), items_add=frozenset({'OXH', 'N8U'}), confidence=0.040176795580110496, lift=1.0), OrderedStatistic(items_base=frozenset({'N8U'}), items_add=frozenset({'OXH'}), confidence=0.14658925979680695, lift=1.9417927417463452), OrderedStatistic(items_base=frozenset({'OXH'}), items_add=frozenset({'N8U'}), confidence=0.5322014051522248, lift=1.941792741746345)]), RelationRecord(items=frozenset({'P42', 'N8U'}), support=0.05661878453038674, ordered_statistics=[OrderedStatistic(items_base=frozenset(), items_add=frozenset({'P42', 'N8U'}), confidence=0.05661878453038674, lift=1.0), OrderedStatistic(items_base=frozenset({'N8U'}), items_add=frozenset({'P42'}), confidence=0.2065795839380745, lift=1.4389972557262731), OrderedStatistic(items_base=frozenset({'P42'}), items_add=frozenset({'N8U'}), confidence=0.3943965517241379, lift=1.4389972557262731)]), RelationRecord(items=frozenset({'Q4N', 'N8U'}), support=0.03390055248618785, ordered_statistics=[OrderedStatistic(items_base=frozenset(), items_add=frozenset({'Q4N', 'N8U'}), confidence=0.03390055248618785, lift=1.0), OrderedStatistic(items_base=frozenset({'N8U'}), items_add=frozenset({'Q4N'}), confidence=0.12368972746331237, lift=1.4321801862115877), OrderedStatistic(items_base=frozenset({'Q4N'}), items_add=frozenset({'N8U'}), confidence=0.39252814738996933, lift=1.4321801862115877)]), RelationRecord(items=frozenset({'QCG', 'N8U'}), support=0.027845303867403314, ordered_statistics=[OrderedStatistic(items_base=frozenset(), items_add=frozenset({'QCG', 'N8U'}), confidence=0.027845303867403314, lift=1.0), OrderedStatistic(items_base=frozenset({'N8U'}), items_add=frozenset({'QCG'}), confidence=0.1015965166908563, lift=1.7546726642218502), OrderedStatistic(items_base=frozenset({'QCG'}), items_add=frozenset({'N8U'}), confidence=0.4809160305343511, lift=1.7546726642218502)]), RelationRecord(items=frozenset({'R6E', 'N8U'}), support=0.055248618784530384, ordered_statistics=[OrderedStatistic(items_base=frozenset(), items_add=frozenset({'R6E', 'N8U'}), confidence=0.055248618784530384, lift=1.0), OrderedStatistic(items_base=frozenset({'N8U'}), items_add=frozenset({'R6E'}), confidence=0.20158039025963553, lift=1.3413989204777217), OrderedStatistic(items_base=frozenset({'R6E'}), items_add=frozenset({'N8U'}), confidence=0.3676470588235294, lift=1.3413989204777217)]), RelationRecord(items=frozenset({'TW8', 'N8U'}), support=0.020154696132596683, ordered_statistics=[OrderedStatistic(items_base=frozenset(), items_add=frozenset({'TW8', 'N8U'}), confidence=0.020154696132596683, lift=1.0), OrderedStatistic(items_base=frozenset({'N8U'}), items_add=frozenset({'TW8'}), confidence=0.07353652636671504, lift=1.2847597753258129), OrderedStatistic(items_base=frozenset({'TW8'}), items_add=frozenset({'N8U'}), confidence=0.3521235521235521, lift=1.284759775325813)]), RelationRecord(items=frozenset({'N8U', 'U5F'}), support=0.03681767955801105, ordered_statistics=[OrderedStatistic(items_base=frozenset(), items_add=frozenset({'N8U', 'U5F'}), confidence=0.03681767955801105, lift=1.0), OrderedStatistic(items_base=frozenset({'N8U'}), items_add=frozenset({'U5F'}), confidence=0.13433317206902112, lift=1.5090804459094354), OrderedStatistic(items_base=frozenset({'U5F'}), items_add=frozenset({'N8U'}), confidence=0.4136047666335651, lift=1.5090804459094356)]), RelationRecord(items=frozenset({'X52', 'N8U'}), support=0.02276243093922652, ordered_statistics=[OrderedStatistic(items_base=frozenset(), items_add=frozenset({'X52', 'N8U'}), confidence=0.02276243093922652, lift=1.0), OrderedStatistic(items_base=frozenset({'N8U'}), items_add=frozenset({'X52'}), confidence=0.08305112078696984, lift=1.3498790285956843), OrderedStatistic(items_base=frozenset({'X52'}), items_add=frozenset({'N8U'}), confidence=0.3699712643678161, lift=1.3498790285956843)]), RelationRecord(items=frozenset({'XG4', 'N8U'}), support=0.0272707182320442, ordered_statistics=[OrderedStatistic(items_base=frozenset(), items_add=frozenset({'XG4', 'N8U'}), confidence=0.0272707182320442, lift=1.0), OrderedStatistic(items_base=frozenset({'N8U'}), items_add=frozenset({'XG4'}), confidence=0.0995000806321561, lift=1.5493388329680189), OrderedStatistic(items_base=frozenset({'XG4'}), items_add=frozenset({'N8U'}), confidence=0.42463867859600823, lift=1.549338832968019)]), RelationRecord(items=frozenset({'YMJ', 'N8U'}), support=0.02121546961325967, ordered_statistics=[OrderedStatistic(items_base=frozenset(), items_add=frozenset({'YMJ', 'N8U'}), confidence=0.02121546961325967, lift=1.0), OrderedStatistic(items_base=frozenset({'N8U'}), items_add=frozenset({'YMJ'}), confidence=0.07740686985970005, lift=1.4355167463735357), OrderedStatistic(items_base=frozenset({'YMJ'}), items_add=frozenset({'N8U'}), confidence=0.39344262295081966, lift=1.4355167463735357)]), RelationRecord(items=frozenset({'OXH', 'U5F'}), support=0.022629834254143645, ordered_statistics=[OrderedStatistic(items_base=frozenset(), items_add=frozenset({'OXH', 'U5F'}), confidence=0.022629834254143645, lift=1.0), OrderedStatistic(items_base=frozenset({'OXH'}), items_add=frozenset({'U5F'}), confidence=0.2997658079625293, lift=3.3675280065303994), OrderedStatistic(items_base=frozenset({'U5F'}), items_add=frozenset({'OXH'}), confidence=0.2542204568023833, lift=3.3675280065304)]), RelationRecord(items=frozenset({'P42', 'R6E'}), support=0.03173480662983425, ordered_statistics=[OrderedStatistic(items_base=frozenset(), items_add=frozenset({'P42', 'R6E'}), confidence=0.03173480662983425, lift=1.0), OrderedStatistic(items_base=frozenset({'P42'}), items_add=frozenset({'R6E'}), confidence=0.22105911330049258, lift=1.4710183642422483), OrderedStatistic(items_base=frozenset({'R6E'}), items_add=frozenset({'P42'}), confidence=0.21117647058823527, lift=1.4710183642422483)]), RelationRecord(items=frozenset({'R6E', 'Q4N'}), support=0.02523756906077348, ordered_statistics=[OrderedStatistic(items_base=frozenset(), items_add=frozenset({'R6E', 'Q4N'}), confidence=0.02523756906077348, lift=1.0), OrderedStatistic(items_base=frozenset({'Q4N'}), items_add=frozenset({'R6E'}), confidence=0.29222108495394067, lift=1.94455942561262), OrderedStatistic(items_base=frozenset({'R6E'}), items_add=frozenset({'Q4N'}), confidence=0.16794117647058823, lift=1.9445594256126197)]), RelationRecord(items=frozenset({'P42', '0H2', 'N8U'}), support=0.021569060773480662, ordered_statistics=[OrderedStatistic(items_base=frozenset(), items_add=frozenset({'P42', '0H2', 'N8U'}), confidence=0.021569060773480662, lift=1.0), OrderedStatistic(items_base=frozenset({'0H2'}), items_add=frozenset({'P42', 'N8U'}), confidence=0.15365239294710328, lift=2.7138059253928275), OrderedStatistic(items_base=frozenset({'N8U'}), items_add=frozenset({'P42', '0H2'}), confidence=0.07869698435736171, lift=1.8901478461627481), OrderedStatistic(items_base=frozenset({'P42'}), items_add=frozenset({'0H2', 'N8U'}), confidence=0.1502463054187192, lift=2.6474475545938643), OrderedStatistic(items_base=frozenset({'0H2', 'N8U'}), items_add=frozenset({'P42'}), confidence=0.38006230529595014, lift=2.6474475545938643), OrderedStatistic(items_base=frozenset({'P42', '0H2'}), items_add=frozenset({'N8U'}), confidence=0.5180467091295117, lift=1.8901478461627481), OrderedStatistic(items_base=frozenset({'P42', 'N8U'}), items_add=frozenset({'0H2'}), confidence=0.38095238095238093, lift=2.713805925392827)]), RelationRecord(items=frozenset({'IEV', 'FU5', 'LPF'}), support=0.02470718232044199, ordered_statistics=[OrderedStatistic(items_base=frozenset(), items_add=frozenset({'IEV', 'FU5', 'LPF'}), confidence=0.02470718232044199, lift=1.0), OrderedStatistic(items_base=frozenset({'FU5'}), items_add=frozenset({'IEV', 'LPF'}), confidence=0.3567326100829611, lift=5.398712577342472), OrderedStatistic(items_base=frozenset({'IEV'}), items_add=frozenset({'FU5', 'LPF'}), confidence=0.23137417218543047, lift=5.352597797234524), OrderedStatistic(items_base=frozenset({'LPF'}), items_add=frozenset({'IEV', 'FU5'}), confidence=0.20446232626188734, lift=5.789687273686108), OrderedStatistic(items_base=frozenset({'IEV', 'FU5'}), items_add=frozenset({'LPF'}), confidence=0.6996245306633291, lift=5.789687273686108), OrderedStatistic(items_base=frozenset({'FU5', 'LPF'}), items_add=frozenset({'IEV'}), confidence=0.5715746421267894, lift=5.352597797234524), OrderedStatistic(items_base=frozenset({'IEV', 'LPF'}), items_add=frozenset({'FU5'}), confidence=0.37391304347826093, lift=5.398712577342471)]), RelationRecord(items=frozenset({'FU5', 'N8U', 'LPF'}), support=0.022850828729281767, ordered_statistics=[OrderedStatistic(items_base=frozenset(), items_add=frozenset({'FU5', 'N8U', 'LPF'}), confidence=0.022850828729281767, lift=1.0), OrderedStatistic(items_base=frozenset({'FU5'}), items_add=frozenset({'N8U', 'LPF'}), confidence=0.3299298021697511, lift=5.8090753105763575), OrderedStatistic(items_base=frozenset({'LPF'}), items_add=frozenset({'FU5', 'N8U'}), confidence=0.1891002194586686, lift=5.541959151881318), OrderedStatistic(items_base=frozenset({'N8U'}), items_add=frozenset({'FU5', 'LPF'}), confidence=0.08337364941138525, lift=1.9287615725282121), OrderedStatistic(items_base=frozenset({'FU5', 'LPF'}), items_add=frozenset({'N8U'}), confidence=0.5286298568507157, lift=1.9287615725282121), OrderedStatistic(items_base=frozenset({'FU5', 'N8U'}), items_add=frozenset({'LPF'}), confidence=0.6696891191709844, lift=5.541959151881318), OrderedStatistic(items_base=frozenset({'N8U', 'LPF'}), items_add=frozenset({'FU5'}), confidence=0.40233463035019457, lift=5.809075310576357)]), RelationRecord(items=frozenset({'OXH', 'FU5', 'LPF'}), support=0.02103867403314917, ordered_statistics=[OrderedStatistic(items_base=frozenset(), items_add=frozenset({'OXH', 'FU5', 'LPF'}), confidence=0.02103867403314917, lift=1.0), OrderedStatistic(items_base=frozenset({'FU5'}), items_add=frozenset({'OXH', 'LPF'}), confidence=0.3037651563497128, lift=6.328440757285683), OrderedStatistic(items_base=frozenset({'LPF'}), items_add=frozenset({'OXH', 'FU5'}), confidence=0.17410387710314557, lift=6.05084519118075), OrderedStatistic(items_base=frozenset({'OXH'}), items_add=frozenset({'FU5', 'LPF'}), confidence=0.27868852459016397, lift=6.44716551007409), OrderedStatistic(items_base=frozenset({'FU5', 'LPF'}), items_add=frozenset({'OXH'}), confidence=0.48670756646216773, lift=6.44716551007409), OrderedStatistic(items_base=frozenset({'OXH', 'FU5'}), items_add=frozenset({'LPF'}), confidence=0.7311827956989247, lift=6.05084519118075), OrderedStatistic(items_base=frozenset({'OXH', 'LPF'}), items_add=frozenset({'FU5'}), confidence=0.43830570902394106, lift=6.328440757285684)]), RelationRecord(items=frozenset({'IEV', 'N8U', 'LPF'}), support=0.035535911602209945, ordered_statistics=[OrderedStatistic(items_base=frozenset(), items_add=frozenset({'IEV', 'N8U', 'LPF'}), confidence=0.035535911602209945, lift=1.0), OrderedStatistic(items_base=frozenset({'IEV'}), items_add=frozenset({'N8U', 'LPF'}), confidence=0.33278145695364236, lift=5.859284407452264), OrderedStatistic(items_base=frozenset({'LPF'}), items_add=frozenset({'IEV', 'N8U'}), confidence=0.2940746159473299, lift=5.662500583666672), OrderedStatistic(items_base=frozenset({'N8U'}), items_add=frozenset({'IEV', 'LPF'}), confidence=0.12965650701499756, lift=1.9621929573339933), OrderedStatistic(items_base=frozenset({'IEV', 'LPF'}), items_add=frozenset({'N8U'}), confidence=0.5377926421404683, lift=1.9621929573339936), OrderedStatistic(items_base=frozenset({'IEV', 'N8U'}), items_add=frozenset({'LPF'}), confidence=0.6842553191489361, lift=5.662500583666671), OrderedStatistic(items_base=frozenset({'N8U', 'LPF'}), items_add=frozenset({'IEV'}), confidence=0.6256809338521401, lift=5.859284407452264)]), RelationRecord(items=frozenset({'OXH', 'IEV', 'LPF'}), support=0.031823204419889506, ordered_statistics=[OrderedStatistic(items_base=frozenset(), items_add=frozenset({'OXH', 'IEV', 'LPF'}), confidence=0.031823204419889506, lift=1.0), OrderedStatistic(items_base=frozenset({'IEV'}), items_add=frozenset({'OXH', 'LPF'}), confidence=0.2980132450331126, lift=6.208609271523179), OrderedStatistic(items_base=frozenset({'LPF'}), items_add=frozenset({'OXH', 'IEV'}), confidence=0.26335040234089246, lift=6.200107027016329), OrderedStatistic(items_base=frozenset({'OXH'}), items_add=frozenset({'IEV', 'LPF'}), confidence=0.42154566744730687, lift=6.379579080933324), OrderedStatistic(items_base=frozenset({'IEV', 'LPF'}), items_add=frozenset({'OXH'}), confidence=0.4816053511705687, lift=6.379579080933324), OrderedStatistic(items_base=frozenset({'OXH', 'IEV'}), items_add=frozenset({'LPF'}), confidence=0.749219562955255, lift=6.20010702701633), OrderedStatistic(items_base=frozenset({'OXH', 'LPF'}), items_add=frozenset({'IEV'}), confidence=0.6629834254143647, lift=6.208609271523179)]), RelationRecord(items=frozenset({'U5F', 'IEV', 'LPF'}), support=0.021259668508287293, ordered_statistics=[OrderedStatistic(items_base=frozenset(), items_add=frozenset({'IEV', 'LPF', 'U5F'}), confidence=0.021259668508287293, lift=1.0), OrderedStatistic(items_base=frozenset({'IEV'}), items_add=frozenset({'LPF', 'U5F'}), confidence=0.19908940397350994, lift=6.19587037813021), OrderedStatistic(items_base=frozenset({'LPF'}), items_add=frozenset({'IEV', 'U5F'}), confidence=0.17593269934162398, lift=5.630095222919721), OrderedStatistic(items_base=frozenset({'U5F'}), items_add=frozenset({'IEV', 'LPF'}), confidence=0.23882820258192652, lift=3.6143732999438716), OrderedStatistic(items_base=frozenset({'IEV', 'LPF'}), items_add=frozenset({'U5F'}), confidence=0.32173913043478264, lift=3.6143732999438716), OrderedStatistic(items_base=frozenset({'IEV', 'U5F'}), items_add=frozenset({'LPF'}), confidence=0.6803394625176803, lift=5.630095222919721), OrderedStatistic(items_base=frozenset({'U5F', 'LPF'}), items_add=frozenset({'IEV'}), confidence=0.6616231086657497, lift=6.195870378130209)]), RelationRecord(items=frozenset({'OXH', 'IEV', 'N8U'}), support=0.025767955801104973, ordered_statistics=[OrderedStatistic(items_base=frozenset(), items_add=frozenset({'OXH', 'IEV', 'N8U'}), confidence=0.025767955801104973, lift=1.0), OrderedStatistic(items_base=frozenset({'IEV'}), items_add=frozenset({'OXH', 'N8U'}), confidence=0.24130794701986755, lift=6.006152146671621), OrderedStatistic(items_base=frozenset({'N8U'}), items_add=frozenset({'OXH', 'IEV'}), confidence=0.09401709401709402, lift=2.2134617608082747), OrderedStatistic(items_base=frozenset({'OXH'}), items_add=frozenset({'IEV', 'N8U'}), confidence=0.3413348946135832, lift=6.572512332453037), OrderedStatistic(items_base=frozenset({'IEV', 'N8U'}), items_add=frozenset({'OXH'}), confidence=0.4961702127659574, lift=6.572512332453037), OrderedStatistic(items_base=frozenset({'OXH', 'IEV'}), items_add=frozenset({'N8U'}), confidence=0.6066597294484911, lift=2.2134617608082747), OrderedStatistic(items_base=frozenset({'OXH', 'N8U'}), items_add=frozenset({'IEV'}), confidence=0.6413641364136414, lift=6.006152146671621)]), RelationRecord(items=frozenset({'OXH', 'N8U', 'LPF'}), support=0.028994475138121548, ordered_statistics=[OrderedStatistic(items_base=frozenset(), items_add=frozenset({'OXH', 'N8U', 'LPF'}), confidence=0.028994475138121548, lift=1.0), OrderedStatistic(items_base=frozenset({'LPF'}), items_add=frozenset({'OXH', 'N8U'}), confidence=0.23994147768836868, lift=5.97214074004328), OrderedStatistic(items_base=frozenset({'N8U'}), items_add=frozenset({'OXH', 'LPF'}), confidence=0.10578938880825674, lift=2.2039456001720152), OrderedStatistic(items_base=frozenset({'OXH'}), items_add=frozenset({'N8U', 'LPF'}), confidence=0.38407494145199067, lift=6.762408988600225), OrderedStatistic(items_base=frozenset({'N8U', 'LPF'}), items_add=frozenset({'OXH'}), confidence=0.5105058365758756, lift=6.762408988600225), OrderedStatistic(items_base=frozenset({'OXH', 'LPF'}), items_add=frozenset({'N8U'}), confidence=0.6040515653775322, lift=2.2039456001720152), OrderedStatistic(items_base=frozenset({'OXH', 'N8U'}), items_add=frozenset({'LPF'}), confidence=0.7216721672167217, lift=5.9721407400432795)]), RelationRecord(items=frozenset({'OXH', 'IEV', 'N8U', 'LPF'}), support=0.020906077348066297, ordered_statistics=[OrderedStatistic(items_base=frozenset(), items_add=frozenset({'OXH', 'IEV', 'N8U', 'LPF'}), confidence=0.020906077348066297, lift=1.0), OrderedStatistic(items_base=frozenset({'IEV'}), items_add=frozenset({'OXH', 'N8U', 'LPF'}), confidence=0.19577814569536423, lift=6.7522569304231945), OrderedStatistic(items_base=frozenset({'LPF'}), items_add=frozenset({'OXH', 'IEV', 'N8U'}), confidence=0.1730065837600585, lift=6.714020510413934), OrderedStatistic(items_base=frozenset({'N8U'}), items_add=frozenset({'OXH', 'IEV', 'LPF'}), confidence=0.07627801967424608, lift=2.3969308265691907), OrderedStatistic(items_base=frozenset({'OXH'}), items_add=frozenset({'IEV', 'N8U', 'LPF'}), confidence=0.27693208430913346, lift=7.793020407331025), OrderedStatistic(items_base=frozenset({'IEV', 'LPF'}), items_add=frozenset({'OXH', 'N8U'}), confidence=0.31638795986622076, lift=7.874892840454615), OrderedStatistic(items_base=frozenset({'IEV', 'N8U'}), items_add=frozenset({'OXH', 'LPF'}), confidence=0.40255319148936164, lift=8.386524822695034), OrderedStatistic(items_base=frozenset({'OXH', 'IEV'}), items_add=frozenset({'N8U', 'LPF'}), confidence=0.49219562955254936, lift=8.666090364689829), OrderedStatistic(items_base=frozenset({'N8U', 'LPF'}), items_add=frozenset({'OXH', 'IEV'}), confidence=0.36809338521400775, lift=8.666090364689829), OrderedStatistic(items_base=frozenset({'OXH', 'LPF'}), items_add=frozenset({'IEV', 'N8U'}), confidence=0.4355432780847145, lift=8.386524822695034), OrderedStatistic(items_base=frozenset({'OXH', 'N8U'}), items_add=frozenset({'IEV', 'LPF'}), confidence=0.5203520352035204, lift=7.874892840454615), OrderedStatistic(items_base=frozenset({'IEV', 'N8U', 'LPF'}), items_add=frozenset({'OXH'}), confidence=0.5883084577114427, lift=7.793020407331025), OrderedStatistic(items_base=frozenset({'OXH', 'IEV', 'LPF'}), items_add=frozenset({'N8U'}), confidence=0.6569444444444443, lift=2.3969308265691907), OrderedStatistic(items_base=frozenset({'OXH', 'IEV', 'N8U'}), items_add=frozenset({'LPF'}), confidence=0.8113207547169811, lift=6.714020510413934), OrderedStatistic(items_base=frozenset({'OXH', 'N8U', 'LPF'}), items_add=frozenset({'IEV'}), confidence=0.7210365853658536, lift=6.752256930423194)])]\n"
     ]
    }
   ],
   "source": [
    "#need to install apyori at home using terminal command pip install apyori\n",
    "from apyori import apriori\n",
    "\n",
    "#type cast the transactions from panadas into normal list format and \n",
    "#run apriori\n",
    "transaction_list2 = list(transactions)\n",
    "results2 = list(apriori(transaction_list2, min_support = 0.02))\n",
    "\n",
    "#print first 5 rules\n",
    "print(results2)"
   ]
  },
  {
   "cell_type": "code",
   "execution_count": 10,
   "metadata": {},
   "outputs": [
    {
     "name": "stdout",
     "output_type": "stream",
     "text": [
      "       Left_side       Right_side   Support  Confidence      Lift\n",
      "0                             01F  0.041635    0.041635  1.000000\n",
      "1                             0H2  0.140376    0.140376  1.000000\n",
      "2                             0WT  0.025503    0.025503  1.000000\n",
      "3                             1EO  0.025768    0.025768  1.000000\n",
      "4                             1L6  0.023646    0.023646  1.000000\n",
      "5                             1TS  0.026519    0.026519  1.000000\n",
      "6                             1VL  0.062276    0.062276  1.000000\n",
      "7                             29A  0.097635    0.097635  1.000000\n",
      "8                             2ML  0.057635    0.057635  1.000000\n",
      "9                             69K  0.025680    0.025680  1.000000\n",
      "10                            6BZ  0.051801    0.051801  1.000000\n",
      "11                            8HU  0.058740    0.058740  1.000000\n",
      "12                            9ZX  0.032398    0.032398  1.000000\n",
      "13                            A38  0.042077    0.042077  1.000000\n",
      "14                            BZU  0.022630    0.022630  1.000000\n",
      "15                            C8Z  0.053967    0.053967  1.000000\n",
      "16                            EKM  0.029215    0.029215  1.000000\n",
      "17                            FEW  0.095337    0.095337  1.000000\n",
      "18                            FU5  0.069260    0.069260  1.000000\n",
      "19                            FZT  0.027138    0.027138  1.000000\n",
      "20                            H15  0.101613    0.101613  1.000000\n",
      "21                            H8O  0.028950    0.028950  1.000000\n",
      "22                            IEV  0.106785    0.106785  1.000000\n",
      "23                            ILF  0.027713    0.027713  1.000000\n",
      "24                            J4R  0.069525    0.069525  1.000000\n",
      "25                            JKC  0.023337    0.023337  1.000000\n",
      "26                            JPI  0.059006    0.059006  1.000000\n",
      "27                            LDZ  0.023470    0.023470  1.000000\n",
      "28                            LGI  0.021171    0.021171  1.000000\n",
      "29                            LPF  0.120840    0.120840  1.000000\n",
      "..           ...              ...       ...         ...       ...\n",
      "260      U5F,LPF              IEV  0.021260    0.661623  6.195870\n",
      "261                   OXH,IEV,N8U  0.025768    0.025768  1.000000\n",
      "262          IEV          OXH,N8U  0.025768    0.241308  6.006152\n",
      "263          N8U          OXH,IEV  0.025768    0.094017  2.213462\n",
      "264          OXH          IEV,N8U  0.025768    0.341335  6.572512\n",
      "265      IEV,N8U              OXH  0.025768    0.496170  6.572512\n",
      "266      OXH,IEV              N8U  0.025768    0.606660  2.213462\n",
      "267      OXH,N8U              IEV  0.025768    0.641364  6.006152\n",
      "268                   OXH,N8U,LPF  0.028994    0.028994  1.000000\n",
      "269          LPF          OXH,N8U  0.028994    0.239941  5.972141\n",
      "270          N8U          OXH,LPF  0.028994    0.105789  2.203946\n",
      "271          OXH          N8U,LPF  0.028994    0.384075  6.762409\n",
      "272      N8U,LPF              OXH  0.028994    0.510506  6.762409\n",
      "273      OXH,LPF              N8U  0.028994    0.604052  2.203946\n",
      "274      OXH,N8U              LPF  0.028994    0.721672  5.972141\n",
      "275               OXH,IEV,N8U,LPF  0.020906    0.020906  1.000000\n",
      "276          IEV      OXH,N8U,LPF  0.020906    0.195778  6.752257\n",
      "277          LPF      OXH,IEV,N8U  0.020906    0.173007  6.714021\n",
      "278          N8U      OXH,IEV,LPF  0.020906    0.076278  2.396931\n",
      "279          OXH      IEV,N8U,LPF  0.020906    0.276932  7.793020\n",
      "280      IEV,LPF          OXH,N8U  0.020906    0.316388  7.874893\n",
      "281      IEV,N8U          OXH,LPF  0.020906    0.402553  8.386525\n",
      "282      OXH,IEV          N8U,LPF  0.020906    0.492196  8.666090\n",
      "283      N8U,LPF          OXH,IEV  0.020906    0.368093  8.666090\n",
      "284      OXH,LPF          IEV,N8U  0.020906    0.435543  8.386525\n",
      "285      OXH,N8U          IEV,LPF  0.020906    0.520352  7.874893\n",
      "286  IEV,N8U,LPF              OXH  0.020906    0.588308  7.793020\n",
      "287  OXH,IEV,LPF              N8U  0.020906    0.656944  2.396931\n",
      "288  OXH,IEV,N8U              LPF  0.020906    0.811321  6.714021\n",
      "289  OXH,N8U,LPF              IEV  0.020906    0.721037  6.752257\n",
      "\n",
      "[290 rows x 5 columns]\n"
     ]
    }
   ],
   "source": [
    "def convert_apriori_results_to_pandas_df(results):\n",
    "    rules = []\n",
    "    \n",
    "    for rule_set in results:\n",
    "        for rule in rule_set.ordered_statistics:\n",
    "            #items_base = left side of rules, items_add = right side\n",
    "            #support, confidence, lift for respective rules\n",
    "            rules.append([','.join(rule.items_base), ','.join(rule.items_add), rule_set.support, \n",
    "                          rule.confidence, rule.lift])\n",
    "        \n",
    "    #typecaset to pandas df\n",
    "    return pd.DataFrame(rules, columns = ['Left_side', 'Right_side', 'Support', 'Confidence', 'Lift'])\n",
    "\n",
    "result_df = convert_apriori_results_to_pandas_df(results2)\n",
    "\n",
    "print(result_df)"
   ]
  }
 ],
 "metadata": {
  "kernelspec": {
   "display_name": "Python 3",
   "language": "python",
   "name": "python3"
  },
  "language_info": {
   "codemirror_mode": {
    "name": "ipython",
    "version": 3
   },
   "file_extension": ".py",
   "mimetype": "text/x-python",
   "name": "python",
   "nbconvert_exporter": "python",
   "pygments_lexer": "ipython3",
   "version": "3.7.3"
  }
 },
 "nbformat": 4,
 "nbformat_minor": 2
}
