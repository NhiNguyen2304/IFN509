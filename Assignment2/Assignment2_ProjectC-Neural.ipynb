{
 "cells": [
  {
   "cell_type": "code",
   "execution_count": 1,
   "metadata": {},
   "outputs": [],
   "source": [
    "import pandas as pd\n",
    "import numpy as np\n",
    "import matplotlib.pyplot as plt\n",
    "import seaborn as sns\n",
    "from sklearn.model_selection import train_test_split\n",
    "from sklearn.metrics import classification_report, accuracy_score\n",
    "from sklearn.model_selection import GridSearchCV\n",
    "from sklearn.preprocessing import StandardScaler"
   ]
  },
  {
   "cell_type": "code",
   "execution_count": 2,
   "metadata": {},
   "outputs": [],
   "source": [
    "# CSV dataset file name\n",
    "file_name = 'D2.csv'"
   ]
  },
  {
   "cell_type": "code",
   "execution_count": 3,
   "metadata": {},
   "outputs": [],
   "source": [
    "# Please put csv file in the same folder with this jupyter notebook\n",
    "df_prep = pd.read_csv(file_name)"
   ]
  },
  {
   "cell_type": "code",
   "execution_count": 4,
   "metadata": {},
   "outputs": [
    {
     "name": "stdout",
     "output_type": "stream",
     "text": [
      "<class 'pandas.core.frame.DataFrame'>\n",
      "RangeIndex: 20000 entries, 0 to 19999\n",
      "Data columns (total 30 columns):\n",
      " #   Column                    Non-Null Count  Dtype \n",
      "---  ------                    --------------  ----- \n",
      " 0   race                      20000 non-null  object\n",
      " 1   gender                    20000 non-null  object\n",
      " 2   age                       20000 non-null  object\n",
      " 3   admission_type_id         20000 non-null  int64 \n",
      " 4   discharge_disposition_id  20000 non-null  int64 \n",
      " 5   admission_source_id       20000 non-null  int64 \n",
      " 6   time_in_hospital          20000 non-null  int64 \n",
      " 7   medical_specialty         20000 non-null  object\n",
      " 8   num_lab_procedures        20000 non-null  int64 \n",
      " 9   num_procedures            20000 non-null  int64 \n",
      " 10  num_medications           20000 non-null  int64 \n",
      " 11  number_outpatient         20000 non-null  int64 \n",
      " 12  number_emergency          20000 non-null  int64 \n",
      " 13  number_inpatient          20000 non-null  int64 \n",
      " 14  number_diagnoses          20000 non-null  int64 \n",
      " 15  max_glu_serum             20000 non-null  object\n",
      " 16  A1Cresult                 20000 non-null  object\n",
      " 17  metformin                 20000 non-null  object\n",
      " 18  repaglinide               20000 non-null  object\n",
      " 19  nateglinide               20000 non-null  object\n",
      " 20  chlorpropamide            20000 non-null  object\n",
      " 21  glimepiride               20000 non-null  object\n",
      " 22  acetohexamide             20000 non-null  object\n",
      " 23  glipizide                 20000 non-null  object\n",
      " 24  glyburide                 20000 non-null  object\n",
      " 25  tolbutamide               20000 non-null  object\n",
      " 26  insulin                   20000 non-null  object\n",
      " 27  change                    20000 non-null  bool  \n",
      " 28  diabetesMed               20000 non-null  bool  \n",
      " 29  readmitted                20000 non-null  int64 \n",
      "dtypes: bool(2), int64(12), object(16)\n",
      "memory usage: 4.3+ MB\n",
      "None\n"
     ]
    }
   ],
   "source": [
    "print(df_prep.info())"
   ]
  },
  {
   "cell_type": "markdown",
   "metadata": {},
   "source": [
    "# Predictive modelling using Regression"
   ]
  },
  {
   "cell_type": "markdown",
   "metadata": {},
   "source": [
    "# 1. Pre-processing"
   ]
  },
  {
   "cell_type": "markdown",
   "metadata": {},
   "source": [
    "### a. Check Invalid values"
   ]
  },
  {
   "cell_type": "code",
   "execution_count": 5,
   "metadata": {},
   "outputs": [],
   "source": [
    "#Checking for missing values in dataset\n",
    "#In the dataset missing values are represented as '?' sign\n",
    "def checkInvalidValue(value):\n",
    "    print('**********************************')\n",
    "    print(f'Checking for missing ' + value)\n",
    "    for col in df_prep.columns:\n",
    "        if df_prep[col].dtype == object:\n",
    "            print(col,df_prep[col][df_prep[col] == value].count())"
   ]
  },
  {
   "cell_type": "code",
   "execution_count": 6,
   "metadata": {},
   "outputs": [
    {
     "name": "stdout",
     "output_type": "stream",
     "text": [
      "**********************************\n",
      "Checking for missing ?\n",
      "race 0\n",
      "gender 0\n",
      "age 0\n",
      "medical_specialty 0\n",
      "max_glu_serum 0\n",
      "A1Cresult 0\n",
      "metformin 0\n",
      "repaglinide 0\n",
      "nateglinide 0\n",
      "chlorpropamide 0\n",
      "glimepiride 0\n",
      "acetohexamide 0\n",
      "glipizide 0\n",
      "glyburide 0\n",
      "tolbutamide 0\n",
      "insulin 0\n",
      "**********************************\n",
      "Checking for missing NaN\n",
      "race 0\n",
      "gender 0\n",
      "age 0\n",
      "medical_specialty 0\n",
      "max_glu_serum 0\n",
      "A1Cresult 0\n",
      "metformin 0\n",
      "repaglinide 0\n",
      "nateglinide 0\n",
      "chlorpropamide 0\n",
      "glimepiride 0\n",
      "acetohexamide 0\n",
      "glipizide 0\n",
      "glyburide 0\n",
      "tolbutamide 0\n",
      "insulin 0\n",
      "**********************************\n",
      "Checking for missing Unknown/Invalid\n",
      "race 0\n",
      "gender 0\n",
      "age 0\n",
      "medical_specialty 0\n",
      "max_glu_serum 0\n",
      "A1Cresult 0\n",
      "metformin 0\n",
      "repaglinide 0\n",
      "nateglinide 0\n",
      "chlorpropamide 0\n",
      "glimepiride 0\n",
      "acetohexamide 0\n",
      "glipizide 0\n",
      "glyburide 0\n",
      "tolbutamide 0\n",
      "insulin 0\n"
     ]
    }
   ],
   "source": [
    "checkInvalidValue('?')\n",
    "checkInvalidValue('NaN')\n",
    "checkInvalidValue('Unknown/Invalid')\n"
   ]
  },
  {
   "cell_type": "markdown",
   "metadata": {},
   "source": [
    "### b. Variables"
   ]
  },
  {
   "cell_type": "markdown",
   "metadata": {},
   "source": [
    "###### Create a new collumn name medchange to record the changing in 10 drugs that have correlation to diabetes patient readmission\n",
    "###### No, Steady: 0\n",
    "###### Yes: 1"
   ]
  },
  {
   "cell_type": "code",
   "execution_count": 7,
   "metadata": {},
   "outputs": [
    {
     "data": {
      "text/plain": [
       "0    13610\n",
       "1     6085\n",
       "2      279\n",
       "3       26\n",
       "Name: medchange, dtype: int64"
      ]
     },
     "execution_count": 7,
     "metadata": {},
     "output_type": "execute_result"
    }
   ],
   "source": [
    "variables = ['metformin', 'repaglinide', 'nateglinide', 'chlorpropamide', 'glimepiride', \n",
    "'acetohexamide', 'glipizide', 'glyburide', 'tolbutamide', 'insulin']\n",
    "for col in variables:\n",
    "    colname = str(col) + 'temp'\n",
    "    df_prep[colname] = df_prep[col].apply(lambda x: 0 if (x == 'No' or x == 'Steady') else 1)\n",
    "df_prep['medchange'] = 0\n",
    "for col in variables:\n",
    "    colname = str(col) + 'temp'\n",
    "    df_prep['medchange'] = df_prep['medchange'] + df_prep[colname]\n",
    "    del df_prep[colname]\n",
    "    \n",
    "df_prep['medchange'].value_counts()  "
   ]
  },
  {
   "cell_type": "markdown",
   "metadata": {},
   "source": [
    "Encoding some category variables to numeric values"
   ]
  },
  {
   "cell_type": "code",
   "execution_count": 8,
   "metadata": {},
   "outputs": [],
   "source": [
    "df_prep['change'] = df_prep['change'].replace(True, 1)\n",
    "df_prep['change'] = df_prep['change'].replace(False, 0)\n",
    "df_prep['gender'] = df_prep['gender'].replace('Male', 1)\n",
    "df_prep['gender'] = df_prep['gender'].replace('Female', 0)\n",
    "df_prep['diabetesMed'] = df_prep['diabetesMed'].replace(True, 1)\n",
    "df_prep['diabetesMed'] = df_prep['diabetesMed'].replace(False, 0)\n",
    "\n",
    "# Medicine change\n",
    "for col in variables:\n",
    "    df_prep[col] = df_prep[col].replace('No', 0)\n",
    "    df_prep[col] = df_prep[col].replace('Steady', 1)\n",
    "    df_prep[col] = df_prep[col].replace('Up', 1)\n",
    "    df_prep[col] = df_prep[col].replace('Down', 1)"
   ]
  },
  {
   "cell_type": "markdown",
   "metadata": {},
   "source": [
    "Mapping values for A1Cresult, max_glu_serum to numeric values"
   ]
  },
  {
   "cell_type": "code",
   "execution_count": 9,
   "metadata": {},
   "outputs": [],
   "source": [
    "df_prep['A1Cresult'] = df_prep['A1Cresult'].replace('>7', 1)\n",
    "df_prep['A1Cresult'] = df_prep['A1Cresult'].replace('>8', 1)\n",
    "df_prep['A1Cresult'] = df_prep['A1Cresult'].replace('Norm', 0)\n",
    "df_prep['A1Cresult'] = df_prep['A1Cresult'].replace('None', -99)\n",
    "df_prep['max_glu_serum'] = df_prep['max_glu_serum'].replace('>200', 1)\n",
    "df_prep['max_glu_serum'] = df_prep['max_glu_serum'].replace('>300', 1)\n",
    "df_prep['max_glu_serum'] = df_prep['max_glu_serum'].replace('Norm', 0)\n",
    "df_prep['max_glu_serum'] = df_prep['max_glu_serum'].replace('None', -99)"
   ]
  },
  {
   "cell_type": "markdown",
   "metadata": {},
   "source": [
    "Age mapping"
   ]
  },
  {
   "cell_type": "code",
   "execution_count": 10,
   "metadata": {},
   "outputs": [
    {
     "name": "stdout",
     "output_type": "stream",
     "text": [
      "[ 9  8  6  5  7 10  4  2  3  1]\n"
     ]
    }
   ],
   "source": [
    "# mapping\n",
    "age_map = {'[0-10)':1, '[10-20)':2, '[20-30)':3, '[30-40)':4, '[40-50)':5, '[50-60)':6, '[60-70)':7, '[70-80)':8, '[80-90)':9, '[90-100)':10}\n",
    "#print(age_map)\n",
    "df_prep['age'] = df_prep['age'].map(age_map)\n",
    "print(df_prep['age'].unique())"
   ]
  },
  {
   "cell_type": "code",
   "execution_count": 11,
   "metadata": {},
   "outputs": [
    {
     "name": "stdout",
     "output_type": "stream",
     "text": [
      "[1 3 5 2 4]\n"
     ]
    }
   ],
   "source": [
    "# mapping\n",
    "race_map = {'AfricanAmerican':1, 'Asian':2, 'Caucasian':3, 'Hispanic':4, 'Other':5}\n",
    "#print(age_map)\n",
    "df_prep['race'] = df_prep['race'].map(race_map)\n",
    "print(df_prep['race'].unique())"
   ]
  },
  {
   "cell_type": "markdown",
   "metadata": {},
   "source": [
    "Consider dropping for medical_specialty for missing a lot of information, and it may not affect to our predictive model. \n",
    "Dropping race because it doesn't help in predictive model"
   ]
  },
  {
   "cell_type": "code",
   "execution_count": 12,
   "metadata": {},
   "outputs": [],
   "source": [
    "df_prep = df_prep.drop(['medical_specialty'], axis = 1)"
   ]
  },
  {
   "cell_type": "code",
   "execution_count": 13,
   "metadata": {},
   "outputs": [
    {
     "data": {
      "text/html": [
       "<div>\n",
       "<style scoped>\n",
       "    .dataframe tbody tr th:only-of-type {\n",
       "        vertical-align: middle;\n",
       "    }\n",
       "\n",
       "    .dataframe tbody tr th {\n",
       "        vertical-align: top;\n",
       "    }\n",
       "\n",
       "    .dataframe thead th {\n",
       "        text-align: right;\n",
       "    }\n",
       "</style>\n",
       "<table border=\"1\" class=\"dataframe\">\n",
       "  <thead>\n",
       "    <tr style=\"text-align: right;\">\n",
       "      <th></th>\n",
       "      <th>0</th>\n",
       "      <th>1</th>\n",
       "      <th>2</th>\n",
       "      <th>3</th>\n",
       "      <th>4</th>\n",
       "    </tr>\n",
       "  </thead>\n",
       "  <tbody>\n",
       "    <tr>\n",
       "      <th>race</th>\n",
       "      <td>1</td>\n",
       "      <td>3</td>\n",
       "      <td>3</td>\n",
       "      <td>1</td>\n",
       "      <td>1</td>\n",
       "    </tr>\n",
       "    <tr>\n",
       "      <th>gender</th>\n",
       "      <td>0</td>\n",
       "      <td>0</td>\n",
       "      <td>0</td>\n",
       "      <td>0</td>\n",
       "      <td>1</td>\n",
       "    </tr>\n",
       "    <tr>\n",
       "      <th>age</th>\n",
       "      <td>9</td>\n",
       "      <td>8</td>\n",
       "      <td>6</td>\n",
       "      <td>6</td>\n",
       "      <td>9</td>\n",
       "    </tr>\n",
       "    <tr>\n",
       "      <th>admission_type_id</th>\n",
       "      <td>1</td>\n",
       "      <td>1</td>\n",
       "      <td>3</td>\n",
       "      <td>1</td>\n",
       "      <td>1</td>\n",
       "    </tr>\n",
       "    <tr>\n",
       "      <th>discharge_disposition_id</th>\n",
       "      <td>3</td>\n",
       "      <td>3</td>\n",
       "      <td>1</td>\n",
       "      <td>1</td>\n",
       "      <td>3</td>\n",
       "    </tr>\n",
       "    <tr>\n",
       "      <th>admission_source_id</th>\n",
       "      <td>7</td>\n",
       "      <td>5</td>\n",
       "      <td>1</td>\n",
       "      <td>7</td>\n",
       "      <td>7</td>\n",
       "    </tr>\n",
       "    <tr>\n",
       "      <th>time_in_hospital</th>\n",
       "      <td>1</td>\n",
       "      <td>3</td>\n",
       "      <td>3</td>\n",
       "      <td>6</td>\n",
       "      <td>4</td>\n",
       "    </tr>\n",
       "    <tr>\n",
       "      <th>num_lab_procedures</th>\n",
       "      <td>33</td>\n",
       "      <td>48</td>\n",
       "      <td>25</td>\n",
       "      <td>41</td>\n",
       "      <td>22</td>\n",
       "    </tr>\n",
       "    <tr>\n",
       "      <th>num_procedures</th>\n",
       "      <td>0</td>\n",
       "      <td>2</td>\n",
       "      <td>1</td>\n",
       "      <td>0</td>\n",
       "      <td>0</td>\n",
       "    </tr>\n",
       "    <tr>\n",
       "      <th>num_medications</th>\n",
       "      <td>14</td>\n",
       "      <td>7</td>\n",
       "      <td>15</td>\n",
       "      <td>19</td>\n",
       "      <td>12</td>\n",
       "    </tr>\n",
       "    <tr>\n",
       "      <th>number_outpatient</th>\n",
       "      <td>0</td>\n",
       "      <td>0</td>\n",
       "      <td>0</td>\n",
       "      <td>0</td>\n",
       "      <td>0</td>\n",
       "    </tr>\n",
       "    <tr>\n",
       "      <th>number_emergency</th>\n",
       "      <td>1</td>\n",
       "      <td>0</td>\n",
       "      <td>0</td>\n",
       "      <td>0</td>\n",
       "      <td>0</td>\n",
       "    </tr>\n",
       "    <tr>\n",
       "      <th>number_inpatient</th>\n",
       "      <td>1</td>\n",
       "      <td>2</td>\n",
       "      <td>0</td>\n",
       "      <td>0</td>\n",
       "      <td>1</td>\n",
       "    </tr>\n",
       "    <tr>\n",
       "      <th>number_diagnoses</th>\n",
       "      <td>9</td>\n",
       "      <td>9</td>\n",
       "      <td>8</td>\n",
       "      <td>9</td>\n",
       "      <td>8</td>\n",
       "    </tr>\n",
       "    <tr>\n",
       "      <th>max_glu_serum</th>\n",
       "      <td>-99</td>\n",
       "      <td>-99</td>\n",
       "      <td>-99</td>\n",
       "      <td>-99</td>\n",
       "      <td>-99</td>\n",
       "    </tr>\n",
       "    <tr>\n",
       "      <th>A1Cresult</th>\n",
       "      <td>-99</td>\n",
       "      <td>-99</td>\n",
       "      <td>-99</td>\n",
       "      <td>-99</td>\n",
       "      <td>-99</td>\n",
       "    </tr>\n",
       "    <tr>\n",
       "      <th>metformin</th>\n",
       "      <td>0</td>\n",
       "      <td>0</td>\n",
       "      <td>0</td>\n",
       "      <td>0</td>\n",
       "      <td>0</td>\n",
       "    </tr>\n",
       "    <tr>\n",
       "      <th>repaglinide</th>\n",
       "      <td>0</td>\n",
       "      <td>0</td>\n",
       "      <td>0</td>\n",
       "      <td>0</td>\n",
       "      <td>0</td>\n",
       "    </tr>\n",
       "    <tr>\n",
       "      <th>nateglinide</th>\n",
       "      <td>0</td>\n",
       "      <td>0</td>\n",
       "      <td>0</td>\n",
       "      <td>0</td>\n",
       "      <td>0</td>\n",
       "    </tr>\n",
       "    <tr>\n",
       "      <th>chlorpropamide</th>\n",
       "      <td>0</td>\n",
       "      <td>0</td>\n",
       "      <td>0</td>\n",
       "      <td>0</td>\n",
       "      <td>0</td>\n",
       "    </tr>\n",
       "    <tr>\n",
       "      <th>glimepiride</th>\n",
       "      <td>0</td>\n",
       "      <td>0</td>\n",
       "      <td>0</td>\n",
       "      <td>0</td>\n",
       "      <td>0</td>\n",
       "    </tr>\n",
       "    <tr>\n",
       "      <th>acetohexamide</th>\n",
       "      <td>0</td>\n",
       "      <td>0</td>\n",
       "      <td>0</td>\n",
       "      <td>0</td>\n",
       "      <td>0</td>\n",
       "    </tr>\n",
       "    <tr>\n",
       "      <th>glipizide</th>\n",
       "      <td>0</td>\n",
       "      <td>0</td>\n",
       "      <td>0</td>\n",
       "      <td>0</td>\n",
       "      <td>0</td>\n",
       "    </tr>\n",
       "    <tr>\n",
       "      <th>glyburide</th>\n",
       "      <td>0</td>\n",
       "      <td>0</td>\n",
       "      <td>0</td>\n",
       "      <td>0</td>\n",
       "      <td>0</td>\n",
       "    </tr>\n",
       "    <tr>\n",
       "      <th>tolbutamide</th>\n",
       "      <td>0</td>\n",
       "      <td>0</td>\n",
       "      <td>0</td>\n",
       "      <td>0</td>\n",
       "      <td>0</td>\n",
       "    </tr>\n",
       "    <tr>\n",
       "      <th>insulin</th>\n",
       "      <td>1</td>\n",
       "      <td>1</td>\n",
       "      <td>1</td>\n",
       "      <td>1</td>\n",
       "      <td>1</td>\n",
       "    </tr>\n",
       "    <tr>\n",
       "      <th>change</th>\n",
       "      <td>0</td>\n",
       "      <td>0</td>\n",
       "      <td>0</td>\n",
       "      <td>0</td>\n",
       "      <td>0</td>\n",
       "    </tr>\n",
       "    <tr>\n",
       "      <th>diabetesMed</th>\n",
       "      <td>1</td>\n",
       "      <td>1</td>\n",
       "      <td>1</td>\n",
       "      <td>1</td>\n",
       "      <td>1</td>\n",
       "    </tr>\n",
       "    <tr>\n",
       "      <th>readmitted</th>\n",
       "      <td>1</td>\n",
       "      <td>1</td>\n",
       "      <td>0</td>\n",
       "      <td>1</td>\n",
       "      <td>1</td>\n",
       "    </tr>\n",
       "    <tr>\n",
       "      <th>medchange</th>\n",
       "      <td>0</td>\n",
       "      <td>0</td>\n",
       "      <td>0</td>\n",
       "      <td>0</td>\n",
       "      <td>0</td>\n",
       "    </tr>\n",
       "  </tbody>\n",
       "</table>\n",
       "</div>"
      ],
      "text/plain": [
       "                           0   1   2   3   4\n",
       "race                       1   3   3   1   1\n",
       "gender                     0   0   0   0   1\n",
       "age                        9   8   6   6   9\n",
       "admission_type_id          1   1   3   1   1\n",
       "discharge_disposition_id   3   3   1   1   3\n",
       "admission_source_id        7   5   1   7   7\n",
       "time_in_hospital           1   3   3   6   4\n",
       "num_lab_procedures        33  48  25  41  22\n",
       "num_procedures             0   2   1   0   0\n",
       "num_medications           14   7  15  19  12\n",
       "number_outpatient          0   0   0   0   0\n",
       "number_emergency           1   0   0   0   0\n",
       "number_inpatient           1   2   0   0   1\n",
       "number_diagnoses           9   9   8   9   8\n",
       "max_glu_serum            -99 -99 -99 -99 -99\n",
       "A1Cresult                -99 -99 -99 -99 -99\n",
       "metformin                  0   0   0   0   0\n",
       "repaglinide                0   0   0   0   0\n",
       "nateglinide                0   0   0   0   0\n",
       "chlorpropamide             0   0   0   0   0\n",
       "glimepiride                0   0   0   0   0\n",
       "acetohexamide              0   0   0   0   0\n",
       "glipizide                  0   0   0   0   0\n",
       "glyburide                  0   0   0   0   0\n",
       "tolbutamide                0   0   0   0   0\n",
       "insulin                    1   1   1   1   1\n",
       "change                     0   0   0   0   0\n",
       "diabetesMed                1   1   1   1   1\n",
       "readmitted                 1   1   0   1   1\n",
       "medchange                  0   0   0   0   0"
      ]
     },
     "execution_count": 13,
     "metadata": {},
     "output_type": "execute_result"
    }
   ],
   "source": [
    "df_prep.head().T"
   ]
  },
  {
   "cell_type": "code",
   "execution_count": 14,
   "metadata": {},
   "outputs": [
    {
     "data": {
      "text/plain": [
       "race                        int64\n",
       "gender                      int64\n",
       "age                         int64\n",
       "admission_type_id           int64\n",
       "discharge_disposition_id    int64\n",
       "admission_source_id         int64\n",
       "time_in_hospital            int64\n",
       "num_lab_procedures          int64\n",
       "num_procedures              int64\n",
       "num_medications             int64\n",
       "number_outpatient           int64\n",
       "number_emergency            int64\n",
       "number_inpatient            int64\n",
       "number_diagnoses            int64\n",
       "max_glu_serum               int64\n",
       "A1Cresult                   int64\n",
       "metformin                   int64\n",
       "repaglinide                 int64\n",
       "nateglinide                 int64\n",
       "chlorpropamide              int64\n",
       "glimepiride                 int64\n",
       "acetohexamide               int64\n",
       "glipizide                   int64\n",
       "glyburide                   int64\n",
       "tolbutamide                 int64\n",
       "insulin                     int64\n",
       "change                      int64\n",
       "diabetesMed                 int64\n",
       "readmitted                  int64\n",
       "medchange                   int64\n",
       "dtype: object"
      ]
     },
     "execution_count": 14,
     "metadata": {},
     "output_type": "execute_result"
    }
   ],
   "source": [
    "df_prep.dtypes"
   ]
  },
  {
   "cell_type": "code",
   "execution_count": 15,
   "metadata": {},
   "outputs": [],
   "source": [
    "from sklearn.model_selection import train_test_split\n",
    "\n",
    "def data_prep(df_prep):\n",
    "    # one-hot encoding\n",
    "    df = pd.get_dummies(df_prep)\n",
    "    \n",
    "    # target/input split\n",
    "    y = df['readmitted']\n",
    "    X = df.drop(['readmitted'], axis=1)\n",
    "\n",
    "    # setting random state\n",
    "    rs = 10\n",
    "\n",
    "    X_mat = X.to_numpy()\n",
    "    X_train, X_test, y_train, y_test = train_test_split(X_mat, y, test_size=0.3, stratify=y, random_state=rs)\n",
    "    \n",
    "    return df,X,y,X_train, X_test, y_train, y_test"
   ]
  },
  {
   "cell_type": "code",
   "execution_count": 16,
   "metadata": {},
   "outputs": [],
   "source": [
    "df,X,y,X_train, X_test, y_train, y_test = data_prep(df_prep)"
   ]
  },
  {
   "cell_type": "code",
   "execution_count": 17,
   "metadata": {},
   "outputs": [],
   "source": [
    "scaler = StandardScaler()\n",
    "X_train = scaler.fit_transform(X_train, y_train)\n",
    "X_test = scaler.transform(X_test)"
   ]
  },
  {
   "cell_type": "markdown",
   "metadata": {},
   "source": [
    "## 2. Build a Neural Network model using the default setting\n"
   ]
  },
  {
   "cell_type": "code",
   "execution_count": 18,
   "metadata": {},
   "outputs": [],
   "source": [
    "from sklearn.neural_network import MLPClassifier"
   ]
  },
  {
   "cell_type": "code",
   "execution_count": 19,
   "metadata": {},
   "outputs": [
    {
     "name": "stdout",
     "output_type": "stream",
     "text": [
      "Train accuracy: 0.7323571428571428\n",
      "Test accuracy: 0.5983333333333334\n",
      "              precision    recall  f1-score   support\n",
      "\n",
      "           0       0.61      0.67      0.64      3203\n",
      "           1       0.58      0.51      0.54      2797\n",
      "\n",
      "    accuracy                           0.60      6000\n",
      "   macro avg       0.60      0.59      0.59      6000\n",
      "weighted avg       0.60      0.60      0.60      6000\n",
      "\n",
      "MLPClassifier(random_state=10)\n"
     ]
    },
    {
     "name": "stderr",
     "output_type": "stream",
     "text": [
      "C:\\Users\\nguye\\Anaconda3\\lib\\site-packages\\sklearn\\neural_network\\_multilayer_perceptron.py:696: ConvergenceWarning: Stochastic Optimizer: Maximum iterations (200) reached and the optimization hasn't converged yet.\n",
      "  ConvergenceWarning,\n"
     ]
    }
   ],
   "source": [
    "rs = 10\n",
    "model_1 = MLPClassifier(random_state=rs)\n",
    "model_1.fit(X_train, y_train)\n",
    "\n",
    "print(\"Train accuracy:\", model_1.score(X_train, y_train))\n",
    "print(\"Test accuracy:\", model_1.score(X_test, y_test))\n",
    "\n",
    "y_pred = model_1.predict(X_test)\n",
    "print(classification_report(y_test, y_pred))\n",
    "\n",
    "print(model_1)"
   ]
  },
  {
   "cell_type": "markdown",
   "metadata": {},
   "source": [
    "This default neural network performed with high accuracy on the training dataset. However, the test accuracy is comparatively much lower (59%), leading to overfitting to the training data. You should also notice a convergence warning. "
   ]
  },
  {
   "cell_type": "code",
   "execution_count": 20,
   "metadata": {},
   "outputs": [
    {
     "name": "stdout",
     "output_type": "stream",
     "text": [
      "Train accuracy: 0.7455\n",
      "Test accuracy: 0.595\n",
      "              precision    recall  f1-score   support\n",
      "\n",
      "           0       0.61      0.65      0.63      3203\n",
      "           1       0.57      0.53      0.55      2797\n",
      "\n",
      "    accuracy                           0.59      6000\n",
      "   macro avg       0.59      0.59      0.59      6000\n",
      "weighted avg       0.59      0.59      0.59      6000\n",
      "\n",
      "MLPClassifier(max_iter=700, random_state=10)\n"
     ]
    }
   ],
   "source": [
    "# model_2 = MLPClassifier(max_iter=700, random_state=rs)\n",
    "# model_2.fit(X_train, y_train)\n",
    "\n",
    "# print(\"Train accuracy:\", model_2.score(X_train, y_train))\n",
    "# print(\"Test accuracy:\", model_2.score(X_test, y_test))\n",
    "\n",
    "# y_pred = model_2.predict(X_test)\n",
    "# print(classification_report(y_test, y_pred))\n",
    "\n",
    "# print(model_2)"
   ]
  },
  {
   "cell_type": "markdown",
   "metadata": {},
   "source": [
    "### 2a. Finding optimal hyperparameter with GridSearchCV"
   ]
  },
  {
   "cell_type": "code",
   "execution_count": 21,
   "metadata": {},
   "outputs": [
    {
     "name": "stdout",
     "output_type": "stream",
     "text": [
      "(14000, 29)\n"
     ]
    }
   ],
   "source": [
    "print(X_train.shape)"
   ]
  },
  {
   "cell_type": "markdown",
   "metadata": {},
   "source": [
    "With 29 features, we will start tuning with one hidden layer of 5 to 29 neurons, increment of 5. This might take a bit of time. "
   ]
  },
  {
   "cell_type": "code",
   "execution_count": 22,
   "metadata": {},
   "outputs": [
    {
     "data": {
      "text/plain": [
       "GridSearchCV(cv=10, estimator=MLPClassifier(random_state=10), n_jobs=-1,\n",
       "             param_grid={'hidden_layer_sizes': [(5,), (10,), (15,), (20,),\n",
       "                                                (25,)]},\n",
       "             return_train_score=True)"
      ]
     },
     "execution_count": 22,
     "metadata": {},
     "output_type": "execute_result"
    }
   ],
   "source": [
    "params = {'hidden_layer_sizes': [(x,) for x in range(5, 30, 5)]}\n",
    "\n",
    "cv_1 = GridSearchCV(param_grid=params, estimator=MLPClassifier(random_state=rs),return_train_score=True, cv=10, n_jobs=-1)\n",
    "cv_1.fit(X_train, y_train)"
   ]
  },
  {
   "cell_type": "code",
   "execution_count": 23,
   "metadata": {},
   "outputs": [
    {
     "name": "stdout",
     "output_type": "stream",
     "text": [
      "{'mean_fit_time': array([ 3.16546993, 11.49575455, 16.85645905, 20.6618268 , 20.75966942]), 'std_fit_time': array([0.57927974, 2.84251361, 3.12003687, 1.45563531, 1.90492593]), 'mean_score_time': array([0.        , 0.0038393 , 0.0043251 , 0.00195062, 0.00113478]), 'std_score_time': array([0.        , 0.00531701, 0.00617831, 0.00279056, 0.00197933]), 'param_hidden_layer_sizes': masked_array(data=[(5,), (10,), (15,), (20,), (25,)],\n",
      "             mask=[False, False, False, False, False],\n",
      "       fill_value='?',\n",
      "            dtype=object), 'params': [{'hidden_layer_sizes': (5,)}, {'hidden_layer_sizes': (10,)}, {'hidden_layer_sizes': (15,)}, {'hidden_layer_sizes': (20,)}, {'hidden_layer_sizes': (25,)}], 'split0_test_score': array([0.63357143, 0.625     , 0.61071429, 0.61357143, 0.62642857]), 'split1_test_score': array([0.61928571, 0.61857143, 0.62571429, 0.61714286, 0.62071429]), 'split2_test_score': array([0.64214286, 0.62071429, 0.63357143, 0.63357143, 0.63142857]), 'split3_test_score': array([0.62785714, 0.62428571, 0.63714286, 0.63071429, 0.63214286]), 'split4_test_score': array([0.635     , 0.62571429, 0.61428571, 0.63428571, 0.62357143]), 'split5_test_score': array([0.60642857, 0.60214286, 0.615     , 0.60285714, 0.60785714]), 'split6_test_score': array([0.61642857, 0.60785714, 0.60571429, 0.61571429, 0.6       ]), 'split7_test_score': array([0.64714286, 0.63142857, 0.63785714, 0.63714286, 0.62785714]), 'split8_test_score': array([0.64857143, 0.64785714, 0.64357143, 0.63285714, 0.64214286]), 'split9_test_score': array([0.62071429, 0.62642857, 0.62285714, 0.63142857, 0.63071429]), 'mean_test_score': array([0.62971429, 0.623     , 0.62464286, 0.62492857, 0.62428571]), 'std_test_score': array([0.01329876, 0.01184423, 0.01235219, 0.01100765, 0.0116759 ]), 'rank_test_score': array([1, 5, 3, 2, 4]), 'split0_train_score': array([0.64642857, 0.64865079, 0.65801587, 0.66968254, 0.66992063]), 'split1_train_score': array([0.63769841, 0.65365079, 0.66111111, 0.67063492, 0.67079365]), 'split2_train_score': array([0.63904762, 0.64603175, 0.65365079, 0.66388889, 0.67015873]), 'split3_train_score': array([0.64166667, 0.64769841, 0.66007937, 0.66642857, 0.66833333]), 'split4_train_score': array([0.63603175, 0.64738095, 0.65944444, 0.66753968, 0.66619048]), 'split5_train_score': array([0.64190476, 0.65214286, 0.66063492, 0.66833333, 0.66904762]), 'split6_train_score': array([0.6402381 , 0.65214286, 0.66412698, 0.67111111, 0.6715873 ]), 'split7_train_score': array([0.63952381, 0.64603175, 0.6584127 , 0.66293651, 0.67269841]), 'split8_train_score': array([0.63952381, 0.64714286, 0.65277778, 0.66333333, 0.67007937]), 'split9_train_score': array([0.64531746, 0.64793651, 0.65626984, 0.66809524, 0.67325397]), 'mean_train_score': array([0.6407381 , 0.64888095, 0.65845238, 0.66719841, 0.67020635]), 'std_train_score': array([0.00304994, 0.00260541, 0.00328446, 0.00283102, 0.00197049])}\n"
     ]
    }
   ],
   "source": [
    "result_set = cv_1.cv_results_\n",
    "print(result_set)"
   ]
  },
  {
   "cell_type": "markdown",
   "metadata": {},
   "source": [
    "Plot the train and test score at split0"
   ]
  },
  {
   "cell_type": "code",
   "execution_count": 24,
   "metadata": {},
   "outputs": [
    {
     "name": "stdout",
     "output_type": "stream",
     "text": [
      "Total number of models:  5\n"
     ]
    },
    {
     "data": {
      "image/png": "[encoded data removed]",
      "text/plain": [
       "<Figure size 640x480 with 1 Axes>"
      ]
     },
     "metadata": {},
     "output_type": "display_data"
    }
   ],
   "source": [
    "import matplotlib.pyplot as plt\n",
    "train_result = result_set['split0_train_score']\n",
    "test_result = result_set['split0_test_score']\n",
    "print(\"Total number of models: \", len(test_result))\n",
    "# plot hidden layers hyperparameter values vs training and test accuracy score\n",
    "plt.plot(range(0, len(train_result)), train_result, 'b', range(0,len(test_result)), test_result, 'r')\n",
    "plt.xlabel('Hyperparameter Hidden_layers\\nBlue = training acc. Red = test acc.')\n",
    "plt.xticks(range(0, len(train_result)),range(5, 86, 20))\n",
    "plt.ylabel('score')\n",
    "plt.show()"
   ]
  },
  {
   "cell_type": "markdown",
   "metadata": {},
   "source": [
    "Plot the mean train and test scores of all run"
   ]
  },
  {
   "cell_type": "code",
   "execution_count": 25,
   "metadata": {},
   "outputs": [
    {
     "name": "stdout",
     "output_type": "stream",
     "text": [
      "Total number of models:  5\n"
     ]
    },
    {
     "data": {
      "image/png": "[encoded data removed]",
      "text/plain": [
       "<Figure size 640x480 with 1 Axes>"
      ]
     },
     "metadata": {},
     "output_type": "display_data"
    }
   ],
   "source": [
    "train_result = result_set['mean_train_score']\n",
    "test_result = result_set['mean_test_score']\n",
    "print(\"Total number of models: \", len(test_result))\n",
    "# plot hidden layers hyperparameter values vs training and test accuracy score\n",
    "plt.plot(range(0, len(train_result)), train_result, 'b', range(0,len(test_result)), test_result, 'r')\n",
    "plt.xlabel('Hyperparameter Hidden_layers\\nBlue = training acc. Red = test acc.')\n",
    "plt.xticks(range(0, len(train_result)),range(5, 86, 20))\n",
    "plt.ylabel('score')\n",
    "plt.show()"
   ]
  },
  {
   "cell_type": "code",
   "execution_count": 26,
   "metadata": {},
   "outputs": [
    {
     "name": "stdout",
     "output_type": "stream",
     "text": [
      "Train accuracy: 0.6406428571428572\n",
      "Test accuracy: 0.6268333333333334\n",
      "              precision    recall  f1-score   support\n",
      "\n",
      "           0       0.63      0.73      0.68      3203\n",
      "           1       0.62      0.51      0.56      2797\n",
      "\n",
      "    accuracy                           0.63      6000\n",
      "   macro avg       0.63      0.62      0.62      6000\n",
      "weighted avg       0.63      0.63      0.62      6000\n",
      "\n",
      "{'hidden_layer_sizes': (5,)}\n"
     ]
    }
   ],
   "source": [
    "print(\"Train accuracy:\", cv_1.score(X_train, y_train))\n",
    "print(\"Test accuracy:\", cv_1.score(X_test, y_test))\n",
    "\n",
    "y_pred = cv_1.predict(X_test)\n",
    "print(classification_report(y_test, y_pred))\n",
    "\n",
    "print(cv_1.best_params_)"
   ]
  },
  {
   "cell_type": "markdown",
   "metadata": {},
   "source": [
    "The output of this GridSearchCV returns 5 neurons as the optimal number of neurons in the hidden layer. Based on the performance of previous decision tree and regression models, it seems the less complex models (smaller trees, smaller feature sets) tend to generalise better on this dataset. We should attempt to tune the model with the lower number of neurons in the hidden layer."
   ]
  },
  {
   "cell_type": "code",
   "execution_count": 27,
   "metadata": {},
   "outputs": [
    {
     "name": "stdout",
     "output_type": "stream",
     "text": [
      "Train accuracy: 0.6406428571428572\n",
      "Test accuracy: 0.6268333333333334\n",
      "              precision    recall  f1-score   support\n",
      "\n",
      "           0       0.63      0.73      0.68      3203\n",
      "           1       0.62      0.51      0.56      2797\n",
      "\n",
      "    accuracy                           0.63      6000\n",
      "   macro avg       0.63      0.62      0.62      6000\n",
      "weighted avg       0.63      0.63      0.62      6000\n",
      "\n",
      "{'hidden_layer_sizes': (5,)}\n"
     ]
    }
   ],
   "source": [
    "# new parameters\n",
    "params = {'hidden_layer_sizes': [(3,), (5,), (7,), (9,)]}\n",
    "\n",
    "cv_2 = GridSearchCV(param_grid=params, estimator=MLPClassifier(random_state=rs), cv=10, n_jobs=-1)\n",
    "cv_2.fit(X_train, y_train)\n",
    "\n",
    "print(\"Train accuracy:\", cv_2.score(X_train, y_train))\n",
    "print(\"Test accuracy:\", cv_2.score(X_test, y_test))\n",
    "\n",
    "y_pred = cv_2.predict(X_test)\n",
    "print(classification_report(y_test, y_pred))\n",
    "\n",
    "print(cv_2.best_params_)"
   ]
  },
  {
   "cell_type": "markdown",
   "metadata": {},
   "source": [
    "We now have the optimal value for neuron count in the hidden layer. Next, we will tune the second hyperparameter, alpha, which is the learning rate for the gradient descent algorithm. Larger alpha means the gradient descent will take \"larger\" steps and train faster, but it might miss the optimal solution. Smaller alpha results in \"smaller\" steps, a slower training speed yet it might stuck at the local minimum.\n",
    "\n",
    "The default value for alpha is 0.0001, thus we will try alpha values around this number."
   ]
  },
  {
   "cell_type": "code",
   "execution_count": 28,
   "metadata": {},
   "outputs": [
    {
     "name": "stdout",
     "output_type": "stream",
     "text": [
      "Train accuracy: 0.6414285714285715\n",
      "Test accuracy: 0.6273333333333333\n",
      "              precision    recall  f1-score   support\n",
      "\n",
      "           0       0.63      0.73      0.68      3203\n",
      "           1       0.62      0.51      0.56      2797\n",
      "\n",
      "    accuracy                           0.63      6000\n",
      "   macro avg       0.63      0.62      0.62      6000\n",
      "weighted avg       0.63      0.63      0.62      6000\n",
      "\n",
      "{'alpha': 1e-05, 'hidden_layer_sizes': (5,)}\n"
     ]
    }
   ],
   "source": [
    "params = {'hidden_layer_sizes': [(3,), (5,), (7,), (9,)], 'alpha': [0.01,0.001, 0.0001, 0.00001]}\n",
    "\n",
    "cv_3 = GridSearchCV(param_grid=params, estimator=MLPClassifier(random_state=rs), cv=10, n_jobs=-1)\n",
    "cv_3.fit(X_train, y_train)\n",
    "\n",
    "print(\"Train accuracy:\", cv_3.score(X_train, y_train))\n",
    "print(\"Test accuracy:\", cv_3.score(X_test, y_test))\n",
    "\n",
    "y_pred = cv_3.predict(X_test)\n",
    "print(classification_report(y_test, y_pred))\n",
    "\n",
    "print(cv_3.best_params_)"
   ]
  },
  {
   "cell_type": "code",
   "execution_count": 45,
   "metadata": {},
   "outputs": [
    {
     "name": "stdout",
     "output_type": "stream",
     "text": [
      "Train accuracy: 0.6414285714285715\n",
      "Test accuracy: 0.6273333333333333\n",
      "              precision    recall  f1-score   support\n",
      "\n",
      "           0       0.63      0.73      0.68      3203\n",
      "           1       0.62      0.51      0.56      2797\n",
      "\n",
      "    accuracy                           0.63      6000\n",
      "   macro avg       0.63      0.62      0.62      6000\n",
      "weighted avg       0.63      0.63      0.62      6000\n",
      "\n",
      "GridSearchCV(cv=10, estimator=MLPClassifier(max_iter=1400, random_state=10),\n",
      "             n_jobs=-1,\n",
      "             param_grid={'alpha': [0.01, 0.001, 0.0001, 1e-05],\n",
      "                         'hidden_layer_sizes': [(3,), (5,), (7,), (9,)]})\n"
     ]
    }
   ],
   "source": [
    "params = {'hidden_layer_sizes': [(3,), (5,), (7,), (9,)], 'alpha': [0.01,0.001, 0.0001, 0.00001]}\n",
    "model_2 = GridSearchCV(param_grid=params, estimator=MLPClassifier(max_iter=1400, random_state=rs), cv=10, n_jobs=-1)\n",
    "model_2.fit(X_train, y_train)\n",
    "\n",
    "print(\"Train accuracy:\", model_2.score(X_train, y_train))\n",
    "print(\"Test accuracy:\", model_2.score(X_test, y_test))\n",
    "\n",
    "y_pred = model_2.predict(X_test)\n",
    "print(classification_report(y_test, y_pred))\n",
    "\n",
    "print(model_2)"
   ]
  },
  {
   "cell_type": "markdown",
   "metadata": {},
   "source": [
    "The Neural Network model trained with decision tree selected variables did not manage to improve model performance. Therefore, we will keep the previous best model (`cv_2`) as the best performing neural network."
   ]
  },
  {
   "cell_type": "markdown",
   "metadata": {},
   "source": [
    "# 3. Feature selection"
   ]
  },
  {
   "cell_type": "code",
   "execution_count": 29,
   "metadata": {},
   "outputs": [
    {
     "name": "stdout",
     "output_type": "stream",
     "text": [
      "24\n"
     ]
    }
   ],
   "source": [
    "from sklearn.feature_selection import RFECV\n",
    "from sklearn.linear_model import LogisticRegression\n",
    "\n",
    "rfe = RFECV(estimator = LogisticRegression(random_state=rs), cv=10)\n",
    "rfe.fit(X_train, y_train)\n",
    "\n",
    "print(rfe.n_features_)"
   ]
  },
  {
   "cell_type": "markdown",
   "metadata": {},
   "source": [
    "The RFE with logistic regression has selected 24 features as the best set of features. With these selected features, tune an `MLPClassifier` model."
   ]
  },
  {
   "cell_type": "code",
   "execution_count": 30,
   "metadata": {},
   "outputs": [
    {
     "name": "stdout",
     "output_type": "stream",
     "text": [
      "Train accuracy: 0.6439285714285714\n",
      "Test accuracy: 0.632\n",
      "              precision    recall  f1-score   support\n",
      "\n",
      "           0       0.63      0.74      0.68      3203\n",
      "           1       0.63      0.51      0.57      2797\n",
      "\n",
      "    accuracy                           0.63      6000\n",
      "   macro avg       0.63      0.62      0.62      6000\n",
      "weighted avg       0.63      0.63      0.63      6000\n",
      "\n",
      "{'alpha': 1e-05, 'hidden_layer_sizes': (7,)}\n"
     ]
    }
   ],
   "source": [
    "X_train_rfe = rfe.transform(X_train)\n",
    "X_test_rfe = rfe.transform(X_test)\n",
    "\n",
    "#step = int((X_train_rfe.shape[1] + 5)/5)\n",
    "#print(step)\n",
    "params = {'hidden_layer_sizes': [(3,), (5,), (7,), (9,)], 'alpha': [0.01,0.001, 0.0001, 0.00001]}\n",
    "\n",
    "rfe_cv = GridSearchCV(param_grid=params, estimator=MLPClassifier(random_state=rs), cv=10, n_jobs=-1)\n",
    "rfe_cv.fit(X_train_rfe, y_train)\n",
    "\n",
    "print(\"Train accuracy:\", rfe_cv.score(X_train_rfe, y_train))\n",
    "print(\"Test accuracy:\", rfe_cv.score(X_test_rfe, y_test))\n",
    "\n",
    "y_pred = rfe_cv.predict(X_test_rfe)\n",
    "print(classification_report(y_test, y_pred))\n",
    "\n",
    "print(rfe_cv.best_params_)"
   ]
  },
  {
   "cell_type": "markdown",
   "metadata": {},
   "source": [
    "Better performance"
   ]
  },
  {
   "cell_type": "markdown",
   "metadata": {},
   "source": [
    "### 3a. Build selection features based on decision tree"
   ]
  },
  {
   "cell_type": "code",
   "execution_count": 31,
   "metadata": {},
   "outputs": [
    {
     "name": "stdout",
     "output_type": "stream",
     "text": [
      "{'criterion': 'entropy', 'max_depth': 7, 'min_samples_leaf': 5}\n"
     ]
    }
   ],
   "source": [
    "import pickle\n",
    "with open('DT.pickle', 'rb') as f:\n",
    "    dt_best,roc_index_dt_cv, fpr_dt_cv, tpr_dt_cv = pickle.load(f)\n",
    "\n",
    "print(dt_best.best_params_)"
   ]
  },
  {
   "cell_type": "code",
   "execution_count": 32,
   "metadata": {},
   "outputs": [],
   "source": [
    "def analyse_feature_importance(dm_model, feature_names, n_to_display=20):\n",
    "    # grab feature importances from the model\n",
    "    importances = dm_model.feature_importances_\n",
    "    \n",
    "    # sort them out in descending order\n",
    "    indices = np.argsort(importances)\n",
    "    indices = np.flip(indices, axis=0)\n",
    "\n",
    "    # limit to 20 features, you can leave this out to print out everything\n",
    "    indices = indices[:n_to_display]\n",
    "\n",
    "    for i in indices:\n",
    "        print(feature_names[i], ':', importances[i])"
   ]
  },
  {
   "cell_type": "code",
   "execution_count": 33,
   "metadata": {},
   "outputs": [
    {
     "name": "stdout",
     "output_type": "stream",
     "text": [
      "number_inpatient : 0.4005671947482662\n",
      "discharge_disposition_id : 0.2121816212342166\n",
      "num_medications : 0.059717659342336867\n",
      "number_outpatient : 0.05271418368754671\n",
      "num_lab_procedures : 0.04889494148667172\n",
      "number_emergency : 0.04497064071219221\n",
      "age : 0.04153949690273319\n",
      "number_diagnoses : 0.03706415777910682\n",
      "num_procedures : 0.025511521183604283\n",
      "diabetesMed : 0.024034800772124873\n",
      "admission_type_id : 0.016034646171776697\n",
      "admission_source_id : 0.008797298358104312\n",
      "max_glu_serum : 0.007545570819704168\n",
      "time_in_hospital : 0.007110015085540592\n",
      "insulin : 0.005885247227054916\n",
      "glimepiride : 0.0029750370656327625\n",
      "race : 0.0024699323531357275\n",
      "change : 0.001235889553918729\n",
      "medchange : 0.0007501455163325166\n",
      "A1Cresult : 0.0\n"
     ]
    }
   ],
   "source": [
    "analyse_feature_importance(dt_best.best_estimator_, X.columns)"
   ]
  },
  {
   "cell_type": "code",
   "execution_count": 34,
   "metadata": {},
   "outputs": [
    {
     "name": "stdout",
     "output_type": "stream",
     "text": [
      "(14000, 8)\n"
     ]
    }
   ],
   "source": [
    "from sklearn.feature_selection import SelectFromModel\n",
    "\n",
    "selectmodel = SelectFromModel(dt_best.best_estimator_, prefit=True)\n",
    "X_train_sel_model = selectmodel.transform(X_train)\n",
    "X_test_sel_model = selectmodel.transform(X_test)\n",
    "\n",
    "print(X_train_sel_model.shape)"
   ]
  },
  {
   "cell_type": "markdown",
   "metadata": {},
   "source": [
    "The decision tree model identfies the set of 8 variables as important features. Proceed to tune a MLPClassifier with this modified dataset."
   ]
  },
  {
   "cell_type": "code",
   "execution_count": 35,
   "metadata": {},
   "outputs": [
    {
     "name": "stdout",
     "output_type": "stream",
     "text": [
      "Train accuracy: 0.6404285714285715\n",
      "Test accuracy: 0.6321666666666667\n",
      "              precision    recall  f1-score   support\n",
      "\n",
      "           0       0.63      0.75      0.69      3203\n",
      "           1       0.64      0.50      0.56      2797\n",
      "\n",
      "    accuracy                           0.63      6000\n",
      "   macro avg       0.63      0.62      0.62      6000\n",
      "weighted avg       0.63      0.63      0.63      6000\n",
      "\n",
      "{'alpha': 0.01, 'hidden_layer_sizes': (7,)}\n"
     ]
    }
   ],
   "source": [
    "params = {'hidden_layer_sizes': [(3,), (5,), (7,), (9,)], 'alpha': [0.01,0.001, 0.0001, 0.00001]}\n",
    "\n",
    "cv_sel_model = GridSearchCV(param_grid=params, estimator=MLPClassifier(random_state=rs), cv=10, n_jobs=-1)\n",
    "cv_sel_model.fit(X_train_sel_model, y_train)\n",
    "\n",
    "print(\"Train accuracy:\", cv_sel_model.score(X_train_sel_model, y_train))\n",
    "print(\"Test accuracy:\", cv_sel_model.score(X_test_sel_model, y_test))\n",
    "\n",
    "y_pred = cv_sel_model.predict(X_test_sel_model)\n",
    "print(classification_report(y_test, y_pred))\n",
    "\n",
    "print(cv_sel_model.best_params_)"
   ]
  },
  {
   "cell_type": "markdown",
   "metadata": {},
   "source": [
    "# 4. Comparing the models to find the best performing model"
   ]
  },
  {
   "cell_type": "markdown",
   "metadata": {},
   "source": [
    "A total of seven models has been built:\n",
    "    1. Default neural network (`model_1`)\n",
    "    2. Neural network with relu (`model_2`)\n",
    "    3. Neural network + grid search (`cv_1`)\n",
    "    4. Neural network + grid search (`cv_2`)\n",
    "    5. Neural network + grid search (`cv_3`)\n",
    "    6. Neural network + feature selection + grid search (`rfe_cv`)\n",
    "    7. Neural network + feature selection using DT + grid search (`cv_sel_model`)\n",
    "    \n",
    "Now, let us use ROC curve to compare these models to identify the best performing neural network model considering both true and false positives."
   ]
  },
  {
   "cell_type": "code",
   "execution_count": 46,
   "metadata": {},
   "outputs": [
    {
     "name": "stdout",
     "output_type": "stream",
     "text": [
      "ROC index on test for NN_default: 0.6330375382124663\n",
      "ROC index on test for NN with relu: 0.6657156640890495\n",
      "ROC index on test for NN with gridsearch 1: 0.6655430403499758\n",
      "ROC index on test for NN with gridsearch 2: 0.6655430403499758\n",
      "ROC index on test for NN with gridsearch 3: 0.6657156640890495\n",
      "ROC index on test for NN with feature selection and gridsearch: 0.6686336359448501\n",
      "ROC index on test for NN with feature selection (model selection) and gridsearch: 0.675160855968177\n"
     ]
    }
   ],
   "source": [
    "from sklearn.metrics import roc_auc_score\n",
    "\n",
    "y_pred_proba_nn_1 = model_1.predict_proba(X_test)\n",
    "y_pred_proba_nn_2 = model_2.predict_proba(X_test)\n",
    "y_pred_proba_cv_1 = cv_1.predict_proba(X_test)\n",
    "y_pred_proba_cv_2 = cv_2.predict_proba(X_test)\n",
    "y_pred_proba_cv_3 = cv_3.predict_proba(X_test)\n",
    "y_pred_proba_rfe_cv = rfe_cv.predict_proba(X_test_rfe)\n",
    "y_pred_proba_cv_sel_model = cv_sel_model.predict_proba(X_test_sel_model)\n",
    "\n",
    "\n",
    "roc_index_nn_1 = roc_auc_score(y_test, y_pred_proba_nn_1[:, 1])\n",
    "roc_index_nn_2 = roc_auc_score(y_test, y_pred_proba_nn_2[:, 1])\n",
    "roc_index_cv_1 = roc_auc_score(y_test, y_pred_proba_cv_1[:, 1])\n",
    "roc_index_cv_2 = roc_auc_score(y_test, y_pred_proba_cv_2[:, 1])\n",
    "roc_index_cv_3 = roc_auc_score(y_test, y_pred_proba_cv_3[:, 1])\n",
    "roc_index_rfe_cv = roc_auc_score(y_test, y_pred_proba_rfe_cv[:, 1])\n",
    "roc_index_cv_sel_model = roc_auc_score(y_test, y_pred_proba_cv_sel_model[:, 1])\n",
    "\n",
    "\n",
    "print(\"ROC index on test for NN_default:\", roc_index_nn_1)\n",
    "print(\"ROC index on test for NN with relu:\", roc_index_nn_2)\n",
    "print(\"ROC index on test for NN with gridsearch 1:\", roc_index_cv_1)\n",
    "print(\"ROC index on test for NN with gridsearch 2:\", roc_index_cv_2)\n",
    "print(\"ROC index on test for NN with gridsearch 3:\", roc_index_cv_3)\n",
    "print(\"ROC index on test for NN with feature selection and gridsearch:\", roc_index_rfe_cv)\n",
    "print(\"ROC index on test for NN with feature selection (model selection) and gridsearch:\", roc_index_cv_sel_model)\n",
    "\n",
    "from sklearn.metrics import roc_curve\n",
    "\n",
    "fpr_nn_1, tpr_nn_1, thresholds_nn_1 = roc_curve(y_test, y_pred_proba_nn_1[:,1])\n",
    "fpr_nn_2, tpr_nn_2, thresholds_nn_2 = roc_curve(y_test, y_pred_proba_nn_2[:,1])\n",
    "fpr_cv_1, tpr_cv_1, thresholds_cv_1 = roc_curve(y_test, y_pred_proba_cv_1[:,1])\n",
    "fpr_cv_2, tpr_cv_2, thresholds_cv_2 = roc_curve(y_test, y_pred_proba_cv_2[:,1])\n",
    "fpr_cv_3, tpr_cv_3, thresholds_cv_3 = roc_curve(y_test, y_pred_proba_cv_3[:,1])\n",
    "fpr_rfe_cv, tpr_rfe_cv, thresholds_rfe_cv = roc_curve(y_test, y_pred_proba_rfe_cv[:,1])\n",
    "fpr_cv_sel_model, tpr_cv_sel_model, thresholds_cv_sel_model = roc_curve(y_test, y_pred_proba_cv_sel_model[:,1])"
   ]
  },
  {
   "cell_type": "code",
   "execution_count": 47,
   "metadata": {},
   "outputs": [
    {
     "data": {
      "image/png": "[encoded data removed]",
      "text/plain": [
       "<Figure size 640x480 with 1 Axes>"
      ]
     },
     "metadata": {},
     "output_type": "display_data"
    }
   ],
   "source": [
    "import matplotlib.pyplot as plt\n",
    "\n",
    "plt.plot(fpr_nn_1, tpr_nn_1, label='NN_default {:.3f}'.format(roc_index_nn_1), color='red', lw=1.5)\n",
    "plt.plot(fpr_nn_2, tpr_nn_2, label='NN with relu {:.3f}'.format(roc_index_nn_2), color='green', lw=1.5)\n",
    "plt.plot(fpr_cv_1, tpr_cv_1, label='NN cv_1 {:.3f}'.format(roc_index_cv_1), color='blue', lw=1.5)\n",
    "plt.plot(fpr_cv_2, tpr_cv_2, label='NN cv_2 {:.3f}'.format(roc_index_cv_2), color='yellow', lw=1.5)\n",
    "plt.plot(fpr_cv_3, tpr_cv_3, label='NN cv_3 {:.3f}'.format(roc_index_cv_3), color='cyan', lw=1.5)\n",
    "plt.plot(fpr_rfe_cv, tpr_rfe_cv, label='NN rfe_cv {:.3f}'.format(roc_index_rfe_cv), color='gray', lw=1.5)\n",
    "plt.plot(fpr_cv_sel_model, tpr_cv_sel_model, label='NN with cv_sel_model {:.3f}'.format(roc_index_cv_sel_model), color='black', lw=1.5)\n",
    "\n",
    "\n",
    "plt.plot([0, 1], [0, 1], color='navy', lw=0.5, linestyle='--')\n",
    "plt.xlim([0.0, 1.0])\n",
    "plt.ylim([0.0, 1.0])\n",
    "plt.xlabel('False Positive Rate')\n",
    "plt.ylabel('True Positive Rate')\n",
    "plt.title('Receiver operating characteristic example')\n",
    "plt.legend(loc=\"lower right\")\n",
    "plt.show()"
   ]
  },
  {
   "cell_type": "code",
   "execution_count": 75,
   "metadata": {},
   "outputs": [],
   "source": [
    "import pickle\n",
    "nn_best = cv_sel_model\n",
    "roc_index_nn_best = roc_index_cv_sel_model\n",
    "tpr_nn_best = tpr_cv_sel_model\n",
    "fpr_nn_best = fpr_cv_sel_model\n",
    "with open('NN.pickle', 'wb') as f:\n",
    "    pickle.dump([nn_best,roc_index_nn_best, fpr_nn_best, tpr_nn_best], f)"
   ]
  },
  {
   "cell_type": "markdown",
   "metadata": {},
   "source": [
    "# 5. ROC for all the best model"
   ]
  },
  {
   "cell_type": "code",
   "execution_count": 55,
   "metadata": {},
   "outputs": [
    {
     "name": "stdout",
     "output_type": "stream",
     "text": [
      "{'criterion': 'entropy', 'max_depth': 7, 'min_samples_leaf': 5}\n",
      "{'C': 0.1}\n"
     ]
    }
   ],
   "source": [
    "with open('DT.pickle', 'rb') as f:\n",
    "    dt_best,roc_index_dt_cv, fpr_dt_cv, tpr_dt_cv = pickle.load(f)\n",
    "\n",
    "print(dt_best.best_params_)\n",
    "\n",
    "\n",
    "with open('LR.pickle', 'rb') as f:\n",
    "    dt_lr_best,roc_index_dt_lr_cv, fpr_dt_lr_cv, tpr_dt_lr_cv = pickle.load(f)\n",
    "\n",
    "print(dt_lr_best.best_params_)"
   ]
  },
  {
   "cell_type": "code",
   "execution_count": 56,
   "metadata": {},
   "outputs": [],
   "source": [
    "def analyse_feature_importance_lr(dm_model, feature_names, n_to_display=30):\n",
    "    # grab feature importances from the model\n",
    "    importances = dm_model.best_estimator_.coef_[0]\n",
    "    \n",
    "    # sort them out in descending order\n",
    "    indices = np.argsort(importances)\n",
    "    indices = np.flip(indices, axis=0)\n",
    "\n",
    "    # limit to 30 features, you can leave this out to print out everything\n",
    "    indices = indices[:n_to_display]\n",
    "\n",
    "    for i in indices:\n",
    "        print(feature_names[i], ':', importances[i])"
   ]
  },
  {
   "cell_type": "code",
   "execution_count": 57,
   "metadata": {},
   "outputs": [
    {
     "name": "stdout",
     "output_type": "stream",
     "text": [
      "number_inpatient : 0.4005671947482662\n",
      "discharge_disposition_id : 0.2121816212342166\n",
      "num_medications : 0.059717659342336867\n",
      "number_outpatient : 0.05271418368754671\n",
      "num_lab_procedures : 0.04889494148667172\n",
      "number_emergency : 0.04497064071219221\n",
      "age : 0.04153949690273319\n",
      "number_diagnoses : 0.03706415777910682\n",
      "num_procedures : 0.025511521183604283\n",
      "diabetesMed : 0.024034800772124873\n",
      "admission_type_id : 0.016034646171776697\n",
      "admission_source_id : 0.008797298358104312\n",
      "max_glu_serum : 0.007545570819704168\n",
      "time_in_hospital : 0.007110015085540592\n",
      "insulin : 0.005885247227054916\n",
      "glimepiride : 0.0029750370656327625\n",
      "race : 0.0024699323531357275\n",
      "change : 0.001235889553918729\n",
      "medchange : 0.0007501455163325166\n",
      "A1Cresult : 0.0\n"
     ]
    }
   ],
   "source": [
    "analyse_feature_importance(dt_best.best_estimator_, X.columns)"
   ]
  },
  {
   "cell_type": "code",
   "execution_count": 58,
   "metadata": {},
   "outputs": [
    {
     "name": "stdout",
     "output_type": "stream",
     "text": [
      "number_inpatient : 0.5273139860672045\n",
      "number_emergency : 0.2205613912381145\n",
      "diabetesMed : 0.20647383152044732\n",
      "number_outpatient : 0.1625945112070713\n",
      "num_medications : 0.10850882671533849\n",
      "number_diagnoses : 0.08251385959961219\n",
      "max_glu_serum : 0.07546875642365569\n",
      "age : 0.0698624280247587\n",
      "medchange : 0.06581833738826347\n",
      "change : 0.057890542814208135\n",
      "race : 0.027969806128887224\n",
      "chlorpropamide : 0.020994207758288672\n",
      "admission_source_id : 0.018281805553232753\n",
      "num_lab_procedures : 0.011650700841362584\n",
      "repaglinide : 0.010866447188520418\n",
      "glyburide : 0.002518107903756915\n",
      "acetohexamide : 0.0\n",
      "tolbutamide : 0.0\n",
      "A1Cresult : -0.0029775893187888873\n",
      "gender : -0.0037222824113997575\n",
      "time_in_hospital : -0.013243393081548064\n",
      "glipizide : -0.017663032751221577\n",
      "nateglinide : -0.021217540689448797\n",
      "glimepiride : -0.026501969243810635\n",
      "admission_type_id : -0.06347478617089128\n",
      "discharge_disposition_id : -0.07354861100502184\n",
      "num_procedures : -0.07891035524279451\n",
      "metformin : -0.10520121885363481\n",
      "insulin : -0.14078268980910041\n"
     ]
    }
   ],
   "source": [
    "analyse_feature_importance_lr(dt_lr_best, X.columns)"
   ]
  },
  {
   "cell_type": "code",
   "execution_count": 68,
   "metadata": {},
   "outputs": [
    {
     "name": "stdout",
     "output_type": "stream",
     "text": [
      "(6000, 8)\n"
     ]
    }
   ],
   "source": [
    "from sklearn.feature_selection import SelectFromModel\n",
    "\n",
    "# Decsion tree\n",
    "selectmodel_dt = SelectFromModel(dt_best.best_estimator_, prefit=True)\n",
    "X_train_dt_model = selectmodel.transform(X_train)\n",
    "X_test_dt_model = selectmodel.transform(X_test)\n",
    "\n",
    "print(X_test_dt_model.shape)"
   ]
  },
  {
   "cell_type": "code",
   "execution_count": 69,
   "metadata": {},
   "outputs": [
    {
     "name": "stdout",
     "output_type": "stream",
     "text": [
      "(6000, 9)\n"
     ]
    }
   ],
   "source": [
    "# Logistic Regression\n",
    "selectmodel_lr = SelectFromModel(dt_lr_best.best_estimator_, prefit=True)\n",
    "X_train_lr = selectmodel_lr.transform(X_train)\n",
    "X_test_lr = selectmodel_lr.transform(X_test)\n",
    "\n",
    "print(X_test_lr.shape)"
   ]
  },
  {
   "cell_type": "code",
   "execution_count": 61,
   "metadata": {},
   "outputs": [],
   "source": [
    "# params = {'hidden_layer_sizes': [(3,), (5,), (7,), (9,)], 'alpha': [0.01,0.001, 0.0001, 0.00001]}\n",
    "\n",
    "# cv_sel_model_lr = GridSearchCV(param_grid=params, estimator=MLPClassifier(random_state=rs), cv=10, n_jobs=-1)\n",
    "# cv_sel_model_lr.fit(X_train_sel_model_lr, y_train)\n",
    "\n",
    "# print(\"Train accuracy:\", cv_sel_model_lr.score(X_train_sel_model_lr, y_train))\n",
    "# print(\"Test accuracy:\", cv_sel_model_lr.score(X_test_sel_model_lr, y_test))\n",
    "\n",
    "# y_pred = cv_sel_model_lr.predict(X_test_sel_model_lr)\n",
    "# print(classification_report(y_test, y_pred))\n",
    "\n",
    "# print(cv_sel_model.best_params_)"
   ]
  },
  {
   "cell_type": "markdown",
   "metadata": {},
   "source": [
    "ROC base on decision tree and logistic regression optimize models"
   ]
  },
  {
   "cell_type": "code",
   "execution_count": null,
   "metadata": {},
   "outputs": [],
   "source": [
    "from sklearn.feature_selection import SelectFromModel\n",
    "\n",
    "selectmodel = SelectFromModel(dt_best.best_estimator_, prefit=True)\n",
    "X_train_sel_model = selectmodel.transform(X_train)\n",
    "X_test_sel_model = selectmodel.transform(X_test)\n",
    "\n",
    "print(X_train_sel_model.shape)"
   ]
  },
  {
   "cell_type": "code",
   "execution_count": 70,
   "metadata": {},
   "outputs": [
    {
     "ename": "ValueError",
     "evalue": "X has 8 features, but MLPClassifier is expecting 24 features as input.",
     "output_type": "error",
     "traceback": [
      "\u001b[1;31m---------------------------------------------------------------------------\u001b[0m",
      "\u001b[1;31mValueError\u001b[0m                                Traceback (most recent call last)",
      "\u001b[1;32m~\\AppData\\Local\\Temp\\ipykernel_29540\\861243347.py\u001b[0m in \u001b[0;36m<module>\u001b[1;34m\u001b[0m\n\u001b[0;32m      1\u001b[0m \u001b[0my_pred_proba_cv_sel_model\u001b[0m \u001b[1;33m=\u001b[0m \u001b[0mcv_sel_model\u001b[0m\u001b[1;33m.\u001b[0m\u001b[0mpredict_proba\u001b[0m\u001b[1;33m(\u001b[0m\u001b[0mX_test_sel_model\u001b[0m\u001b[1;33m)\u001b[0m\u001b[1;33m\u001b[0m\u001b[1;33m\u001b[0m\u001b[0m\n\u001b[1;32m----> 2\u001b[1;33m \u001b[0my_pred_proba_dt\u001b[0m \u001b[1;33m=\u001b[0m \u001b[0mrfe_cv\u001b[0m\u001b[1;33m.\u001b[0m\u001b[0mpredict_proba\u001b[0m\u001b[1;33m(\u001b[0m\u001b[0mX_test_dt_model\u001b[0m\u001b[1;33m)\u001b[0m\u001b[1;33m\u001b[0m\u001b[1;33m\u001b[0m\u001b[0m\n\u001b[0m\u001b[0;32m      3\u001b[0m \u001b[0my_pred_proba_lr\u001b[0m \u001b[1;33m=\u001b[0m \u001b[0mrfe_cv\u001b[0m\u001b[1;33m.\u001b[0m\u001b[0mpredict_proba\u001b[0m\u001b[1;33m(\u001b[0m\u001b[0mX_test_lr\u001b[0m\u001b[1;33m)\u001b[0m\u001b[1;33m\u001b[0m\u001b[1;33m\u001b[0m\u001b[0m\n\u001b[0;32m      4\u001b[0m \u001b[1;33m\u001b[0m\u001b[0m\n\u001b[0;32m      5\u001b[0m \u001b[0mroc_index_cv_sel_model\u001b[0m \u001b[1;33m=\u001b[0m \u001b[0mroc_auc_score\u001b[0m\u001b[1;33m(\u001b[0m\u001b[0my_test\u001b[0m\u001b[1;33m,\u001b[0m \u001b[0my_pred_proba_cv_sel_model\u001b[0m\u001b[1;33m[\u001b[0m\u001b[1;33m:\u001b[0m\u001b[1;33m,\u001b[0m \u001b[1;36m1\u001b[0m\u001b[1;33m]\u001b[0m\u001b[1;33m)\u001b[0m\u001b[1;33m\u001b[0m\u001b[1;33m\u001b[0m\u001b[0m\n",
      "\u001b[1;32m~\\Anaconda3\\lib\\site-packages\\sklearn\\utils\\metaestimators.py\u001b[0m in \u001b[0;36m<lambda>\u001b[1;34m(*args, **kwargs)\u001b[0m\n\u001b[0;32m    111\u001b[0m \u001b[1;33m\u001b[0m\u001b[0m\n\u001b[0;32m    112\u001b[0m             \u001b[1;31m# lambda, but not partial, allows help() to work with update_wrapper\u001b[0m\u001b[1;33m\u001b[0m\u001b[1;33m\u001b[0m\u001b[1;33m\u001b[0m\u001b[0m\n\u001b[1;32m--> 113\u001b[1;33m             \u001b[0mout\u001b[0m \u001b[1;33m=\u001b[0m \u001b[1;32mlambda\u001b[0m \u001b[1;33m*\u001b[0m\u001b[0margs\u001b[0m\u001b[1;33m,\u001b[0m \u001b[1;33m**\u001b[0m\u001b[0mkwargs\u001b[0m\u001b[1;33m:\u001b[0m \u001b[0mself\u001b[0m\u001b[1;33m.\u001b[0m\u001b[0mfn\u001b[0m\u001b[1;33m(\u001b[0m\u001b[0mobj\u001b[0m\u001b[1;33m,\u001b[0m \u001b[1;33m*\u001b[0m\u001b[0margs\u001b[0m\u001b[1;33m,\u001b[0m \u001b[1;33m**\u001b[0m\u001b[0mkwargs\u001b[0m\u001b[1;33m)\u001b[0m  \u001b[1;31m# noqa\u001b[0m\u001b[1;33m\u001b[0m\u001b[1;33m\u001b[0m\u001b[0m\n\u001b[0m\u001b[0;32m    114\u001b[0m         \u001b[1;32melse\u001b[0m\u001b[1;33m:\u001b[0m\u001b[1;33m\u001b[0m\u001b[1;33m\u001b[0m\u001b[0m\n\u001b[0;32m    115\u001b[0m \u001b[1;33m\u001b[0m\u001b[0m\n",
      "\u001b[1;32m~\\Anaconda3\\lib\\site-packages\\sklearn\\model_selection\\_search.py\u001b[0m in \u001b[0;36mpredict_proba\u001b[1;34m(self, X)\u001b[0m\n\u001b[0;32m    542\u001b[0m         \"\"\"\n\u001b[0;32m    543\u001b[0m         \u001b[0mcheck_is_fitted\u001b[0m\u001b[1;33m(\u001b[0m\u001b[0mself\u001b[0m\u001b[1;33m)\u001b[0m\u001b[1;33m\u001b[0m\u001b[1;33m\u001b[0m\u001b[0m\n\u001b[1;32m--> 544\u001b[1;33m         \u001b[1;32mreturn\u001b[0m \u001b[0mself\u001b[0m\u001b[1;33m.\u001b[0m\u001b[0mbest_estimator_\u001b[0m\u001b[1;33m.\u001b[0m\u001b[0mpredict_proba\u001b[0m\u001b[1;33m(\u001b[0m\u001b[0mX\u001b[0m\u001b[1;33m)\u001b[0m\u001b[1;33m\u001b[0m\u001b[1;33m\u001b[0m\u001b[0m\n\u001b[0m\u001b[0;32m    545\u001b[0m \u001b[1;33m\u001b[0m\u001b[0m\n\u001b[0;32m    546\u001b[0m     \u001b[1;33m@\u001b[0m\u001b[0mavailable_if\u001b[0m\u001b[1;33m(\u001b[0m\u001b[0m_estimator_has\u001b[0m\u001b[1;33m(\u001b[0m\u001b[1;34m\"predict_log_proba\"\u001b[0m\u001b[1;33m)\u001b[0m\u001b[1;33m)\u001b[0m\u001b[1;33m\u001b[0m\u001b[1;33m\u001b[0m\u001b[0m\n",
      "\u001b[1;32m~\\Anaconda3\\lib\\site-packages\\sklearn\\neural_network\\_multilayer_perceptron.py\u001b[0m in \u001b[0;36mpredict_proba\u001b[1;34m(self, X)\u001b[0m\n\u001b[0;32m   1241\u001b[0m         \"\"\"\n\u001b[0;32m   1242\u001b[0m         \u001b[0mcheck_is_fitted\u001b[0m\u001b[1;33m(\u001b[0m\u001b[0mself\u001b[0m\u001b[1;33m)\u001b[0m\u001b[1;33m\u001b[0m\u001b[1;33m\u001b[0m\u001b[0m\n\u001b[1;32m-> 1243\u001b[1;33m         \u001b[0my_pred\u001b[0m \u001b[1;33m=\u001b[0m \u001b[0mself\u001b[0m\u001b[1;33m.\u001b[0m\u001b[0m_forward_pass_fast\u001b[0m\u001b[1;33m(\u001b[0m\u001b[0mX\u001b[0m\u001b[1;33m)\u001b[0m\u001b[1;33m\u001b[0m\u001b[1;33m\u001b[0m\u001b[0m\n\u001b[0m\u001b[0;32m   1244\u001b[0m \u001b[1;33m\u001b[0m\u001b[0m\n\u001b[0;32m   1245\u001b[0m         \u001b[1;32mif\u001b[0m \u001b[0mself\u001b[0m\u001b[1;33m.\u001b[0m\u001b[0mn_outputs_\u001b[0m \u001b[1;33m==\u001b[0m \u001b[1;36m1\u001b[0m\u001b[1;33m:\u001b[0m\u001b[1;33m\u001b[0m\u001b[1;33m\u001b[0m\u001b[0m\n",
      "\u001b[1;32m~\\Anaconda3\\lib\\site-packages\\sklearn\\neural_network\\_multilayer_perceptron.py\u001b[0m in \u001b[0;36m_forward_pass_fast\u001b[1;34m(self, X)\u001b[0m\n\u001b[0;32m    157\u001b[0m             \u001b[0mThe\u001b[0m \u001b[0mdecision\u001b[0m \u001b[0mfunction\u001b[0m \u001b[0mof\u001b[0m \u001b[0mthe\u001b[0m \u001b[0msamples\u001b[0m \u001b[1;32mfor\u001b[0m \u001b[0meach\u001b[0m \u001b[1;32mclass\u001b[0m \u001b[1;32min\u001b[0m \u001b[0mthe\u001b[0m \u001b[0mmodel\u001b[0m\u001b[1;33m.\u001b[0m\u001b[1;33m\u001b[0m\u001b[1;33m\u001b[0m\u001b[0m\n\u001b[0;32m    158\u001b[0m         \"\"\"\n\u001b[1;32m--> 159\u001b[1;33m         \u001b[0mX\u001b[0m \u001b[1;33m=\u001b[0m \u001b[0mself\u001b[0m\u001b[1;33m.\u001b[0m\u001b[0m_validate_data\u001b[0m\u001b[1;33m(\u001b[0m\u001b[0mX\u001b[0m\u001b[1;33m,\u001b[0m \u001b[0maccept_sparse\u001b[0m\u001b[1;33m=\u001b[0m\u001b[1;33m[\u001b[0m\u001b[1;34m\"csr\"\u001b[0m\u001b[1;33m,\u001b[0m \u001b[1;34m\"csc\"\u001b[0m\u001b[1;33m]\u001b[0m\u001b[1;33m,\u001b[0m \u001b[0mreset\u001b[0m\u001b[1;33m=\u001b[0m\u001b[1;32mFalse\u001b[0m\u001b[1;33m)\u001b[0m\u001b[1;33m\u001b[0m\u001b[1;33m\u001b[0m\u001b[0m\n\u001b[0m\u001b[0;32m    160\u001b[0m \u001b[1;33m\u001b[0m\u001b[0m\n\u001b[0;32m    161\u001b[0m         \u001b[1;31m# Initialize first layer\u001b[0m\u001b[1;33m\u001b[0m\u001b[1;33m\u001b[0m\u001b[1;33m\u001b[0m\u001b[0m\n",
      "\u001b[1;32m~\\Anaconda3\\lib\\site-packages\\sklearn\\base.py\u001b[0m in \u001b[0;36m_validate_data\u001b[1;34m(self, X, y, reset, validate_separately, **check_params)\u001b[0m\n\u001b[0;32m    583\u001b[0m \u001b[1;33m\u001b[0m\u001b[0m\n\u001b[0;32m    584\u001b[0m         \u001b[1;32mif\u001b[0m \u001b[1;32mnot\u001b[0m \u001b[0mno_val_X\u001b[0m \u001b[1;32mand\u001b[0m \u001b[0mcheck_params\u001b[0m\u001b[1;33m.\u001b[0m\u001b[0mget\u001b[0m\u001b[1;33m(\u001b[0m\u001b[1;34m\"ensure_2d\"\u001b[0m\u001b[1;33m,\u001b[0m \u001b[1;32mTrue\u001b[0m\u001b[1;33m)\u001b[0m\u001b[1;33m:\u001b[0m\u001b[1;33m\u001b[0m\u001b[1;33m\u001b[0m\u001b[0m\n\u001b[1;32m--> 585\u001b[1;33m             \u001b[0mself\u001b[0m\u001b[1;33m.\u001b[0m\u001b[0m_check_n_features\u001b[0m\u001b[1;33m(\u001b[0m\u001b[0mX\u001b[0m\u001b[1;33m,\u001b[0m \u001b[0mreset\u001b[0m\u001b[1;33m=\u001b[0m\u001b[0mreset\u001b[0m\u001b[1;33m)\u001b[0m\u001b[1;33m\u001b[0m\u001b[1;33m\u001b[0m\u001b[0m\n\u001b[0m\u001b[0;32m    586\u001b[0m \u001b[1;33m\u001b[0m\u001b[0m\n\u001b[0;32m    587\u001b[0m         \u001b[1;32mreturn\u001b[0m \u001b[0mout\u001b[0m\u001b[1;33m\u001b[0m\u001b[1;33m\u001b[0m\u001b[0m\n",
      "\u001b[1;32m~\\Anaconda3\\lib\\site-packages\\sklearn\\base.py\u001b[0m in \u001b[0;36m_check_n_features\u001b[1;34m(self, X, reset)\u001b[0m\n\u001b[0;32m    399\u001b[0m         \u001b[1;32mif\u001b[0m \u001b[0mn_features\u001b[0m \u001b[1;33m!=\u001b[0m \u001b[0mself\u001b[0m\u001b[1;33m.\u001b[0m\u001b[0mn_features_in_\u001b[0m\u001b[1;33m:\u001b[0m\u001b[1;33m\u001b[0m\u001b[1;33m\u001b[0m\u001b[0m\n\u001b[0;32m    400\u001b[0m             raise ValueError(\n\u001b[1;32m--> 401\u001b[1;33m                 \u001b[1;34mf\"X has {n_features} features, but {self.__class__.__name__} \"\u001b[0m\u001b[1;33m\u001b[0m\u001b[1;33m\u001b[0m\u001b[0m\n\u001b[0m\u001b[0;32m    402\u001b[0m                 \u001b[1;34mf\"is expecting {self.n_features_in_} features as input.\"\u001b[0m\u001b[1;33m\u001b[0m\u001b[1;33m\u001b[0m\u001b[0m\n\u001b[0;32m    403\u001b[0m             )\n",
      "\u001b[1;31mValueError\u001b[0m: X has 8 features, but MLPClassifier is expecting 24 features as input."
     ]
    }
   ],
   "source": [
    "y_pred_proba_cv_sel_model = cv_sel_model.predict_proba(X_test_sel_model)\n",
    "y_pred_proba_dt = rfe_cv.predict_proba(X_test_dt_model)\n",
    "y_pred_proba_lr = rfe_cv.predict_proba(X_test_lr)\n",
    "\n",
    "roc_index_cv_sel_model = roc_auc_score(y_test, y_pred_proba_cv_sel_model[:, 1])\n",
    "roc_index_dt_model = roc_auc_score(y_test, y_pred_proba_dt[:, 1])\n",
    "roc_index_lr = roc_auc_score(y_test, y_pred_proba_lr[:, 1])\n",
    "\n",
    "\n",
    "print(\"ROC index on test for NN with feature selection and gridsearch:\", roc_index_cv_sel_model)\n",
    "print(\"ROC index on test for NN with decision tree:\", roc_index_dt_model)\n",
    "print(\"ROC index on test for NN with logistic regression:\", roc_index_lr)\n",
    "\n",
    "from sklearn.metrics import roc_curve\n",
    "\n",
    "fpr_cv_sel_model, tpr_cv_sel_model, thresholds_cv_sel_model = roc_curve(y_test, y_pred_proba_cv_sel_model[:,1])\n",
    "fpr_rfe_dt, tpr_rfe_dt, thresholds_rfe_dt = roc_curve(y_test, y_pred_proba_dt[:,1])\n",
    "fpr_rfe_lr, tpr_rfe_lr, thresholds_rfe_lr = roc_curve(y_test, y_pred_proba_lr[:,1])"
   ]
  },
  {
   "cell_type": "code",
   "execution_count": 71,
   "metadata": {},
   "outputs": [
    {
     "data": {
      "image/png": "[encoded data removed]",
      "text/plain": [
       "<Figure size 640x480 with 1 Axes>"
      ]
     },
     "metadata": {},
     "output_type": "display_data"
    }
   ],
   "source": [
    "import matplotlib.pyplot as plt\n",
    "\n",
    "plt.plot(fpr_cv_sel_model, tpr_cv_sel_model, label='NN with Neural network feature selection {:.3f}'.format(roc_index_cv_sel_model), color='red', lw=1.5)\n",
    "plt.plot(fpr_rfe_dt, tpr_rfe_dt, label='NN decision tree {:.3f}'.format(roc_index_lr), color='blue', lw=1.5)\n",
    "plt.plot(fpr_rfe_lr, tpr_rfe_lr, label='NN logistic regression {:.3f}'.format(roc_index_lr), color='green', lw=1.5)\n",
    "\n",
    "\n",
    "plt.plot([0, 1], [0, 1], color='navy', lw=0.5, linestyle='--')\n",
    "plt.xlim([0.0, 1.0])\n",
    "plt.ylim([0.0, 1.0])\n",
    "plt.xlabel('False Positive Rate')\n",
    "plt.ylabel('True Positive Rate')\n",
    "plt.title('Receiver operating characteristic example')\n",
    "plt.legend(loc=\"lower right\")\n",
    "plt.show()"
   ]
  },
  {
   "cell_type": "markdown",
   "metadata": {},
   "source": [
    "# Ensemble Modeling"
   ]
  },
  {
   "cell_type": "code",
   "execution_count": 76,
   "metadata": {},
   "outputs": [],
   "source": [
    "# import the model\n",
    "from sklearn.ensemble import VotingClassifier\n",
    "\n",
    "# load the best performing decision tree and logistic regression models that we have saved from last two pracs\n",
    "import pickle\n",
    "with open('DT.pickle', 'rb') as f:\n",
    "    dt_best,roc_index_dt, fpr_dt, tpr_dt = pickle.load(f)\n",
    "with open('LR.pickle', 'rb') as f:\n",
    "    lr_best,roc_index_lr, fpr_lr, tpr_lr = pickle.load(f)\n",
    "with open('NN.pickle', 'rb') as f:\n",
    "    nn_best,roc_index_nn, fpr_nn, tpr_nn = pickle.load(f)   \n",
    "\n",
    "# select the best performing neural network\n",
    "nn_best = cv_sel_model\n",
    "\n",
    "# initialise the classifier with 3 different estimators\n",
    "voting = VotingClassifier(estimators=[('dt', dt_best), ('lr', lr_best), ('nn', nn_best)], voting='soft')"
   ]
  },
  {
   "cell_type": "code",
   "execution_count": 77,
   "metadata": {},
   "outputs": [
    {
     "name": "stdout",
     "output_type": "stream",
     "text": [
      "Ensemble train accuracy: 0.6557857142857143\n",
      "Ensemble test accuracy: 0.6368333333333334\n",
      "ROC score of voting classifier: 0.6796182654556848\n"
     ]
    }
   ],
   "source": [
    "# fit the voting classifier to training data\n",
    "voting.fit(X_train, y_train)\n",
    "\n",
    "# evaluate train and test accuracy\n",
    "print(\"Ensemble train accuracy:\", voting.score(X_train, y_train))\n",
    "print(\"Ensemble test accuracy:\", voting.score(X_test, y_test))\n",
    "\n",
    "# evaluate ROC auc score\n",
    "y_pred_proba_ensemble = voting.predict_proba(X_test)\n",
    "roc_index_ensemble = roc_auc_score(y_test, y_pred_proba_ensemble[:, 1])\n",
    "print(\"ROC score of voting classifier:\", roc_index_ensemble)"
   ]
  },
  {
   "cell_type": "markdown",
   "metadata": {},
   "source": [
    "# ROC"
   ]
  },
  {
   "cell_type": "code",
   "execution_count": null,
   "metadata": {},
   "outputs": [],
   "source": [
    "plt.plot(fpr_dt, tpr_dt, label='ROC of Decision tree {:.3f}'.format(roc_index_cv_2), color='yellow', lw=1.5)\n",
    "plt.plot(fpr_lr, tpr_lr, label='ROC of Logistic regression {:.3f}'.format(roc_index_cv_3), color='cyan', lw=1.5)\n",
    "plt.plot(fpr_nn, tpr_nn, label='ROC of Neural network {:.3f}'.format(roc_index_rfe_cv), color='gray', lw=1.5)\n",
    "\n",
    "\n",
    "plt.plot([0, 1], [0, 1], color='navy', lw=0.5, linestyle='--')\n",
    "plt.xlim([0.0, 1.0])\n",
    "plt.ylim([0.0, 1.0])\n",
    "plt.xlabel('False Positive Rate')\n",
    "plt.ylabel('True Positive Rate')\n",
    "plt.title('Receiver operating characteristic example')\n",
    "plt.legend(loc=\"lower right\")\n",
    "plt.show()"
   ]
  }
 ],
 "metadata": {
  "kernelspec": {
   "display_name": "Python 3 (ipykernel)",
   "language": "python",
   "name": "python3"
  },
  "language_info": {
   "codemirror_mode": {
    "name": "ipython",
    "version": 3
   },
   "file_extension": ".py",
   "mimetype": "text/x-python",
   "name": "python",
   "nbconvert_exporter": "python",
   "pygments_lexer": "ipython3",
   "version": "3.7.3"
  },
  "vscode": {
   "interpreter": {
    "hash": "3bc1a11519d29b3ed6f08646f3ece60640217e649724c6bcfd38e1173c1a1bce"
   }
  }
 },
 "nbformat": 4,
 "nbformat_minor": 2
}
