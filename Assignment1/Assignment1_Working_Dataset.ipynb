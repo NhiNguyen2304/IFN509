{
 "cells": [
  {
   "cell_type": "code",
   "execution_count": null,
   "metadata": {},
   "outputs": [],
   "source": [
    "import pandas as pd"
   ]
  },
  {
   "cell_type": "code",
   "execution_count": null,
   "metadata": {},
   "outputs": [],
   "source": [
    "import numpy as np"
   ]
  },
  {
   "cell_type": "code",
   "execution_count": null,
   "metadata": {},
   "outputs": [],
   "source": [
    "# CSV dataset file name\n",
    "file_name = 'D1.csv'"
   ]
  },
  {
   "cell_type": "code",
   "execution_count": null,
   "metadata": {},
   "outputs": [],
   "source": [
    "# Please put csv file in the same folder with this jupyter notebook\n",
    "df = pd.read_csv(file_name)"
   ]
  },
  {
   "cell_type": "code",
   "execution_count": null,
   "metadata": {
    "scrolled": true
   },
   "outputs": [],
   "source": [
    "print(df.info())"
   ]
  },
  {
   "cell_type": "markdown",
   "metadata": {},
   "source": [
    "# 1. Correct error\n"
   ]
  },
  {
   "cell_type": "markdown",
   "metadata": {},
   "source": [
    "The following cells were created first to count the number of missing values in each variable in the dataset. This was required prior to changing the data types to eliminate potential errors occurring in transforming the data types. We compared the output count from each cell to the total number of values in the dataset to identify whether the missing data was a significant issue. Invalid values affects whether pandas library can or cannot alter the data type"
   ]
  },
  {
   "cell_type": "code",
   "execution_count": null,
   "metadata": {},
   "outputs": [],
   "source": [
    "# count number of ? in 'race' col\n",
    "count_race = (df['race'] == '?').sum()\n",
    "print(count_race)\n",
    "# replace ? by mode value"
   ]
  },
  {
   "cell_type": "code",
   "execution_count": null,
   "metadata": {},
   "outputs": [],
   "source": [
    "# count number of Unknown/Invalid in 'gender' col\n",
    "count_gender = (df['gender'] == 'Unknown/Invalid').sum()\n",
    "\n",
    "print(count_gender)\n",
    "# only 1 row => can eliminate"
   ]
  },
  {
   "cell_type": "code",
   "execution_count": null,
   "metadata": {},
   "outputs": [],
   "source": [
    "# count number of ? in 'payer_code' col\n",
    "count_pc = (df['payer_code'] == '?').sum()\n",
    "print(count_pc)"
   ]
  },
  {
   "cell_type": "code",
   "execution_count": null,
   "metadata": {},
   "outputs": [],
   "source": [
    "# count number of ? in 'medical_specialty' col\n",
    "count_ms = (df['medical_specialty'] == '?').sum()\n",
    "print(count_ms)\n",
    "# replace ? by mode value"
   ]
  },
  {
   "cell_type": "code",
   "execution_count": null,
   "metadata": {},
   "outputs": [],
   "source": [
    "# count number of ? in 'number_outpatient' col\n",
    "count_outpatient = (df['number_outpatient'] == '?').sum()\n",
    "print(count_outpatient)\n",
    "# only 20 rows => can eliminate"
   ]
  },
  {
   "cell_type": "code",
   "execution_count": null,
   "metadata": {},
   "outputs": [],
   "source": [
    "# count number of ? in 'number_emergency' col\n",
    "count_ne = (df['number_emergency'] == '?').sum()\n",
    "print(count_ne)\n",
    "# only 69 rows => can eliminate"
   ]
  },
  {
   "cell_type": "code",
   "execution_count": null,
   "metadata": {},
   "outputs": [],
   "source": [
    "# count number of ? in 'number_inpatient' col\n",
    "count_inp = (df['number_inpatient'] == '?').sum()\n",
    "print(count_inp)\n",
    "# only 15 rows => can eliminate"
   ]
  },
  {
   "cell_type": "code",
   "execution_count": null,
   "metadata": {},
   "outputs": [],
   "source": [
    "# count number of ? in 'number_inpatient' col\n",
    "diag_1_inp = (df['diag_1'] == '?').sum()\n",
    "print(diag_1_inp)\n",
    "# only 11 rows => can eliminate"
   ]
  },
  {
   "cell_type": "code",
   "execution_count": null,
   "metadata": {},
   "outputs": [],
   "source": [
    "# count number of ? in 'number_inpatient' col\n",
    "diag_2_inp = (df['diag_2'] == '?').sum()\n",
    "print(diag_2_inp)\n",
    "# replace ? by mode value"
   ]
  },
  {
   "cell_type": "code",
   "execution_count": null,
   "metadata": {},
   "outputs": [],
   "source": [
    "# count number of ? in 'number_inpatient' col\n",
    "diag_3_inp = (df['diag_3'] == '?').sum()\n",
    "print(diag_3_inp)\n",
    "# replace ? by mode value"
   ]
  },
  {
   "cell_type": "code",
   "execution_count": null,
   "metadata": {},
   "outputs": [],
   "source": [
    "# count number of ? in 'number_inpatient' col\n",
    "count_chl = (df['chlorpropamide'] == '?').sum()\n",
    "print(count_chl)\n",
    "# only 1 row => can eliminate"
   ]
  },
  {
   "cell_type": "code",
   "execution_count": null,
   "metadata": {},
   "outputs": [],
   "source": [
    "# count number of ? in 'weight' col\n",
    "count_weight = (df['weight'] == '?').sum()\n",
    "print(count_weight)\n",
    "# replace ? by mode value"
   ]
  },
  {
   "cell_type": "markdown",
   "metadata": {},
   "source": [
    "### a. Remove invalid/unknown rows"
   ]
  },
  {
   "cell_type": "markdown",
   "metadata": {},
   "source": [
    "The following cell is informed by the counts above. Only those columns with small counts have been included in this cell. This removes the rows of data where the observations are invalid (unknown/invalid) or with question mark (?). This efficiently allows for the dataset to be processed and visualised appropriately later. "
   ]
  },
  {
   "cell_type": "code",
   "execution_count": null,
   "metadata": {},
   "outputs": [],
   "source": [
    "# list error condition\n",
    "error_invalid = ['Unknown/Invalid']\n",
    "error_questionMark = ['?']\n",
    "\n",
    "# Remove row with error condition which have small amount in dataset\n",
    "# Check if a row has column with error condition => eliminate that row\n",
    "df = df[~(df['gender'].isin(error_invalid))]\n",
    "df = df[~(df['number_outpatient'].isin(error_questionMark))]\n",
    "df = df[~(df['number_emergency'].isin(error_questionMark))]\n",
    "df = df[~(df['number_inpatient'].isin(error_questionMark))]\n",
    "df = df[~(df['diag_1'].isin(error_questionMark))]\n",
    "df = df[~(df['chlorpropamide'].isin(error_questionMark))]\n"
   ]
  },
  {
   "cell_type": "markdown",
   "metadata": {},
   "source": [
    "This cell validates the task undertaken above was successful."
   ]
  },
  {
   "cell_type": "code",
   "execution_count": null,
   "metadata": {},
   "outputs": [],
   "source": [
    "# Check AFTER remove invalid unknow rows\n",
    "# 0 should be printed\n",
    "print('**** Check AFTER remove invalid unknow rows ***')\n",
    "print('**** gender ****')\n",
    "print((df['gender'] == 'Unknown/Invalid').sum())\n",
    "print('**** number_outpatient ****')\n",
    "print((df['number_outpatient'] == '?').sum())\n",
    "print('**** number_emergency ****')\n",
    "print((df['number_emergency'] == '?').sum())\n",
    "print('**** number_inpatient ****')\n",
    "print((df['number_inpatient'] == '?').sum())\n",
    "print('**** diag_1 ****')\n",
    "print((df['diag_1'] == '?').sum())\n",
    "print('**** chlorpropamide ****')\n",
    "print((df['chlorpropamide'] == '?').sum())"
   ]
  },
  {
   "cell_type": "markdown",
   "metadata": {},
   "source": [
    "### b. Replace invalid/unknown col by mean or mode (Large amount shouldn't remove)"
   ]
  },
  {
   "cell_type": "markdown",
   "metadata": {},
   "source": [
    "The following cells focus on the variables that have a large number of invalid/unknown values, where it would significantly alter the dataset to remove whole rows of data. Accordingly, the string data types were replaced by the mode value for the variable (race, payer code, medical speciality, diagnosis 2, diagnosis 3 and weight). The integer data types were replaced by the mean value for that variable...."
   ]
  },
  {
   "cell_type": "markdown",
   "metadata": {},
   "source": [
    "#### String data type => replace by mode value\n",
    "##### gender, payer_code, medical_specialty, weight"
   ]
  },
  {
   "cell_type": "markdown",
   "metadata": {},
   "source": [
    "The following cell replaces all values of '?' with NaN. "
   ]
  },
  {
   "cell_type": "code",
   "execution_count": null,
   "metadata": {},
   "outputs": [],
   "source": [
    "# replace '?'' with NaN to calculate exactly mode\n",
    "df['race'] = df['race'].replace({'?': np.NaN})\n",
    "df['payer_code'] = df['payer_code'].replace({'?': np.NaN})\n",
    "df['medical_specialty'] = df['medical_specialty'].replace({'?': np.NaN})\n",
    "df['diag_2'] = df['diag_2'].replace({'?': np.NaN})\n",
    "df['diag_3'] = df['diag_3'].replace({'?': np.NaN})\n",
    "df['weight'] = df['weight'].replace({'?': np.NaN})"
   ]
  },
  {
   "cell_type": "code",
   "execution_count": null,
   "metadata": {},
   "outputs": [],
   "source": [
    "# select race mode value by getting the first element from return list\n",
    "race_mode = df['race'].mode().values[0]\n",
    "# replace ? by mode value for string datatype\n",
    "df['race'] = df['race'].replace({np.NaN: race_mode})"
   ]
  },
  {
   "cell_type": "code",
   "execution_count": null,
   "metadata": {},
   "outputs": [],
   "source": [
    "print('**** race AFTER replacing by mode value ****')\n",
    "print((df['race'] == np.NaN).sum())"
   ]
  },
  {
   "cell_type": "code",
   "execution_count": null,
   "metadata": {},
   "outputs": [],
   "source": [
    "# select payer_code mode value by getting the first element from return list\n",
    "payerCode_mode = df['payer_code'].mode().values[0]\n",
    "# replace ? by mode value for string datatype\n",
    "df['payer_code'] = df['payer_code'].replace({np.NaN: payerCode_mode})"
   ]
  },
  {
   "cell_type": "code",
   "execution_count": null,
   "metadata": {},
   "outputs": [],
   "source": [
    "print('**** payer_code AFTER replacing by mode value ****')\n",
    "print((df['payer_code'] == np.NaN).sum())"
   ]
  },
  {
   "cell_type": "code",
   "execution_count": null,
   "metadata": {},
   "outputs": [],
   "source": [
    "# select diag_2 mode value by getting the first element from return list\n",
    "diag_2_mode = df['diag_2'].mode().values[0]\n",
    "# replace ? by mode value for string datatype\n",
    "df['diag_2'] = df['diag_2'].replace({np.NaN: diag_2_mode})"
   ]
  },
  {
   "cell_type": "code",
   "execution_count": null,
   "metadata": {},
   "outputs": [],
   "source": [
    "print('**** diag_2 AFTER replacing by mode value ****')\n",
    "print((df['diag_2'] == np.NaN).sum())"
   ]
  },
  {
   "cell_type": "code",
   "execution_count": null,
   "metadata": {},
   "outputs": [],
   "source": [
    "# select diag_3 mode value by getting the first element from return list\n",
    "diag_3_mode = df['diag_3'].mode().values[0]\n",
    "# replace ? by mode value for string datatype\n",
    "df['diag_3'] = df['diag_3'].replace({np.NaN: diag_3_mode})"
   ]
  },
  {
   "cell_type": "code",
   "execution_count": null,
   "metadata": {},
   "outputs": [],
   "source": [
    "print('**** diag_3 AFTER replacing by mode value ****')\n",
    "print((df['diag_3'] == np.NaN).sum())"
   ]
  },
  {
   "cell_type": "code",
   "execution_count": null,
   "metadata": {},
   "outputs": [],
   "source": [
    "# select payer_code mode value by getting the first element from return list\n",
    "medi_mode = df['medical_specialty'].mode().values[0]\n",
    "# replace ? by mode value for string datatype\n",
    "df['medical_specialty'] = df['medical_specialty'].replace({np.NaN: medi_mode})"
   ]
  },
  {
   "cell_type": "code",
   "execution_count": null,
   "metadata": {},
   "outputs": [],
   "source": [
    "print('**** medical_specialty AFTER replacing by mode value ****')\n",
    "print((df['medical_specialty'] == np.NaN).sum())"
   ]
  },
  {
   "cell_type": "code",
   "execution_count": null,
   "metadata": {},
   "outputs": [],
   "source": [
    "# select payer_code mode value by getting the first element from return list\n",
    "weight_mode = df['weight'].mode().values[0]\n",
    "# replace ? by mode value for string datatype\n",
    "df['weight'] = df['weight'].replace({np.NaN: weight_mode})"
   ]
  },
  {
   "cell_type": "code",
   "execution_count": null,
   "metadata": {},
   "outputs": [],
   "source": [
    "print('**** weight AFTER replacing by mode value ****')\n",
    "print((df['weight'] == np.NaN).sum())"
   ]
  },
  {
   "cell_type": "markdown",
   "metadata": {},
   "source": [
    "### c. Format mismatch values"
   ]
  },
  {
   "cell_type": "markdown",
   "metadata": {},
   "source": [
    "The following cell checks the data type before correcting it. "
   ]
  },
  {
   "cell_type": "code",
   "execution_count": null,
   "metadata": {},
   "outputs": [],
   "source": [
    "# diag_1\n",
    "# diag_2\n",
    "# diag_3\n",
    "# Checking datatype before formating\n",
    "print('**** Checking datatype BEFORE formating *****')\n",
    "print('**** diag_1 *****')\n",
    "print(df.diag_1.dtype)\n",
    "print('**** diag_2 ****')\n",
    "print(df.diag_2.dtype)\n",
    "print('**** diag_3 ****')\n",
    "print(df.diag_3.dtype)"
   ]
  },
  {
   "cell_type": "markdown",
   "metadata": {},
   "source": [
    "This cell creates a function that:\n",
    "- removes the decimal place in ICD9 values.\n",
    "- identifies those values that have 0-3 digits and adds the appropriate number of leading 0's\n",
    "- extracts the first 3 digits from each value."
   ]
  },
  {
   "cell_type": "code",
   "execution_count": 1,
   "metadata": {},
   "outputs": [],
   "source": [
    "# Format  diagnosis (coded as the first three  digits of ICD9)\n",
    "# Function to extract first 3 character\n",
    "def format_text(col_name):\n",
    "    # Replace . by empty string\n",
    "    df[col_name] = df[col_name].str.replace('.', '')\n",
    "    # coded as the first three digits. With value has 1 or 2 digits add leading zero\n",
    "    df[col_name] = df[col_name].apply('{:0>3}'.format)  #uses regex pattern matching to identify values with 0-3 digits\n",
    "    # Extract first three digit\n",
    "    df[col_name] = df[col_name].str[:3]\n",
    "    print('********** ' + col_name + '**************')\n",
    "    print(df[col_name])"
   ]
  },
  {
   "cell_type": "code",
   "execution_count": null,
   "metadata": {},
   "outputs": [],
   "source": [
    "# df.loc[df['patient_nbr'] == 82442376, ['patient_nbr', 'diag_1']].set_index('patient_nbr')"
   ]
  },
  {
   "cell_type": "code",
   "execution_count": 2,
   "metadata": {},
   "outputs": [
    {
     "name": "stdout",
     "output_type": "stream",
     "text": [
      "**** Checking AFTER formating *****\n"
     ]
    },
    {
     "ename": "NameError",
     "evalue": "name 'df' is not defined",
     "output_type": "error",
     "traceback": [
      "\u001b[0;31m---------------------------------------------------------------------------\u001b[0m",
      "\u001b[0;31mNameError\u001b[0m                                 Traceback (most recent call last)",
      "\u001b[0;32m/var/folders/9b/65q2dh294xx2lm64ylgxcbcc0000gn/T/ipykernel_36269/1525940960.py\u001b[0m in \u001b[0;36m<module>\u001b[0;34m\u001b[0m\n\u001b[1;32m      2\u001b[0m \u001b[0mprint\u001b[0m\u001b[0;34m(\u001b[0m\u001b[0;34m'**** Checking AFTER formating *****'\u001b[0m\u001b[0;34m)\u001b[0m\u001b[0;34m\u001b[0m\u001b[0;34m\u001b[0m\u001b[0m\n\u001b[1;32m      3\u001b[0m \u001b[0;34m\u001b[0m\u001b[0m\n\u001b[0;32m----> 4\u001b[0;31m \u001b[0mformat_text\u001b[0m\u001b[0;34m(\u001b[0m\u001b[0;34m'diag_1'\u001b[0m\u001b[0;34m)\u001b[0m\u001b[0;34m\u001b[0m\u001b[0;34m\u001b[0m\u001b[0m\n\u001b[0m\u001b[1;32m      5\u001b[0m \u001b[0mformat_text\u001b[0m\u001b[0;34m(\u001b[0m\u001b[0;34m'diag_2'\u001b[0m\u001b[0;34m)\u001b[0m\u001b[0;34m\u001b[0m\u001b[0;34m\u001b[0m\u001b[0m\n\u001b[1;32m      6\u001b[0m \u001b[0mformat_text\u001b[0m\u001b[0;34m(\u001b[0m\u001b[0;34m'diag_3'\u001b[0m\u001b[0;34m)\u001b[0m\u001b[0;34m\u001b[0m\u001b[0;34m\u001b[0m\u001b[0m\n",
      "\u001b[0;32m/var/folders/9b/65q2dh294xx2lm64ylgxcbcc0000gn/T/ipykernel_36269/81913790.py\u001b[0m in \u001b[0;36mformat_text\u001b[0;34m(col_name)\u001b[0m\n\u001b[1;32m      3\u001b[0m \u001b[0;32mdef\u001b[0m \u001b[0mformat_text\u001b[0m\u001b[0;34m(\u001b[0m\u001b[0mcol_name\u001b[0m\u001b[0;34m)\u001b[0m\u001b[0;34m:\u001b[0m\u001b[0;34m\u001b[0m\u001b[0;34m\u001b[0m\u001b[0m\n\u001b[1;32m      4\u001b[0m     \u001b[0;31m# Replace . by empty string\u001b[0m\u001b[0;34m\u001b[0m\u001b[0;34m\u001b[0m\u001b[0;34m\u001b[0m\u001b[0m\n\u001b[0;32m----> 5\u001b[0;31m     \u001b[0mdf\u001b[0m\u001b[0;34m[\u001b[0m\u001b[0mcol_name\u001b[0m\u001b[0;34m]\u001b[0m \u001b[0;34m=\u001b[0m \u001b[0mdf\u001b[0m\u001b[0;34m[\u001b[0m\u001b[0mcol_name\u001b[0m\u001b[0;34m]\u001b[0m\u001b[0;34m.\u001b[0m\u001b[0mstr\u001b[0m\u001b[0;34m.\u001b[0m\u001b[0mreplace\u001b[0m\u001b[0;34m(\u001b[0m\u001b[0;34m'.'\u001b[0m\u001b[0;34m,\u001b[0m \u001b[0;34m''\u001b[0m\u001b[0;34m)\u001b[0m\u001b[0;34m\u001b[0m\u001b[0;34m\u001b[0m\u001b[0m\n\u001b[0m\u001b[1;32m      6\u001b[0m     \u001b[0;31m# coded as the first three digits. With value has 1 or 2 digits add leading zero\u001b[0m\u001b[0;34m\u001b[0m\u001b[0;34m\u001b[0m\u001b[0;34m\u001b[0m\u001b[0m\n\u001b[1;32m      7\u001b[0m     \u001b[0mdf\u001b[0m\u001b[0;34m[\u001b[0m\u001b[0mcol_name\u001b[0m\u001b[0;34m]\u001b[0m \u001b[0;34m=\u001b[0m \u001b[0mdf\u001b[0m\u001b[0;34m[\u001b[0m\u001b[0mcol_name\u001b[0m\u001b[0;34m]\u001b[0m\u001b[0;34m.\u001b[0m\u001b[0mapply\u001b[0m\u001b[0;34m(\u001b[0m\u001b[0;34m'{:0>3}'\u001b[0m\u001b[0;34m.\u001b[0m\u001b[0mformat\u001b[0m\u001b[0;34m)\u001b[0m  \u001b[0;31m#uses regex pattern matching to identify values with 0-3 digits\u001b[0m\u001b[0;34m\u001b[0m\u001b[0;34m\u001b[0m\u001b[0m\n",
      "\u001b[0;31mNameError\u001b[0m: name 'df' is not defined"
     ]
    }
   ],
   "source": [
    "# Call function with 3 col\n",
    "print('**** Checking AFTER formating *****')\n",
    "\n",
    "format_text('diag_1')\n",
    "format_text('diag_2')\n",
    "format_text('diag_3')\n",
    "\n",
    "# df.loc[df['patient_nbr'] == 82442376, ['patient_nbr', 'diag_1']].set_index('patient_nbr')"
   ]
  },
  {
   "cell_type": "code",
   "execution_count": null,
   "metadata": {},
   "outputs": [],
   "source": [
    "df.to_csv(file_name)"
   ]
  },
  {
   "cell_type": "markdown",
   "metadata": {},
   "source": [
    "# 2. Correct data type"
   ]
  },
  {
   "cell_type": "markdown",
   "metadata": {},
   "source": [
    "Pandas was loaded at the beginning of the notebook and has been used throughout to examine the data types examined to the each variable. When there was a mismatch in the data type as per the assignment description, the appropriate data type was corrected to the appropriate format. This can be shown in the following cells below."
   ]
  },
  {
   "cell_type": "markdown",
   "metadata": {},
   "source": [
    "### a. Convert int64\n",
    "##### number_outpatient, number_outpatient, number_inpatient"
   ]
  },
  {
   "cell_type": "markdown",
   "metadata": {},
   "source": [
    "The following variables (number_outpatient, number_emergency and number_inpatient)  were converted to int64 and checked before and after correcting the data types."
   ]
  },
  {
   "cell_type": "code",
   "execution_count": null,
   "metadata": {},
   "outputs": [],
   "source": [
    "print('********* Check data type BEFORE correcting *********')\n",
    "print('***number_outpatient***')\n",
    "print(df.number_outpatient.dtype)\n",
    "print('***number_emergency***')\n",
    "print(df.number_emergency.dtype)\n",
    "print('***number_inpatient***')\n",
    "print(df.number_inpatient.dtype)"
   ]
  },
  {
   "cell_type": "code",
   "execution_count": null,
   "metadata": {},
   "outputs": [],
   "source": [
    "df[\"number_outpatient\"] = df[\"number_outpatient\"].astype('int64')\n",
    "df[\"number_emergency\"] = df[\"number_emergency\"].astype('int64')\n",
    "df[\"number_inpatient\"] = df[\"number_inpatient\"].astype('int64')"
   ]
  },
  {
   "cell_type": "code",
   "execution_count": null,
   "metadata": {},
   "outputs": [],
   "source": [
    "print('********* Check data type AFTER correcting *********')\n",
    "print('***number_outpatient***')\n",
    "print(df.number_outpatient.dtype)\n",
    "print('***number_emergency***')\n",
    "print(df.number_emergency.dtype)\n",
    "print('***number_inpatient***')\n",
    "print(df.number_inpatient.dtype)"
   ]
  },
  {
   "cell_type": "markdown",
   "metadata": {},
   "source": [
    "### b. Convert to bool\n",
    "##### diabetes, change, diabetesMed, single_day_admission"
   ]
  },
  {
   "cell_type": "markdown",
   "metadata": {},
   "source": [
    "The following variables (diabetes, change, diabetesMed and single_day_admission)  were converted to bool (using the binary identification of 1/0) and checked before and after correcting the data types."
   ]
  },
  {
   "cell_type": "code",
   "execution_count": null,
   "metadata": {},
   "outputs": [],
   "source": [
    "print('********* Check data type BEFORE correcting *********')\n",
    "print('***diabetes***')\n",
    "print(df.diabetes.dtype)\n",
    "print('***change***')\n",
    "print(df.change.dtype)\n",
    "print('***diabetesMed***')\n",
    "print(df.diabetesMed.dtype)\n",
    "print('***single_day_admission***')\n",
    "print(df.single_day_admission.dtype)"
   ]
  },
  {
   "cell_type": "code",
   "execution_count": null,
   "metadata": {},
   "outputs": [],
   "source": [
    "# Change mapping diabetes Yes/No to binary 1/0 to help converting data type\n",
    "diabete_map = {'Yes':1, 'No': 0}\n",
    "df['diabetes'] = df['diabetes'].map(diabete_map)\n",
    "\n",
    "# Change mapping change Ch/No to binary 1/0 to help converting data type\n",
    "change_map = {'Ch':1, 'No': 0}\n",
    "df['change'] = df['change'].map(change_map)\n",
    "\n",
    "# Change mapping diabetesMed Yes/No to binary 1/0 to help converting data type\n",
    "diabetesMed_map = {'Yes':1, 'No': 0}\n",
    "df['diabetesMed'] = df['diabetesMed'].map(change_map)\n",
    "\n",
    "# Change mapping single_day_admission Yes/No to binary 1/0 to help converting data type\n",
    "admission_map = {'Yes':1, 'No': 0}\n",
    "df['single_day_admission'] = df['single_day_admission'].map(change_map)"
   ]
  },
  {
   "cell_type": "code",
   "execution_count": null,
   "metadata": {},
   "outputs": [],
   "source": [
    "# Convert datatype from object to bool\n",
    "df['diabetes'] = df['diabetes'].astype('bool')\n",
    "df['change'] = df['change'].astype('bool')\n",
    "df['diabetesMed'] = df['diabetesMed'].astype('bool')\n",
    "df['single_day_admission'] = df['single_day_admission'].astype('bool')"
   ]
  },
  {
   "cell_type": "code",
   "execution_count": null,
   "metadata": {},
   "outputs": [],
   "source": [
    "print('********* Check data type AFTER correcting *********')\n",
    "print('***diabetes***')\n",
    "print(df.diabetes.dtype)\n",
    "print('***change***')\n",
    "print(df.change.dtype)\n",
    "print('***diabetesMed***')\n",
    "print(df.diabetesMed.dtype)\n",
    "print('***single_day_admission***')\n",
    "print(df.single_day_admission.dtype)"
   ]
  },
  {
   "cell_type": "markdown",
   "metadata": {},
   "source": [
    "# 3. Save to file"
   ]
  },
  {
   "cell_type": "code",
   "execution_count": null,
   "metadata": {},
   "outputs": [],
   "source": [
    "# Load formarted dataframe into dataset file\n",
    "df.to_csv(file_name) "
   ]
  },
  {
   "cell_type": "code",
   "execution_count": null,
   "metadata": {},
   "outputs": [],
   "source": [
    "print(df.info())"
   ]
  },
  {
   "cell_type": "code",
   "execution_count": null,
   "metadata": {},
   "outputs": [],
   "source": []
  }
 ],
 "metadata": {
  "kernelspec": {
   "display_name": "Python 3 (ipykernel)",
   "language": "python",
   "name": "python3"
  },
  "language_info": {
   "codemirror_mode": {
    "name": "ipython",
    "version": 3
   },
   "file_extension": ".py",
   "mimetype": "text/x-python",
   "name": "python",
   "nbconvert_exporter": "python",
   "pygments_lexer": "ipython3",
   "version": "3.7.13"
  }
 },
 "nbformat": 4,
 "nbformat_minor": 2
}
