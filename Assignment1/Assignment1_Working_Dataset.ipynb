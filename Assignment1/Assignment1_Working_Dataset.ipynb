{
 "cells": [
  {
   "cell_type": "code",
   "execution_count": null,
   "metadata": {},
   "outputs": [],
   "source": [
    "import pandas as pd\n",
    "from pandas.api.types import CategoricalDtype\n",
    "import numpy as np"
   ]
  },
  {
   "cell_type": "code",
   "execution_count": null,
   "metadata": {},
   "outputs": [],
   "source": [
    "# CSV dataset file name\n",
    "file_name = 'D1.csv'"
   ]
  },
  {
   "cell_type": "code",
   "execution_count": null,
   "metadata": {},
   "outputs": [],
   "source": [
    "# Please put csv file in the same folder with this jupyter notebook\n",
    "df = pd.read_csv(file_name)"
   ]
  },
  {
   "cell_type": "code",
   "execution_count": null,
   "metadata": {
    "scrolled": false
   },
   "outputs": [],
   "source": [
    "print(df.info())"
   ]
  },
  {
   "cell_type": "markdown",
   "metadata": {},
   "source": [
    "# 1. Correct error\n"
   ]
  },
  {
   "cell_type": "markdown",
   "metadata": {},
   "source": [
    "The following cells were created first to count the number of missing values in each variable in the dataset. This was required prior to changing the data types to eliminate potential errors occurring in transforming the data types. We compared the output count from each cell to the total number of values in the dataset to identify whether the missing data was a significant issue. Invalid values affects whether pandas library can or cannot alter the data type"
   ]
  },
  {
   "cell_type": "code",
   "execution_count": null,
   "metadata": {},
   "outputs": [],
   "source": [
    "# Checking for '?' as 'Invalid/Unknown'\n",
    "for col in df.columns:\n",
    "    if df[col].dtype == object:\n",
    "        print(col,df[col][df[col] == '?'].count())"
   ]
  },
  {
   "cell_type": "code",
   "execution_count": null,
   "metadata": {},
   "outputs": [],
   "source": [
    "# count number of Unknown/Invalid in 'gender' col\n",
    "count_gender = (df['gender'] == 'Unknown/Invalid').sum()\n",
    "\n",
    "print(count_gender)\n",
    "# replace ? by mode value"
   ]
  },
  {
   "cell_type": "markdown",
   "metadata": {},
   "source": [
    "### a. Replace invalid/unknow col by mean or mode (Large amount shouldn't remove)"
   ]
  },
  {
   "cell_type": "markdown",
   "metadata": {},
   "source": [
    "The following cells focus on the variables that have a large number of invalid/unknown values, where it would significantly alter the dataset to remove whole rows of data. Accordingly, the string data types were replaced by the mode value for the variable (race, payer code, medical speciality, diagnosis 2, diagnosis 3 and weight). The integer data types were replaced by the mean value for that variable...."
   ]
  },
  {
   "cell_type": "markdown",
   "metadata": {},
   "source": [
    "#### String data type => replace by mode value\n",
    "##### gender, payer_code, medical_specialty, weight"
   ]
  },
  {
   "cell_type": "markdown",
   "metadata": {},
   "source": [
    "The following cell replaces all values of '?' with NaN. "
   ]
  },
  {
   "cell_type": "code",
   "execution_count": null,
   "metadata": {},
   "outputs": [],
   "source": [
    "# replace '?'' with NaN to calculate exactly mode\n",
    "df['race'] = df['race'].replace({'?': np.NaN})\n",
    "df['payer_code'] = df['payer_code'].replace({'?': np.NaN})\n",
    "df['medical_specialty'] = df['medical_specialty'].replace({'?': np.NaN})\n",
    "df['diag_2'] = df['diag_2'].replace({'?': np.NaN})\n",
    "df['diag_3'] = df['diag_3'].replace({'?': np.NaN})\n",
    "df['weight'] = df['weight'].replace({'?': np.NaN})\n",
    "\n",
    "df['gender'] = df['gender'].replace({'Unknown/Invalid': np.NaN})\n",
    "# replace '?'' with -1 for numeric values to calculate exactly mean\n",
    "df['number_outpatient'] = df['number_outpatient'].replace({'?': '-1'})\n",
    "df['number_emergency'] = df['number_emergency'].replace({'?': '-1'})\n",
    "df['number_inpatient'] = df['number_inpatient'].replace({'?': '-1'})\n",
    "df['diag_1'] = df['diag_1'].replace({'?': np.NaN})\n",
    "df['chlorpropamide'] = df['chlorpropamide'].replace({'?': np.NaN})"
   ]
  },
  {
   "cell_type": "code",
   "execution_count": null,
   "metadata": {},
   "outputs": [],
   "source": [
    "# TODO: look at tur resource\n",
    "# select race mode value by getting the first element from return list\n",
    "race_mode = df['race'].mode().values[0]\n",
    "# replace NaN by mode value for string datatype\n",
    "df['race'] = df['race'].replace({np.NaN: race_mode})\n",
    "\n",
    "#df['race'].fillna(df['race'].mode(), inplace=True)"
   ]
  },
  {
   "cell_type": "code",
   "execution_count": null,
   "metadata": {},
   "outputs": [],
   "source": [
    "print('**** race AFTER replacing by mode value ****')\n",
    "print((df['race'] == np.NaN).sum())\n",
    "print((df['race'].isnull().sum()))"
   ]
  },
  {
   "cell_type": "code",
   "execution_count": null,
   "metadata": {},
   "outputs": [],
   "source": [
    "# select payer_code mode value by getting the first element from return list\n",
    "payerCode_mode = df['payer_code'].mode().values[0]\n",
    "# replace NaN by mode value for string datatype\n",
    "df['payer_code'] = df['payer_code'].replace({np.NaN: payerCode_mode})\n",
    "\n",
    "#df['payer_code'].fillna(df['payer_code'].mode(), inplace=True)"
   ]
  },
  {
   "cell_type": "code",
   "execution_count": null,
   "metadata": {},
   "outputs": [],
   "source": [
    "print('**** payer_code AFTER replacing by mode value ****')\n",
    "print((df['payer_code'] == np.NaN).sum())\n",
    "print((df['payer_code'].isnull().sum()))"
   ]
  },
  {
   "cell_type": "code",
   "execution_count": null,
   "metadata": {},
   "outputs": [],
   "source": [
    "# select diag_2 mode value by getting the first element from return list\n",
    "diag_2_mode = df['diag_2'].mode().values[0]\n",
    "# replace NaN by mode value for string datatype\n",
    "df['diag_2'] = df['diag_2'].replace({np.NaN: diag_2_mode})\n",
    "\n",
    "#df['payer_code'].fillna(df['payer_code'].mode(), inplace=True)"
   ]
  },
  {
   "cell_type": "code",
   "execution_count": null,
   "metadata": {},
   "outputs": [],
   "source": [
    "print('**** diag_2 AFTER replacing by mode value ****')\n",
    "print((df['diag_2'] == np.NaN).sum())\n",
    "print((df['diag_2'].isnull().sum()))"
   ]
  },
  {
   "cell_type": "code",
   "execution_count": null,
   "metadata": {},
   "outputs": [],
   "source": [
    "# select diag_3 mode value by getting the first element from return list\n",
    "diag_3_mode = df['diag_3'].mode().values[0]\n",
    "# replace NaN by mode value for string datatype\n",
    "df['diag_3'] = df['diag_3'].replace({np.NaN: diag_3_mode})\n",
    "\n",
    "#df['diag_3'].fillna(df['diag_3'].mode(), inplace=True)"
   ]
  },
  {
   "cell_type": "code",
   "execution_count": null,
   "metadata": {},
   "outputs": [],
   "source": [
    "print('**** diag_3 AFTER replacing by mode value ****')\n",
    "print((df['diag_3'] == np.NaN).sum())\n",
    "print((df['diag_3'].isnull().sum()))"
   ]
  },
  {
   "cell_type": "code",
   "execution_count": null,
   "metadata": {},
   "outputs": [],
   "source": [
    "# select payer_code mode value by getting the first element from return list\n",
    "medi_mode = df['medical_specialty'].mode().values[0]\n",
    "# replace NaN by mode value for string datatype\n",
    "df['medical_specialty'] = df['medical_specialty'].replace({np.NaN: medi_mode})\n",
    "\n",
    "#df['medical_specialty'].fillna(df['medical_specialty'].mode(), inplace=True)"
   ]
  },
  {
   "cell_type": "code",
   "execution_count": null,
   "metadata": {},
   "outputs": [],
   "source": [
    "print('**** medical_specialty AFTER replacing by mode value ****')\n",
    "print((df['medical_specialty'] == np.NaN).sum())"
   ]
  },
  {
   "cell_type": "code",
   "execution_count": null,
   "metadata": {},
   "outputs": [],
   "source": [
    "# select payer_code mode value by getting the first element from return list\n",
    "weight_mode = df['weight'].mode().values[0]\n",
    "# replace NaN by mode value for string datatype\n",
    "df['weight'] = df['weight'].replace({np.NaN: weight_mode})\n",
    "\n",
    "#df['weight'].fillna(df['weight'].mode(), inplace=True)"
   ]
  },
  {
   "cell_type": "code",
   "execution_count": null,
   "metadata": {},
   "outputs": [],
   "source": [
    "print('**** weight AFTER replacing by mode value ****')\n",
    "print((df['weight'] == np.NaN).sum())"
   ]
  },
  {
   "cell_type": "markdown",
   "metadata": {},
   "source": [
    "We used ffil because there was only 1 NA value in the column. This meant we were able to use the preceeding value to fill the na. We made this choice because it is only 1 value out of 50,000-ish vals it won't affect the distribution of the variable. "
   ]
  },
  {
   "cell_type": "code",
   "execution_count": null,
   "metadata": {},
   "outputs": [],
   "source": [
    "df[\"gender\"].fillna( method ='ffill', inplace = True)\n",
    "\n",
    "print('**** gender AFTER replacing by mode value ****')\n",
    "print((df['gender'].isnull()).sum())"
   ]
  },
  {
   "cell_type": "markdown",
   "metadata": {},
   "source": [
    "Situation: replace missing value by mean for numeric variable.\n",
    "So need to convert those variables to int64 data type first"
   ]
  },
  {
   "cell_type": "code",
   "execution_count": null,
   "metadata": {},
   "outputs": [],
   "source": [
    "df[\"number_outpatient\"] = df[\"number_outpatient\"].astype('int64')\n",
    "df['number_outpatient'] = df['number_outpatient'].replace({-1: df['number_outpatient'].mean()})\n",
    "\n",
    "print('**** number_outpatient AFTER replacing by mode value ****')\n",
    "print((df['number_outpatient'] == -1).sum())"
   ]
  },
  {
   "cell_type": "code",
   "execution_count": null,
   "metadata": {},
   "outputs": [],
   "source": [
    "df[\"number_emergency\"] = df[\"number_emergency\"].astype('int64')\n",
    "df['number_emergency'] = df['number_emergency'].replace({-1: df['number_emergency'].mean()})\n",
    "\n",
    "print('**** number_emergency AFTER replacing by mean value ****')\n",
    "print((df['number_emergency'] == -1).sum())"
   ]
  },
  {
   "cell_type": "code",
   "execution_count": null,
   "metadata": {},
   "outputs": [],
   "source": [
    "df[\"number_inpatient\"] = df[\"number_inpatient\"].astype('int64')\n",
    "df['number_inpatient'] = df['number_inpatient'].replace({-1: df['number_inpatient'].mean()})\n",
    "\n",
    "print('**** number_inpatient AFTER replacing by mean value ****')\n",
    "print((df['number_inpatient'] == -1).sum())"
   ]
  },
  {
   "cell_type": "code",
   "execution_count": null,
   "metadata": {},
   "outputs": [],
   "source": [
    "df['diag_1'].fillna(df['diag_1'].mode(), inplace=True)\n",
    "\n",
    "print('**** diag_1 AFTER replacing by mode value ****')\n",
    "print((df['diag_1'] == np.NaN).sum())"
   ]
  },
  {
   "cell_type": "code",
   "execution_count": null,
   "metadata": {},
   "outputs": [],
   "source": [
    "\n",
    "df['chlorpropamide'].fillna(method ='ffill', inplace=True)\n",
    "\n",
    "print('**** chlorpropamide AFTER replacing by mode value ****')\n",
    "print((df['chlorpropamide'].isnull()).sum())"
   ]
  },
  {
   "cell_type": "markdown",
   "metadata": {},
   "source": [
    "### b. Format mismatch values"
   ]
  },
  {
   "cell_type": "markdown",
   "metadata": {},
   "source": [
    "The following cell checks the data type before correcting it. "
   ]
  },
  {
   "cell_type": "code",
   "execution_count": null,
   "metadata": {},
   "outputs": [],
   "source": [
    "# diag_1\n",
    "# diag_2\n",
    "# diag_3\n",
    "# Checking datatype before formating\n",
    "print('**** Checking datatype BEFORE formating *****')\n",
    "print('**** diag_1 *****')\n",
    "print(df.diag_1.dtype)\n",
    "print('**** diag_2 ****')\n",
    "print(df.diag_2.dtype)\n",
    "print('**** diag_3 ****')\n",
    "print(df.diag_3.dtype)"
   ]
  },
  {
   "cell_type": "markdown",
   "metadata": {},
   "source": [
    "This cell creates a function that:\n",
    "- removes the decimal place in ICD9 values.\n",
    "- identifies those values that have 0-3 digits and adds the appropriate number of leading 0's\n",
    "- extracts the first 3 digits from each value."
   ]
  },
  {
   "cell_type": "code",
   "execution_count": null,
   "metadata": {},
   "outputs": [],
   "source": [
    "# Format  diagnosis (coded as the first three  digits of ICD9)\n",
    "# Function to extract first 3 character\n",
    "def format_text(col_name):\n",
    "    # Replace . by empty string\n",
    "    df[col_name] = df[col_name].str.replace('.', '')\n",
    "    # coded as the first three digits. With value has 1 or 2 digits add leading zero\n",
    "    df[col_name] = df[col_name].apply('{:0>3}'.format)\n",
    "    # Extract first three digit\n",
    "    df[col_name] = df[col_name].str[:3]\n",
    "    print('********** ' + col_name + '**************')\n",
    "    print(df[col_name])"
   ]
  },
  {
   "cell_type": "code",
   "execution_count": null,
   "metadata": {},
   "outputs": [],
   "source": [
    "# df.loc[df['patient_nbr'] == 82442376, ['patient_nbr', 'diag_1']].set_index('patient_nbr')"
   ]
  },
  {
   "cell_type": "code",
   "execution_count": null,
   "metadata": {},
   "outputs": [],
   "source": [
    "# Call function with 3 col\n",
    "print('**** Checking AFTER formating *****')\n",
    "\n",
    "format_text('diag_1')\n",
    "format_text('diag_2')\n",
    "format_text('diag_3')\n",
    "\n",
    "# df.loc[df['patient_nbr'] == 82442376, ['patient_nbr', 'diag_1']].set_index('patient_nbr')"
   ]
  },
  {
   "cell_type": "code",
   "execution_count": null,
   "metadata": {},
   "outputs": [],
   "source": [
    "#df.to_csv(file_name)"
   ]
  },
  {
   "cell_type": "markdown",
   "metadata": {},
   "source": [
    "# 2. Correct data type"
   ]
  },
  {
   "cell_type": "markdown",
   "metadata": {},
   "source": [
    "Pandas was loaded at the beginning of the notebook and has been used throughout to examine the data types examined to the each variable. When there was a mismatch in the data type as per the assignment description, the appropriate data type was corrected to the appropriate format. This can be shown in the following cells below."
   ]
  },
  {
   "cell_type": "markdown",
   "metadata": {},
   "source": [
    "### a. Convert int64\n",
    "##### number_outpatient, number_outpatient, number_inpatient"
   ]
  },
  {
   "cell_type": "markdown",
   "metadata": {},
   "source": [
    "The following variables (number_outpatient, number_emergency and number_inpatient)  were converted to int64 and checked before and after correcting the data types."
   ]
  },
  {
   "cell_type": "code",
   "execution_count": null,
   "metadata": {},
   "outputs": [],
   "source": [
    "print('********* Check data type BEFORE correcting *********')\n",
    "print('***number_outpatient***')\n",
    "print(df.number_outpatient.dtype)\n",
    "print('***number_emergency***')\n",
    "print(df.number_emergency.dtype)\n",
    "print('***number_inpatient***')\n",
    "print(df.number_inpatient.dtype)"
   ]
  },
  {
   "cell_type": "code",
   "execution_count": null,
   "metadata": {},
   "outputs": [],
   "source": [
    "df[\"number_outpatient\"] = df[\"number_outpatient\"].astype('int64')\n",
    "df[\"number_emergency\"] = df[\"number_emergency\"].astype('int64')\n",
    "df[\"number_inpatient\"] = df[\"number_inpatient\"].astype('int64')"
   ]
  },
  {
   "cell_type": "code",
   "execution_count": null,
   "metadata": {},
   "outputs": [],
   "source": [
    "print('********* Check data type AFTER correcting *********')\n",
    "print('***number_outpatient***')\n",
    "print(df.number_outpatient.dtype)\n",
    "print('***number_emergency***')\n",
    "print(df.number_emergency.dtype)\n",
    "print('***number_inpatient***')\n",
    "print(df.number_inpatient.dtype)"
   ]
  },
  {
   "cell_type": "markdown",
   "metadata": {},
   "source": [
    "### b. Mapping variables\n",
    "##### diabetes, change, diabetesMed, single_day_admission"
   ]
  },
  {
   "cell_type": "markdown",
   "metadata": {},
   "source": [
    "The following variables (diabetes, change, diabetesMed and single_day_admission)  were converted to int64 (using the binary identification of 1/0) and checked before and after correcting the data types."
   ]
  },
  {
   "cell_type": "code",
   "execution_count": null,
   "metadata": {},
   "outputs": [],
   "source": [
    "print('********* Check data type BEFORE correcting *********')\n",
    "print('***diabetes***')\n",
    "print(df.diabetes.dtype)\n",
    "print('***change***')\n",
    "print(df.change.dtype)\n",
    "print('***diabetesMed***')\n",
    "print(df.diabetesMed.dtype)\n",
    "print('***single_day_admission***')\n",
    "print(df.single_day_admission.dtype)"
   ]
  },
  {
   "cell_type": "code",
   "execution_count": null,
   "metadata": {},
   "outputs": [],
   "source": [
    "# Change mapping diabetes Yes/No to binary 1/0 to help converting data type\n",
    "diabete_map = {'Yes': 1, 'No': 0}\n",
    "df['diabetes'] = df['diabetes'].map(diabete_map)\n",
    "\n",
    "# Change mapping change Ch/No to binary 1/0 to help converting data type\n",
    "change_map = {'Ch': 1, 'No': 0}\n",
    "df['change'] = df['change'].map(change_map)\n",
    "\n",
    "# Change mapping diabetesMed Yes/No to binary 1/0 to help converting data type\n",
    "diabetesMed_map = {'Yes': 1, 'No': 0}\n",
    "df['diabetesMed'] = df['diabetesMed'].map(diabetesMed_map)\n",
    "\n",
    "# Change mapping single_day_admission Yes/No to binary 1/0 to help converting data type\n",
    "admission_map = {'Yes': 1, 'No': 0}\n",
    "df['single_day_admission'] = df['single_day_admission'].map(admission_map)"
   ]
  },
  {
   "cell_type": "code",
   "execution_count": null,
   "metadata": {},
   "outputs": [],
   "source": [
    "\n",
    "#print((df['diabetesMed'].isnull()).sum())"
   ]
  },
  {
   "cell_type": "code",
   "execution_count": null,
   "metadata": {},
   "outputs": [],
   "source": [
    "# Convert datatype from object to int64 for mapping\n",
    "df['diabetes'] = df['diabetes'].astype('int64')\n",
    "df['diabetesMed'] = df['diabetesMed'].astype('int64')\n",
    "\n",
    "df['change'] = df['change'].astype('int64')\n",
    "df['single_day_admission'] = df['single_day_admission'].astype('int64')\n"
   ]
  },
  {
   "cell_type": "code",
   "execution_count": null,
   "metadata": {},
   "outputs": [],
   "source": [
    "print('********* Check data type AFTER correcting *********')\n",
    "print('***diabetes***')\n",
    "print(df.diabetes.dtype)\n",
    "print('***change***')\n",
    "print(df.change.dtype)\n",
    "print('***diabetesMed***')\n",
    "print(df.diabetesMed.dtype)\n",
    "print('***single_day_admission***')\n",
    "print(df.single_day_admission.dtype)"
   ]
  },
  {
   "cell_type": "code",
   "execution_count": null,
   "metadata": {},
   "outputs": [],
   "source": [
    "# change gender into binary 0/1 variable\n",
    "gender_map = {'Female': 0, 'Male': 1}\n",
    "df['gender'] = df['gender'].map(gender_map)"
   ]
  },
  {
   "cell_type": "code",
   "execution_count": null,
   "metadata": {},
   "outputs": [],
   "source": [
    "df['gender'] = df['gender'].astype('int64')"
   ]
  },
  {
   "cell_type": "markdown",
   "metadata": {},
   "source": [
    "### c. Convert to Categorical"
   ]
  },
  {
   "cell_type": "code",
   "execution_count": null,
   "metadata": {},
   "outputs": [],
   "source": [
    "from pandas.api.types import CategoricalDtype\n",
    "race_ordered = CategoricalDtype(categories=[\"AfricanAmerican\",\"Asian\",\"Caucasian\", \"Hispanic\", \"Other\"], ordered=True)\n",
    "age_ordered = CategoricalDtype(categories=[\"[0-10)\", \"[10-20)\", \"[20-30)\", \"[30-40)\", \"[40-50)\", \"[50-60)\", \"[60-70)\", \"[70-80)\", \"[80-90)\", \"[90-100)\"], ordered=True)\n",
    "weight_ordered = CategoricalDtype(categories=[\"[0-25)\", \"[25-50)\", \"[50-75)\", \"[75-100)\", \"[100-125)\", \"[125-150)\", \"[150-175)\", \"[175-200)\", \">200\"], ordered=True)"
   ]
  },
  {
   "cell_type": "code",
   "execution_count": null,
   "metadata": {},
   "outputs": [],
   "source": [
    "df['encounter_id'] = df['encounter_id'].astype(\"category\")\n",
    "df['patient_nbr'] = df['patient_nbr'].astype(\"category\")\n",
    "df['age'] = df['age'].astype(age_ordered)\n",
    "df['race'] = df['race'].astype(race_ordered)\n",
    "df['weight'] = df['weight'].astype(weight_ordered)\n",
    "#df['gender'] = df['gender'].astype(\"category\")\n",
    "df['medical_specialty'] = df['medical_specialty'].astype(\"category\")\n",
    "df['max_glu_serum'] = df['max_glu_serum'].astype(\"category\")\n",
    "df['A1Cresult'] = df['A1Cresult'].astype(\"category\")\n",
    "df['metformin'] = df['metformin'].astype(\"category\")\n",
    "df['repaglinide'] = df['repaglinide'].astype(\"category\")\n",
    "df['nateglinide'] = df['nateglinide'].astype(\"category\")\n",
    "df['chlorpropamide'] = df['chlorpropamide'].astype(\"category\")\n",
    "df['glimepiride'] = df['glimepiride'].astype(\"category\")\n",
    "df['acetohexamide'] = df['acetohexamide'].astype(\"category\")\n",
    "df['glipizide'] = df['glipizide'].astype(\"category\")\n",
    "df['glyburide'] = df['glyburide'].astype(\"category\")\n",
    "df['tolbutamide'] = df['tolbutamide'].astype(\"category\")\n",
    "df['insulin'] = df['insulin'].astype(\"category\")\n",
    "df['readmitted'] = df['readmitted'].astype(\"category\")\n",
    "df['admission_type_id'] = df['admission_type_id'].astype(\"category\")\n",
    "df['discharge_disposition_id'] = df['discharge_disposition_id'].astype(\"category\")\n",
    "df['admission_source_id'] = df['admission_source_id'].astype(\"category\")"
   ]
  },
  {
   "cell_type": "markdown",
   "metadata": {},
   "source": [
    "# 3. Save to file"
   ]
  },
  {
   "cell_type": "code",
   "execution_count": null,
   "metadata": {},
   "outputs": [],
   "source": [
    "# Load formarted dataframe into dataset file\n",
    "df.to_csv(file_name) "
   ]
  },
  {
   "cell_type": "code",
   "execution_count": null,
   "metadata": {},
   "outputs": [],
   "source": [
    "print(df.info())"
   ]
  },
  {
   "cell_type": "markdown",
   "metadata": {},
   "source": [
    "# II. Explore data"
   ]
  },
  {
   "cell_type": "markdown",
   "metadata": {},
   "source": [
    "# 1. Skewed"
   ]
  },
  {
   "cell_type": "code",
   "execution_count": null,
   "metadata": {},
   "outputs": [],
   "source": [
    "# To ignore any future warnings\n",
    "import warnings\n",
    "warnings.filterwarnings(\"ignore\")\n",
    "\n",
    "import matplotlib.pyplot as plt\n",
    "import seaborn as sns\n"
   ]
  },
  {
   "cell_type": "code",
   "execution_count": null,
   "metadata": {},
   "outputs": [],
   "source": [
    "df_sts = df.select_dtypes(include=[np.number])"
   ]
  },
  {
   "cell_type": "code",
   "execution_count": null,
   "metadata": {},
   "outputs": [],
   "source": [
    "def check_describe(col_name):\n",
    "    print(\"\\n===============================\")\n",
    "    print(\"Check Describe of: \" + col_name)\n",
    "    print(\"===============================\")\n",
    "    print(df[col_name].describe())\n",
    "    \n",
    "    print(\"\\n===============================\")\n",
    "    print(\"Check Mode of: \" + col_name)\n",
    "    print(\"===============================\")\n",
    "    print(df[col_name].mode())\n"
   ]
  },
  {
   "cell_type": "code",
   "execution_count": null,
   "metadata": {},
   "outputs": [],
   "source": [
    "check_describe('length_of_stay')\n",
    "check_describe('num_lab_procedures')\n",
    "check_describe('num_procedures')\n",
    "check_describe('num_medications')\n",
    "check_describe('number_outpatient')\n",
    "check_describe('number_emergency')\n",
    "check_describe('number_inpatient')\n",
    "check_describe('number_diagnoses')\n",
    "\n"
   ]
  },
  {
   "cell_type": "markdown",
   "metadata": {},
   "source": [
    "# 2. Answer questions"
   ]
  },
  {
   "cell_type": "code",
   "execution_count": null,
   "metadata": {},
   "outputs": [],
   "source": [
    "# get the value count of each gender\n",
    "print(\"Raw count of genders of readmitted with length of stay\")\n",
    "print(df.groupby(['gender'])['readmitted'].value_counts())\n",
    "\n",
    "# What is the average length of stay in the hospital of a male patient who \n",
    "# was readmitted in less than 30 days?\n",
    "print(\"\")\n"
   ]
  },
  {
   "cell_type": "code",
   "execution_count": null,
   "metadata": {},
   "outputs": [],
   "source": [
    "# get the value count of each gender. Female = 0, Male = 1\n",
    "print(\"Raw count of genders of readmitted with length of stay\")\n",
    "unfilter = df.groupby([df.gender==1,df.readmitted=='<30'])['length_of_stay'].aggregate('mean')\n",
    "\n",
    "print(unfilter)\n",
    "\n",
    "#unfilter = df.groupby(['gender','readmitted','length_of_stay'])['gender']\n",
    "#print(unfilter.filter(lambda x: x['gender'] == Male))\n",
    "\n",
    "# What is the average length of stay in the hospital of a male patient who \n",
    "# was readmitted in less than 30 days?\n"
   ]
  },
  {
   "cell_type": "code",
   "execution_count": null,
   "metadata": {},
   "outputs": [],
   "source": [
    "# What is the average length of stay in the hospital of a male patient who \n",
    "# was readmitted in less than 30 days?\n",
    "# Female = 0, Male = 1\n",
    "avg_under30_stay = df.groupby([df.gender==1,df.readmitted=='<30'])['length_of_stay'].aggregate('mean')\n",
    "\n",
    "print(avg_under30_stay)"
   ]
  },
  {
   "cell_type": "code",
   "execution_count": null,
   "metadata": {},
   "outputs": [],
   "source": [
    "# Which age group has the highest number of encounters whose primary \n",
    "# diagnosis is diabetes? What is the number?\n",
    "\n",
    "print((df.groupby(['diabetes', 'age'])['age'].value_counts()))\n",
    "print((df.groupby(['diabetes', 'age'])['age'].value_counts()).max())\n",
    "#df['diabetes'].value_counts()"
   ]
  },
  {
   "cell_type": "code",
   "execution_count": null,
   "metadata": {},
   "outputs": [],
   "source": [
    "# c. How many encounters whose admission type is Emergency? How many \n",
    "# of these emergency encounters are readmitted within 30 days?\n"
   ]
  },
  {
   "cell_type": "code",
   "execution_count": null,
   "metadata": {},
   "outputs": [],
   "source": [
    "# Emergency: 1\n",
    "emergency = df.groupby([df.admission_type_id==1])['admission_type_id'].value_counts()\n",
    "print(emergency)"
   ]
  },
  {
   "cell_type": "code",
   "execution_count": null,
   "metadata": {},
   "outputs": [],
   "source": [
    "count_emergency = df.groupby([df.admission_type_id==1,df.readmitted=='<30'])['admission_type_id'].value_counts()\n",
    "print(count_emergency)"
   ]
  },
  {
   "cell_type": "code",
   "execution_count": null,
   "metadata": {},
   "outputs": [],
   "source": [
    "# d.What are the top-three race categories according to the number of \n",
    "# readmission cases (including both less than or larger than 30 days)?"
   ]
  },
  {
   "cell_type": "code",
   "execution_count": null,
   "metadata": {},
   "outputs": [],
   "source": [
    "print(df.groupby([df.race,df.readmitted=='<30'])['race'].value_counts().sort_values(ascending=False))"
   ]
  },
  {
   "cell_type": "code",
   "execution_count": null,
   "metadata": {},
   "outputs": [],
   "source": [
    "print(df.groupby([df.race,df.readmitted=='>30'])['race'].value_counts().sort_values(ascending=False))"
   ]
  },
  {
   "cell_type": "markdown",
   "metadata": {},
   "source": [
    "# 3. Question 3"
   ]
  },
  {
   "cell_type": "markdown",
   "metadata": {},
   "source": [
    "# 1 Understand the distribution of variables and identify data quality problems."
   ]
  },
  {
   "cell_type": "code",
   "execution_count": null,
   "metadata": {},
   "outputs": [],
   "source": [
    "def draw_plot(col_name):\n",
    "    dg = sns.distplot(df[col_name])\n",
    "    plt.show()"
   ]
  },
  {
   "cell_type": "code",
   "execution_count": null,
   "metadata": {},
   "outputs": [],
   "source": [
    "def draw_boxplot(col_name):\n",
    "    db = sns.boxplot(df[col_name])\n",
    "    plt.show()"
   ]
  },
  {
   "cell_type": "code",
   "execution_count": null,
   "metadata": {},
   "outputs": [],
   "source": [
    "print(\"***length_of_stay***\")\n",
    "draw_plot('length_of_stay')\n",
    "draw_boxplot('length_of_stay')\n",
    "print('***num_lab_procedures***')\n",
    "draw_plot('num_lab_procedures')\n",
    "draw_boxplot('num_lab_procedures')\n",
    "print('***num_procedures***')\n",
    "draw_plot('num_procedures')\n",
    "draw_boxplot('num_procedures')\n",
    "print('***num_medications***')\n",
    "draw_plot('num_medications')\n",
    "draw_boxplot('num_medications')\n",
    "print('***number_outpatient***')\n",
    "draw_plot('number_outpatient')\n",
    "draw_boxplot('number_outpatient')\n",
    "print('***number_emergency***')\n",
    "draw_plot('number_emergency')\n",
    "draw_boxplot('number_emergency')\n",
    "print('***number_inpatient***')\n",
    "draw_plot('number_inpatient')\n",
    "draw_boxplot('number_inpatient')\n",
    "print('***number_diagnoses***')\n",
    "draw_plot('number_diagnoses')\n",
    "draw_boxplot('number_diagnoses')"
   ]
  },
  {
   "cell_type": "code",
   "execution_count": null,
   "metadata": {},
   "outputs": [],
   "source": [
    "def draw_countplot(col_name):\n",
    "    plt.figure(figsize=(15,10))\n",
    "    db = sns.countplot(col_name)\n",
    "    db.set_xticklabels(db.get_xticklabels(), rotation=90)\n",
    "    plt.show()"
   ]
  },
  {
   "cell_type": "code",
   "execution_count": null,
   "metadata": {},
   "outputs": [],
   "source": [
    "print('***Age***')\n",
    "draw_countplot(df['age'])"
   ]
  },
  {
   "cell_type": "code",
   "execution_count": null,
   "metadata": {},
   "outputs": [],
   "source": [
    "print('***race***')\n",
    "draw_countplot(df['race'])"
   ]
  },
  {
   "cell_type": "code",
   "execution_count": null,
   "metadata": {},
   "outputs": [],
   "source": [
    "print('***weight***')\n",
    "draw_countplot(df['weight'])"
   ]
  },
  {
   "cell_type": "code",
   "execution_count": null,
   "metadata": {},
   "outputs": [],
   "source": [
    "print('***gender***')\n",
    "draw_countplot(df['gender'])"
   ]
  },
  {
   "cell_type": "code",
   "execution_count": null,
   "metadata": {},
   "outputs": [],
   "source": [
    "fig, ax= plt.subplots(figsize =(10,22))\n",
    "sns.set_style('whitegrid')\n",
    "sns.set_context('notebook')\n",
    "ax=sns.countplot( palette=\"Dark2\",ax=ax,y='medical_specialty',order =df['medical_specialty'].value_counts().index, data=df)\n",
    "\n",
    "for p in ax.patches:\n",
    "    percentage ='{}'.format(p.get_width())\n",
    "    width, height =p.get_width(),p.get_height()\n",
    "    x=p.get_x()+width+0.5\n",
    "    y=p.get_y()+height/2+0.2\n",
    "    ax.annotate(percentage,(x,y), fontsize=12)\n",
    "\n",
    "plt.xticks(fontsize =11)\n",
    "plt.yticks(fontsize =11)\n",
    "\n",
    "plt.title('Distribution of medical specialty',fontsize =14 )\n",
    "plt.xlabel ('Number of doctor-patient encounters',fontsize =13)\n",
    "plt.ylabel ('Medical Specialty',fontsize =13)\n",
    "plt.show ()"
   ]
  },
  {
   "cell_type": "code",
   "execution_count": null,
   "metadata": {},
   "outputs": [],
   "source": [
    "print('***max glu serum***')\n",
    "draw_countplot(df['max_glu_serum'])"
   ]
  },
  {
   "cell_type": "code",
   "execution_count": null,
   "metadata": {},
   "outputs": [],
   "source": [
    "print('***A1Cresult***')\n",
    "draw_countplot(df['A1Cresult'])"
   ]
  },
  {
   "cell_type": "code",
   "execution_count": null,
   "metadata": {},
   "outputs": [],
   "source": [
    "print('***metformin***')\n",
    "draw_countplot(df['metformin'])"
   ]
  },
  {
   "cell_type": "code",
   "execution_count": null,
   "metadata": {},
   "outputs": [],
   "source": [
    "print('***repaglinide***')\n",
    "draw_countplot(df['repaglinide'])"
   ]
  },
  {
   "cell_type": "code",
   "execution_count": null,
   "metadata": {},
   "outputs": [],
   "source": [
    "print('***nateglinide***')\n",
    "draw_countplot(df['nateglinide'])"
   ]
  },
  {
   "cell_type": "code",
   "execution_count": null,
   "metadata": {},
   "outputs": [],
   "source": [
    "print('***chlorpropamide***')\n",
    "draw_countplot(df['chlorpropamide'])"
   ]
  },
  {
   "cell_type": "code",
   "execution_count": null,
   "metadata": {},
   "outputs": [],
   "source": [
    "print('***glimepiride***')\n",
    "draw_countplot(df['glimepiride'])"
   ]
  },
  {
   "cell_type": "code",
   "execution_count": null,
   "metadata": {},
   "outputs": [],
   "source": [
    "print('***acetohexamide***')\n",
    "draw_countplot(df['acetohexamide'])"
   ]
  },
  {
   "cell_type": "code",
   "execution_count": null,
   "metadata": {},
   "outputs": [],
   "source": [
    "print('***glipizide***')\n",
    "draw_countplot(df['glipizide'])"
   ]
  },
  {
   "cell_type": "code",
   "execution_count": null,
   "metadata": {},
   "outputs": [],
   "source": [
    "print('***glyburide***')\n",
    "draw_countplot(df['glyburide'])"
   ]
  },
  {
   "cell_type": "code",
   "execution_count": null,
   "metadata": {},
   "outputs": [],
   "source": [
    "print('***tolbutamide***')\n",
    "draw_countplot(df['tolbutamide'])"
   ]
  },
  {
   "cell_type": "code",
   "execution_count": null,
   "metadata": {},
   "outputs": [],
   "source": [
    "print('***insulin***')\n",
    "draw_countplot(df['insulin'])"
   ]
  },
  {
   "cell_type": "code",
   "execution_count": null,
   "metadata": {},
   "outputs": [],
   "source": [
    "print('***readmitted***')\n",
    "draw_countplot(df['readmitted'])"
   ]
  },
  {
   "cell_type": "code",
   "execution_count": null,
   "metadata": {},
   "outputs": [],
   "source": [
    "# Determine if there is any relationship between the variables dibetes and \n",
    "# diabetesMed? How would you handle these two variables in the data \n",
    "# modelling if a relationship exists?"
   ]
  },
  {
   "cell_type": "code",
   "execution_count": null,
   "metadata": {},
   "outputs": [],
   "source": [
    "# Identify the highly correlated variable pairs and elaborate on how to treat these \n",
    "# variables in the mining process in such a case.\n",
    "# Select only numeric data type\n",
    "corr = df.corr()\n",
    "f = plt.figure(figsize=(15, 15))\n",
    "plt.matshow(df.corr(), fignum=f.number)\n",
    "plt.xticks(range(df.select_dtypes(['int64']).shape[1]), df.select_dtypes(['int64']).columns, fontsize=14, rotation=90)\n",
    "plt.yticks(range(df.select_dtypes(['int64']).shape[1]), df.select_dtypes(['int64']).columns, fontsize=14)\n",
    "im = plt.imshow(corr, cmap='coolwarm')\n",
    "cb = plt.colorbar(im)\n",
    "cb.ax.tick_params(labelsize=14)\n",
    "#plt.title('Correlation Matrix', fontsize=16);"
   ]
  },
  {
   "cell_type": "code",
   "execution_count": null,
   "metadata": {},
   "outputs": [],
   "source": [
    "print(df.groupby([df.diabetes==1,df.diabetesMed==1])['diabetes'].value_counts())"
   ]
  },
  {
   "cell_type": "code",
   "execution_count": null,
   "metadata": {},
   "outputs": [],
   "source": [
    "import matplotlib.pyplot as plt2\n",
    "plt2.scatter(df['diabetes'], df['diabetesMed'])\n",
    "plt2.title('Correlation')\n",
    "plt2.xlabel('diabetes')\n",
    "plt2.ylabel('diabetesMed')\n",
    "plt2.show()"
   ]
  },
  {
   "cell_type": "code",
   "execution_count": null,
   "metadata": {},
   "outputs": [],
   "source": [
    "crosstab = pd.crosstab(index=df['diabetes'], columns=df['diabetesMed'])\n",
    "print(crosstab)"
   ]
  },
  {
   "cell_type": "code",
   "execution_count": null,
   "metadata": {},
   "outputs": [],
   "source": [
    "df2 = df[['diabetes', 'diabetesMed']]"
   ]
  },
  {
   "cell_type": "code",
   "execution_count": null,
   "metadata": {},
   "outputs": [],
   "source": [
    "# Correlation between diabetes and diabetesMed.\n",
    "df2.corr(method = 'pearson')"
   ]
  },
  {
   "cell_type": "code",
   "execution_count": null,
   "metadata": {},
   "outputs": [],
   "source": []
  }
 ],
 "metadata": {
  "kernelspec": {
   "display_name": "Python 3.10.4 64-bit",
   "language": "python",
   "name": "python3"
  },
  "language_info": {
   "codemirror_mode": {
    "name": "ipython",
    "version": 3
   },
   "file_extension": ".py",
   "mimetype": "text/x-python",
   "name": "python",
   "nbconvert_exporter": "python",
   "pygments_lexer": "ipython3",
   "version": "3.10.4"
  },
  "vscode": {
   "interpreter": {
    "hash": "3bc1a11519d29b3ed6f08646f3ece60640217e649724c6bcfd38e1173c1a1bce"
   }
  }
 },
 "nbformat": 4,
 "nbformat_minor": 2
}
