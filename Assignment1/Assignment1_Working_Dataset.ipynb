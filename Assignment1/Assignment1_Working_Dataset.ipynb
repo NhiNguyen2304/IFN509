{
 "cells": [
  {
   "cell_type": "code",
   "execution_count": 1,
   "metadata": {},
   "outputs": [],
   "source": [
    "import pandas as pd"
   ]
  },
  {
   "cell_type": "code",
   "execution_count": 2,
   "metadata": {},
   "outputs": [],
   "source": [
    "import numpy as np"
   ]
  },
  {
   "cell_type": "code",
   "execution_count": 3,
   "metadata": {},
   "outputs": [
    {
     "name": "stderr",
     "output_type": "stream",
     "text": [
      "C:\\Users\\nguye\\Anaconda3\\lib\\site-packages\\IPython\\core\\interactiveshell.py:3049: DtypeWarning: Columns (15,16,17) have mixed types. Specify dtype option on import or set low_memory=False.\n",
      "  interactivity=interactivity, compiler=compiler, result=result)\n"
     ]
    }
   ],
   "source": [
    "df = pd.read_csv('C:/Users/nguye/IFN509/Assignment1/D1.csv')"
   ]
  },
  {
   "cell_type": "code",
   "execution_count": null,
   "metadata": {},
   "outputs": [],
   "source": [
    "print(df.info())"
   ]
  },
  {
   "cell_type": "markdown",
   "metadata": {},
   "source": [
    "# 1. Update data type\n",
    "### number_outpatient"
   ]
  },
  {
   "cell_type": "code",
   "execution_count": 7,
   "metadata": {
    "scrolled": true
   },
   "outputs": [],
   "source": [
    "# replace '?' => NaN\n",
    "df['number_outpatient'] = df['number_outpatient'].replace({'?': np.nan})"
   ]
  },
  {
   "cell_type": "code",
   "execution_count": 10,
   "metadata": {},
   "outputs": [
    {
     "name": "stdout",
     "output_type": "stream",
     "text": [
      "     encounter_id  patient_nbr             race  gender      age weight  \\\n",
      "73         955884     93196251        Caucasian  Female  [70-80)      ?   \n",
      "74         961464    105366150        Caucasian  Female  [70-80)      ?   \n",
      "80        1077924     21820806  AfricanAmerican    Male  [50-60)      ?   \n",
      "81        1079592    101707335        Caucasian  Female  [50-60)      ?   \n",
      "82        1110420     96190083        Caucasian    Male  [60-70)      ?   \n",
      "84        1119858     68661747        Caucasian    Male  [40-50)      ?   \n",
      "89        1161024     20830941        Caucasian  Female  [70-80)      ?   \n",
      "91        1186980     91370916  AfricanAmerican    Male  [40-50)      ?   \n",
      "95        1195548    106343838        Caucasian  Female  [70-80)      ?   \n",
      "97        1257282     84488562            Other  Female  [50-60)      ?   \n",
      "100       1260894     91530936        Caucasian  Female  [60-70)      ?   \n",
      "102       1270524     67897251        Caucasian    Male  [60-70)      ?   \n",
      "104       1414158     48925980        Caucasian    Male  [80-90)      ?   \n",
      "106       1455252     96440301        Caucasian  Female  [80-90)      ?   \n",
      "114       1880598     10430154        Caucasian  Female  [30-40)      ?   \n",
      "118       2087382     15856002  AfricanAmerican    Male  [60-70)      ?   \n",
      "120       2088630      1719279        Caucasian    Male  [40-50)      ?   \n",
      "124       2095932       276606  AfricanAmerican  Female  [30-40)      ?   \n",
      "125       2135022       815391        Caucasian  Female  [80-90)      ?   \n",
      "127       2140146     53612379  AfricanAmerican  Female  [20-30)      ?   \n",
      "\n",
      "     admission_type_id  discharge_disposition_id  admission_source_id  \\\n",
      "73                   1                         3                    7   \n",
      "74                   1                         1                    7   \n",
      "80                   1                         6                    7   \n",
      "81                   1                         7                    7   \n",
      "82                   1                         1                    7   \n",
      "84                   1                         1                    7   \n",
      "89                   1                         2                    7   \n",
      "91                   2                         1                    2   \n",
      "95                   1                         3                    7   \n",
      "97                   1                         1                    7   \n",
      "100                  2                        11                    2   \n",
      "102                  1                         2                    7   \n",
      "104                  1                         6                    7   \n",
      "106                  1                         1                    7   \n",
      "114                  1                         1                    7   \n",
      "118                  2                        11                    4   \n",
      "120                  6                        25                    7   \n",
      "124                  6                        25                    7   \n",
      "125                  6                        25                    7   \n",
      "127                  2                         1                    7   \n",
      "\n",
      "     length_of_stay  ... glimepiride acetohexamide  glipizide  glyburide  \\\n",
      "73                5  ...          No            No         No         No   \n",
      "74                4  ...      Steady            No         No         No   \n",
      "80                3  ...          No            No         No         No   \n",
      "81                5  ...          No            No         No         No   \n",
      "82                1  ...          No            No     Steady         No   \n",
      "84                3  ...          No            No         No         No   \n",
      "89                5  ...          No            No     Steady         No   \n",
      "91                4  ...          No            No         No         No   \n",
      "95                5  ...          No            No         No         No   \n",
      "97                2  ...          No            No         No         No   \n",
      "100               7  ...          No            No         No         No   \n",
      "102               1  ...          No            No         No         No   \n",
      "104               2  ...          No            No         No         No   \n",
      "106               3  ...          No            No         No         No   \n",
      "114               2  ...          No            No         No         No   \n",
      "118               2  ...          No            No         No         No   \n",
      "120              11  ...          No            No         No         No   \n",
      "124               8  ...          No            No         No         No   \n",
      "125               8  ...          No            No         No         No   \n",
      "127               1  ...          No            No         No         No   \n",
      "\n",
      "     tolbutamide insulin change diabetesMed readmitted single_day_admission  \n",
      "73            No      Up     Ch         Yes        >30                   No  \n",
      "74            No      No     No         Yes        >30                   No  \n",
      "80            No      No     No          No         NO                   No  \n",
      "81            No      Up     Ch         Yes        >30                   No  \n",
      "82            No    Down     Ch         Yes         NO                  Yes  \n",
      "84            No      No     No         Yes        >30                   No  \n",
      "89            No  Steady     Ch         Yes        >30                   No  \n",
      "91            No  Steady     No         Yes        >30                   No  \n",
      "95            No  Steady     No         Yes        >30                   No  \n",
      "97            No      Up     Ch         Yes         NO                   No  \n",
      "100           No  Steady     No         Yes         NO                   No  \n",
      "102           No  Steady     No         Yes         NO                  Yes  \n",
      "104           No      No     No          No        >30                   No  \n",
      "106           No      No     No          No        >30                   No  \n",
      "114           No  Steady     No         Yes         NO                   No  \n",
      "118           No      Up     Ch         Yes         NO                   No  \n",
      "120           No      No     Ch         Yes        >30                   No  \n",
      "124           No  Steady     Ch         Yes        >30                   No  \n",
      "125           No  Steady     No         Yes         NO                   No  \n",
      "127           No    Down     Ch         Yes        >30                  Yes  \n",
      "\n",
      "[20 rows x 39 columns]\n"
     ]
    }
   ],
   "source": [
    "# check incorrect rows\n",
    "print(df[df['number_outpatient'].isnull()])"
   ]
  },
  {
   "cell_type": "code",
   "execution_count": 13,
   "metadata": {},
   "outputs": [],
   "source": [
    "# removing all non-numeric values use to_numeric with parameter errors='coerce' - to replace non-numeric values to NaNs:\n",
    "df['number_outpatient'] = pd.to_numeric(df['number_outpatient'], errors='coerce')"
   ]
  },
  {
   "cell_type": "code",
   "execution_count": 14,
   "metadata": {},
   "outputs": [],
   "source": [
    "# remove all rows with NaNs in column x\n",
    "df = df.dropna(subset=['number_outpatient'])"
   ]
  },
  {
   "cell_type": "code",
   "execution_count": 15,
   "metadata": {},
   "outputs": [],
   "source": [
    "# change data type\n",
    "df[\"number_outpatient\"] = df[\"number_outpatient\"].astype('int64')"
   ]
  },
  {
   "cell_type": "code",
   "execution_count": 16,
   "metadata": {},
   "outputs": [
    {
     "data": {
      "text/plain": [
       "0        0\n",
       "1        0\n",
       "2        0\n",
       "3        0\n",
       "4        0\n",
       "5        0\n",
       "6        0\n",
       "7        0\n",
       "8        0\n",
       "9        0\n",
       "10       0\n",
       "11       2\n",
       "12       0\n",
       "13       0\n",
       "14       0\n",
       "15       0\n",
       "16       0\n",
       "17       0\n",
       "18       0\n",
       "19       0\n",
       "20       0\n",
       "21       0\n",
       "22       0\n",
       "23       0\n",
       "24       0\n",
       "25       0\n",
       "26       0\n",
       "27       0\n",
       "28       0\n",
       "29       0\n",
       "        ..\n",
       "50001    0\n",
       "50002    0\n",
       "50003    0\n",
       "50004    0\n",
       "50005    0\n",
       "50006    0\n",
       "50007    0\n",
       "50008    0\n",
       "50009    2\n",
       "50010    0\n",
       "50011    0\n",
       "50012    0\n",
       "50013    0\n",
       "50014    0\n",
       "50015    0\n",
       "50016    0\n",
       "50017    1\n",
       "50018    0\n",
       "50019    1\n",
       "50020    5\n",
       "50021    1\n",
       "50022    4\n",
       "50023    0\n",
       "50024    0\n",
       "50025    0\n",
       "50026    0\n",
       "50027    1\n",
       "50028    0\n",
       "50029    0\n",
       "50030    2\n",
       "Name: number_outpatient, Length: 50011, dtype: int64"
      ]
     },
     "execution_count": 16,
     "metadata": {},
     "output_type": "execute_result"
    }
   ],
   "source": [
    "# check data type\n",
    "df['number_outpatient']"
   ]
  },
  {
   "cell_type": "code",
   "execution_count": null,
   "metadata": {},
   "outputs": [],
   "source": []
  }
 ],
 "metadata": {
  "kernelspec": {
   "display_name": "Python 3",
   "language": "python",
   "name": "python3"
  },
  "language_info": {
   "codemirror_mode": {
    "name": "ipython",
    "version": 3
   },
   "file_extension": ".py",
   "mimetype": "text/x-python",
   "name": "python",
   "nbconvert_exporter": "python",
   "pygments_lexer": "ipython3",
   "version": "3.7.3"
  }
 },
 "nbformat": 4,
 "nbformat_minor": 2
}
