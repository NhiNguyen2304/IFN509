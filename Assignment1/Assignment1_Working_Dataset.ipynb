{
 "cells": [
  {
   "cell_type": "code",
   "execution_count": 2,
   "metadata": {},
   "outputs": [],
   "source": [
    "import pandas as pd\n",
    "from pandas.api.types import CategoricalDtype"
   ]
  },
  {
   "cell_type": "code",
   "execution_count": 3,
   "metadata": {},
   "outputs": [],
   "source": [
    "import numpy as np"
   ]
  },
  {
   "cell_type": "code",
   "execution_count": 4,
   "metadata": {},
   "outputs": [],
   "source": [
    "# CSV dataset file name\n",
    "file_name = 'D1.csv'"
   ]
  },
  {
   "cell_type": "code",
   "execution_count": 5,
   "metadata": {},
   "outputs": [],
   "source": [
    "# Please put csv file in the same folder with this jupyter notebook\n",
    "df = pd.read_csv(file_name)"
   ]
  },
  {
   "cell_type": "code",
   "execution_count": 6,
   "metadata": {
    "scrolled": true
   },
   "outputs": [
    {
     "name": "stdout",
     "output_type": "stream",
     "text": [
      "<class 'pandas.core.frame.DataFrame'>\n",
      "RangeIndex: 49914 entries, 0 to 49913\n",
      "Data columns (total 40 columns):\n",
      "Unnamed: 0                  49914 non-null int64\n",
      "encounter_id                49914 non-null int64\n",
      "patient_nbr                 49914 non-null int64\n",
      "race                        49914 non-null object\n",
      "gender                      49914 non-null object\n",
      "age                         36831 non-null object\n",
      "weight                      49914 non-null object\n",
      "admission_type_id           49914 non-null int64\n",
      "discharge_disposition_id    49914 non-null int64\n",
      "admission_source_id         49914 non-null int64\n",
      "length_of_stay              49914 non-null int64\n",
      "payer_code                  49914 non-null object\n",
      "medical_specialty           49914 non-null object\n",
      "num_lab_procedures          49914 non-null int64\n",
      "num_procedures              49914 non-null int64\n",
      "num_medications             49914 non-null int64\n",
      "number_outpatient           49914 non-null int64\n",
      "number_emergency            49914 non-null int64\n",
      "number_inpatient            49914 non-null int64\n",
      "diag_1                      49914 non-null object\n",
      "diag_2                      49914 non-null object\n",
      "diag_3                      49914 non-null object\n",
      "number_diagnoses            49914 non-null int64\n",
      "diabetes                    49914 non-null bool\n",
      "max_glu_serum               49914 non-null object\n",
      "A1Cresult                   49914 non-null object\n",
      "metformin                   49914 non-null object\n",
      "repaglinide                 49914 non-null object\n",
      "nateglinide                 49914 non-null object\n",
      "chlorpropamide              49914 non-null object\n",
      "glimepiride                 49914 non-null object\n",
      "acetohexamide               49914 non-null object\n",
      "glipizide                   49914 non-null object\n",
      "glyburide                   49914 non-null object\n",
      "tolbutamide                 49914 non-null object\n",
      "insulin                     49914 non-null object\n",
      "change                      49914 non-null bool\n",
      "diabetesMed                 49914 non-null bool\n",
      "readmitted                  49914 non-null object\n",
      "single_day_admission        49914 non-null bool\n",
      "dtypes: bool(4), int64(14), object(22)\n",
      "memory usage: 13.9+ MB\n",
      "None\n"
     ]
    }
   ],
   "source": [
    "print(df.info())"
   ]
  },
  {
   "cell_type": "markdown",
   "metadata": {},
   "source": [
    "# I. Correct error"
   ]
  },
  {
   "cell_type": "markdown",
   "metadata": {},
   "source": [
    "The following cells were created first to count the number of missing values in each variable in the dataset. This was required prior to changing the data types to eliminate potential errors occurring in transforming the data types. We compared the output count from each cell to the total number of values in the dataset to identify whether the missing data was a significant issue. Invalid values affects whether pandas library can or cannot alter the data type"
   ]
  },
  {
   "cell_type": "code",
   "execution_count": 7,
   "metadata": {},
   "outputs": [
    {
     "name": "stdout",
     "output_type": "stream",
     "text": [
      "0\n"
     ]
    }
   ],
   "source": [
    "# count number of ? in 'race' col\n",
    "count_race = (df['race'] == '?').sum()\n",
    "print(count_race)\n",
    "# replace ? by mode value"
   ]
  },
  {
   "cell_type": "code",
   "execution_count": 8,
   "metadata": {},
   "outputs": [
    {
     "name": "stdout",
     "output_type": "stream",
     "text": [
      "0\n"
     ]
    }
   ],
   "source": [
    "# count number of Unknown/Invalid in 'gender' col\n",
    "count_gender = (df['gender'] == 'Unknown/Invalid').sum()\n",
    "\n",
    "print(count_gender)\n",
    "# only 1 row => can eliminate"
   ]
  },
  {
   "cell_type": "code",
   "execution_count": 9,
   "metadata": {},
   "outputs": [
    {
     "name": "stdout",
     "output_type": "stream",
     "text": [
      "0\n"
     ]
    }
   ],
   "source": [
    "# count number of ? in 'payer_code' col\n",
    "count_pc = (df['payer_code'] == '?').sum()\n",
    "print(count_pc)"
   ]
  },
  {
   "cell_type": "code",
   "execution_count": 10,
   "metadata": {},
   "outputs": [
    {
     "name": "stdout",
     "output_type": "stream",
     "text": [
      "0\n"
     ]
    }
   ],
   "source": [
    "# count number of ? in 'medical_specialty' col\n",
    "count_ms = (df['medical_specialty'] == '?').sum()\n",
    "print(count_ms)\n",
    "# replace ? by mode value"
   ]
  },
  {
   "cell_type": "code",
   "execution_count": 11,
   "metadata": {},
   "outputs": [
    {
     "name": "stdout",
     "output_type": "stream",
     "text": [
      "0\n"
     ]
    },
    {
     "name": "stderr",
     "output_type": "stream",
     "text": [
      "C:\\Users\\melan\\Anaconda3\\lib\\site-packages\\pandas\\core\\ops.py:1649: FutureWarning: elementwise comparison failed; returning scalar instead, but in the future will perform elementwise comparison\n",
      "  result = method(y)\n"
     ]
    }
   ],
   "source": [
    "# count number of ? in 'number_outpatient' col\n",
    "count_outpatient = (df['number_outpatient'] == '?').sum()\n",
    "print(count_outpatient)\n",
    "# only 20 rows => can eliminate"
   ]
  },
  {
   "cell_type": "code",
   "execution_count": 12,
   "metadata": {},
   "outputs": [
    {
     "name": "stdout",
     "output_type": "stream",
     "text": [
      "0\n"
     ]
    }
   ],
   "source": [
    "# count number of ? in 'number_emergency' col\n",
    "count_ne = (df['number_emergency'] == '?').sum()\n",
    "print(count_ne)\n",
    "# only 69 rows => can eliminate"
   ]
  },
  {
   "cell_type": "code",
   "execution_count": 13,
   "metadata": {},
   "outputs": [
    {
     "name": "stdout",
     "output_type": "stream",
     "text": [
      "0\n"
     ]
    }
   ],
   "source": [
    "# count number of ? in 'number_inpatient' col\n",
    "count_inp = (df['number_inpatient'] == '?').sum()\n",
    "print(count_inp)\n",
    "# only 15 rows => can eliminate"
   ]
  },
  {
   "cell_type": "code",
   "execution_count": 14,
   "metadata": {},
   "outputs": [
    {
     "name": "stdout",
     "output_type": "stream",
     "text": [
      "0\n"
     ]
    }
   ],
   "source": [
    "# count number of ? in 'number_inpatient' col\n",
    "diag_1_inp = (df['diag_1'] == '?').sum()\n",
    "print(diag_1_inp)\n",
    "# only 11 rows => can eliminate"
   ]
  },
  {
   "cell_type": "code",
   "execution_count": 15,
   "metadata": {},
   "outputs": [
    {
     "name": "stdout",
     "output_type": "stream",
     "text": [
      "0\n"
     ]
    }
   ],
   "source": [
    "# count number of ? in 'number_inpatient' col\n",
    "diag_2_inp = (df['diag_2'] == '?').sum()\n",
    "print(diag_2_inp)\n",
    "# replace ? by mode value"
   ]
  },
  {
   "cell_type": "code",
   "execution_count": 16,
   "metadata": {},
   "outputs": [
    {
     "name": "stdout",
     "output_type": "stream",
     "text": [
      "0\n"
     ]
    }
   ],
   "source": [
    "# count number of ? in 'number_inpatient' col\n",
    "diag_3_inp = (df['diag_3'] == '?').sum()\n",
    "print(diag_3_inp)\n",
    "# replace ? by mode value"
   ]
  },
  {
   "cell_type": "code",
   "execution_count": 17,
   "metadata": {},
   "outputs": [
    {
     "name": "stdout",
     "output_type": "stream",
     "text": [
      "0\n"
     ]
    }
   ],
   "source": [
    "# count number of ? in 'number_inpatient' col\n",
    "count_chl = (df['chlorpropamide'] == '?').sum()\n",
    "print(count_chl)\n",
    "# only 1 row => can eliminate"
   ]
  },
  {
   "cell_type": "code",
   "execution_count": 18,
   "metadata": {},
   "outputs": [
    {
     "name": "stdout",
     "output_type": "stream",
     "text": [
      "0\n"
     ]
    }
   ],
   "source": [
    "# count number of ? in 'weight' col\n",
    "count_weight = (df['weight'] == '?').sum()\n",
    "print(count_weight)\n",
    "# replace ? by mode value"
   ]
  },
  {
   "cell_type": "markdown",
   "metadata": {},
   "source": [
    "### a. Remove invalid/unknow rows"
   ]
  },
  {
   "cell_type": "markdown",
   "metadata": {},
   "source": [
    "The following cell is informed by the counts above. Only those columns with small counts have been included in this cell. This removes the rows of data where the observations are invalid (unknown/invalid) or with question mark (?). This efficiently allows for the dataset to be processed and visualised appropriately later. "
   ]
  },
  {
   "cell_type": "code",
   "execution_count": 19,
   "metadata": {},
   "outputs": [],
   "source": [
    "# list error condition\n",
    "error_invalid = ['Unknown/Invalid']\n",
    "error_questionMark = ['?']\n",
    "\n",
    "# Remove row with error condition which have small amount in dataset\n",
    "# Check if a row has column with error condition => eliminate that row\n",
    "df = df[~(df['gender'].isin(error_invalid))]\n",
    "df = df[~(df['number_outpatient'].isin(error_questionMark))]\n",
    "df = df[~(df['number_emergency'].isin(error_questionMark))]\n",
    "df = df[~(df['number_inpatient'].isin(error_questionMark))]\n",
    "df = df[~(df['diag_1'].isin(error_questionMark))]\n",
    "df = df[~(df['chlorpropamide'].isin(error_questionMark))]\n"
   ]
  },
  {
   "cell_type": "code",
   "execution_count": 20,
   "metadata": {},
   "outputs": [
    {
     "name": "stdout",
     "output_type": "stream",
     "text": [
      "**** Check AFTER remove invalid unknow rows ***\n",
      "**** gender ****\n",
      "0\n",
      "**** number_outpatient ****\n",
      "0\n",
      "**** number_emergency ****\n",
      "0\n",
      "**** number_inpatient ****\n",
      "0\n",
      "**** diag_1 ****\n",
      "0\n",
      "**** chlorpropamide ****\n",
      "0\n"
     ]
    }
   ],
   "source": [
    "# Check AFTER remove invalid unknow rows\n",
    "# 0 should be printed\n",
    "print('**** Check AFTER remove invalid unknow rows ***')\n",
    "print('**** gender ****')\n",
    "print((df['gender'] == 'Unknown/Invalid').sum())\n",
    "print('**** number_outpatient ****')\n",
    "print((df['number_outpatient'] == '?').sum())\n",
    "print('**** number_emergency ****')\n",
    "print((df['number_emergency'] == '?').sum())\n",
    "print('**** number_inpatient ****')\n",
    "print((df['number_inpatient'] == '?').sum())\n",
    "print('**** diag_1 ****')\n",
    "print((df['diag_1'] == '?').sum())\n",
    "print('**** chlorpropamide ****')\n",
    "print((df['chlorpropamide'] == '?').sum())"
   ]
  },
  {
   "cell_type": "markdown",
   "metadata": {},
   "source": [
    "### b. Replace invalid/unknow col by mean or mode (Large amount shouldn't remove)"
   ]
  },
  {
   "cell_type": "markdown",
   "metadata": {},
   "source": [
    "The following cells focus on the variables that have a large number of invalid/unknown values, where it would significantly alter the dataset to remove whole rows of data. Accordingly, the string data types were replaced by the mode value for the variable (race, payer code, medical speciality, diagnosis 2, diagnosis 3 and weight). The integer data types were replaced by the mean value for that variable...."
   ]
  },
  {
   "cell_type": "markdown",
   "metadata": {},
   "source": [
    "#### String data type => replace by mode value\n",
    "##### gender, payer_code, medical_specialty, weight"
   ]
  },
  {
   "cell_type": "markdown",
   "metadata": {},
   "source": [
    "The following cell replaces all values of '?' with NaN. "
   ]
  },
  {
   "cell_type": "code",
   "execution_count": 21,
   "metadata": {},
   "outputs": [],
   "source": [
    "# replace '?'' with NaN to calculate exactly mode\n",
    "df['race'] = df['race'].replace({'?': np.NaN})\n",
    "df['payer_code'] = df['payer_code'].replace({'?': np.NaN})\n",
    "df['medical_specialty'] = df['medical_specialty'].replace({'?': np.NaN})\n",
    "df['diag_2'] = df['diag_2'].replace({'?': np.NaN})\n",
    "df['diag_3'] = df['diag_3'].replace({'?': np.NaN})\n",
    "df['weight'] = df['weight'].replace({'?': np.NaN})"
   ]
  },
  {
   "cell_type": "code",
   "execution_count": 22,
   "metadata": {},
   "outputs": [],
   "source": [
    "# TODO: look at tur resource\n",
    "# select race mode value by getting the first element from return list\n",
    "race_mode = df['race'].mode().values[0]\n",
    "# replace ? by mode value for string datatype\n",
    "df['race'] = df['race'].replace({np.NaN: race_mode})"
   ]
  },
  {
   "cell_type": "code",
   "execution_count": 23,
   "metadata": {},
   "outputs": [
    {
     "name": "stdout",
     "output_type": "stream",
     "text": [
      "**** race AFTER replacing by mode value ****\n",
      "0\n"
     ]
    }
   ],
   "source": [
    "print('**** race AFTER replacing by mode value ****')\n",
    "print((df['race'] == np.NaN).sum())"
   ]
  },
  {
   "cell_type": "code",
   "execution_count": 24,
   "metadata": {},
   "outputs": [],
   "source": [
    "# select payer_code mode value by getting the first element from return list\n",
    "payerCode_mode = df['payer_code'].mode().values[0]\n",
    "# replace ? by mode value for string datatype\n",
    "df['payer_code'] = df['payer_code'].replace({np.NaN: payerCode_mode})"
   ]
  },
  {
   "cell_type": "code",
   "execution_count": 25,
   "metadata": {},
   "outputs": [
    {
     "name": "stdout",
     "output_type": "stream",
     "text": [
      "**** payer_code AFTER replacing by mode value ****\n",
      "0\n"
     ]
    }
   ],
   "source": [
    "print('**** payer_code AFTER replacing by mode value ****')\n",
    "print((df['payer_code'] == np.NaN).sum())"
   ]
  },
  {
   "cell_type": "code",
   "execution_count": 26,
   "metadata": {},
   "outputs": [],
   "source": [
    "# select diag_2 mode value by getting the first element from return list\n",
    "diag_2_mode = df['diag_2'].mode().values[0]\n",
    "# replace ? by mode value for string datatype\n",
    "df['diag_2'] = df['diag_2'].replace({np.NaN: diag_2_mode})"
   ]
  },
  {
   "cell_type": "code",
   "execution_count": 27,
   "metadata": {},
   "outputs": [
    {
     "name": "stdout",
     "output_type": "stream",
     "text": [
      "**** diag_2 AFTER replacing by mode value ****\n",
      "0\n"
     ]
    }
   ],
   "source": [
    "print('**** diag_2 AFTER replacing by mode value ****')\n",
    "print((df['diag_2'] == np.NaN).sum())"
   ]
  },
  {
   "cell_type": "code",
   "execution_count": 28,
   "metadata": {},
   "outputs": [],
   "source": [
    "# select diag_3 mode value by getting the first element from return list\n",
    "diag_3_mode = df['diag_3'].mode().values[0]\n",
    "# replace ? by mode value for string datatype\n",
    "df['diag_3'] = df['diag_3'].replace({np.NaN: diag_3_mode})"
   ]
  },
  {
   "cell_type": "code",
   "execution_count": 29,
   "metadata": {},
   "outputs": [
    {
     "name": "stdout",
     "output_type": "stream",
     "text": [
      "**** diag_3 AFTER replacing by mode value ****\n",
      "0\n"
     ]
    }
   ],
   "source": [
    "print('**** diag_3 AFTER replacing by mode value ****')\n",
    "print((df['diag_3'] == np.NaN).sum())"
   ]
  },
  {
   "cell_type": "code",
   "execution_count": 30,
   "metadata": {},
   "outputs": [],
   "source": [
    "# select payer_code mode value by getting the first element from return list\n",
    "medi_mode = df['medical_specialty'].mode().values[0]\n",
    "# replace ? by mode value for string datatype\n",
    "df['medical_specialty'] = df['medical_specialty'].replace({np.NaN: medi_mode})"
   ]
  },
  {
   "cell_type": "code",
   "execution_count": 31,
   "metadata": {},
   "outputs": [
    {
     "name": "stdout",
     "output_type": "stream",
     "text": [
      "**** medical_specialty AFTER replacing by mode value ****\n",
      "0\n"
     ]
    }
   ],
   "source": [
    "print('**** medical_specialty AFTER replacing by mode value ****')\n",
    "print((df['medical_specialty'] == np.NaN).sum())"
   ]
  },
  {
   "cell_type": "code",
   "execution_count": 32,
   "metadata": {},
   "outputs": [],
   "source": [
    "# select payer_code mode value by getting the first element from return list\n",
    "weight_mode = df['weight'].mode().values[0]\n",
    "# replace ? by mode value for string datatype\n",
    "df['weight'] = df['weight'].replace({np.NaN: weight_mode})"
   ]
  },
  {
   "cell_type": "code",
   "execution_count": 33,
   "metadata": {},
   "outputs": [
    {
     "name": "stdout",
     "output_type": "stream",
     "text": [
      "**** weight AFTER replacing by mode value ****\n",
      "0\n"
     ]
    }
   ],
   "source": [
    "print('**** weight AFTER replacing by mode value ****')\n",
    "print((df['weight'] == np.NaN).sum())"
   ]
  },
  {
   "cell_type": "markdown",
   "metadata": {},
   "source": [
    "### c. Format mismatch values"
   ]
  },
  {
   "cell_type": "markdown",
   "metadata": {},
   "source": [
    "The following cell checks the data type before correcting it. "
   ]
  },
  {
   "cell_type": "code",
   "execution_count": 34,
   "metadata": {},
   "outputs": [
    {
     "name": "stdout",
     "output_type": "stream",
     "text": [
      "**** Checking datatype BEFORE formating *****\n",
      "**** diag_1 *****\n",
      "object\n",
      "**** diag_2 ****\n",
      "object\n",
      "**** diag_3 ****\n",
      "object\n"
     ]
    }
   ],
   "source": [
    "# diag_1\n",
    "# diag_2\n",
    "# diag_3\n",
    "# Checking datatype before formating\n",
    "print('**** Checking datatype BEFORE formating *****')\n",
    "print('**** diag_1 *****')\n",
    "print(df.diag_1.dtype)\n",
    "print('**** diag_2 ****')\n",
    "print(df.diag_2.dtype)\n",
    "print('**** diag_3 ****')\n",
    "print(df.diag_3.dtype)"
   ]
  },
  {
   "cell_type": "markdown",
   "metadata": {},
   "source": [
    "This cell creates a function that:\n",
    "- removes the decimal place in ICD9 values.\n",
    "- identifies those values that have 0-3 digits and adds the appropriate number of leading 0's\n",
    "- extracts the first 3 digits from each value."
   ]
  },
  {
   "cell_type": "code",
   "execution_count": 35,
   "metadata": {},
   "outputs": [],
   "source": [
    "# Format  diagnosis (coded as the first three  digits of ICD9)\n",
    "# Function to extract first 3 character\n",
    "def format_text(col_name):\n",
    "    # Replace . by empty string\n",
    "    df[col_name] = df[col_name].str.replace('.', '')\n",
    "    # coded as the first three digits. With value has 1 or 2 digits add leading zero\n",
    "    df[col_name] = df[col_name].apply('{:0>3}'.format)\n",
    "    # Extract first three digit\n",
    "    df[col_name] = df[col_name].str[:3]\n",
    "    print('********** ' + col_name + '**************')\n",
    "    print(df[col_name])"
   ]
  },
  {
   "cell_type": "code",
   "execution_count": 36,
   "metadata": {},
   "outputs": [],
   "source": [
    "# df.loc[df['patient_nbr'] == 82442376, ['patient_nbr', 'diag_1']].set_index('patient_nbr')"
   ]
  },
  {
   "cell_type": "code",
   "execution_count": 37,
   "metadata": {},
   "outputs": [
    {
     "name": "stdout",
     "output_type": "stream",
     "text": [
      "**** Checking AFTER formating *****\n",
      "********** diag_1**************\n",
      "0        398\n",
      "1        434\n",
      "2        197\n",
      "3        250\n",
      "4        414\n",
      "5        157\n",
      "6        428\n",
      "7        428\n",
      "8        414\n",
      "9        518\n",
      "10       428\n",
      "11       648\n",
      "12       999\n",
      "13       410\n",
      "14       682\n",
      "15       402\n",
      "16       737\n",
      "17       276\n",
      "18       410\n",
      "19       572\n",
      "20       410\n",
      "21       V57\n",
      "22       189\n",
      "23       786\n",
      "24       427\n",
      "25       996\n",
      "26       277\n",
      "27       428\n",
      "28       584\n",
      "29       462\n",
      "        ... \n",
      "49884    191\n",
      "49885    560\n",
      "49886    560\n",
      "49887    276\n",
      "49888    414\n",
      "49889    996\n",
      "49890    428\n",
      "49891    428\n",
      "49892    414\n",
      "49893    435\n",
      "49894    250\n",
      "49895    560\n",
      "49896    331\n",
      "49897    180\n",
      "49898    721\n",
      "49899    447\n",
      "49900    414\n",
      "49901    428\n",
      "49902    820\n",
      "49903    428\n",
      "49904    434\n",
      "49905    250\n",
      "49906    493\n",
      "49907    584\n",
      "49908    414\n",
      "49909    171\n",
      "49910    155\n",
      "49911    250\n",
      "49912    820\n",
      "49913    276\n",
      "Name: diag_1, Length: 49914, dtype: object\n",
      "********** diag_2**************\n",
      "0        427\n",
      "1        198\n",
      "2        157\n",
      "3        403\n",
      "4        411\n",
      "5        288\n",
      "6        250\n",
      "7        411\n",
      "8        411\n",
      "9        998\n",
      "10       492\n",
      "11       250\n",
      "12       507\n",
      "13       411\n",
      "14       174\n",
      "15       425\n",
      "16       427\n",
      "17       250\n",
      "18       427\n",
      "19       456\n",
      "20       401\n",
      "21       715\n",
      "22       496\n",
      "23       401\n",
      "24       428\n",
      "25       585\n",
      "26       250\n",
      "27       410\n",
      "28       496\n",
      "29       250\n",
      "        ... \n",
      "49884    496\n",
      "49885    401\n",
      "49886    780\n",
      "49887    285\n",
      "49888    413\n",
      "49889    447\n",
      "49890    425\n",
      "49891    584\n",
      "49892    411\n",
      "49893    250\n",
      "49894    780\n",
      "49895    496\n",
      "49896    294\n",
      "49897    295\n",
      "49898    722\n",
      "49899    692\n",
      "49900    427\n",
      "49901    427\n",
      "49902    998\n",
      "49903    491\n",
      "49904    424\n",
      "49905    401\n",
      "49906    780\n",
      "49907    428\n",
      "49908    411\n",
      "49909    V10\n",
      "49910    197\n",
      "49911    731\n",
      "49912    403\n",
      "49913    250\n",
      "Name: diag_2, Length: 49914, dtype: object\n",
      "********** diag_3**************\n",
      "0        038\n",
      "1        486\n",
      "2        250\n",
      "3        996\n",
      "4        250\n",
      "5        197\n",
      "6        250\n",
      "7        427\n",
      "8        V45\n",
      "9        627\n",
      "10       250\n",
      "11       V27\n",
      "12       996\n",
      "13       414\n",
      "14       250\n",
      "15       416\n",
      "16       714\n",
      "17       255\n",
      "18       428\n",
      "19       427\n",
      "20       582\n",
      "21       V43\n",
      "22       427\n",
      "23       250\n",
      "24       414\n",
      "25       250\n",
      "26       263\n",
      "27       414\n",
      "28       250\n",
      "29       276\n",
      "        ... \n",
      "49884    401\n",
      "49885    250\n",
      "49886    535\n",
      "49887    593\n",
      "49888    440\n",
      "49889    427\n",
      "49890    786\n",
      "49891    427\n",
      "49892    428\n",
      "49893    357\n",
      "49894    496\n",
      "49895    486\n",
      "49896    V10\n",
      "49897    285\n",
      "49898    738\n",
      "49899    428\n",
      "49900    425\n",
      "49901    414\n",
      "49902    250\n",
      "49903    707\n",
      "49904    276\n",
      "49905    296\n",
      "49906    466\n",
      "49907    403\n",
      "49908    428\n",
      "49909    250\n",
      "49910    V42\n",
      "49911    730\n",
      "49912    V45\n",
      "49913    401\n",
      "Name: diag_3, Length: 49914, dtype: object\n"
     ]
    }
   ],
   "source": [
    "# Call function with 3 col\n",
    "print('**** Checking AFTER formating *****')\n",
    "\n",
    "format_text('diag_1')\n",
    "format_text('diag_2')\n",
    "format_text('diag_3')\n",
    "\n",
    "# df.loc[df['patient_nbr'] == 82442376, ['patient_nbr', 'diag_1']].set_index('patient_nbr')"
   ]
  },
  {
   "cell_type": "code",
   "execution_count": 38,
   "metadata": {},
   "outputs": [],
   "source": [
    "#df.to_csv(file_name)"
   ]
  },
  {
   "cell_type": "markdown",
   "metadata": {},
   "source": [
    "# 2. Correct data type"
   ]
  },
  {
   "cell_type": "markdown",
   "metadata": {},
   "source": [
    "Pandas was loaded at the beginning of the notebook and has been used throughout to examine the data types examined to the each variable. When there was a mismatch in the data type as per the assignment description, the appropriate data type was corrected to the appropriate format. This can be shown in the following cells below."
   ]
  },
  {
   "cell_type": "markdown",
   "metadata": {},
   "source": [
    "### a. Convert int64\n",
    "##### number_outpatient, number_outpatient, number_inpatient"
   ]
  },
  {
   "cell_type": "markdown",
   "metadata": {},
   "source": [
    "The following variables (number_outpatient, number_emergency and number_inpatient)  were converted to int64 and checked before and after correcting the data types."
   ]
  },
  {
   "cell_type": "code",
   "execution_count": 39,
   "metadata": {},
   "outputs": [
    {
     "name": "stdout",
     "output_type": "stream",
     "text": [
      "********* Check data type BEFORE correcting *********\n",
      "***number_outpatient***\n",
      "int64\n",
      "***number_emergency***\n",
      "int64\n",
      "***number_inpatient***\n",
      "int64\n"
     ]
    }
   ],
   "source": [
    "print('********* Check data type BEFORE correcting *********')\n",
    "print('***number_outpatient***')\n",
    "print(df.number_outpatient.dtype)\n",
    "print('***number_emergency***')\n",
    "print(df.number_emergency.dtype)\n",
    "print('***number_inpatient***')\n",
    "print(df.number_inpatient.dtype)"
   ]
  },
  {
   "cell_type": "code",
   "execution_count": 40,
   "metadata": {},
   "outputs": [],
   "source": [
    "df[\"number_outpatient\"] = df[\"number_outpatient\"].astype('int64')\n",
    "df[\"number_emergency\"] = df[\"number_emergency\"].astype('int64')\n",
    "df[\"number_inpatient\"] = df[\"number_inpatient\"].astype('int64')"
   ]
  },
  {
   "cell_type": "code",
   "execution_count": 41,
   "metadata": {},
   "outputs": [
    {
     "name": "stdout",
     "output_type": "stream",
     "text": [
      "********* Check data type AFTER correcting *********\n",
      "***number_outpatient***\n",
      "int64\n",
      "***number_emergency***\n",
      "int64\n",
      "***number_inpatient***\n",
      "int64\n"
     ]
    }
   ],
   "source": [
    "print('********* Check data type AFTER correcting *********')\n",
    "print('***number_outpatient***')\n",
    "print(df.number_outpatient.dtype)\n",
    "print('***number_emergency***')\n",
    "print(df.number_emergency.dtype)\n",
    "print('***number_inpatient***')\n",
    "print(df.number_inpatient.dtype)"
   ]
  },
  {
   "cell_type": "markdown",
   "metadata": {},
   "source": [
    "### b. Convert to bool\n",
    "##### diabetes, change, diabetesMed, single_day_admission"
   ]
  },
  {
   "cell_type": "markdown",
   "metadata": {},
   "source": [
    "The following variables (diabetes, change, diabetesMed and single_day_admission)  were converted to bool (using the binary identification of 1/0) and checked before and after correcting the data types."
   ]
  },
  {
   "cell_type": "code",
   "execution_count": 42,
   "metadata": {},
   "outputs": [
    {
     "name": "stdout",
     "output_type": "stream",
     "text": [
      "********* Check data type BEFORE correcting *********\n",
      "***diabetes***\n",
      "bool\n",
      "***change***\n",
      "bool\n",
      "***diabetesMed***\n",
      "bool\n",
      "***single_day_admission***\n",
      "bool\n"
     ]
    }
   ],
   "source": [
    "print('********* Check data type BEFORE correcting *********')\n",
    "print('***diabetes***')\n",
    "print(df.diabetes.dtype)\n",
    "print('***change***')\n",
    "print(df.change.dtype)\n",
    "print('***diabetesMed***')\n",
    "print(df.diabetesMed.dtype)\n",
    "print('***single_day_admission***')\n",
    "print(df.single_day_admission.dtype)"
   ]
  },
  {
   "cell_type": "code",
   "execution_count": 43,
   "metadata": {},
   "outputs": [],
   "source": [
    "# Change mapping diabetes Yes/No to binary 1/0 to help converting data type\n",
    "diabete_map = {'Yes':1, 'No': 0}\n",
    "df['diabetes'] = df['diabetes'].map(diabete_map)\n",
    "\n",
    "# Change mapping change Ch/No to binary 1/0 to help converting data type\n",
    "change_map = {'Ch':1, 'No': 0}\n",
    "df['change'] = df['change'].map(change_map)\n",
    "\n",
    "# Change mapping diabetesMed Yes/No to binary 1/0 to help converting data type\n",
    "diabetesMed_map = {'Yes':1, 'No': 0}\n",
    "df['diabetesMed'] = df['diabetesMed'].map(change_map)\n",
    "\n",
    "# Change mapping single_day_admission Yes/No to binary 1/0 to help converting data type\n",
    "admission_map = {'Yes':1, 'No': 0}\n",
    "df['single_day_admission'] = df['single_day_admission'].map(change_map)"
   ]
  },
  {
   "cell_type": "code",
   "execution_count": 44,
   "metadata": {},
   "outputs": [],
   "source": [
    "# Convert datatype from object to bool\n",
    "df['diabetes'] = df['diabetes'].astype('bool')\n",
    "df['change'] = df['change'].astype('bool')\n",
    "df['diabetesMed'] = df['diabetesMed'].astype('bool')\n",
    "df['single_day_admission'] = df['single_day_admission'].astype('bool')"
   ]
  },
  {
   "cell_type": "code",
   "execution_count": 45,
   "metadata": {},
   "outputs": [
    {
     "name": "stdout",
     "output_type": "stream",
     "text": [
      "********* Check data type AFTER correcting *********\n",
      "***diabetes***\n",
      "bool\n",
      "***change***\n",
      "bool\n",
      "***diabetesMed***\n",
      "bool\n",
      "***single_day_admission***\n",
      "bool\n"
     ]
    }
   ],
   "source": [
    "print('********* Check data type AFTER correcting *********')\n",
    "print('***diabetes***')\n",
    "print(df.diabetes.dtype)\n",
    "print('***change***')\n",
    "print(df.change.dtype)\n",
    "print('***diabetesMed***')\n",
    "print(df.diabetesMed.dtype)\n",
    "print('***single_day_admission***')\n",
    "print(df.single_day_admission.dtype)"
   ]
  },
  {
   "cell_type": "code",
   "execution_count": 46,
   "metadata": {},
   "outputs": [],
   "source": [
    "# change gender into binary 0/1 variable\n",
    "# gender_map = {'Female':0, 'Male': 1}\n",
    "# df['gender'] = df['gender'].map(gender_map)"
   ]
  },
  {
   "cell_type": "markdown",
   "metadata": {},
   "source": [
    "### c. Convert to Categorical"
   ]
  },
  {
   "cell_type": "code",
   "execution_count": 47,
   "metadata": {},
   "outputs": [],
   "source": [
    "age_ordered = CategoricalDtype(categories=[\"[0-10)\", \"[10-20)\", \"[20-30)\", \"[30-40)\", \"[40-50)\", \"[50-60)\", \"[60-70)\", \"[80-90)\", \"[90-100)\"], ordered=True)\n",
    "weight_ordered = CategoricalDtype(categories=[\"[0-25)\", \"[25-50)\", \"[50-75)\", \"[75-100)\", \"[100-125)\", \"[125-150)\", \"[150-175)\", \"[175-200)\", \">200\"], ordered=True)"
   ]
  },
  {
   "cell_type": "code",
   "execution_count": 48,
   "metadata": {},
   "outputs": [],
   "source": [
    "df['age'] = df['age'].astype(age_ordered)\n",
    "df['race'] = df['race'].astype(\"category\")\n",
    "df['weight'] = df['weight'].astype(weight_ordered)\n",
    "df['gender'] = df['gender'].astype(\"category\")\n",
    "df['medical_specialty'] = df['medical_specialty'].astype(\"category\")\n",
    "df['max_glu_serum'] = df['max_glu_serum'].astype(\"category\")\n",
    "df['A1Cresult'] = df['A1Cresult'].astype(\"category\")\n",
    "df['metformin'] = df['metformin'].astype(\"category\")\n",
    "df['repaglinide'] = df['repaglinide'].astype(\"category\")\n",
    "df['nateglinide'] = df['nateglinide'].astype(\"category\")\n",
    "df['chlorpropamide'] = df['chlorpropamide'].astype(\"category\")\n",
    "df['glimepiride'] = df['glimepiride'].astype(\"category\")\n",
    "df['acetohexamide'] = df['acetohexamide'].astype(\"category\")\n",
    "df['glipizide'] = df['glipizide'].astype(\"category\")\n",
    "df['glyburide'] = df['glyburide'].astype(\"category\")\n",
    "df['tolbutamide'] = df['tolbutamide'].astype(\"category\")\n",
    "df['insulin'] = df['insulin'].astype(\"category\")\n",
    "df['readmitted'] = df['readmitted'].astype(\"category\")"
   ]
  },
  {
   "cell_type": "code",
   "execution_count": 58,
   "metadata": {},
   "outputs": [
    {
     "name": "stdout",
     "output_type": "stream",
     "text": [
      "********* Check data type AFTER correcting *********\n",
      "***Age***\n",
      "category\n",
      "***race***\n",
      "category\n",
      "***weight***\n",
      "category\n",
      "***gender***\n",
      "category\n",
      "***medical specialty***\n",
      "category\n",
      "***max glu serum***\n",
      "category\n",
      "***A1Cresult***\n",
      "category\n",
      "***metformin***\n",
      "category\n",
      "***repaglinide***\n",
      "category\n",
      "***nateglinide***\n",
      "category\n",
      "***chlorpropamide***\n",
      "category\n",
      "***glimepiride***\n",
      "category\n",
      "***acetohexamide***\n",
      "category\n",
      "***glipizide***\n",
      "category\n",
      "***glyburide***\n",
      "category\n",
      "***tolbutamide***\n",
      "category\n",
      "***insulin***\n",
      "category\n",
      "***readmitted***\n",
      "category\n"
     ]
    }
   ],
   "source": [
    "print('********* Check data type AFTER correcting *********')\n",
    "print('***Age***')\n",
    "print(df.age.dtype)\n",
    "print('***race***')\n",
    "print(df.race.dtype)\n",
    "print('***weight***')\n",
    "print(df.weight.dtype)\n",
    "print('***gender***')\n",
    "print(df.gender.dtype)\n",
    "print('***medical specialty***')\n",
    "print(df.medical_specialty.dtype)\n",
    "print('***max glu serum***')\n",
    "print(df.max_glu_serum.dtype)\n",
    "print('***A1Cresult***')\n",
    "print(df.A1Cresult.dtype)\n",
    "print('***metformin***')\n",
    "print(df.metformin.dtype)\n",
    "print('***repaglinide***')\n",
    "print(df.repaglinide.dtype)\n",
    "print('***nateglinide***')\n",
    "print(df.nateglinide.dtype)\n",
    "print('***chlorpropamide***')\n",
    "print(df.chlorpropamide.dtype)\n",
    "print('***glimepiride***')\n",
    "print(df.glimepiride.dtype)\n",
    "print('***acetohexamide***')\n",
    "print(df.acetohexamide.dtype)\n",
    "print('***glipizide***')\n",
    "print(df.glipizide.dtype)\n",
    "print('***glyburide***')\n",
    "print(df.glyburide.dtype)\n",
    "print('***tolbutamide***')\n",
    "print(df.tolbutamide.dtype)\n",
    "print('***insulin***')\n",
    "print(df.insulin.dtype)\n",
    "print('***readmitted***')\n",
    "print(df.readmitted.dtype)"
   ]
  },
  {
   "cell_type": "markdown",
   "metadata": {},
   "source": [
    "# 3. Save to file"
   ]
  },
  {
   "cell_type": "code",
   "execution_count": 52,
   "metadata": {},
   "outputs": [],
   "source": [
    "# Load formarted dataframe into dataset file\n",
    "df.to_csv(file_name) "
   ]
  },
  {
   "cell_type": "code",
   "execution_count": 53,
   "metadata": {},
   "outputs": [
    {
     "name": "stdout",
     "output_type": "stream",
     "text": [
      "<class 'pandas.core.frame.DataFrame'>\n",
      "Int64Index: 49914 entries, 0 to 49913\n",
      "Data columns (total 40 columns):\n",
      "Unnamed: 0                  49914 non-null int64\n",
      "encounter_id                49914 non-null int64\n",
      "patient_nbr                 49914 non-null int64\n",
      "race                        49914 non-null category\n",
      "gender                      49914 non-null category\n",
      "age                         36831 non-null category\n",
      "weight                      49914 non-null category\n",
      "admission_type_id           49914 non-null int64\n",
      "discharge_disposition_id    49914 non-null int64\n",
      "admission_source_id         49914 non-null int64\n",
      "length_of_stay              49914 non-null int64\n",
      "payer_code                  49914 non-null object\n",
      "medical_specialty           49914 non-null category\n",
      "num_lab_procedures          49914 non-null int64\n",
      "num_procedures              49914 non-null int64\n",
      "num_medications             49914 non-null int64\n",
      "number_outpatient           49914 non-null int64\n",
      "number_emergency            49914 non-null int64\n",
      "number_inpatient            49914 non-null int64\n",
      "diag_1                      49914 non-null object\n",
      "diag_2                      49914 non-null object\n",
      "diag_3                      49914 non-null object\n",
      "number_diagnoses            49914 non-null int64\n",
      "diabetes                    49914 non-null bool\n",
      "max_glu_serum               49914 non-null category\n",
      "A1Cresult                   49914 non-null category\n",
      "metformin                   49914 non-null category\n",
      "repaglinide                 49914 non-null category\n",
      "nateglinide                 49914 non-null category\n",
      "chlorpropamide              49914 non-null category\n",
      "glimepiride                 49914 non-null category\n",
      "acetohexamide               49914 non-null category\n",
      "glipizide                   49914 non-null category\n",
      "glyburide                   49914 non-null category\n",
      "tolbutamide                 49914 non-null category\n",
      "insulin                     49914 non-null category\n",
      "change                      49914 non-null bool\n",
      "diabetesMed                 49914 non-null bool\n",
      "readmitted                  49914 non-null category\n",
      "single_day_admission        49914 non-null bool\n",
      "dtypes: bool(4), category(18), int64(14), object(4)\n",
      "memory usage: 8.3+ MB\n",
      "None\n"
     ]
    }
   ],
   "source": [
    "print(df.info())"
   ]
  },
  {
   "cell_type": "markdown",
   "metadata": {},
   "source": [
    "# II. Explore data"
   ]
  },
  {
   "cell_type": "markdown",
   "metadata": {},
   "source": [
    "# 1. Skewed"
   ]
  },
  {
   "cell_type": "code",
   "execution_count": 54,
   "metadata": {},
   "outputs": [],
   "source": [
    "# To ignore any future warnings\n",
    "import warnings\n",
    "warnings.filterwarnings(\"ignore\")\n",
    "\n",
    "import matplotlib.pyplot as plt\n",
    "import seaborn as sns\n"
   ]
  },
  {
   "cell_type": "code",
   "execution_count": 55,
   "metadata": {},
   "outputs": [],
   "source": [
    "df_sts = df.select_dtypes(include=[np.number])"
   ]
  },
  {
   "cell_type": "code",
   "execution_count": 56,
   "metadata": {},
   "outputs": [],
   "source": [
    "def check_describe(col_name):\n",
    "    print(\"\\n===============================\")\n",
    "    print(\"Check Describe of: \" + col_name)\n",
    "    print(\"===============================\")\n",
    "    print(df[col_name].describe())\n",
    "    \n",
    "    print(\"\\n===============================\")\n",
    "    print(\"Check Mode of: \" + col_name)\n",
    "    print(\"===============================\")\n",
    "    print(df[col_name].mode())\n"
   ]
  },
  {
   "cell_type": "code",
   "execution_count": 57,
   "metadata": {},
   "outputs": [
    {
     "name": "stdout",
     "output_type": "stream",
     "text": [
      "\n",
      "===============================\n",
      "Check Describe of: length_of_stay\n",
      "===============================\n",
      "count    49914.000000\n",
      "mean         4.564130\n",
      "std          3.090671\n",
      "min          1.000000\n",
      "25%          2.000000\n",
      "50%          4.000000\n",
      "75%          6.000000\n",
      "max         14.000000\n",
      "Name: length_of_stay, dtype: float64\n",
      "\n",
      "===============================\n",
      "Check Mode of: length_of_stay\n",
      "===============================\n",
      "0    3\n",
      "dtype: int64\n",
      "\n",
      "===============================\n",
      "Check Describe of: num_lab_procedures\n",
      "===============================\n",
      "count    49914.000000\n",
      "mean        42.347197\n",
      "std         19.340457\n",
      "min          1.000000\n",
      "25%         30.000000\n",
      "50%         43.000000\n",
      "75%         56.000000\n",
      "max        129.000000\n",
      "Name: num_lab_procedures, dtype: float64\n",
      "\n",
      "===============================\n",
      "Check Mode of: num_lab_procedures\n",
      "===============================\n",
      "0    43\n",
      "dtype: int64\n",
      "\n",
      "===============================\n",
      "Check Describe of: num_procedures\n",
      "===============================\n",
      "count    49914.000000\n",
      "mean         1.375165\n",
      "std          1.689289\n",
      "min          0.000000\n",
      "25%          0.000000\n",
      "50%          1.000000\n",
      "75%          2.000000\n",
      "max          6.000000\n",
      "Name: num_procedures, dtype: float64\n",
      "\n",
      "===============================\n",
      "Check Mode of: num_procedures\n",
      "===============================\n",
      "0    0\n",
      "dtype: int64\n",
      "\n",
      "===============================\n",
      "Check Describe of: num_medications\n",
      "===============================\n",
      "count    49914.000000\n",
      "mean        15.304704\n",
      "std          8.119076\n",
      "min          1.000000\n",
      "25%         10.000000\n",
      "50%         14.000000\n",
      "75%         19.000000\n",
      "max         81.000000\n",
      "Name: num_medications, dtype: float64\n",
      "\n",
      "===============================\n",
      "Check Mode of: num_medications\n",
      "===============================\n",
      "0    12\n",
      "dtype: int64\n",
      "\n",
      "===============================\n",
      "Check Describe of: number_outpatient\n",
      "===============================\n",
      "count    49914.000000\n",
      "mean         0.221220\n",
      "std          0.869287\n",
      "min          0.000000\n",
      "25%          0.000000\n",
      "50%          0.000000\n",
      "75%          0.000000\n",
      "max         36.000000\n",
      "Name: number_outpatient, dtype: float64\n",
      "\n",
      "===============================\n",
      "Check Mode of: number_outpatient\n",
      "===============================\n",
      "0    0\n",
      "dtype: int64\n",
      "\n",
      "===============================\n",
      "Check Describe of: number_emergency\n",
      "===============================\n",
      "count    49914.000000\n",
      "mean         0.124033\n",
      "std          0.624516\n",
      "min          0.000000\n",
      "25%          0.000000\n",
      "50%          0.000000\n",
      "75%          0.000000\n",
      "max         42.000000\n",
      "Name: number_emergency, dtype: float64\n",
      "\n",
      "===============================\n",
      "Check Mode of: number_emergency\n",
      "===============================\n",
      "0    0\n",
      "dtype: int64\n",
      "\n",
      "===============================\n",
      "Check Describe of: number_inpatient\n",
      "===============================\n",
      "count    49914.000000\n",
      "mean         0.582903\n",
      "std          1.198135\n",
      "min          0.000000\n",
      "25%          0.000000\n",
      "50%          0.000000\n",
      "75%          1.000000\n",
      "max         21.000000\n",
      "Name: number_inpatient, dtype: float64\n",
      "\n",
      "===============================\n",
      "Check Mode of: number_inpatient\n",
      "===============================\n",
      "0    0\n",
      "dtype: int64\n",
      "\n",
      "===============================\n",
      "Check Describe of: number_diagnoses\n",
      "===============================\n",
      "count    49914.000000\n",
      "mean         6.902092\n",
      "std          2.023832\n",
      "min          1.000000\n",
      "25%          5.000000\n",
      "50%          7.000000\n",
      "75%          9.000000\n",
      "max          9.000000\n",
      "Name: number_diagnoses, dtype: float64\n",
      "\n",
      "===============================\n",
      "Check Mode of: number_diagnoses\n",
      "===============================\n",
      "0    9\n",
      "dtype: int64\n"
     ]
    }
   ],
   "source": [
    "check_describe('length_of_stay')\n",
    "check_describe('num_lab_procedures')\n",
    "check_describe('num_procedures')\n",
    "check_describe('num_medications')\n",
    "check_describe('number_outpatient')\n",
    "check_describe('number_emergency')\n",
    "check_describe('number_inpatient')\n",
    "check_describe('number_diagnoses')\n",
    "\n"
   ]
  },
  {
   "cell_type": "code",
   "execution_count": null,
   "metadata": {},
   "outputs": [],
   "source": [
    "# TODO: 0 (Female), 1 (Male)\n",
    "def draw_countplot(col_name):\n",
    "    dg = sns.countplot(data=df, x=col_name, hue=col_name)\n",
    "    plt.show()\n"
   ]
  },
  {
   "cell_type": "code",
   "execution_count": null,
   "metadata": {},
   "outputs": [],
   "source": [
    "draw_countplot('gender')"
   ]
  },
  {
   "cell_type": "code",
   "execution_count": null,
   "metadata": {},
   "outputs": [],
   "source": [
    "df_sts.mean()"
   ]
  },
  {
   "cell_type": "code",
   "execution_count": null,
   "metadata": {},
   "outputs": [],
   "source": [
    "np.round(df_sts.mean(), 1)"
   ]
  },
  {
   "cell_type": "code",
   "execution_count": null,
   "metadata": {},
   "outputs": [],
   "source": [
    "df_sts.median()"
   ]
  },
  {
   "cell_type": "code",
   "execution_count": null,
   "metadata": {},
   "outputs": [],
   "source": [
    "df_sts.mode()[0:1]"
   ]
  },
  {
   "cell_type": "code",
   "execution_count": null,
   "metadata": {},
   "outputs": [],
   "source": [
    "dg = sns.distplot(df['number_inpatient'])\n",
    "plt.show()\n",
    "# Positive skewed"
   ]
  },
  {
   "cell_type": "code",
   "execution_count": null,
   "metadata": {},
   "outputs": [],
   "source": [
    "dg = sns.distplot(df['number_emergency'])\n",
    "plt.show()\n",
    "# Positive skewed"
   ]
  },
  {
   "cell_type": "code",
   "execution_count": null,
   "metadata": {},
   "outputs": [],
   "source": [
    "dg = sns.distplot(df['number_outpatient'])\n",
    "plt.show()\n",
    "# Positive skewed"
   ]
  },
  {
   "cell_type": "code",
   "execution_count": null,
   "metadata": {},
   "outputs": [],
   "source": [
    "dg = sns.distplot(df['num_medications'])\n",
    "plt.show()\n",
    "# Positive skewed"
   ]
  },
  {
   "cell_type": "code",
   "execution_count": null,
   "metadata": {},
   "outputs": [],
   "source": [
    "dg = sns.distplot(df['num_lab_procedures'])\n",
    "plt.show()\n",
    "# no skewed"
   ]
  },
  {
   "cell_type": "code",
   "execution_count": null,
   "metadata": {
    "scrolled": true
   },
   "outputs": [],
   "source": [
    "dg = sns.distplot(df['length_of_stay'])\n",
    "plt.show()\n",
    "# Positive skewed"
   ]
  },
  {
   "cell_type": "code",
   "execution_count": null,
   "metadata": {},
   "outputs": [],
   "source": []
  },
  {
   "cell_type": "markdown",
   "metadata": {},
   "source": [
    "# 2. Answer questions"
   ]
  },
  {
   "cell_type": "code",
   "execution_count": null,
   "metadata": {},
   "outputs": [],
   "source": [
    "# get the value count of each gender\n",
    "print(\"Raw count of genders of readmitted with length of stay\")\n",
    "print(df.groupby(['gender'])['readmitted'].value_counts())\n",
    "\n",
    "# What is the average length of stay in the hospital of a male patient who \n",
    "# was readmitted in less than 30 days?\n",
    "print(\"\")\n"
   ]
  },
  {
   "cell_type": "code",
   "execution_count": null,
   "metadata": {},
   "outputs": [],
   "source": [
    "# get the value count of each gender\n",
    "print(\"Raw count of genders of readmitted with length of stay\")\n",
    "unfilter = df.groupby([df.gender=='Male',df.readmitted=='<30'])['length_of_stay'].aggregate('mean')\n",
    "\n",
    "print(unfilter)\n",
    "\n",
    "#unfilter = df.groupby(['gender','readmitted','length_of_stay'])['gender']\n",
    "#print(unfilter.filter(lambda x: x['gender'] == Male))\n",
    "\n",
    "# What is the average length of stay in the hospital of a male patient who \n",
    "# was readmitted in less than 30 days?\n"
   ]
  },
  {
   "cell_type": "code",
   "execution_count": null,
   "metadata": {},
   "outputs": [],
   "source": [
    "# What is the average length of stay in the hospital of a male patient who \n",
    "# was readmitted in less than 30 days?\n",
    "# 1: Male\n",
    "avg_under30_stay = df.groupby([df.gender=='Male',df.readmitted=='<30'])['length_of_stay'].aggregate('mean')\n",
    "\n",
    "print(avg_under30_stay)"
   ]
  },
  {
   "cell_type": "code",
   "execution_count": null,
   "metadata": {},
   "outputs": [],
   "source": [
    "# Which age group has the highest number of encounters whose primary \n",
    "# diagnosis is diabetes? What is the number?\n",
    "\n",
    "print((df.groupby(['diabetes', 'age'])['age'].value_counts()))\n",
    "print((df.groupby(['diabetes', 'age'])['age'].value_counts()).max())\n",
    "#df['diabetes'].value_counts()"
   ]
  },
  {
   "cell_type": "code",
   "execution_count": null,
   "metadata": {},
   "outputs": [],
   "source": [
    "# c. How many encounters whose admission type is Emergency? How many \n",
    "# of these emergency encounters are readmitted within 30 days?\n"
   ]
  },
  {
   "cell_type": "code",
   "execution_count": null,
   "metadata": {},
   "outputs": [],
   "source": [
    "# Emergency: 1\n",
    "emergency = df.groupby([df.admission_type_id==1])['admission_type_id'].value_counts()\n",
    "print(emergency)"
   ]
  },
  {
   "cell_type": "code",
   "execution_count": null,
   "metadata": {},
   "outputs": [],
   "source": [
    "count_emergency = df.groupby([df.admission_type_id==1,df.readmitted=='<30'])['admission_type_id'].value_counts()\n",
    "print(count_emergency)"
   ]
  },
  {
   "cell_type": "code",
   "execution_count": null,
   "metadata": {},
   "outputs": [],
   "source": [
    "# d.What are the top-three race categories according to the number of \n",
    "# readmission cases (including both less than or larger than 30 days)?"
   ]
  },
  {
   "cell_type": "code",
   "execution_count": null,
   "metadata": {},
   "outputs": [],
   "source": [
    "race_cate = df.groupby([df.race,df.readmitted=='<30', df.readmitted=='>30'])['race'].value_counts()\n",
    "print(race_cate)"
   ]
  },
  {
   "cell_type": "code",
   "execution_count": null,
   "metadata": {},
   "outputs": [],
   "source": [
    "print(df.groupby([df.race,df.readmitted=='<30'])['race'].value_counts())"
   ]
  },
  {
   "cell_type": "code",
   "execution_count": null,
   "metadata": {},
   "outputs": [],
   "source": [
    "print(df.groupby([df.race, df.readmitted=='>30'])['race'].value_counts())"
   ]
  },
  {
   "cell_type": "code",
   "execution_count": null,
   "metadata": {},
   "outputs": [],
   "source": [
    "#print(df.groupby([df.race,df.readmitted=='<30', df.readmitted=='>30'])['race'].value_counts())"
   ]
  },
  {
   "cell_type": "markdown",
   "metadata": {},
   "source": [
    "# 3. Question 3"
   ]
  },
  {
   "cell_type": "code",
   "execution_count": null,
   "metadata": {},
   "outputs": [],
   "source": [
    "# 1 Understand the distribution of variables and identify data quality problems."
   ]
  },
  {
   "cell_type": "code",
   "execution_count": 59,
   "metadata": {},
   "outputs": [],
   "source": [
    "def draw_plot(col_name):\n",
    "    dg = sns.distplot(df[col_name])\n",
    "    plt.show()"
   ]
  },
  {
   "cell_type": "code",
   "execution_count": 60,
   "metadata": {},
   "outputs": [],
   "source": [
    "def draw_boxplot(col_name):\n",
    "    db = sns.boxplot(df[col_name])\n",
    "    plt.show()"
   ]
  },
  {
   "cell_type": "code",
   "execution_count": 63,
   "metadata": {},
   "outputs": [
    {
     "name": "stdout",
     "output_type": "stream",
     "text": [
      "***length_of_stay***\n"
     ]
    },
    {
     "data": {
      "image/png": "[encoded data removed]",
      "text/plain": [
       "<Figure size 432x288 with 1 Axes>"
      ]
     },
     "metadata": {
      "needs_background": "light"
     },
     "output_type": "display_data"
    },
    {
     "data": {
      "image/png": "[encoded data removed]",
      "text/plain": [
       "<Figure size 432x288 with 1 Axes>"
      ]
     },
     "metadata": {
      "needs_background": "light"
     },
     "output_type": "display_data"
    },
    {
     "name": "stdout",
     "output_type": "stream",
     "text": [
      "***num_lab_procedures***\n"
     ]
    },
    {
     "data": {
      "image/png": "[encoded data removed]",
      "text/plain": [
       "<Figure size 432x288 with 1 Axes>"
      ]
     },
     "metadata": {
      "needs_background": "light"
     },
     "output_type": "display_data"
    },
    {
     "data": {
      "image/png": "[encoded data removed]",
      "text/plain": [
       "<Figure size 432x288 with 1 Axes>"
      ]
     },
     "metadata": {
      "needs_background": "light"
     },
     "output_type": "display_data"
    },
    {
     "name": "stdout",
     "output_type": "stream",
     "text": [
      "***num_procedures***\n"
     ]
    },
    {
     "data": {
      "image/png": "[encoded data removed]",
      "text/plain": [
       "<Figure size 432x288 with 1 Axes>"
      ]
     },
     "metadata": {
      "needs_background": "light"
     },
     "output_type": "display_data"
    },
    {
     "data": {
      "image/png": "[encoded data removed]",
      "text/plain": [
       "<Figure size 432x288 with 1 Axes>"
      ]
     },
     "metadata": {
      "needs_background": "light"
     },
     "output_type": "display_data"
    },
    {
     "name": "stdout",
     "output_type": "stream",
     "text": [
      "***num_medications***\n"
     ]
    },
    {
     "data": {
      "image/png": "[encoded data removed]",
      "text/plain": [
       "<Figure size 432x288 with 1 Axes>"
      ]
     },
     "metadata": {
      "needs_background": "light"
     },
     "output_type": "display_data"
    },
    {
     "data": {
      "image/png": "[encoded data removed]",
      "text/plain": [
       "<Figure size 432x288 with 1 Axes>"
      ]
     },
     "metadata": {
      "needs_background": "light"
     },
     "output_type": "display_data"
    },
    {
     "name": "stdout",
     "output_type": "stream",
     "text": [
      "***number_outpatient***\n"
     ]
    },
    {
     "data": {
      "image/png": "[encoded data removed]",
      "text/plain": [
       "<Figure size 432x288 with 1 Axes>"
      ]
     },
     "metadata": {
      "needs_background": "light"
     },
     "output_type": "display_data"
    },
    {
     "data": {
      "image/png": "[encoded data removed]",
      "text/plain": [
       "<Figure size 432x288 with 1 Axes>"
      ]
     },
     "metadata": {
      "needs_background": "light"
     },
     "output_type": "display_data"
    },
    {
     "name": "stdout",
     "output_type": "stream",
     "text": [
      "***number_emergency***\n"
     ]
    },
    {
     "data": {
      "image/png": "[encoded data removed]",
      "text/plain": [
       "<Figure size 432x288 with 1 Axes>"
      ]
     },
     "metadata": {
      "needs_background": "light"
     },
     "output_type": "display_data"
    },
    {
     "data": {
      "image/png": "[encoded data removed]",
      "text/plain": [
       "<Figure size 432x288 with 1 Axes>"
      ]
     },
     "metadata": {
      "needs_background": "light"
     },
     "output_type": "display_data"
    },
    {
     "name": "stdout",
     "output_type": "stream",
     "text": [
      "***number_inpatient***\n"
     ]
    },
    {
     "data": {
      "image/png": "[encoded data removed]",
      "text/plain": [
       "<Figure size 432x288 with 1 Axes>"
      ]
     },
     "metadata": {
      "needs_background": "light"
     },
     "output_type": "display_data"
    },
    {
     "data": {
      "image/png": "[encoded data removed]",
      "text/plain": [
       "<Figure size 432x288 with 1 Axes>"
      ]
     },
     "metadata": {
      "needs_background": "light"
     },
     "output_type": "display_data"
    },
    {
     "name": "stdout",
     "output_type": "stream",
     "text": [
      "***number_diagnoses***\n"
     ]
    },
    {
     "data": {
      "image/png": "[encoded data removed]",
      "text/plain": [
       "<Figure size 432x288 with 1 Axes>"
      ]
     },
     "metadata": {
      "needs_background": "light"
     },
     "output_type": "display_data"
    },
    {
     "data": {
      "image/png": "[encoded data removed]",
      "text/plain": [
       "<Figure size 432x288 with 1 Axes>"
      ]
     },
     "metadata": {
      "needs_background": "light"
     },
     "output_type": "display_data"
    }
   ],
   "source": [
    "print(\"***length_of_stay***\")\n",
    "draw_plot('length_of_stay')\n",
    "draw_boxplot('length_of_stay')\n",
    "print('***num_lab_procedures***')\n",
    "draw_plot('num_lab_procedures')\n",
    "draw_boxplot('num_lab_procedures')\n",
    "print('***num_procedures***')\n",
    "draw_plot('num_procedures')\n",
    "draw_boxplot('num_procedures')\n",
    "print('***num_medications***')\n",
    "draw_plot('num_medications')\n",
    "draw_boxplot('num_medications')\n",
    "print('***number_outpatient***')\n",
    "draw_plot('number_outpatient')\n",
    "draw_boxplot('number_outpatient')\n",
    "print('***number_emergency***')\n",
    "draw_plot('number_emergency')\n",
    "draw_boxplot('number_emergency')\n",
    "print('***number_inpatient***')\n",
    "draw_plot('number_inpatient')\n",
    "draw_boxplot('number_inpatient')\n",
    "print('***number_diagnoses***')\n",
    "draw_plot('number_diagnoses')\n",
    "draw_boxplot('number_diagnoses')"
   ]
  },
  {
   "cell_type": "code",
   "execution_count": 68,
   "metadata": {},
   "outputs": [],
   "source": [
    "def draw_countplot(col_name):\n",
    "    db = sns.countplot(col_name)\n",
    "    plt.show()"
   ]
  },
  {
   "cell_type": "code",
   "execution_count": 72,
   "metadata": {},
   "outputs": [
    {
     "name": "stdout",
     "output_type": "stream",
     "text": [
      "***Age***\n"
     ]
    },
    {
     "data": {
      "image/png": "[encoded data removed]",
      "text/plain": [
       "<Figure size 432x288 with 1 Axes>"
      ]
     },
     "metadata": {
      "needs_background": "light"
     },
     "output_type": "display_data"
    },
    {
     "name": "stdout",
     "output_type": "stream",
     "text": [
      "***race***\n"
     ]
    },
    {
     "data": {
      "image/png": "[encoded data removed]",
      "text/plain": [
       "<Figure size 432x288 with 1 Axes>"
      ]
     },
     "metadata": {
      "needs_background": "light"
     },
     "output_type": "display_data"
    },
    {
     "name": "stdout",
     "output_type": "stream",
     "text": [
      "***weight***\n"
     ]
    },
    {
     "data": {
      "image/png": "[encoded data removed]",
      "text/plain": [
       "<Figure size 432x288 with 1 Axes>"
      ]
     },
     "metadata": {
      "needs_background": "light"
     },
     "output_type": "display_data"
    },
    {
     "name": "stdout",
     "output_type": "stream",
     "text": [
      "***gender***\n"
     ]
    },
    {
     "data": {
      "image/png": "[encoded data removed]",
      "text/plain": [
       "<Figure size 432x288 with 1 Axes>"
      ]
     },
     "metadata": {
      "needs_background": "light"
     },
     "output_type": "display_data"
    },
    {
     "name": "stdout",
     "output_type": "stream",
     "text": [
      "***medical specialty***\n"
     ]
    },
    {
     "data": {
      "image/png": "[encoded data removed]",
      "text/plain": [
       "<Figure size 432x288 with 1 Axes>"
      ]
     },
     "metadata": {
      "needs_background": "light"
     },
     "output_type": "display_data"
    },
    {
     "name": "stdout",
     "output_type": "stream",
     "text": [
      "***max glu serum***\n"
     ]
    },
    {
     "data": {
      "image/png": "[encoded data removed]",
      "text/plain": [
       "<Figure size 432x288 with 1 Axes>"
      ]
     },
     "metadata": {
      "needs_background": "light"
     },
     "output_type": "display_data"
    },
    {
     "name": "stdout",
     "output_type": "stream",
     "text": [
      "***A1Cresult***\n"
     ]
    },
    {
     "data": {
      "image/png": "[encoded data removed]",
      "text/plain": [
       "<Figure size 432x288 with 1 Axes>"
      ]
     },
     "metadata": {
      "needs_background": "light"
     },
     "output_type": "display_data"
    },
    {
     "name": "stdout",
     "output_type": "stream",
     "text": [
      "***metformin***\n"
     ]
    },
    {
     "data": {
      "image/png": "[encoded data removed]",
      "text/plain": [
       "<Figure size 432x288 with 1 Axes>"
      ]
     },
     "metadata": {
      "needs_background": "light"
     },
     "output_type": "display_data"
    },
    {
     "name": "stdout",
     "output_type": "stream",
     "text": [
      "***repaglinide***\n"
     ]
    },
    {
     "data": {
      "image/png": "[encoded data removed]",
      "text/plain": [
       "<Figure size 432x288 with 1 Axes>"
      ]
     },
     "metadata": {
      "needs_background": "light"
     },
     "output_type": "display_data"
    },
    {
     "name": "stdout",
     "output_type": "stream",
     "text": [
      "***nateglinide***\n"
     ]
    },
    {
     "data": {
      "image/png": "[encoded data removed]",
      "text/plain": [
       "<Figure size 432x288 with 1 Axes>"
      ]
     },
     "metadata": {
      "needs_background": "light"
     },
     "output_type": "display_data"
    },
    {
     "name": "stdout",
     "output_type": "stream",
     "text": [
      "***chlorpropamide***\n"
     ]
    },
    {
     "data": {
      "image/png": "[encoded data removed]",
      "text/plain": [
       "<Figure size 432x288 with 1 Axes>"
      ]
     },
     "metadata": {
      "needs_background": "light"
     },
     "output_type": "display_data"
    },
    {
     "name": "stdout",
     "output_type": "stream",
     "text": [
      "***glimepiride***\n"
     ]
    },
    {
     "data": {
      "image/png": "[encoded data removed]",
      "text/plain": [
       "<Figure size 432x288 with 1 Axes>"
      ]
     },
     "metadata": {
      "needs_background": "light"
     },
     "output_type": "display_data"
    },
    {
     "name": "stdout",
     "output_type": "stream",
     "text": [
      "***acetohexamide***\n"
     ]
    },
    {
     "data": {
      "image/png": "[encoded data removed]",
      "text/plain": [
       "<Figure size 432x288 with 1 Axes>"
      ]
     },
     "metadata": {
      "needs_background": "light"
     },
     "output_type": "display_data"
    },
    {
     "name": "stdout",
     "output_type": "stream",
     "text": [
      "***glipizide***\n"
     ]
    },
    {
     "data": {
      "image/png": "[encoded data removed]",
      "text/plain": [
       "<Figure size 432x288 with 1 Axes>"
      ]
     },
     "metadata": {
      "needs_background": "light"
     },
     "output_type": "display_data"
    },
    {
     "name": "stdout",
     "output_type": "stream",
     "text": [
      "***glyburide***\n"
     ]
    },
    {
     "data": {
      "image/png": "[encoded data removed]",
      "text/plain": [
       "<Figure size 432x288 with 1 Axes>"
      ]
     },
     "metadata": {
      "needs_background": "light"
     },
     "output_type": "display_data"
    },
    {
     "name": "stdout",
     "output_type": "stream",
     "text": [
      "***tolbutamide***\n"
     ]
    },
    {
     "data": {
      "image/png": "[encoded data removed]",
      "text/plain": [
       "<Figure size 432x288 with 1 Axes>"
      ]
     },
     "metadata": {
      "needs_background": "light"
     },
     "output_type": "display_data"
    },
    {
     "name": "stdout",
     "output_type": "stream",
     "text": [
      "***insulin***\n"
     ]
    },
    {
     "data": {
      "image/png": "[encoded data removed]",
      "text/plain": [
       "<Figure size 432x288 with 1 Axes>"
      ]
     },
     "metadata": {
      "needs_background": "light"
     },
     "output_type": "display_data"
    },
    {
     "name": "stdout",
     "output_type": "stream",
     "text": [
      "***readmitted***\n"
     ]
    },
    {
     "data": {
      "image/png": "[encoded data removed]",
      "text/plain": [
       "<Figure size 432x288 with 1 Axes>"
      ]
     },
     "metadata": {
      "needs_background": "light"
     },
     "output_type": "display_data"
    }
   ],
   "source": [
    "print('***Age***')\n",
    "draw_countplot(df['age'])\n",
    "print('***race***')\n",
    "draw_countplot(df['race'])\n",
    "print('***weight***')\n",
    "draw_countplot(df['weight'])\n",
    "print('***gender***')\n",
    "draw_countplot(df['gender'])\n",
    "print('***medical specialty***')\n",
    "draw_countplot(df['medical_specialty'])\n",
    "print('***max glu serum***')\n",
    "draw_countplot(df['max_glu_serum'])\n",
    "print('***A1Cresult***')\n",
    "draw_countplot(df['A1Cresult'])\n",
    "print('***metformin***')\n",
    "draw_countplot(df['metformin'])\n",
    "print('***repaglinide***')\n",
    "draw_countplot(df['repaglinide'])\n",
    "print('***nateglinide***')\n",
    "draw_countplot(df['nateglinide'])\n",
    "print('***chlorpropamide***')\n",
    "draw_countplot(df['chlorpropamide'])\n",
    "print('***glimepiride***')\n",
    "draw_countplot(df['glimepiride'])\n",
    "print('***acetohexamide***')\n",
    "draw_countplot(df['acetohexamide'])\n",
    "print('***glipizide***')\n",
    "draw_countplot(df['glipizide'])\n",
    "print('***glyburide***')\n",
    "draw_countplot(df['glyburide'])\n",
    "print('***tolbutamide***')\n",
    "draw_countplot(df['tolbutamide'])\n",
    "print('***insulin***')\n",
    "draw_countplot(df['insulin'])\n",
    "print('***readmitted***')\n",
    "draw_countplot(df['readmitted'])"
   ]
  },
  {
   "cell_type": "code",
   "execution_count": null,
   "metadata": {},
   "outputs": [],
   "source": [
    "# Determine if there is any relationship between the variables dibetes and \n",
    "# diabetesMed? How would you handle these two variables in the data \n",
    "# modelling if a relationship exists?"
   ]
  },
  {
   "cell_type": "code",
   "execution_count": 67,
   "metadata": {},
   "outputs": [
    {
     "data": {
      "image/png": "[encoded data removed]",
      "text/plain": [
       "<Figure size 432x288 with 2 Axes>"
      ]
     },
     "metadata": {
      "needs_background": "light"
     },
     "output_type": "display_data"
    }
   ],
   "source": [
    "import numpy as np\n",
    "import pandas as pd\n",
    "import matplotlib.pyplot as plt\n",
    "corr = df.corr()\n",
    "fig = plt.figure()\n",
    "ax = fig.add_subplot(111)\n",
    "cax = ax.matshow(corr,cmap='coolwarm', vmin=-1, vmax=1)\n",
    "fig.colorbar(cax)\n",
    "ticks = np.arange(0,len(df.columns),1)\n",
    "ax.set_xticks(ticks)\n",
    "plt.xticks(rotation=90)\n",
    "ax.set_yticks(ticks)\n",
    "ax.set_xticklabels(df.columns)\n",
    "ax.set_yticklabels(df.columns)\n",
    "plt.show()\n"
   ]
  },
  {
   "cell_type": "code",
   "execution_count": null,
   "metadata": {},
   "outputs": [],
   "source": [
    "crosstab = pd.crosstab(index=df['diabetes'], columns=df['diabetesMed'])\n",
    "print(crosstab)"
   ]
  },
  {
   "cell_type": "code",
   "execution_count": null,
   "metadata": {},
   "outputs": [],
   "source": [
    "df2 = df[['diabetes', 'diabetesMed']]"
   ]
  },
  {
   "cell_type": "code",
   "execution_count": null,
   "metadata": {},
   "outputs": [],
   "source": [
    "# Correlation between diabetes and diabetesMed.\n",
    "df2.corr(method = 'pearson')"
   ]
  },
  {
   "cell_type": "code",
   "execution_count": null,
   "metadata": {},
   "outputs": [],
   "source": []
  }
 ],
 "metadata": {
  "kernelspec": {
   "display_name": "Python 3",
   "language": "python",
   "name": "python3"
  },
  "language_info": {
   "codemirror_mode": {
    "name": "ipython",
    "version": 3
   },
   "file_extension": ".py",
   "mimetype": "text/x-python",
   "name": "python",
   "nbconvert_exporter": "python",
   "pygments_lexer": "ipython3",
   "version": "3.7.3"
  }
 },
 "nbformat": 4,
 "nbformat_minor": 2
}
